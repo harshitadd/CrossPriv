{
  "nbformat": 4,
  "nbformat_minor": 0,
  "metadata": {
    "colab": {
      "name": "Multiple worker PreVID_Pytorch.ipynb",
      "provenance": [],
      "collapsed_sections": [],
      "toc_visible": true,
      "include_colab_link": true
    },
    "kernelspec": {
      "name": "python3",
      "display_name": "Python 3"
    }
  },
  "cells": [
    {
      "cell_type": "markdown",
      "metadata": {
        "id": "view-in-github",
        "colab_type": "text"
      },
      "source": [
        "<a href=\"https://colab.research.google.com/github/harshitadd/CrossSiloFLDemo/blob/master/Multiple_worker_PreVID_Pytorch.ipynb\" target=\"_parent\"><img src=\"https://colab.research.google.com/assets/colab-badge.svg\" alt=\"Open In Colab\"/></a>"
      ]
    },
    {
      "cell_type": "code",
      "metadata": {
        "id": "umvNUrPZ2SUm",
        "colab_type": "code",
        "colab": {
          "base_uri": "https://localhost:8080/",
          "height": 34
        },
        "outputId": "05d9806d-fc47-483e-de88-10a775659bc3"
      },
      "source": [
        "print(\"Hellllo\")"
      ],
      "execution_count": 1,
      "outputs": [
        {
          "output_type": "stream",
          "text": [
            "Hellllo\n"
          ],
          "name": "stdout"
        }
      ]
    },
    {
      "cell_type": "code",
      "metadata": {
        "id": "Aoq3s2Yzd15t",
        "colab_type": "code",
        "colab": {
          "base_uri": "https://localhost:8080/",
          "height": 343
        },
        "outputId": "5191f4b3-feeb-48dd-e89f-0aeb246ec63d"
      },
      "source": [
        "!pip install --quiet syft pydicom tqdm"
      ],
      "execution_count": 2,
      "outputs": [
        {
          "output_type": "stream",
          "text": [
            "\u001b[K     |████████████████████████████████| 378kB 2.9MB/s \n",
            "\u001b[K     |████████████████████████████████| 35.3MB 1.3MB/s \n",
            "\u001b[K     |████████████████████████████████| 2.1MB 49.7MB/s \n",
            "\u001b[K     |████████████████████████████████| 51kB 6.9MB/s \n",
            "\u001b[K     |████████████████████████████████| 753.4MB 20kB/s \n",
            "\u001b[K     |████████████████████████████████| 81kB 10.4MB/s \n",
            "\u001b[K     |████████████████████████████████| 204kB 51.4MB/s \n",
            "\u001b[K     |████████████████████████████████| 4.0MB 53.4MB/s \n",
            "\u001b[K     |████████████████████████████████| 61kB 8.7MB/s \n",
            "\u001b[K     |████████████████████████████████| 1.8MB 45.2MB/s \n",
            "\u001b[K     |████████████████████████████████| 1.3MB 51.2MB/s \n",
            "\u001b[K     |████████████████████████████████| 61kB 8.6MB/s \n",
            "\u001b[K     |████████████████████████████████| 61kB 8.7MB/s \n",
            "\u001b[K     |████████████████████████████████| 51kB 7.0MB/s \n",
            "\u001b[?25h  Building wheel for phe (setup.py) ... \u001b[?25l\u001b[?25hdone\n",
            "\u001b[31mERROR: google-colab 1.0.0 has requirement requests~=2.23.0, but you'll have requests 2.22.0 which is incompatible.\u001b[0m\n",
            "\u001b[31mERROR: datascience 0.10.6 has requirement folium==0.2.1, but you'll have folium 0.8.3 which is incompatible.\u001b[0m\n",
            "\u001b[31mERROR: albumentations 0.1.12 has requirement imgaug<0.2.7,>=0.2.5, but you'll have imgaug 0.2.9 which is incompatible.\u001b[0m\n"
          ],
          "name": "stdout"
        }
      ]
    },
    {
      "cell_type": "code",
      "metadata": {
        "id": "A6bD7JbBq0D6",
        "colab_type": "code",
        "colab": {
          "base_uri": "https://localhost:8080/",
          "height": 54
        },
        "outputId": "e6e27cfe-0ff5-4406-bbd9-1765f4233630"
      },
      "source": [
        "##Importing Mini Batch Data \n",
        "import os \n",
        "from google.colab import drive\n",
        "drive.mount('/content/drive')"
      ],
      "execution_count": 3,
      "outputs": [
        {
          "output_type": "stream",
          "text": [
            "Drive already mounted at /content/drive; to attempt to forcibly remount, call drive.mount(\"/content/drive\", force_remount=True).\n"
          ],
          "name": "stdout"
        }
      ]
    },
    {
      "cell_type": "code",
      "metadata": {
        "id": "PGCc2bqpi5mc",
        "colab_type": "code",
        "colab": {}
      },
      "source": [
        "import pydicom \n",
        "import cv2\n",
        "import matplotlib.pyplot as plt "
      ],
      "execution_count": 0,
      "outputs": []
    },
    {
      "cell_type": "code",
      "metadata": {
        "id": "mL_62CgmMCpB",
        "colab_type": "code",
        "colab": {}
      },
      "source": [
        "!pip install tqdm"
      ],
      "execution_count": 0,
      "outputs": []
    },
    {
      "cell_type": "code",
      "metadata": {
        "id": "Nwuyc_DerKUv",
        "colab_type": "code",
        "colab": {
          "base_uri": "https://localhost:8080/",
          "height": 34
        },
        "outputId": "f0d7b5a3-a6c9-4778-b3fb-bbb3974630be"
      },
      "source": [
        "from tqdm import tqdm\n",
        "\n",
        "dcm_path=os.listdir('/content/drive/My Drive/Fed_Covid/minibatch_large/')\n",
        "dcm_data={}\n",
        "\n",
        "alpha = 1.5 # Contrast control (1.0-3.0)\n",
        "beta = 0 # Brightness control (0-100)\n",
        "\n",
        "for file in tqdm(dcm_path):\n",
        "  name = '/content/drive/My Drive/Fed_Covid/minibatch_large/' + file\n",
        "  temp = pydicom.dcmread(name)\n",
        "  image = temp.pixel_array\n",
        "  image = cv2.cvtColor(image, cv2.COLOR_BGR2RGB)\n",
        "  adjusted = cv2.resize(image,(64,64))\n",
        "  dcm_data[file]=adjusted"
      ],
      "execution_count": 4,
      "outputs": [
        {
          "output_type": "stream",
          "text": [
            "100%|██████████| 4006/4006 [10:55<00:00,  6.11it/s]\n"
          ],
          "name": "stderr"
        }
      ]
    },
    {
      "cell_type": "code",
      "metadata": {
        "id": "BuoufluUrqEK",
        "colab_type": "code",
        "colab": {
          "base_uri": "https://localhost:8080/",
          "height": 34
        },
        "outputId": "c6a1e4f0-6a81-4fae-acd8-cadd9e5ffc1e"
      },
      "source": [
        "import csv \n",
        "labels=[]\n",
        "with open('/content/drive/My Drive/Fed_Covid/stage_2_train_labels.csv','r') as file:\n",
        "  reader = csv.reader(file)\n",
        "  for row in tqdm(reader):\n",
        "    labels.append(row)"
      ],
      "execution_count": 40,
      "outputs": [
        {
          "output_type": "stream",
          "text": [
            "30228it [00:00, 146111.77it/s]\n"
          ],
          "name": "stderr"
        }
      ]
    },
    {
      "cell_type": "code",
      "metadata": {
        "id": "34h5oCC_SMH6",
        "colab_type": "code",
        "colab": {}
      },
      "source": [
        "from sklearn.preprocessing import MinMaxScaler \n",
        "import numpy as np\n",
        "scaler = MinMaxScaler()\n",
        "pid=[]\n",
        "dicom=[]\n",
        "label=[]\n",
        "cid = 0\n",
        "for PID in labels:\n",
        "  for key in dcm_data:\n",
        "    if(key[:-4]==PID[0]):\n",
        "      l=[]\n",
        "      for val in dcm_data[key]:\n",
        "        l.append(scaler.fit_transform(val))\n",
        "      l = np.reshape(l,(3,64,64))\n",
        "      dicom.append(l)\n",
        "      label.append(int(PID[5]))\n",
        "      "
      ],
      "execution_count": 0,
      "outputs": []
    },
    {
      "cell_type": "code",
      "metadata": {
        "id": "rAao-ysuA935",
        "colab_type": "code",
        "outputId": "4312f0b9-ea40-49d5-ff8c-67f737a7fc44",
        "colab": {
          "base_uri": "https://localhost:8080/",
          "height": 34
        }
      },
      "source": [
        "import numpy as np\n",
        "print(np.shape(dicom[0]))"
      ],
      "execution_count": 42,
      "outputs": [
        {
          "output_type": "stream",
          "text": [
            "(3, 64, 64)\n"
          ],
          "name": "stdout"
        }
      ]
    },
    {
      "cell_type": "code",
      "metadata": {
        "id": "4VS2_fMt55jL",
        "colab_type": "code",
        "colab": {}
      },
      "source": [
        "import torch\n",
        "import torch.nn as nn\n",
        "import torch.nn.functional as F\n",
        "import torch.optim as optim\n",
        "from torchvision import datasets, transforms"
      ],
      "execution_count": 0,
      "outputs": []
    },
    {
      "cell_type": "code",
      "metadata": {
        "id": "v_RmWwNe3i1k",
        "colab_type": "code",
        "colab": {}
      },
      "source": [
        "from torch.utils.data import DataLoader, Dataset"
      ],
      "execution_count": 0,
      "outputs": []
    },
    {
      "cell_type": "markdown",
      "metadata": {
        "id": "nQ1qdaL-B1_C",
        "colab_type": "text"
      },
      "source": [
        ""
      ]
    },
    {
      "cell_type": "code",
      "metadata": {
        "id": "td7w-9SHFgaK",
        "colab_type": "code",
        "colab": {}
      },
      "source": [
        "from sklearn.model_selection import train_test_split\n",
        "x_train, x_test, y_train, y_test = train_test_split(dicom,label,test_size=0.3)"
      ],
      "execution_count": 0,
      "outputs": []
    },
    {
      "cell_type": "code",
      "metadata": {
        "id": "o3NqRdoZAQJl",
        "colab_type": "code",
        "colab": {}
      },
      "source": [
        "import pandas as pd \n",
        "train_df = pd.DataFrame()\n",
        "train_df['features']=x_train\n",
        "train_df['labels']=y_train"
      ],
      "execution_count": 0,
      "outputs": []
    },
    {
      "cell_type": "code",
      "metadata": {
        "id": "qUNToibvesgo",
        "colab_type": "code",
        "outputId": "d6202b96-927a-4d9c-db3b-3268c4828d5f",
        "colab": {
          "base_uri": "https://localhost:8080/",
          "height": 419
        }
      },
      "source": [
        "train_df"
      ],
      "execution_count": 47,
      "outputs": [
        {
          "output_type": "execute_result",
          "data": {
            "text/html": [
              "<div>\n",
              "<style scoped>\n",
              "    .dataframe tbody tr th:only-of-type {\n",
              "        vertical-align: middle;\n",
              "    }\n",
              "\n",
              "    .dataframe tbody tr th {\n",
              "        vertical-align: top;\n",
              "    }\n",
              "\n",
              "    .dataframe thead th {\n",
              "        text-align: right;\n",
              "    }\n",
              "</style>\n",
              "<table border=\"1\" class=\"dataframe\">\n",
              "  <thead>\n",
              "    <tr style=\"text-align: right;\">\n",
              "      <th></th>\n",
              "      <th>features</th>\n",
              "      <th>labels</th>\n",
              "    </tr>\n",
              "  </thead>\n",
              "  <tbody>\n",
              "    <tr>\n",
              "      <th>0</th>\n",
              "      <td>[[[0.018404907975460124, 0.018404907975460124,...</td>\n",
              "      <td>1</td>\n",
              "    </tr>\n",
              "    <tr>\n",
              "      <th>1</th>\n",
              "      <td>[[[0.06060606060606061, 0.06060606060606061, 0...</td>\n",
              "      <td>0</td>\n",
              "    </tr>\n",
              "    <tr>\n",
              "      <th>2</th>\n",
              "      <td>[[[0.006666666666666667, 0.006666666666666667,...</td>\n",
              "      <td>1</td>\n",
              "    </tr>\n",
              "    <tr>\n",
              "      <th>3</th>\n",
              "      <td>[[[0.10370370370370371, 0.10370370370370371, 0...</td>\n",
              "      <td>0</td>\n",
              "    </tr>\n",
              "    <tr>\n",
              "      <th>4</th>\n",
              "      <td>[[[0.7285714285714286, 0.7285714285714286, 0.7...</td>\n",
              "      <td>0</td>\n",
              "    </tr>\n",
              "    <tr>\n",
              "      <th>...</th>\n",
              "      <td>...</td>\n",
              "      <td>...</td>\n",
              "    </tr>\n",
              "    <tr>\n",
              "      <th>2984</th>\n",
              "      <td>[[[0.02958579881656804, 0.02958579881656804, 0...</td>\n",
              "      <td>0</td>\n",
              "    </tr>\n",
              "    <tr>\n",
              "      <th>2985</th>\n",
              "      <td>[[[0.0, 0.0, 0.0, 0.6288209606986899, 0.628820...</td>\n",
              "      <td>0</td>\n",
              "    </tr>\n",
              "    <tr>\n",
              "      <th>2986</th>\n",
              "      <td>[[[0.07253886010362695, 0.07253886010362695, 0...</td>\n",
              "      <td>0</td>\n",
              "    </tr>\n",
              "    <tr>\n",
              "      <th>2987</th>\n",
              "      <td>[[[0.012269938650306749, 0.012269938650306749,...</td>\n",
              "      <td>0</td>\n",
              "    </tr>\n",
              "    <tr>\n",
              "      <th>2988</th>\n",
              "      <td>[[[0.4259259259259258, 0.4259259259259258, 0.4...</td>\n",
              "      <td>0</td>\n",
              "    </tr>\n",
              "  </tbody>\n",
              "</table>\n",
              "<p>2989 rows × 2 columns</p>\n",
              "</div>"
            ],
            "text/plain": [
              "                                               features  labels\n",
              "0     [[[0.018404907975460124, 0.018404907975460124,...       1\n",
              "1     [[[0.06060606060606061, 0.06060606060606061, 0...       0\n",
              "2     [[[0.006666666666666667, 0.006666666666666667,...       1\n",
              "3     [[[0.10370370370370371, 0.10370370370370371, 0...       0\n",
              "4     [[[0.7285714285714286, 0.7285714285714286, 0.7...       0\n",
              "...                                                 ...     ...\n",
              "2984  [[[0.02958579881656804, 0.02958579881656804, 0...       0\n",
              "2985  [[[0.0, 0.0, 0.0, 0.6288209606986899, 0.628820...       0\n",
              "2986  [[[0.07253886010362695, 0.07253886010362695, 0...       0\n",
              "2987  [[[0.012269938650306749, 0.012269938650306749,...       0\n",
              "2988  [[[0.4259259259259258, 0.4259259259259258, 0.4...       0\n",
              "\n",
              "[2989 rows x 2 columns]"
            ]
          },
          "metadata": {
            "tags": []
          },
          "execution_count": 47
        }
      ]
    },
    {
      "cell_type": "code",
      "metadata": {
        "id": "s9z6ilRdGAeS",
        "colab_type": "code",
        "colab": {}
      },
      "source": [
        "test_df = pd.DataFrame()\n",
        "test_df['features']=x_test\n",
        "test_df['labels']=y_test"
      ],
      "execution_count": 0,
      "outputs": []
    },
    {
      "cell_type": "code",
      "metadata": {
        "id": "j2ECSet58e4L",
        "colab_type": "code",
        "colab": {
          "base_uri": "https://localhost:8080/",
          "height": 419
        },
        "outputId": "09e18029-c45b-48e8-c413-b320ed174a65"
      },
      "source": [
        "test_df"
      ],
      "execution_count": 49,
      "outputs": [
        {
          "output_type": "execute_result",
          "data": {
            "text/html": [
              "<div>\n",
              "<style scoped>\n",
              "    .dataframe tbody tr th:only-of-type {\n",
              "        vertical-align: middle;\n",
              "    }\n",
              "\n",
              "    .dataframe tbody tr th {\n",
              "        vertical-align: top;\n",
              "    }\n",
              "\n",
              "    .dataframe thead th {\n",
              "        text-align: right;\n",
              "    }\n",
              "</style>\n",
              "<table border=\"1\" class=\"dataframe\">\n",
              "  <thead>\n",
              "    <tr style=\"text-align: right;\">\n",
              "      <th></th>\n",
              "      <th>features</th>\n",
              "      <th>labels</th>\n",
              "    </tr>\n",
              "  </thead>\n",
              "  <tbody>\n",
              "    <tr>\n",
              "      <th>0</th>\n",
              "      <td>[[[0.0, 0.0, 0.0, 0.0, 0.0, 0.0, 0.01310043668...</td>\n",
              "      <td>0</td>\n",
              "    </tr>\n",
              "    <tr>\n",
              "      <th>1</th>\n",
              "      <td>[[[0.009900990099009901, 0.009900990099009901,...</td>\n",
              "      <td>0</td>\n",
              "    </tr>\n",
              "    <tr>\n",
              "      <th>2</th>\n",
              "      <td>[[[0.006896551724137931, 0.006896551724137931,...</td>\n",
              "      <td>0</td>\n",
              "    </tr>\n",
              "    <tr>\n",
              "      <th>3</th>\n",
              "      <td>[[[0.4233576642335766, 0.4233576642335766, 0.4...</td>\n",
              "      <td>0</td>\n",
              "    </tr>\n",
              "    <tr>\n",
              "      <th>4</th>\n",
              "      <td>[[[0.0, 0.0, 0.0, 0.22302158273381295, 0.22302...</td>\n",
              "      <td>0</td>\n",
              "    </tr>\n",
              "    <tr>\n",
              "      <th>...</th>\n",
              "      <td>...</td>\n",
              "      <td>...</td>\n",
              "    </tr>\n",
              "    <tr>\n",
              "      <th>1276</th>\n",
              "      <td>[[[0.06796116504854369, 0.06796116504854369, 0...</td>\n",
              "      <td>0</td>\n",
              "    </tr>\n",
              "    <tr>\n",
              "      <th>1277</th>\n",
              "      <td>[[[0.0, 0.0, 0.0, 0.0, 0.0, 0.0, 0.05113636363...</td>\n",
              "      <td>0</td>\n",
              "    </tr>\n",
              "    <tr>\n",
              "      <th>1278</th>\n",
              "      <td>[[[0.005555555555555555, 0.005555555555555555,...</td>\n",
              "      <td>0</td>\n",
              "    </tr>\n",
              "    <tr>\n",
              "      <th>1279</th>\n",
              "      <td>[[[0.0, 0.0, 0.0, 0.0, 0.0, 0.0, 0.0, 0.0, 0.0...</td>\n",
              "      <td>1</td>\n",
              "    </tr>\n",
              "    <tr>\n",
              "      <th>1280</th>\n",
              "      <td>[[[0.0, 0.0, 0.0, 0.0, 0.0, 0.0, 0.0, 0.0, 0.0...</td>\n",
              "      <td>0</td>\n",
              "    </tr>\n",
              "  </tbody>\n",
              "</table>\n",
              "<p>1281 rows × 2 columns</p>\n",
              "</div>"
            ],
            "text/plain": [
              "                                               features  labels\n",
              "0     [[[0.0, 0.0, 0.0, 0.0, 0.0, 0.0, 0.01310043668...       0\n",
              "1     [[[0.009900990099009901, 0.009900990099009901,...       0\n",
              "2     [[[0.006896551724137931, 0.006896551724137931,...       0\n",
              "3     [[[0.4233576642335766, 0.4233576642335766, 0.4...       0\n",
              "4     [[[0.0, 0.0, 0.0, 0.22302158273381295, 0.22302...       0\n",
              "...                                                 ...     ...\n",
              "1276  [[[0.06796116504854369, 0.06796116504854369, 0...       0\n",
              "1277  [[[0.0, 0.0, 0.0, 0.0, 0.0, 0.0, 0.05113636363...       0\n",
              "1278  [[[0.005555555555555555, 0.005555555555555555,...       0\n",
              "1279  [[[0.0, 0.0, 0.0, 0.0, 0.0, 0.0, 0.0, 0.0, 0.0...       1\n",
              "1280  [[[0.0, 0.0, 0.0, 0.0, 0.0, 0.0, 0.0, 0.0, 0.0...       0\n",
              "\n",
              "[1281 rows x 2 columns]"
            ]
          },
          "metadata": {
            "tags": []
          },
          "execution_count": 49
        }
      ]
    },
    {
      "cell_type": "code",
      "metadata": {
        "id": "x8KCNM1rpsJb",
        "colab_type": "code",
        "colab": {}
      },
      "source": [
        "class data_maker(Dataset):\n",
        "  def __init__(self, data):\n",
        "        self.data = data\n",
        "        \n",
        "  def __len__(self):\n",
        "      return len(self.data)\n",
        "  \n",
        "  def __getitem__(self, index):\n",
        "      target = np.array(self.data['labels'][index])\n",
        "      data_val = np.array(self.data['features'][index])\n",
        "\n",
        "      return data_val,target\n",
        "      \n",
        "        "
      ],
      "execution_count": 0,
      "outputs": []
    },
    {
      "cell_type": "code",
      "metadata": {
        "id": "jEKcnwRC_jdg",
        "colab_type": "code",
        "colab": {}
      },
      "source": [
        "train_data = data_maker(train_df)\n",
        "test_data = data_maker(test_df)"
      ],
      "execution_count": 0,
      "outputs": []
    },
    {
      "cell_type": "code",
      "metadata": {
        "id": "q5ywRk9iph9Y",
        "colab_type": "code",
        "colab": {}
      },
      "source": [
        "def get_train_data(batch_size):\n",
        "      train_loader = torch.utils.data.DataLoader(train_data, batch_size=batch_size, shuffle=False)\n",
        "      return train_loader"
      ],
      "execution_count": 0,
      "outputs": []
    },
    {
      "cell_type": "code",
      "metadata": {
        "id": "61pmSHloG1Lw",
        "colab_type": "code",
        "colab": {}
      },
      "source": [
        "test_loader = torch.utils.data.DataLoader(test_data, batch_size=4)\n"
      ],
      "execution_count": 0,
      "outputs": []
    },
    {
      "cell_type": "code",
      "metadata": {
        "id": "VnZroxhT92mG",
        "colab_type": "code",
        "outputId": "082514f7-3fd2-4ae2-f9a2-f9019ed082f5",
        "colab": {
          "base_uri": "https://localhost:8080/",
          "height": 34
        }
      },
      "source": [
        "train_loader= get_train_data(batch_size=4)\n",
        "n_batches = len(train_loader)\n",
        "for i, data in enumerate(train_loader, 0):\n",
        "       inputs, labels = data\n",
        "       print(np.shape(inputs))\n",
        "       break   "
      ],
      "execution_count": 54,
      "outputs": [
        {
          "output_type": "stream",
          "text": [
            "torch.Size([4, 3, 64, 64])\n"
          ],
          "name": "stdout"
        }
      ]
    },
    {
      "cell_type": "code",
      "metadata": {
        "id": "ZZVk19riCoDj",
        "colab_type": "code",
        "colab": {}
      },
      "source": [
        "class Net(nn.Module):\n",
        "    def __init__(self):\n",
        "        super().__init__()\n",
        "\n",
        "        # Input - (32,1024,1024)\n",
        "  \n",
        "        self.conv1 = nn.Conv2d(3,32, kernel_size=8, stride = 2)  #I/P - 1*32\n",
        "        self.pool1 = nn.MaxPool2d(kernel_size=4,stride=2,padding=0)  \n",
        "        self.conv2 = nn.Conv2d(32, 64, 8)\n",
        "        self.pool2 = nn.MaxPool2d(4,2,padding=0)\n",
        "        self.fc1 = nn.Linear(256, 64*64)\n",
        "        self.fc2 = nn.Linear(64*64, 64)\n",
        "        self.fc3 = nn.Linear(64, 8)\n",
        "\n",
        "    def forward(self, x):\n",
        "        \n",
        "        x = F.relu(self.conv1(x))\n",
        "        # Input of 1*1024*1024 going to 32*1024*1024  - 1*64*64 going to 32*64*64\n",
        "        x = self.pool1(x)\n",
        "        # Input of 32*1024*1024 going to 32*256*256 - 32*64*64 going to 32*16*16\n",
        "        x = F.relu(self.conv2(x))\n",
        "        # Input of 32*256*256 to 64*256*256 - 32*16*16 to 64*16*16\n",
        "        x = self.pool2(x)\n",
        "        # Input of 64*256*256 to 64*64*64 - 64*16*16 going to 64*4*4\n",
        "\n",
        "        x = x.view(-1,64*4)\n",
        "     \n",
        "        x = F.relu(self.fc1(x))\n",
        "        x = F.relu(self.fc2(x))\n",
        "        x = self.fc3(x)\n",
        "        return F.log_softmax(x, dim=1)"
      ],
      "execution_count": 0,
      "outputs": []
    },
    {
      "cell_type": "code",
      "metadata": {
        "id": "XAXTrUmoC7Jy",
        "colab_type": "code",
        "colab": {}
      },
      "source": [
        "def createLossAndOptimizer(net, learning_rate=0.001):\n",
        "    \n",
        "    #Loss function\n",
        "    loss = torch.nn.CrossEntropyLoss()\n",
        "    \n",
        "    #Optimizer\n",
        "    optimizer = optim.Adam(net.parameters(), lr=learning_rate)\n",
        "    \n",
        "    return(loss, optimizer)"
      ],
      "execution_count": 0,
      "outputs": []
    },
    {
      "cell_type": "code",
      "metadata": {
        "id": "Uwmnvfa4CoAe",
        "colab_type": "code",
        "colab": {}
      },
      "source": [
        "import time\n",
        "from torch.autograd import Variable\n",
        "def trainNet(net, batch_size, n_epochs, learning_rate):\n",
        "    \n",
        "    \n",
        "    #Get training data\n",
        "    train_loader = get_train_data(batch_size=8)\n",
        "    n_batches = len(train_loader)\n",
        "    \n",
        "    #Create our loss and optimizer functions\n",
        "    loss, optimizer = createLossAndOptimizer(net, learning_rate)\n",
        "    \n",
        "    #Time for printing\n",
        "    training_start_time = time.time()\n",
        "    \n",
        "    #Loop for n_epochs\n",
        "    for epoch in range(n_epochs):\n",
        "        \n",
        "        running_loss = 0.0\n",
        "        print_every = n_batches // 10\n",
        "        start_time = time.time()\n",
        "        total_train_loss = 0\n",
        "        \n",
        "        for i, data in enumerate(train_loader, 0):\n",
        "            \n",
        "            #Get inputs\n",
        "            inputs, labels = data\n",
        "          \n",
        "            #Wrap them in a Variable object\n",
        "            inputs, labels = Variable(inputs), Variable(labels)\n",
        "            \n",
        "\n",
        "            #Set the parameter gradients to zero\n",
        "            optimizer.zero_grad()\n",
        "            \n",
        "            \n",
        "\n",
        "            #Forward pass, backward pass, optimize\n",
        "            outputs = net(inputs)\n",
        "            loss_size = loss(outputs, labels)\n",
        "            loss_size.backward()\n",
        "            optimizer.step()\n",
        "            \n",
        "            #Print statistics\n",
        "            running_loss += loss_size.data\n",
        "            total_train_loss += loss_size.data\n",
        "            \n",
        "            #Print every 10th batch of an epoch\n",
        "            if (i + 1) % (print_every + 1) == 0:\n",
        "                print(\"Epoch {}, {:d}% \\t train_loss: {:.2f} took: {:.2f}s\".format(\n",
        "                        epoch+1, int(100 * (i+1) / n_batches), running_loss / print_every, time.time() - start_time))\n",
        "                #Reset running loss and time\n",
        "                running_loss = 0.0\n",
        "                start_time = time.time()\n",
        "            \n",
        "        #At the end of the epoch, do a pass on the validation set\n",
        "        total_val_loss = 0\n",
        "        \n",
        "    print(\"Training finished, took {:.2f}s\".format(time.time() - training_start_time))"
      ],
      "execution_count": 0,
      "outputs": []
    },
    {
      "cell_type": "code",
      "metadata": {
        "id": "nqld5wnmCn9z",
        "colab_type": "code",
        "outputId": "7188ffec-af8b-4f43-dbc7-ed23fcbfcbd5",
        "colab": {
          "base_uri": "https://localhost:8080/",
          "height": 1000
        }
      },
      "source": [
        "CNN = Net()\n",
        "trainNet(CNN.double(), batch_size=8, n_epochs=10\n",
        "         , learning_rate=0.001)"
      ],
      "execution_count": 58,
      "outputs": [
        {
          "output_type": "stream",
          "text": [
            "Epoch 1, 10% \t train_loss: 0.79 took: 2.56s\n",
            "Epoch 1, 20% \t train_loss: 0.53 took: 2.54s\n",
            "Epoch 1, 30% \t train_loss: 0.58 took: 2.54s\n",
            "Epoch 1, 40% \t train_loss: 0.50 took: 2.52s\n",
            "Epoch 1, 50% \t train_loss: 0.44 took: 2.50s\n",
            "Epoch 1, 60% \t train_loss: 0.46 took: 2.49s\n",
            "Epoch 1, 71% \t train_loss: 0.45 took: 2.49s\n",
            "Epoch 1, 81% \t train_loss: 0.47 took: 2.50s\n",
            "Epoch 1, 91% \t train_loss: 0.46 took: 2.47s\n",
            "Epoch 2, 10% \t train_loss: 0.47 took: 2.50s\n",
            "Epoch 2, 20% \t train_loss: 0.43 took: 2.49s\n",
            "Epoch 2, 30% \t train_loss: 0.49 took: 2.51s\n",
            "Epoch 2, 40% \t train_loss: 0.45 took: 2.50s\n",
            "Epoch 2, 50% \t train_loss: 0.40 took: 2.47s\n",
            "Epoch 2, 60% \t train_loss: 0.47 took: 2.49s\n",
            "Epoch 2, 71% \t train_loss: 0.42 took: 2.46s\n",
            "Epoch 2, 81% \t train_loss: 0.46 took: 2.47s\n",
            "Epoch 2, 91% \t train_loss: 0.43 took: 2.46s\n",
            "Epoch 3, 10% \t train_loss: 0.41 took: 2.51s\n",
            "Epoch 3, 20% \t train_loss: 0.43 took: 2.48s\n",
            "Epoch 3, 30% \t train_loss: 0.44 took: 2.49s\n",
            "Epoch 3, 40% \t train_loss: 0.42 took: 2.47s\n",
            "Epoch 3, 50% \t train_loss: 0.37 took: 2.48s\n",
            "Epoch 3, 60% \t train_loss: 0.43 took: 2.49s\n",
            "Epoch 3, 71% \t train_loss: 0.41 took: 2.45s\n",
            "Epoch 3, 81% \t train_loss: 0.44 took: 2.46s\n",
            "Epoch 3, 91% \t train_loss: 0.40 took: 2.47s\n",
            "Epoch 4, 10% \t train_loss: 0.39 took: 2.47s\n",
            "Epoch 4, 20% \t train_loss: 0.43 took: 2.45s\n",
            "Epoch 4, 30% \t train_loss: 0.43 took: 2.45s\n",
            "Epoch 4, 40% \t train_loss: 0.41 took: 2.48s\n",
            "Epoch 4, 50% \t train_loss: 0.37 took: 2.45s\n",
            "Epoch 4, 60% \t train_loss: 0.42 took: 2.46s\n",
            "Epoch 4, 71% \t train_loss: 0.41 took: 2.45s\n",
            "Epoch 4, 81% \t train_loss: 0.42 took: 2.46s\n",
            "Epoch 4, 91% \t train_loss: 0.38 took: 2.45s\n",
            "Epoch 5, 10% \t train_loss: 0.38 took: 2.42s\n",
            "Epoch 5, 20% \t train_loss: 0.42 took: 2.46s\n",
            "Epoch 5, 30% \t train_loss: 0.43 took: 2.45s\n",
            "Epoch 5, 40% \t train_loss: 0.42 took: 2.44s\n",
            "Epoch 5, 50% \t train_loss: 0.35 took: 2.43s\n",
            "Epoch 5, 60% \t train_loss: 0.42 took: 2.44s\n",
            "Epoch 5, 71% \t train_loss: 0.39 took: 2.46s\n",
            "Epoch 5, 81% \t train_loss: 0.42 took: 2.44s\n",
            "Epoch 5, 91% \t train_loss: 0.37 took: 2.44s\n",
            "Epoch 6, 10% \t train_loss: 0.38 took: 2.45s\n",
            "Epoch 6, 20% \t train_loss: 0.42 took: 2.45s\n",
            "Epoch 6, 30% \t train_loss: 0.41 took: 2.42s\n",
            "Epoch 6, 40% \t train_loss: 0.41 took: 2.43s\n",
            "Epoch 6, 50% \t train_loss: 0.34 took: 2.46s\n",
            "Epoch 6, 60% \t train_loss: 0.42 took: 2.42s\n",
            "Epoch 6, 71% \t train_loss: 0.37 took: 2.41s\n",
            "Epoch 6, 81% \t train_loss: 0.41 took: 2.43s\n",
            "Epoch 6, 91% \t train_loss: 0.36 took: 2.40s\n",
            "Epoch 7, 10% \t train_loss: 0.37 took: 2.43s\n",
            "Epoch 7, 20% \t train_loss: 0.42 took: 2.43s\n",
            "Epoch 7, 30% \t train_loss: 0.40 took: 2.44s\n",
            "Epoch 7, 40% \t train_loss: 0.42 took: 2.43s\n",
            "Epoch 7, 50% \t train_loss: 0.34 took: 2.43s\n",
            "Epoch 7, 60% \t train_loss: 0.41 took: 2.45s\n",
            "Epoch 7, 71% \t train_loss: 0.38 took: 2.43s\n",
            "Epoch 7, 81% \t train_loss: 0.39 took: 2.43s\n",
            "Epoch 7, 91% \t train_loss: 0.35 took: 2.42s\n",
            "Epoch 8, 10% \t train_loss: 0.39 took: 2.43s\n",
            "Epoch 8, 20% \t train_loss: 0.41 took: 2.44s\n",
            "Epoch 8, 30% \t train_loss: 0.41 took: 2.43s\n",
            "Epoch 8, 40% \t train_loss: 0.40 took: 2.42s\n",
            "Epoch 8, 50% \t train_loss: 0.33 took: 2.44s\n",
            "Epoch 8, 60% \t train_loss: 0.41 took: 2.46s\n",
            "Epoch 8, 71% \t train_loss: 0.37 took: 2.48s\n",
            "Epoch 8, 81% \t train_loss: 0.38 took: 2.44s\n",
            "Epoch 8, 91% \t train_loss: 0.34 took: 2.44s\n",
            "Epoch 9, 10% \t train_loss: 0.38 took: 2.42s\n",
            "Epoch 9, 20% \t train_loss: 0.41 took: 2.42s\n",
            "Epoch 9, 30% \t train_loss: 0.40 took: 2.43s\n",
            "Epoch 9, 40% \t train_loss: 0.39 took: 2.43s\n",
            "Epoch 9, 50% \t train_loss: 0.32 took: 2.43s\n",
            "Epoch 9, 60% \t train_loss: 0.38 took: 2.43s\n",
            "Epoch 9, 71% \t train_loss: 0.38 took: 2.41s\n",
            "Epoch 9, 81% \t train_loss: 0.39 took: 2.42s\n",
            "Epoch 9, 91% \t train_loss: 0.34 took: 2.40s\n",
            "Epoch 10, 10% \t train_loss: 0.37 took: 2.42s\n",
            "Epoch 10, 20% \t train_loss: 0.42 took: 2.41s\n",
            "Epoch 10, 30% \t train_loss: 0.42 took: 2.42s\n",
            "Epoch 10, 40% \t train_loss: 0.38 took: 2.42s\n",
            "Epoch 10, 50% \t train_loss: 0.35 took: 2.42s\n",
            "Epoch 10, 60% \t train_loss: 0.39 took: 2.43s\n",
            "Epoch 10, 71% \t train_loss: 0.33 took: 2.40s\n",
            "Epoch 10, 81% \t train_loss: 0.37 took: 2.42s\n",
            "Epoch 10, 91% \t train_loss: 0.33 took: 2.39s\n",
            "Training finished, took 241.15s\n"
          ],
          "name": "stdout"
        }
      ]
    },
    {
      "cell_type": "code",
      "metadata": {
        "id": "w-GPl3hRH_I5",
        "colab_type": "code",
        "outputId": "12e8d88b-bcd4-40d6-f7f2-6c1a5ae8ee28",
        "colab": {
          "base_uri": "https://localhost:8080/",
          "height": 34
        }
      },
      "source": [
        "correct = 0\n",
        "total = 0\n",
        "with torch.no_grad():\n",
        "    for data in test_loader:\n",
        "        images, labels = data\n",
        "        outputs = CNN(images)\n",
        "        _, predicted = torch.max(outputs.data, 1)\n",
        "        total += labels.size(0)\n",
        "        correct += (predicted == labels).sum().item()\n",
        "    \n",
        "print('Accuracy of the network on test images: %d %%' % (100 * correct / total))"
      ],
      "execution_count": 59,
      "outputs": [
        {
          "output_type": "stream",
          "text": [
            "Accuracy of the network on test images: 79 %\n"
          ],
          "name": "stdout"
        }
      ]
    },
    {
      "cell_type": "markdown",
      "metadata": {
        "id": "23BK7JnCyL42",
        "colab_type": "text"
      },
      "source": [
        "https://pytorch.org/tutorials/beginner/blitz/cifar10_tutorial.html - Test Loader"
      ]
    },
    {
      "cell_type": "markdown",
      "metadata": {
        "id": "dp0Y6Q1o53O0",
        "colab_type": "text"
      },
      "source": [
        "PYTORCH IMPLEMENTATION\n"
      ]
    },
    {
      "cell_type": "code",
      "metadata": {
        "id": "AFVjfDzGUdpK",
        "colab_type": "code",
        "colab": {}
      },
      "source": [
        "!pip install --quiet syft"
      ],
      "execution_count": 0,
      "outputs": []
    },
    {
      "cell_type": "code",
      "metadata": {
        "id": "kwsjmf7u58ix",
        "colab_type": "code",
        "colab": {
          "base_uri": "https://localhost:8080/",
          "height": 34
        },
        "outputId": "c5774efd-83e9-4c00-d7e4-c1e5519d559c"
      },
      "source": [
        "import syft as sy \n",
        "hook = sy.TorchHook(torch)"
      ],
      "execution_count": 68,
      "outputs": [
        {
          "output_type": "stream",
          "text": [
            "WARNING:root:Torch was already hooked... skipping hooking process\n"
          ],
          "name": "stderr"
        }
      ]
    },
    {
      "cell_type": "code",
      "metadata": {
        "id": "VxhCrtwXtiO9",
        "colab_type": "code",
        "colab": {}
      },
      "source": [
        "hospital = sy.VirtualWorker(hook, id=\"hospital\")  \n",
        "clinic1 = sy.VirtualWorker(hook, id=\"clinic1\")\n",
        "clinic2 = sy.VirtualWorker(hook, id=\"clinic2\")\n",
        "clinic3 = sy.VirtualWorker(hook, id=\"clinic3\")   "
      ],
      "execution_count": 0,
      "outputs": []
    },
    {
      "cell_type": "code",
      "metadata": {
        "id": "vGOcS6sygqTK",
        "colab_type": "code",
        "outputId": "35cfb7dd-35d6-433a-dbed-723a4e6ed90c",
        "colab": {
          "base_uri": "https://localhost:8080/",
          "height": 408
        }
      },
      "source": [
        "print(x_train[0])"
      ],
      "execution_count": 70,
      "outputs": [
        {
          "output_type": "stream",
          "text": [
            "[[[0.01840491 0.01840491 0.01840491 ... 0.01840491 0.01840491 0.01840491]\n",
            "  [0.01840491 0.01840491 0.01840491 ... 0.93865031 0.88957055 0.88957055]\n",
            "  [0.88957055 0.88957055 0.88957055 ... 0.02453988 0.02453988 0.02453988]\n",
            "  ...\n",
            "  [0.30434783 0.30434783 0.27826087 ... 0.55652174 0.4173913  0.4173913 ]\n",
            "  [0.4173913  0.40869565 0.40869565 ... 0.31304348 0.31304348 0.31304348]\n",
            "  [0.58119658 0.58119658 0.58119658 ... 0.43589744 0.43589744 0.24786325]]\n",
            "\n",
            " [[0.24786325 0.24786325 0.1025641  ... 0.41880342 0.32478632 0.32478632]\n",
            "  [0.32478632 0.15384615 0.15384615 ... 0.23076923 0.23076923 0.23076923]\n",
            "  [0.55045872 0.55045872 0.55045872 ... 0.34862385 0.34862385 0.11926606]\n",
            "  ...\n",
            "  [0.78421053 0.74210526 0.74210526 ... 0.03157895 0.03157895 0.03157895]\n",
            "  [0.29319372 0.29319372 0.29319372 ... 0.65968586 0.65968586 0.60209424]\n",
            "  [0.60209424 0.60209424 0.62303665 ... 0.81675393 0.83769634 0.83769634]]\n",
            "\n",
            " [[0.83769634 0.78534031 0.78534031 ... 0.03141361 0.03141361 0.03141361]\n",
            "  [0.29441624 0.29441624 0.29441624 ... 0.78172589 0.78172589 0.78172589]\n",
            "  [0.78172589 0.78172589 0.72588832 ... 0.79695431 0.82233503 0.82233503]\n",
            "  ...\n",
            "  [0.01777778 0.01777778 0.01777778 ... 0.93777778 0.93777778 0.94222222]\n",
            "  [0.94222222 0.94222222 0.95111111 ... 0.97333333 0.96       0.96      ]\n",
            "  [0.96       0.94666667 0.94666667 ... 0.         0.         0.        ]]]\n"
          ],
          "name": "stdout"
        }
      ]
    },
    {
      "cell_type": "code",
      "metadata": {
        "id": "7k0WYNgsgi0c",
        "colab_type": "code",
        "colab": {}
      },
      "source": [
        "x_train = np.array(x_train)\n",
        "y_train = np.array(y_train)"
      ],
      "execution_count": 0,
      "outputs": []
    },
    {
      "cell_type": "code",
      "metadata": {
        "id": "bn9bwBKZgGin",
        "colab_type": "code",
        "colab": {}
      },
      "source": [
        "x_train = torch.from_numpy(x_train)\n",
        "y_train = torch.from_numpy(y_train)"
      ],
      "execution_count": 0,
      "outputs": []
    },
    {
      "cell_type": "code",
      "metadata": {
        "id": "gaOUVNVFfCjG",
        "colab_type": "code",
        "colab": {}
      },
      "source": [
        "\n",
        "#define the send_data function \n",
        "# data_hospital = x_train[0:80].send(hospital)\n",
        "# data_target_hospital = y_train[0:80].send(hospital)\n",
        "#data_clinic = x_train[80:].send(clinic)\n",
        "#data_target_clinic = y_train[80:].send(clinic)\n",
        "\n",
        "\n",
        "\n",
        "#define the send_data function\n",
        "#Worker1\n",
        "data_hospital = x_train[0:25].send(hospital)\n",
        "data_target_hospital = y_train[0:25].send(hospital)\n",
        "#Worker2\n",
        "data_clinic1 = x_train[25:50].send(clinic1)\n",
        "data_target_clinic1 = y_train[25:50].send(clinic1)\n",
        "#Worker3\n",
        "data_clinic2 = x_train[50:75].send(clinic2)\n",
        "data_target_clinic2 = y_train[50:75].send(clinic2)\n",
        "#Worker4\n",
        "data_clinic3 = x_train[75:].send(clinic3)\n",
        "data_target_clinic3 = y_train[75:].send(clinic3)"
      ],
      "execution_count": 0,
      "outputs": []
    },
    {
      "cell_type": "code",
      "metadata": {
        "id": "F4j-TU2qvcV5",
        "colab_type": "code",
        "colab": {}
      },
      "source": [
        "#datasets=[(data_hospital,data_target_hospital),(data_clinic,data_target_clinic)]\n",
        "datasets=[(data_hospital,data_target_hospital),(data_clinic1,data_target_clinic1),(data_clinic2,data_target_clinic2),(data_clinic3,data_target_clinic3)]"
      ],
      "execution_count": 0,
      "outputs": []
    },
    {
      "cell_type": "code",
      "metadata": {
        "id": "tEImL3BGlODX",
        "colab_type": "code",
        "colab": {}
      },
      "source": [
        "opt = optim.SGD(params=model.parameters(),lr=0.1)"
      ],
      "execution_count": 0,
      "outputs": []
    },
    {
      "cell_type": "code",
      "metadata": {
        "id": "YUENmoAThxfu",
        "colab_type": "code",
        "colab": {}
      },
      "source": [
        "# def createLossAndOptimizer(net, learning_rate=0.001):\n",
        "    \n",
        "    #Loss function\n",
        "    \n",
        "    \n",
        "#     #Optimizer\n",
        "#     optimizer = optim.Adam(net.parameters(), lr=learning_rate)\n",
        "    \n",
        "#     return(loss, optimizer)"
      ],
      "execution_count": 0,
      "outputs": []
    },
    {
      "cell_type": "markdown",
      "metadata": {
        "id": "jg1G2Jtfl6jm",
        "colab_type": "text"
      },
      "source": [
        "##Stateful issue fix - https://github.com/OpenMined/PySyft/pull/3179/files"
      ]
    },
    {
      "cell_type": "code",
      "metadata": {
        "id": "3L1CS0tXl5DD",
        "colab_type": "code",
        "colab": {}
      },
      "source": [
        "import copy\n",
        "\n",
        "\n",
        "class Optims:\n",
        "    \"\"\"to create a list of optimizer objects\"\"\"\n",
        "\n",
        "    def __init__(self, workers, optim):\n",
        "        \"\"\"\n",
        "        args:\n",
        "            workers: list of worker ids\n",
        "            optim: class of pytorch optimizer\n",
        "        \"\"\"\n",
        "        self.optim = optim\n",
        "        self.workers = workers\n",
        "        self.optimizers = {}\n",
        "        for worker in workers:\n",
        "            self.optimizers[str(worker)] = copy.copy(self.optim)\n",
        "            self.optimizers[str(worker)].load_state_dict((self.optim).state_dict())\n",
        "\n",
        "    def get_optim(self, worker):\n",
        "        \"\"\"returns optimizer for worker\n",
        "        args: \n",
        "            worker: worker id\n",
        "        \"\"\"\n",
        "        return self.optimizers[str(worker)]\n",
        "\n",
        "    def count(self):\n",
        "        \"\"\"returns the number of optimizer objects\"\"\"\n",
        "        return len(self.workers)\n"
      ],
      "execution_count": 0,
      "outputs": []
    },
    {
      "cell_type": "code",
      "metadata": {
        "id": "iVmMRv4zJSAP",
        "colab_type": "code",
        "colab": {}
      },
      "source": [
        "import time\n",
        "from torch.autograd import Variable\n",
        "from syft.federated.floptimizer import Optims\n",
        "#workers = ['hospital', 'clinic']\n",
        "workers = ['hospital', 'clinic1', 'clinic2', 'clinic3']\n",
        "def federated_train_net(model):\n",
        "\n",
        "  # loss, optimizer = createLossAndOptimizer(model)\n",
        "  training_start_time = time.time()\n",
        "    \n",
        "\n",
        "  for epoch in range(10):\n",
        "    running_loss = 0.0\n",
        "    print_every = n_batches // 10\n",
        "    start_time = time.time()\n",
        "    total_train_loss = 0\n",
        "    loss = torch.nn.CrossEntropyLoss()\n",
        "    for _data, _target in datasets:\n",
        "\n",
        "      ##send model \n",
        "      model = model.send(_data.location)\n",
        "      \n",
        "      ##Getting stateful optimizer\n",
        "      optims = Optims(workers, optim=optim.Adam(params=model.parameters(),lr=0.001)) \n",
        "      opt = optims.get_optim(_data.location.id)\n",
        "      opt.zero_grad()\n",
        "      \n",
        "\n",
        "      #Forward pass, backward pass, optimize\n",
        "      outputs = model(_data)\n",
        "      loss_size = loss(outputs, _target)\n",
        "      loss_size.backward()\n",
        "      opt.step()\n",
        "\n",
        "      #get the model back\n",
        "      model = model.get()\n",
        "      \n",
        "      \n",
        "\n",
        "      #Print statistics\n",
        "      print('Training loss for epoch ' + str(epoch) + str(loss_size.get()) + str(_data.location))\n",
        "      # running_loss =running_loss + loss_size.data.clone().get()\n",
        "      # total_train_loss =total_train_loss+ loss_size.data\n",
        "      \n",
        "      # #Print every 10th batch of an epoch\n",
        "      # if (i + 1) % (print_every + 1) == 0:\n",
        "      #     print(\"Epoch {}, {:d}% \\t train_loss: {:.2f} took: {:.2f}s\".format(\n",
        "      #             epoch+1, int(100 * (i+1) / n_batches), running_loss / print_every, time.time() - start_time))\n",
        "      #     #Reset running loss and time\n",
        "      #     running_loss = 0.0\n",
        "      #     start_time = time.time()\n",
        "\n",
        "\n",
        "      # print('Training loss for epoch ' + str(epoch) + str(loss.get()) + str(_data.location))"
      ],
      "execution_count": 0,
      "outputs": []
    },
    {
      "cell_type": "code",
      "metadata": {
        "id": "E4AK7FSqiVz9",
        "colab_type": "code",
        "outputId": "3c721f4b-8aef-4738-d91f-7476c3dffea8",
        "colab": {
          "base_uri": "https://localhost:8080/",
          "height": 717
        }
      },
      "source": [
        "CNN = Net()\n",
        "federated_train_net(CNN.double())"
      ],
      "execution_count": 77,
      "outputs": [
        {
          "output_type": "stream",
          "text": [
            "Training loss for epoch 0tensor(2.0531, dtype=torch.float64, requires_grad=True)<VirtualWorker id:hospital #objects:53>\n",
            "Training loss for epoch 0tensor(1.7824, dtype=torch.float64, requires_grad=True)<VirtualWorker id:clinic1 #objects:35>\n",
            "Training loss for epoch 0tensor(0.8838, dtype=torch.float64, requires_grad=True)<VirtualWorker id:clinic2 #objects:47>\n",
            "Training loss for epoch 0tensor(1.0185, dtype=torch.float64, requires_grad=True)<VirtualWorker id:clinic3 #objects:47>\n",
            "Training loss for epoch 1tensor(0.8264, dtype=torch.float64, requires_grad=True)<VirtualWorker id:hospital #objects:53>\n",
            "Training loss for epoch 1tensor(0.1992, dtype=torch.float64, requires_grad=True)<VirtualWorker id:clinic1 #objects:35>\n",
            "Training loss for epoch 1tensor(0.5886, dtype=torch.float64, requires_grad=True)<VirtualWorker id:clinic2 #objects:47>\n",
            "Training loss for epoch 1tensor(0.8985, dtype=torch.float64, requires_grad=True)<VirtualWorker id:clinic3 #objects:47>\n",
            "Training loss for epoch 2tensor(0.6418, dtype=torch.float64, requires_grad=True)<VirtualWorker id:hospital #objects:53>\n",
            "Training loss for epoch 2tensor(0.1896, dtype=torch.float64, requires_grad=True)<VirtualWorker id:clinic1 #objects:35>\n",
            "Training loss for epoch 2tensor(0.5510, dtype=torch.float64, requires_grad=True)<VirtualWorker id:clinic2 #objects:47>\n",
            "Training loss for epoch 2tensor(0.8803, dtype=torch.float64, requires_grad=True)<VirtualWorker id:clinic3 #objects:47>\n",
            "Training loss for epoch 3tensor(0.6001, dtype=torch.float64, requires_grad=True)<VirtualWorker id:hospital #objects:53>\n",
            "Training loss for epoch 3tensor(0.1870, dtype=torch.float64, requires_grad=True)<VirtualWorker id:clinic1 #objects:35>\n",
            "Training loss for epoch 3tensor(0.5215, dtype=torch.float64, requires_grad=True)<VirtualWorker id:clinic2 #objects:47>\n",
            "Training loss for epoch 3tensor(0.8890, dtype=torch.float64, requires_grad=True)<VirtualWorker id:clinic3 #objects:47>\n",
            "Training loss for epoch 4tensor(0.5743, dtype=torch.float64, requires_grad=True)<VirtualWorker id:hospital #objects:53>\n",
            "Training loss for epoch 4tensor(0.1860, dtype=torch.float64, requires_grad=True)<VirtualWorker id:clinic1 #objects:35>\n",
            "Training loss for epoch 4tensor(0.4987, dtype=torch.float64, requires_grad=True)<VirtualWorker id:clinic2 #objects:47>\n",
            "Training loss for epoch 4tensor(0.9150, dtype=torch.float64, requires_grad=True)<VirtualWorker id:clinic3 #objects:47>\n",
            "Training loss for epoch 5tensor(0.5547, dtype=torch.float64, requires_grad=True)<VirtualWorker id:hospital #objects:53>\n",
            "Training loss for epoch 5tensor(0.1856, dtype=torch.float64, requires_grad=True)<VirtualWorker id:clinic1 #objects:35>\n",
            "Training loss for epoch 5tensor(0.4844, dtype=torch.float64, requires_grad=True)<VirtualWorker id:clinic2 #objects:47>\n",
            "Training loss for epoch 5tensor(0.9226, dtype=torch.float64, requires_grad=True)<VirtualWorker id:clinic3 #objects:47>\n",
            "Training loss for epoch 6tensor(0.5425, dtype=torch.float64, requires_grad=True)<VirtualWorker id:hospital #objects:53>\n",
            "Training loss for epoch 6tensor(0.1851, dtype=torch.float64, requires_grad=True)<VirtualWorker id:clinic1 #objects:35>\n",
            "Training loss for epoch 6tensor(0.4736, dtype=torch.float64, requires_grad=True)<VirtualWorker id:clinic2 #objects:47>\n",
            "Training loss for epoch 6tensor(0.9252, dtype=torch.float64, requires_grad=True)<VirtualWorker id:clinic3 #objects:47>\n",
            "Training loss for epoch 7tensor(0.5334, dtype=torch.float64, requires_grad=True)<VirtualWorker id:hospital #objects:53>\n",
            "Training loss for epoch 7tensor(0.1847, dtype=torch.float64, requires_grad=True)<VirtualWorker id:clinic1 #objects:35>\n",
            "Training loss for epoch 7tensor(0.4653, dtype=torch.float64, requires_grad=True)<VirtualWorker id:clinic2 #objects:47>\n",
            "Training loss for epoch 7tensor(0.9300, dtype=torch.float64, requires_grad=True)<VirtualWorker id:clinic3 #objects:47>\n",
            "Training loss for epoch 8tensor(0.5264, dtype=torch.float64, requires_grad=True)<VirtualWorker id:hospital #objects:53>\n",
            "Training loss for epoch 8tensor(0.1841, dtype=torch.float64, requires_grad=True)<VirtualWorker id:clinic1 #objects:35>\n",
            "Training loss for epoch 8tensor(0.4587, dtype=torch.float64, requires_grad=True)<VirtualWorker id:clinic2 #objects:47>\n",
            "Training loss for epoch 8tensor(0.9335, dtype=torch.float64, requires_grad=True)<VirtualWorker id:clinic3 #objects:47>\n",
            "Training loss for epoch 9tensor(0.5208, dtype=torch.float64, requires_grad=True)<VirtualWorker id:hospital #objects:53>\n",
            "Training loss for epoch 9tensor(0.1837, dtype=torch.float64, requires_grad=True)<VirtualWorker id:clinic1 #objects:35>\n",
            "Training loss for epoch 9tensor(0.4539, dtype=torch.float64, requires_grad=True)<VirtualWorker id:clinic2 #objects:47>\n",
            "Training loss for epoch 9tensor(0.9491, dtype=torch.float64, requires_grad=True)<VirtualWorker id:clinic3 #objects:47>\n"
          ],
          "name": "stdout"
        }
      ]
    },
    {
      "cell_type": "code",
      "metadata": {
        "id": "VhWxZr8NihDn",
        "colab_type": "code",
        "colab": {
          "base_uri": "https://localhost:8080/",
          "height": 34
        },
        "outputId": "dbafc9be-2792-48e6-e8ca-627c35184d3d"
      },
      "source": [
        "correct = 0\n",
        "total = 0\n",
        "with torch.no_grad():\n",
        "    for data in test_loader:\n",
        "        images, labels = data\n",
        "        outputs = CNN(images)\n",
        "        _, predicted = torch.max(outputs.data, 1)\n",
        "        total += labels.size(0)\n",
        "        correct += (predicted == labels).sum().item()\n",
        "\n",
        "print('Accuracy of the network on the test images: %d %%' % (\n",
        "    100 * correct / total))\n"
      ],
      "execution_count": 78,
      "outputs": [
        {
          "output_type": "stream",
          "text": [
            "Accuracy of the network on the test images: 78 %\n"
          ],
          "name": "stdout"
        }
      ]
    },
    {
      "cell_type": "code",
      "metadata": {
        "id": "euL36Uyh-8W8",
        "colab_type": "code",
        "colab": {}
      },
      "source": [
        ""
      ],
      "execution_count": 0,
      "outputs": []
    }
  ]
}
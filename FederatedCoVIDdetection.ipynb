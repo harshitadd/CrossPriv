{
  "nbformat": 4,
  "nbformat_minor": 0,
  "metadata": {
    "colab": {
      "name": "FederatedCoVIDdetection.ipynb",
      "provenance": [],
      "collapsed_sections": [],
      "include_colab_link": true
    },
    "kernelspec": {
      "name": "python3",
      "display_name": "Python 3"
    }
  },
  "cells": [
    {
      "cell_type": "markdown",
      "metadata": {
        "id": "view-in-github",
        "colab_type": "text"
      },
      "source": [
        "<a href=\"https://colab.research.google.com/github/harshitadd/FedBased_X-RayForCoVID/blob/master/FederatedCoVIDdetection.ipynb\" target=\"_parent\"><img src=\"https://colab.research.google.com/assets/colab-badge.svg\" alt=\"Open In Colab\"/></a>"
      ]
    },
    {
      "cell_type": "code",
      "metadata": {
        "id": "A6bD7JbBq0D6",
        "colab_type": "code",
        "outputId": "54953ce7-b554-428b-eced-c86ac3f553d9",
        "colab": {
          "base_uri": "https://localhost:8080/",
          "height": 35
        }
      },
      "source": [
        "##Importing Mini Batch Data \n",
        "import os \n",
        "from google.colab import drive\n",
        "drive.mount('/content/drive')"
      ],
      "execution_count": 1,
      "outputs": [
        {
          "output_type": "stream",
          "text": [
            "Drive already mounted at /content/drive; to attempt to forcibly remount, call drive.mount(\"/content/drive\", force_remount=True).\n"
          ],
          "name": "stdout"
        }
      ]
    },
    {
      "cell_type": "code",
      "metadata": {
        "id": "PGCc2bqpi5mc",
        "colab_type": "code",
        "outputId": "89d43ccb-7815-4b0e-b5a4-0ade55b53b5e",
        "colab": {
          "base_uri": "https://localhost:8080/",
          "height": 35
        }
      },
      "source": [
        "!pip install pydicom \n",
        "import pydicom \n",
        "import cv2\n",
        "import matplotlib.pyplot as plt "
      ],
      "execution_count": 2,
      "outputs": [
        {
          "output_type": "stream",
          "text": [
            "Requirement already satisfied: pydicom in /usr/local/lib/python3.6/dist-packages (1.4.2)\n"
          ],
          "name": "stdout"
        }
      ]
    },
    {
      "cell_type": "code",
      "metadata": {
        "id": "bcAFcXT88W7p",
        "colab_type": "code",
        "colab": {
          "base_uri": "https://localhost:8080/",
          "height": 35
        },
        "outputId": "cb3e1317-7958-4bf5-e28c-9909e15543a1"
      },
      "source": [
        "%tensorflow_version 1.x\n",
        "import tensorflow as tf"
      ],
      "execution_count": 3,
      "outputs": [
        {
          "output_type": "stream",
          "text": [
            "TensorFlow 1.x selected.\n"
          ],
          "name": "stdout"
        }
      ]
    },
    {
      "cell_type": "code",
      "metadata": {
        "id": "2bCCtjyn9zz3",
        "colab_type": "code",
        "colab": {
          "base_uri": "https://localhost:8080/",
          "height": 35
        },
        "outputId": "a2ac6631-0f21-4074-ee94-b26963a12734"
      },
      "source": [
        "tf.__version__"
      ],
      "execution_count": 4,
      "outputs": [
        {
          "output_type": "execute_result",
          "data": {
            "text/plain": [
              "'1.15.2'"
            ]
          },
          "metadata": {
            "tags": []
          },
          "execution_count": 4
        }
      ]
    },
    {
      "cell_type": "code",
      "metadata": {
        "id": "Nwuyc_DerKUv",
        "colab_type": "code",
        "colab": {}
      },
      "source": [
        "dcm_path=os.listdir('/content/drive/My Drive/Fed_Covid/minibatch/')\n",
        "dcm_data={}\n",
        "\n",
        "alpha = 1.5 # Contrast control (1.0-3.0)\n",
        "beta = 0 # Brightness control (0-100)\n",
        "\n",
        "ctr=0\n",
        "for file in dcm_path:\n",
        "  name = '/content/drive/My Drive/Fed_Covid/minibatch/' + file\n",
        "  temp = pydicom.dcmread(name)\n",
        "  image = temp.pixel_array\n",
        "  ## Enhanced contrast and added colour\n",
        "  adjusted = cv2.convertScaleAbs(image, alpha=alpha, beta=beta)\n",
        "  dcm_data[file]=adjusted\n",
        "  ctr+=1\n",
        "  print(ctr)"
      ],
      "execution_count": 0,
      "outputs": []
    },
    {
      "cell_type": "code",
      "metadata": {
        "id": "PzFvABwRQtDb",
        "colab_type": "code",
        "colab": {}
      },
      "source": [
        "# plt.imshow(image,cmap=plt.cm.bone)"
      ],
      "execution_count": 0,
      "outputs": []
    },
    {
      "cell_type": "code",
      "metadata": {
        "id": "9bgPH0dsRf7Q",
        "colab_type": "code",
        "outputId": "26d21368-4ee6-48e2-c8fd-a117a59cc980",
        "colab": {
          "base_uri": "https://localhost:8080/",
          "height": 286
        }
      },
      "source": [
        "plt.imshow(adjusted,cmap=plt.cm.bone)\n",
        "# alpha=1.2\n",
        "# beta=1\n",
        "# adjusted = cv2.convertScaleAbs(image, alpha=alpha, beta=beta)\n",
        "# plt.imshow(adjusted,cmap=plt.cm.bone)\n"
      ],
      "execution_count": 0,
      "outputs": [
        {
          "output_type": "execute_result",
          "data": {
            "text/plain": [
              "<matplotlib.image.AxesImage at 0x7fa31bc9bb38>"
            ]
          },
          "metadata": {
            "tags": []
          },
          "execution_count": 5
        },
        {
          "output_type": "display_data",
          "data": {
            "image/png": "[encoded data removed]",
            "text/plain": [
              "<Figure size 432x288 with 1 Axes>"
            ]
          },
          "metadata": {
            "tags": []
          }
        }
      ]
    },
    {
      "cell_type": "markdown",
      "metadata": {
        "id": "NYckld-QRemH",
        "colab_type": "text"
      },
      "source": [
        ""
      ]
    },
    {
      "cell_type": "code",
      "metadata": {
        "id": "0ffhDoyyPfLV",
        "colab_type": "code",
        "outputId": "c1d61c40-de5f-4bb8-fbaa-4d07e367af04",
        "colab": {
          "base_uri": "https://localhost:8080/",
          "height": 35
        }
      },
      "source": [
        "print(len(dcm_data))"
      ],
      "execution_count": 6,
      "outputs": [
        {
          "output_type": "stream",
          "text": [
            "427\n"
          ],
          "name": "stdout"
        }
      ]
    },
    {
      "cell_type": "code",
      "metadata": {
        "id": "SuXE_2wEi4CZ",
        "colab_type": "code",
        "colab": {}
      },
      "source": [
        "# import pickle\n",
        "# with open('/content/features_dcm.bin','wb') as file:\n",
        "#   pickle.dump(dcm_data,file)"
      ],
      "execution_count": 0,
      "outputs": []
    },
    {
      "cell_type": "code",
      "metadata": {
        "id": "BuoufluUrqEK",
        "colab_type": "code",
        "colab": {}
      },
      "source": [
        "import csv \n",
        "labels=[]\n",
        "with open('/content/drive/My Drive/Fed_Covid/stage_2_train_labels.csv','r') as file:\n",
        "  reader = csv.reader(file)\n",
        "  for row in reader:\n",
        "    labels.append(row)"
      ],
      "execution_count": 0,
      "outputs": []
    },
    {
      "cell_type": "code",
      "metadata": {
        "id": "mq92SkN2ZrRs",
        "colab_type": "code",
        "outputId": "c6ae47e5-31a5-48c1-a518-94448ed0fc23",
        "colab": {
          "base_uri": "https://localhost:8080/",
          "height": 52
        }
      },
      "source": [
        "print(len(labels))\n",
        "print(len(dcm_data))"
      ],
      "execution_count": 7,
      "outputs": [
        {
          "output_type": "stream",
          "text": [
            "30228\n",
            "427\n"
          ],
          "name": "stdout"
        }
      ]
    },
    {
      "cell_type": "code",
      "metadata": {
        "id": "TsrBQdKQtBON",
        "colab_type": "code",
        "colab": {}
      },
      "source": [
        "pid=[]\n",
        "dicom=[]\n",
        "label=[]\n",
        "cid = 0\n",
        "for PID in labels:\n",
        "  for key in dcm_data:\n",
        "    if(key[:-4]==PID[0]):\n",
        "      pid.append(key)\n",
        "      dicom.append(dcm_data[key])\n",
        "      label.append(PID[5])\n",
        "      "
      ],
      "execution_count": 0,
      "outputs": []
    },
    {
      "cell_type": "code",
      "metadata": {
        "id": "VBUegXdQu6by",
        "colab_type": "code",
        "colab": {}
      },
      "source": [
        "##CHECKING \n",
        "# print(final_data[45])"
      ],
      "execution_count": 0,
      "outputs": []
    },
    {
      "cell_type": "code",
      "metadata": {
        "id": "5LT1SxJhPal_",
        "colab_type": "code",
        "outputId": "3ced5a49-6b5d-4acb-83da-b1cb99ea48d3",
        "colab": {
          "base_uri": "https://localhost:8080/",
          "height": 52
        }
      },
      "source": [
        "print(len(dicom))\n",
        "print(len(label))"
      ],
      "execution_count": 9,
      "outputs": [
        {
          "output_type": "stream",
          "text": [
            "429\n",
            "429\n"
          ],
          "name": "stdout"
        }
      ]
    },
    {
      "cell_type": "code",
      "metadata": {
        "id": "3E7xy2jqr5hx",
        "colab_type": "code",
        "colab": {}
      },
      "source": [
        "## Making Training DF \n",
        "import pandas as pd\n",
        "final_data = pd.DataFrame()\n",
        "final_data['PatientID']=pid \n",
        "final_data['dicom']=dicom\n",
        "final_data['label']=label\n",
        "final_data['clientID'] = cid"
      ],
      "execution_count": 0,
      "outputs": []
    },
    {
      "cell_type": "code",
      "metadata": {
        "id": "XovK0Ah8sk14",
        "colab_type": "code",
        "outputId": "66082af5-4dfa-440a-9ee2-dbda4604a82c",
        "colab": {
          "base_uri": "https://localhost:8080/",
          "height": 415
        }
      },
      "source": [
        "final_data"
      ],
      "execution_count": 11,
      "outputs": [
        {
          "output_type": "execute_result",
          "data": {
            "text/html": [
              "<div>\n",
              "<style scoped>\n",
              "    .dataframe tbody tr th:only-of-type {\n",
              "        vertical-align: middle;\n",
              "    }\n",
              "\n",
              "    .dataframe tbody tr th {\n",
              "        vertical-align: top;\n",
              "    }\n",
              "\n",
              "    .dataframe thead th {\n",
              "        text-align: right;\n",
              "    }\n",
              "</style>\n",
              "<table border=\"1\" class=\"dataframe\">\n",
              "  <thead>\n",
              "    <tr style=\"text-align: right;\">\n",
              "      <th></th>\n",
              "      <th>PatientID</th>\n",
              "      <th>dicom</th>\n",
              "      <th>label</th>\n",
              "      <th>clientID</th>\n",
              "    </tr>\n",
              "  </thead>\n",
              "  <tbody>\n",
              "    <tr>\n",
              "      <th>0</th>\n",
              "      <td>fcac5979-fa02-40ad-bd07-70da89e391fb.dcm</td>\n",
              "      <td>[[3, 3, 3, 3, 3, 3, 3, 3, 2, 2, 2, 2, 2, 2, 2,...</td>\n",
              "      <td>0</td>\n",
              "      <td>0</td>\n",
              "    </tr>\n",
              "    <tr>\n",
              "      <th>1</th>\n",
              "      <td>fcad0e40-e0d7-4f32-b914-e19041bfd149.dcm</td>\n",
              "      <td>[[255, 255, 255, 255, 255, 255, 255, 255, 255,...</td>\n",
              "      <td>0</td>\n",
              "      <td>0</td>\n",
              "    </tr>\n",
              "    <tr>\n",
              "      <th>2</th>\n",
              "      <td>fcad22d2-efe3-4fdc-87a6-7710d37e9111.dcm</td>\n",
              "      <td>[[2, 2, 2, 2, 2, 2, 2, 2, 2, 2, 2, 2, 2, 2, 2,...</td>\n",
              "      <td>0</td>\n",
              "      <td>0</td>\n",
              "    </tr>\n",
              "    <tr>\n",
              "      <th>3</th>\n",
              "      <td>fcad64f6-177e-4042-8cd1-0c10e234c82e.dcm</td>\n",
              "      <td>[[3, 0, 2, 3, 0, 0, 0, 0, 0, 0, 0, 0, 0, 0, 0,...</td>\n",
              "      <td>0</td>\n",
              "      <td>0</td>\n",
              "    </tr>\n",
              "    <tr>\n",
              "      <th>4</th>\n",
              "      <td>fcae3037-2029-4c72-9204-cb11b4113e1a.dcm</td>\n",
              "      <td>[[0, 0, 0, 0, 0, 0, 0, 0, 0, 0, 0, 0, 0, 0, 0,...</td>\n",
              "      <td>0</td>\n",
              "      <td>0</td>\n",
              "    </tr>\n",
              "    <tr>\n",
              "      <th>...</th>\n",
              "      <td>...</td>\n",
              "      <td>...</td>\n",
              "      <td>...</td>\n",
              "      <td>...</td>\n",
              "    </tr>\n",
              "    <tr>\n",
              "      <th>424</th>\n",
              "      <td>fffb2395-8edd-4954-8a89-ffe2fd329be3.dcm</td>\n",
              "      <td>[[3, 4, 4, 4, 3, 3, 3, 3, 2, 2, 3, 3, 3, 3, 3,...</td>\n",
              "      <td>1</td>\n",
              "      <td>0</td>\n",
              "    </tr>\n",
              "    <tr>\n",
              "      <th>425</th>\n",
              "      <td>fffba05a-1635-4545-9bbd-57ad4cfe8d27.dcm</td>\n",
              "      <td>[[4, 4, 4, 4, 4, 4, 4, 4, 4, 4, 4, 4, 4, 4, 4,...</td>\n",
              "      <td>0</td>\n",
              "      <td>0</td>\n",
              "    </tr>\n",
              "    <tr>\n",
              "      <th>426</th>\n",
              "      <td>fffc95b5-605b-4226-80ab-62caec682b22.dcm</td>\n",
              "      <td>[[0, 0, 0, 0, 0, 0, 0, 0, 0, 2, 2, 0, 10, 44, ...</td>\n",
              "      <td>0</td>\n",
              "      <td>0</td>\n",
              "    </tr>\n",
              "    <tr>\n",
              "      <th>427</th>\n",
              "      <td>fffcff11-d018-4414-971a-a7cefa327795.dcm</td>\n",
              "      <td>[[104, 96, 93, 86, 69, 52, 38, 27, 14, 10, 8, ...</td>\n",
              "      <td>0</td>\n",
              "      <td>0</td>\n",
              "    </tr>\n",
              "    <tr>\n",
              "      <th>428</th>\n",
              "      <td>fffec09e-8a4a-48b1-b33e-ab4890ccd136.dcm</td>\n",
              "      <td>[[0, 0, 2, 3, 0, 0, 2, 0, 2, 0, 0, 0, 0, 0, 0,...</td>\n",
              "      <td>0</td>\n",
              "      <td>0</td>\n",
              "    </tr>\n",
              "  </tbody>\n",
              "</table>\n",
              "<p>429 rows × 4 columns</p>\n",
              "</div>"
            ],
            "text/plain": [
              "                                    PatientID  ... clientID\n",
              "0    fcac5979-fa02-40ad-bd07-70da89e391fb.dcm  ...        0\n",
              "1    fcad0e40-e0d7-4f32-b914-e19041bfd149.dcm  ...        0\n",
              "2    fcad22d2-efe3-4fdc-87a6-7710d37e9111.dcm  ...        0\n",
              "3    fcad64f6-177e-4042-8cd1-0c10e234c82e.dcm  ...        0\n",
              "4    fcae3037-2029-4c72-9204-cb11b4113e1a.dcm  ...        0\n",
              "..                                        ...  ...      ...\n",
              "424  fffb2395-8edd-4954-8a89-ffe2fd329be3.dcm  ...        0\n",
              "425  fffba05a-1635-4545-9bbd-57ad4cfe8d27.dcm  ...        0\n",
              "426  fffc95b5-605b-4226-80ab-62caec682b22.dcm  ...        0\n",
              "427  fffcff11-d018-4414-971a-a7cefa327795.dcm  ...        0\n",
              "428  fffec09e-8a4a-48b1-b33e-ab4890ccd136.dcm  ...        0\n",
              "\n",
              "[429 rows x 4 columns]"
            ]
          },
          "metadata": {
            "tags": []
          },
          "execution_count": 11
        }
      ]
    },
    {
      "cell_type": "code",
      "metadata": {
        "id": "f6eW9FLaFiUk",
        "colab_type": "code",
        "outputId": "d97becd4-4c3c-433f-beb4-39c93f942958",
        "colab": {
          "base_uri": "https://localhost:8080/",
          "height": 415
        }
      },
      "source": [
        "final_data.loc[0:99,'clientID'] = 0\n",
        "final_data.loc[100:199,'clientID'] = 1\n",
        "final_data.loc[200:299,'clientID'] = 2\n",
        "final_data.loc[300:428,'clientID'] = 3\n",
        "final_data"
      ],
      "execution_count": 12,
      "outputs": [
        {
          "output_type": "execute_result",
          "data": {
            "text/html": [
              "<div>\n",
              "<style scoped>\n",
              "    .dataframe tbody tr th:only-of-type {\n",
              "        vertical-align: middle;\n",
              "    }\n",
              "\n",
              "    .dataframe tbody tr th {\n",
              "        vertical-align: top;\n",
              "    }\n",
              "\n",
              "    .dataframe thead th {\n",
              "        text-align: right;\n",
              "    }\n",
              "</style>\n",
              "<table border=\"1\" class=\"dataframe\">\n",
              "  <thead>\n",
              "    <tr style=\"text-align: right;\">\n",
              "      <th></th>\n",
              "      <th>PatientID</th>\n",
              "      <th>dicom</th>\n",
              "      <th>label</th>\n",
              "      <th>clientID</th>\n",
              "    </tr>\n",
              "  </thead>\n",
              "  <tbody>\n",
              "    <tr>\n",
              "      <th>0</th>\n",
              "      <td>fcac5979-fa02-40ad-bd07-70da89e391fb.dcm</td>\n",
              "      <td>[[3, 3, 3, 3, 3, 3, 3, 3, 2, 2, 2, 2, 2, 2, 2,...</td>\n",
              "      <td>0</td>\n",
              "      <td>0</td>\n",
              "    </tr>\n",
              "    <tr>\n",
              "      <th>1</th>\n",
              "      <td>fcad0e40-e0d7-4f32-b914-e19041bfd149.dcm</td>\n",
              "      <td>[[255, 255, 255, 255, 255, 255, 255, 255, 255,...</td>\n",
              "      <td>0</td>\n",
              "      <td>0</td>\n",
              "    </tr>\n",
              "    <tr>\n",
              "      <th>2</th>\n",
              "      <td>fcad22d2-efe3-4fdc-87a6-7710d37e9111.dcm</td>\n",
              "      <td>[[2, 2, 2, 2, 2, 2, 2, 2, 2, 2, 2, 2, 2, 2, 2,...</td>\n",
              "      <td>0</td>\n",
              "      <td>0</td>\n",
              "    </tr>\n",
              "    <tr>\n",
              "      <th>3</th>\n",
              "      <td>fcad64f6-177e-4042-8cd1-0c10e234c82e.dcm</td>\n",
              "      <td>[[3, 0, 2, 3, 0, 0, 0, 0, 0, 0, 0, 0, 0, 0, 0,...</td>\n",
              "      <td>0</td>\n",
              "      <td>0</td>\n",
              "    </tr>\n",
              "    <tr>\n",
              "      <th>4</th>\n",
              "      <td>fcae3037-2029-4c72-9204-cb11b4113e1a.dcm</td>\n",
              "      <td>[[0, 0, 0, 0, 0, 0, 0, 0, 0, 0, 0, 0, 0, 0, 0,...</td>\n",
              "      <td>0</td>\n",
              "      <td>0</td>\n",
              "    </tr>\n",
              "    <tr>\n",
              "      <th>...</th>\n",
              "      <td>...</td>\n",
              "      <td>...</td>\n",
              "      <td>...</td>\n",
              "      <td>...</td>\n",
              "    </tr>\n",
              "    <tr>\n",
              "      <th>424</th>\n",
              "      <td>fffb2395-8edd-4954-8a89-ffe2fd329be3.dcm</td>\n",
              "      <td>[[3, 4, 4, 4, 3, 3, 3, 3, 2, 2, 3, 3, 3, 3, 3,...</td>\n",
              "      <td>1</td>\n",
              "      <td>3</td>\n",
              "    </tr>\n",
              "    <tr>\n",
              "      <th>425</th>\n",
              "      <td>fffba05a-1635-4545-9bbd-57ad4cfe8d27.dcm</td>\n",
              "      <td>[[4, 4, 4, 4, 4, 4, 4, 4, 4, 4, 4, 4, 4, 4, 4,...</td>\n",
              "      <td>0</td>\n",
              "      <td>3</td>\n",
              "    </tr>\n",
              "    <tr>\n",
              "      <th>426</th>\n",
              "      <td>fffc95b5-605b-4226-80ab-62caec682b22.dcm</td>\n",
              "      <td>[[0, 0, 0, 0, 0, 0, 0, 0, 0, 2, 2, 0, 10, 44, ...</td>\n",
              "      <td>0</td>\n",
              "      <td>3</td>\n",
              "    </tr>\n",
              "    <tr>\n",
              "      <th>427</th>\n",
              "      <td>fffcff11-d018-4414-971a-a7cefa327795.dcm</td>\n",
              "      <td>[[104, 96, 93, 86, 69, 52, 38, 27, 14, 10, 8, ...</td>\n",
              "      <td>0</td>\n",
              "      <td>3</td>\n",
              "    </tr>\n",
              "    <tr>\n",
              "      <th>428</th>\n",
              "      <td>fffec09e-8a4a-48b1-b33e-ab4890ccd136.dcm</td>\n",
              "      <td>[[0, 0, 2, 3, 0, 0, 2, 0, 2, 0, 0, 0, 0, 0, 0,...</td>\n",
              "      <td>0</td>\n",
              "      <td>3</td>\n",
              "    </tr>\n",
              "  </tbody>\n",
              "</table>\n",
              "<p>429 rows × 4 columns</p>\n",
              "</div>"
            ],
            "text/plain": [
              "                                    PatientID  ... clientID\n",
              "0    fcac5979-fa02-40ad-bd07-70da89e391fb.dcm  ...        0\n",
              "1    fcad0e40-e0d7-4f32-b914-e19041bfd149.dcm  ...        0\n",
              "2    fcad22d2-efe3-4fdc-87a6-7710d37e9111.dcm  ...        0\n",
              "3    fcad64f6-177e-4042-8cd1-0c10e234c82e.dcm  ...        0\n",
              "4    fcae3037-2029-4c72-9204-cb11b4113e1a.dcm  ...        0\n",
              "..                                        ...  ...      ...\n",
              "424  fffb2395-8edd-4954-8a89-ffe2fd329be3.dcm  ...        3\n",
              "425  fffba05a-1635-4545-9bbd-57ad4cfe8d27.dcm  ...        3\n",
              "426  fffc95b5-605b-4226-80ab-62caec682b22.dcm  ...        3\n",
              "427  fffcff11-d018-4414-971a-a7cefa327795.dcm  ...        3\n",
              "428  fffec09e-8a4a-48b1-b33e-ab4890ccd136.dcm  ...        3\n",
              "\n",
              "[429 rows x 4 columns]"
            ]
          },
          "metadata": {
            "tags": []
          },
          "execution_count": 12
        }
      ]
    },
    {
      "cell_type": "code",
      "metadata": {
        "id": "DRb8tdI2FsT1",
        "colab_type": "code",
        "colab": {}
      },
      "source": [
        "NUM_EPOCHS = 5\n",
        "BATCH_SIZE = 20\n",
        "SHUFFLE_BUFFER = 500\n",
        "NUM_CLIENTS = 4"
      ],
      "execution_count": 0,
      "outputs": []
    },
    {
      "cell_type": "code",
      "metadata": {
        "id": "hiR0gldpIHno",
        "colab_type": "code",
        "colab": {}
      },
      "source": [
        "def preprocess(dataset):\n",
        "  def element_fn(element):\n",
        "    return collections.OrderedDict(tf.convert_to_tensor[\n",
        "        ('x', tf.reshape(element['dicom'], [-1])),\n",
        "        tf.convert_to_tensor('y', tf.reshape(element['label'], [1])),\n",
        "    ])\n",
        "\n",
        "  return dataset.repeat(NUM_EPOCHS).map(element_fn).shuffle(\n",
        "      SHUFFLE_BUFFER).batch(BATCH_SIZE)"
      ],
      "execution_count": 0,
      "outputs": []
    },
    {
      "cell_type": "code",
      "metadata": {
        "id": "QC_50gdB8EhD",
        "colab_type": "code",
        "colab": {}
      },
      "source": [
        "df=final_data"
      ],
      "execution_count": 0,
      "outputs": []
    },
    {
      "cell_type": "code",
      "metadata": {
        "id": "Deh6ILjZHzmw",
        "colab_type": "code",
        "colab": {}
      },
      "source": [
        "def create_tf_dataset_for_client(client_id):\n",
        "  # a function which takes a client_id and returns a\n",
        "  # tf.data.Dataset for that client\n",
        "  client_data = df[df['clientID'] == client_id]\n",
        "  dataset = tf.data.Dataset.from_tensor_slices(client_data.to_dict('list'))\n",
        "  dataset = dataset.shuffle(SHUFFLE_BUFFER).batch(1).repeat(NUM_EPOCHS)\n",
        "  return dataset"
      ],
      "execution_count": 0,
      "outputs": []
    },
    {
      "cell_type": "code",
      "metadata": {
        "id": "XPaUElxgH8N8",
        "colab_type": "code",
        "colab": {
          "base_uri": "https://localhost:8080/",
          "height": 35
        },
        "outputId": "f306bebc-063e-46e7-c25f-a412101a316c"
      },
      "source": [
        "def make_federated_data(client_data, client_ids):\n",
        "  return [preprocess(create_tf_dataset_for_client(x))\n",
        "          for x in client_ids]"
      ],
      "execution_count": 31,
      "outputs": [
        {
          "output_type": "stream",
          "text": [
            "ERROR! Session/line number was not unique in database. History logging moved to new session 61\n"
          ],
          "name": "stdout"
        }
      ]
    },
    {
      "cell_type": "code",
      "metadata": {
        "id": "nXMy2ApF5Hwy",
        "colab_type": "code",
        "colab": {}
      },
      "source": [
        "import numpy as np"
      ],
      "execution_count": 0,
      "outputs": []
    },
    {
      "cell_type": "code",
      "metadata": {
        "id": "yn280LLV6e83",
        "colab_type": "code",
        "colab": {}
      },
      "source": [
        "client_set = set(final_data.clientID)"
      ],
      "execution_count": 0,
      "outputs": []
    },
    {
      "cell_type": "code",
      "metadata": {
        "id": "LqNOzP5r7QVp",
        "colab_type": "code",
        "colab": {
          "base_uri": "https://localhost:8080/",
          "height": 35
        },
        "outputId": "1b0270ac-3855-4cd2-c5b8-473d052e8460"
      },
      "source": [
        "print(client_set)"
      ],
      "execution_count": 21,
      "outputs": [
        {
          "output_type": "stream",
          "text": [
            "{0, 1, 2, 3}\n"
          ],
          "name": "stdout"
        }
      ]
    },
    {
      "cell_type": "code",
      "metadata": {
        "id": "CojqVF3HBlyK",
        "colab_type": "code",
        "colab": {
          "base_uri": "https://localhost:8080/",
          "height": 450
        },
        "outputId": "bfe287f4-077f-45a4-f014-48ebefd362c0"
      },
      "source": [
        "final_data=tf.convert_to_tensor(final_data)"
      ],
      "execution_count": 33,
      "outputs": [
        {
          "output_type": "error",
          "ename": "TypeError",
          "evalue": "ignored",
          "traceback": [
            "\u001b[0;31m---------------------------------------------------------------------------\u001b[0m",
            "\u001b[0;31mTypeError\u001b[0m                                 Traceback (most recent call last)",
            "\u001b[0;32m<ipython-input-33-c96df9217e36>\u001b[0m in \u001b[0;36m<module>\u001b[0;34m()\u001b[0m\n\u001b[0;32m----> 1\u001b[0;31m \u001b[0mfinal_data\u001b[0m\u001b[0;34m=\u001b[0m\u001b[0mtf\u001b[0m\u001b[0;34m.\u001b[0m\u001b[0mconvert_to_tensor\u001b[0m\u001b[0;34m(\u001b[0m\u001b[0mfinal_data\u001b[0m\u001b[0;34m)\u001b[0m\u001b[0;34m\u001b[0m\u001b[0;34m\u001b[0m\u001b[0m\n\u001b[0m",
            "\u001b[0;32m/tensorflow-1.15.2/python3.6/tensorflow_core/python/framework/ops.py\u001b[0m in \u001b[0;36mconvert_to_tensor\u001b[0;34m(value, dtype, name, preferred_dtype, dtype_hint)\u001b[0m\n\u001b[1;32m   1182\u001b[0m   preferred_dtype = deprecation.deprecated_argument_lookup(\n\u001b[1;32m   1183\u001b[0m       \"dtype_hint\", dtype_hint, \"preferred_dtype\", preferred_dtype)\n\u001b[0;32m-> 1184\u001b[0;31m   \u001b[0;32mreturn\u001b[0m \u001b[0mconvert_to_tensor_v2\u001b[0m\u001b[0;34m(\u001b[0m\u001b[0mvalue\u001b[0m\u001b[0;34m,\u001b[0m \u001b[0mdtype\u001b[0m\u001b[0;34m,\u001b[0m \u001b[0mpreferred_dtype\u001b[0m\u001b[0;34m,\u001b[0m \u001b[0mname\u001b[0m\u001b[0;34m)\u001b[0m\u001b[0;34m\u001b[0m\u001b[0;34m\u001b[0m\u001b[0m\n\u001b[0m\u001b[1;32m   1185\u001b[0m \u001b[0;34m\u001b[0m\u001b[0m\n\u001b[1;32m   1186\u001b[0m \u001b[0;34m\u001b[0m\u001b[0m\n",
            "\u001b[0;32m/tensorflow-1.15.2/python3.6/tensorflow_core/python/framework/ops.py\u001b[0m in \u001b[0;36mconvert_to_tensor_v2\u001b[0;34m(value, dtype, dtype_hint, name)\u001b[0m\n\u001b[1;32m   1240\u001b[0m       \u001b[0mname\u001b[0m\u001b[0;34m=\u001b[0m\u001b[0mname\u001b[0m\u001b[0;34m,\u001b[0m\u001b[0;34m\u001b[0m\u001b[0;34m\u001b[0m\u001b[0m\n\u001b[1;32m   1241\u001b[0m       \u001b[0mpreferred_dtype\u001b[0m\u001b[0;34m=\u001b[0m\u001b[0mdtype_hint\u001b[0m\u001b[0;34m,\u001b[0m\u001b[0;34m\u001b[0m\u001b[0;34m\u001b[0m\u001b[0m\n\u001b[0;32m-> 1242\u001b[0;31m       as_ref=False)\n\u001b[0m\u001b[1;32m   1243\u001b[0m \u001b[0;34m\u001b[0m\u001b[0m\n\u001b[1;32m   1244\u001b[0m \u001b[0;34m\u001b[0m\u001b[0m\n",
            "\u001b[0;32m/tensorflow-1.15.2/python3.6/tensorflow_core/python/framework/ops.py\u001b[0m in \u001b[0;36minternal_convert_to_tensor\u001b[0;34m(value, dtype, name, as_ref, preferred_dtype, ctx, accepted_result_types)\u001b[0m\n\u001b[1;32m   1295\u001b[0m \u001b[0;34m\u001b[0m\u001b[0m\n\u001b[1;32m   1296\u001b[0m     \u001b[0;32mif\u001b[0m \u001b[0mret\u001b[0m \u001b[0;32mis\u001b[0m \u001b[0;32mNone\u001b[0m\u001b[0;34m:\u001b[0m\u001b[0;34m\u001b[0m\u001b[0;34m\u001b[0m\u001b[0m\n\u001b[0;32m-> 1297\u001b[0;31m       \u001b[0mret\u001b[0m \u001b[0;34m=\u001b[0m \u001b[0mconversion_func\u001b[0m\u001b[0;34m(\u001b[0m\u001b[0mvalue\u001b[0m\u001b[0;34m,\u001b[0m \u001b[0mdtype\u001b[0m\u001b[0;34m=\u001b[0m\u001b[0mdtype\u001b[0m\u001b[0;34m,\u001b[0m \u001b[0mname\u001b[0m\u001b[0;34m=\u001b[0m\u001b[0mname\u001b[0m\u001b[0;34m,\u001b[0m \u001b[0mas_ref\u001b[0m\u001b[0;34m=\u001b[0m\u001b[0mas_ref\u001b[0m\u001b[0;34m)\u001b[0m\u001b[0;34m\u001b[0m\u001b[0;34m\u001b[0m\u001b[0m\n\u001b[0m\u001b[1;32m   1298\u001b[0m \u001b[0;34m\u001b[0m\u001b[0m\n\u001b[1;32m   1299\u001b[0m     \u001b[0;32mif\u001b[0m \u001b[0mret\u001b[0m \u001b[0;32mis\u001b[0m \u001b[0mNotImplemented\u001b[0m\u001b[0;34m:\u001b[0m\u001b[0;34m\u001b[0m\u001b[0;34m\u001b[0m\u001b[0m\n",
            "\u001b[0;32m/tensorflow-1.15.2/python3.6/tensorflow_core/python/framework/constant_op.py\u001b[0m in \u001b[0;36m_constant_tensor_conversion_function\u001b[0;34m(v, dtype, name, as_ref)\u001b[0m\n\u001b[1;32m    284\u001b[0m                                          as_ref=False):\n\u001b[1;32m    285\u001b[0m   \u001b[0m_\u001b[0m \u001b[0;34m=\u001b[0m \u001b[0mas_ref\u001b[0m\u001b[0;34m\u001b[0m\u001b[0;34m\u001b[0m\u001b[0m\n\u001b[0;32m--> 286\u001b[0;31m   \u001b[0;32mreturn\u001b[0m \u001b[0mconstant\u001b[0m\u001b[0;34m(\u001b[0m\u001b[0mv\u001b[0m\u001b[0;34m,\u001b[0m \u001b[0mdtype\u001b[0m\u001b[0;34m=\u001b[0m\u001b[0mdtype\u001b[0m\u001b[0;34m,\u001b[0m \u001b[0mname\u001b[0m\u001b[0;34m=\u001b[0m\u001b[0mname\u001b[0m\u001b[0;34m)\u001b[0m\u001b[0;34m\u001b[0m\u001b[0;34m\u001b[0m\u001b[0m\n\u001b[0m\u001b[1;32m    287\u001b[0m \u001b[0;34m\u001b[0m\u001b[0m\n\u001b[1;32m    288\u001b[0m \u001b[0;34m\u001b[0m\u001b[0m\n",
            "\u001b[0;32m/tensorflow-1.15.2/python3.6/tensorflow_core/python/framework/constant_op.py\u001b[0m in \u001b[0;36mconstant\u001b[0;34m(value, dtype, shape, name)\u001b[0m\n\u001b[1;32m    225\u001b[0m   \"\"\"\n\u001b[1;32m    226\u001b[0m   return _constant_impl(value, dtype, shape, name, verify_shape=False,\n\u001b[0;32m--> 227\u001b[0;31m                         allow_broadcast=True)\n\u001b[0m\u001b[1;32m    228\u001b[0m \u001b[0;34m\u001b[0m\u001b[0m\n\u001b[1;32m    229\u001b[0m \u001b[0;34m\u001b[0m\u001b[0m\n",
            "\u001b[0;32m/tensorflow-1.15.2/python3.6/tensorflow_core/python/framework/constant_op.py\u001b[0m in \u001b[0;36m_constant_impl\u001b[0;34m(value, dtype, shape, name, verify_shape, allow_broadcast)\u001b[0m\n\u001b[1;32m    263\u001b[0m       tensor_util.make_tensor_proto(\n\u001b[1;32m    264\u001b[0m           \u001b[0mvalue\u001b[0m\u001b[0;34m,\u001b[0m \u001b[0mdtype\u001b[0m\u001b[0;34m=\u001b[0m\u001b[0mdtype\u001b[0m\u001b[0;34m,\u001b[0m \u001b[0mshape\u001b[0m\u001b[0;34m=\u001b[0m\u001b[0mshape\u001b[0m\u001b[0;34m,\u001b[0m \u001b[0mverify_shape\u001b[0m\u001b[0;34m=\u001b[0m\u001b[0mverify_shape\u001b[0m\u001b[0;34m,\u001b[0m\u001b[0;34m\u001b[0m\u001b[0;34m\u001b[0m\u001b[0m\n\u001b[0;32m--> 265\u001b[0;31m           allow_broadcast=allow_broadcast))\n\u001b[0m\u001b[1;32m    266\u001b[0m   \u001b[0mdtype_value\u001b[0m \u001b[0;34m=\u001b[0m \u001b[0mattr_value_pb2\u001b[0m\u001b[0;34m.\u001b[0m\u001b[0mAttrValue\u001b[0m\u001b[0;34m(\u001b[0m\u001b[0mtype\u001b[0m\u001b[0;34m=\u001b[0m\u001b[0mtensor_value\u001b[0m\u001b[0;34m.\u001b[0m\u001b[0mtensor\u001b[0m\u001b[0;34m.\u001b[0m\u001b[0mdtype\u001b[0m\u001b[0;34m)\u001b[0m\u001b[0;34m\u001b[0m\u001b[0;34m\u001b[0m\u001b[0m\n\u001b[1;32m    267\u001b[0m   const_tensor = g.create_op(\n",
            "\u001b[0;32m/tensorflow-1.15.2/python3.6/tensorflow_core/python/framework/tensor_util.py\u001b[0m in \u001b[0;36mmake_tensor_proto\u001b[0;34m(values, dtype, shape, verify_shape, allow_broadcast)\u001b[0m\n\u001b[1;32m    554\u001b[0m     raise TypeError(\n\u001b[1;32m    555\u001b[0m         \"Element type not supported in TensorProto: %s\" % numpy_dtype.name)\n\u001b[0;32m--> 556\u001b[0;31m   \u001b[0mappend_fn\u001b[0m\u001b[0;34m(\u001b[0m\u001b[0mtensor_proto\u001b[0m\u001b[0;34m,\u001b[0m \u001b[0mproto_values\u001b[0m\u001b[0;34m)\u001b[0m\u001b[0;34m\u001b[0m\u001b[0;34m\u001b[0m\u001b[0m\n\u001b[0m\u001b[1;32m    557\u001b[0m \u001b[0;34m\u001b[0m\u001b[0m\n\u001b[1;32m    558\u001b[0m   \u001b[0;32mreturn\u001b[0m \u001b[0mtensor_proto\u001b[0m\u001b[0;34m\u001b[0m\u001b[0;34m\u001b[0m\u001b[0m\n",
            "\u001b[0;32mtensorflow/python/framework/fast_tensor_util.pyx\u001b[0m in \u001b[0;36mtensorflow.python.framework.fast_tensor_util.AppendObjectArrayToTensorProto\u001b[0;34m()\u001b[0m\n",
            "\u001b[0;32m/tensorflow-1.15.2/python3.6/tensorflow_core/python/util/compat.py\u001b[0m in \u001b[0;36mas_bytes\u001b[0;34m(bytes_or_text, encoding)\u001b[0m\n\u001b[1;32m     69\u001b[0m   \u001b[0;32melse\u001b[0m\u001b[0;34m:\u001b[0m\u001b[0;34m\u001b[0m\u001b[0;34m\u001b[0m\u001b[0m\n\u001b[1;32m     70\u001b[0m     raise TypeError('Expected binary or unicode string, got %r' %\n\u001b[0;32m---> 71\u001b[0;31m                     (bytes_or_text,))\n\u001b[0m\u001b[1;32m     72\u001b[0m \u001b[0;34m\u001b[0m\u001b[0m\n\u001b[1;32m     73\u001b[0m \u001b[0;34m\u001b[0m\u001b[0m\n",
            "\u001b[0;31mTypeError\u001b[0m: Expected binary or unicode string, got array([[  3,   3,   3, ..., 129, 156,  78],\n       [  3,   3,   3, ..., 255, 255, 176],\n       [  3,   3,   3, ..., 255, 255, 160],\n       ...,\n       [120, 226, 220, ..., 198, 192, 104],\n       [136, 228, 222, ..., 198, 195, 123],\n       [ 54, 124, 108, ...,  92, 102,  51]], dtype=uint8)"
          ]
        }
      ]
    },
    {
      "cell_type": "code",
      "metadata": {
        "id": "HjBy8c_PIBwZ",
        "colab_type": "code",
        "outputId": "5f5fe7b4-0846-45f1-f2b3-126712bd8f97",
        "colab": {
          "base_uri": "https://localhost:8080/",
          "height": 1000
        }
      },
      "source": [
        "# sample_clients = final_data.clientID[0: NUM_CLIENTS] -- returning 0,0,0,0\n",
        "federated_train_data = make_federated_data(final_data, client_set)"
      ],
      "execution_count": 32,
      "outputs": [
        {
          "output_type": "error",
          "ename": "ValueError",
          "evalue": "ignored",
          "traceback": [
            "\u001b[0;31m---------------------------------------------------------------------------\u001b[0m",
            "\u001b[0;31mValueError\u001b[0m                                Traceback (most recent call last)",
            "\u001b[0;32m<ipython-input-32-b4cf2420b24e>\u001b[0m in \u001b[0;36m<module>\u001b[0;34m()\u001b[0m\n\u001b[0;32m----> 1\u001b[0;31m \u001b[0mfederated_train_data\u001b[0m \u001b[0;34m=\u001b[0m \u001b[0mmake_federated_data\u001b[0m\u001b[0;34m(\u001b[0m\u001b[0mfinal_data\u001b[0m\u001b[0;34m,\u001b[0m \u001b[0mclient_set\u001b[0m\u001b[0;34m)\u001b[0m\u001b[0;34m\u001b[0m\u001b[0;34m\u001b[0m\u001b[0m\n\u001b[0m",
            "\u001b[0;32m<ipython-input-31-4e7ed117f704>\u001b[0m in \u001b[0;36mmake_federated_data\u001b[0;34m(client_data, client_ids)\u001b[0m\n\u001b[1;32m      1\u001b[0m \u001b[0;32mdef\u001b[0m \u001b[0mmake_federated_data\u001b[0m\u001b[0;34m(\u001b[0m\u001b[0mclient_data\u001b[0m\u001b[0;34m,\u001b[0m \u001b[0mclient_ids\u001b[0m\u001b[0;34m)\u001b[0m\u001b[0;34m:\u001b[0m\u001b[0;34m\u001b[0m\u001b[0;34m\u001b[0m\u001b[0m\n\u001b[1;32m      2\u001b[0m   return [preprocess(create_tf_dataset_for_client(x))\n\u001b[0;32m----> 3\u001b[0;31m           for x in client_ids]\n\u001b[0m",
            "\u001b[0;32m<ipython-input-31-4e7ed117f704>\u001b[0m in \u001b[0;36m<listcomp>\u001b[0;34m(.0)\u001b[0m\n\u001b[1;32m      1\u001b[0m \u001b[0;32mdef\u001b[0m \u001b[0mmake_federated_data\u001b[0m\u001b[0;34m(\u001b[0m\u001b[0mclient_data\u001b[0m\u001b[0;34m,\u001b[0m \u001b[0mclient_ids\u001b[0m\u001b[0;34m)\u001b[0m\u001b[0;34m:\u001b[0m\u001b[0;34m\u001b[0m\u001b[0;34m\u001b[0m\u001b[0m\n\u001b[1;32m      2\u001b[0m   return [preprocess(create_tf_dataset_for_client(x))\n\u001b[0;32m----> 3\u001b[0;31m           for x in client_ids]\n\u001b[0m",
            "\u001b[0;32m<ipython-input-28-281221cffd64>\u001b[0m in \u001b[0;36mcreate_tf_dataset_for_client\u001b[0;34m(client_id)\u001b[0m\n\u001b[1;32m      3\u001b[0m   \u001b[0;31m# tf.data.Dataset for that client\u001b[0m\u001b[0;34m\u001b[0m\u001b[0;34m\u001b[0m\u001b[0;34m\u001b[0m\u001b[0m\n\u001b[1;32m      4\u001b[0m   \u001b[0mclient_data\u001b[0m \u001b[0;34m=\u001b[0m \u001b[0mdf\u001b[0m\u001b[0;34m[\u001b[0m\u001b[0mdf\u001b[0m\u001b[0;34m[\u001b[0m\u001b[0;34m'clientID'\u001b[0m\u001b[0;34m]\u001b[0m \u001b[0;34m==\u001b[0m \u001b[0mclient_id\u001b[0m\u001b[0;34m]\u001b[0m\u001b[0;34m\u001b[0m\u001b[0;34m\u001b[0m\u001b[0m\n\u001b[0;32m----> 5\u001b[0;31m   \u001b[0mdataset\u001b[0m \u001b[0;34m=\u001b[0m \u001b[0mtf\u001b[0m\u001b[0;34m.\u001b[0m\u001b[0mdata\u001b[0m\u001b[0;34m.\u001b[0m\u001b[0mDataset\u001b[0m\u001b[0;34m.\u001b[0m\u001b[0mfrom_tensor_slices\u001b[0m\u001b[0;34m(\u001b[0m\u001b[0mclient_data\u001b[0m\u001b[0;34m.\u001b[0m\u001b[0mto_dict\u001b[0m\u001b[0;34m(\u001b[0m\u001b[0;34m'list'\u001b[0m\u001b[0;34m)\u001b[0m\u001b[0;34m)\u001b[0m\u001b[0;34m\u001b[0m\u001b[0;34m\u001b[0m\u001b[0m\n\u001b[0m\u001b[1;32m      6\u001b[0m   \u001b[0mdataset\u001b[0m \u001b[0;34m=\u001b[0m \u001b[0mdataset\u001b[0m\u001b[0;34m.\u001b[0m\u001b[0mshuffle\u001b[0m\u001b[0;34m(\u001b[0m\u001b[0mSHUFFLE_BUFFER\u001b[0m\u001b[0;34m)\u001b[0m\u001b[0;34m.\u001b[0m\u001b[0mbatch\u001b[0m\u001b[0;34m(\u001b[0m\u001b[0;36m1\u001b[0m\u001b[0;34m)\u001b[0m\u001b[0;34m.\u001b[0m\u001b[0mrepeat\u001b[0m\u001b[0;34m(\u001b[0m\u001b[0mNUM_EPOCHS\u001b[0m\u001b[0;34m)\u001b[0m\u001b[0;34m\u001b[0m\u001b[0;34m\u001b[0m\u001b[0m\n\u001b[1;32m      7\u001b[0m   \u001b[0;32mreturn\u001b[0m \u001b[0mtf\u001b[0m\u001b[0;34m.\u001b[0m\u001b[0mconvert_to_tensor\u001b[0m\u001b[0;34m(\u001b[0m\u001b[0mdataset\u001b[0m\u001b[0;34m)\u001b[0m\u001b[0;34m\u001b[0m\u001b[0;34m\u001b[0m\u001b[0m\n",
            "\u001b[0;32m/tensorflow-1.15.2/python3.6/tensorflow_core/python/data/ops/dataset_ops.py\u001b[0m in \u001b[0;36mfrom_tensor_slices\u001b[0;34m(tensors)\u001b[0m\n\u001b[1;32m   1820\u001b[0m   \u001b[0;34m@\u001b[0m\u001b[0mfunctools\u001b[0m\u001b[0;34m.\u001b[0m\u001b[0mwraps\u001b[0m\u001b[0;34m(\u001b[0m\u001b[0mDatasetV2\u001b[0m\u001b[0;34m.\u001b[0m\u001b[0mfrom_tensor_slices\u001b[0m\u001b[0;34m)\u001b[0m\u001b[0;34m\u001b[0m\u001b[0;34m\u001b[0m\u001b[0m\n\u001b[1;32m   1821\u001b[0m   \u001b[0;32mdef\u001b[0m \u001b[0mfrom_tensor_slices\u001b[0m\u001b[0;34m(\u001b[0m\u001b[0mtensors\u001b[0m\u001b[0;34m)\u001b[0m\u001b[0;34m:\u001b[0m\u001b[0;34m\u001b[0m\u001b[0;34m\u001b[0m\u001b[0m\n\u001b[0;32m-> 1822\u001b[0;31m     \u001b[0;32mreturn\u001b[0m \u001b[0mDatasetV1Adapter\u001b[0m\u001b[0;34m(\u001b[0m\u001b[0mDatasetV2\u001b[0m\u001b[0;34m.\u001b[0m\u001b[0mfrom_tensor_slices\u001b[0m\u001b[0;34m(\u001b[0m\u001b[0mtensors\u001b[0m\u001b[0;34m)\u001b[0m\u001b[0;34m)\u001b[0m\u001b[0;34m\u001b[0m\u001b[0;34m\u001b[0m\u001b[0m\n\u001b[0m\u001b[1;32m   1823\u001b[0m \u001b[0;34m\u001b[0m\u001b[0m\n\u001b[1;32m   1824\u001b[0m   \u001b[0;34m@\u001b[0m\u001b[0mstaticmethod\u001b[0m\u001b[0;34m\u001b[0m\u001b[0;34m\u001b[0m\u001b[0m\n",
            "\u001b[0;32m/tensorflow-1.15.2/python3.6/tensorflow_core/python/data/ops/dataset_ops.py\u001b[0m in \u001b[0;36mfrom_tensor_slices\u001b[0;34m(tensors)\u001b[0m\n\u001b[1;32m    442\u001b[0m       \u001b[0mDataset\u001b[0m\u001b[0;34m:\u001b[0m \u001b[0mA\u001b[0m\u001b[0;31m \u001b[0m\u001b[0;31m`\u001b[0m\u001b[0mDataset\u001b[0m\u001b[0;31m`\u001b[0m\u001b[0;34m.\u001b[0m\u001b[0;34m\u001b[0m\u001b[0;34m\u001b[0m\u001b[0m\n\u001b[1;32m    443\u001b[0m     \"\"\"\n\u001b[0;32m--> 444\u001b[0;31m     \u001b[0;32mreturn\u001b[0m \u001b[0mTensorSliceDataset\u001b[0m\u001b[0;34m(\u001b[0m\u001b[0mtensors\u001b[0m\u001b[0;34m)\u001b[0m\u001b[0;34m\u001b[0m\u001b[0;34m\u001b[0m\u001b[0m\n\u001b[0m\u001b[1;32m    445\u001b[0m \u001b[0;34m\u001b[0m\u001b[0m\n\u001b[1;32m    446\u001b[0m   \u001b[0;32mclass\u001b[0m \u001b[0m_GeneratorState\u001b[0m\u001b[0;34m(\u001b[0m\u001b[0mobject\u001b[0m\u001b[0;34m)\u001b[0m\u001b[0;34m:\u001b[0m\u001b[0;34m\u001b[0m\u001b[0;34m\u001b[0m\u001b[0m\n",
            "\u001b[0;32m/tensorflow-1.15.2/python3.6/tensorflow_core/python/data/ops/dataset_ops.py\u001b[0m in \u001b[0;36m__init__\u001b[0;34m(self, element)\u001b[0m\n\u001b[1;32m   2370\u001b[0m   \u001b[0;32mdef\u001b[0m \u001b[0m__init__\u001b[0m\u001b[0;34m(\u001b[0m\u001b[0mself\u001b[0m\u001b[0;34m,\u001b[0m \u001b[0melement\u001b[0m\u001b[0;34m)\u001b[0m\u001b[0;34m:\u001b[0m\u001b[0;34m\u001b[0m\u001b[0;34m\u001b[0m\u001b[0m\n\u001b[1;32m   2371\u001b[0m     \u001b[0;34m\"\"\"See `Dataset.from_tensor_slices()` for details.\"\"\"\u001b[0m\u001b[0;34m\u001b[0m\u001b[0;34m\u001b[0m\u001b[0m\n\u001b[0;32m-> 2372\u001b[0;31m     \u001b[0melement\u001b[0m \u001b[0;34m=\u001b[0m \u001b[0mstructure\u001b[0m\u001b[0;34m.\u001b[0m\u001b[0mnormalize_element\u001b[0m\u001b[0;34m(\u001b[0m\u001b[0melement\u001b[0m\u001b[0;34m)\u001b[0m\u001b[0;34m\u001b[0m\u001b[0;34m\u001b[0m\u001b[0m\n\u001b[0m\u001b[1;32m   2373\u001b[0m     \u001b[0mbatched_spec\u001b[0m \u001b[0;34m=\u001b[0m \u001b[0mstructure\u001b[0m\u001b[0;34m.\u001b[0m\u001b[0mtype_spec_from_value\u001b[0m\u001b[0;34m(\u001b[0m\u001b[0melement\u001b[0m\u001b[0;34m)\u001b[0m\u001b[0;34m\u001b[0m\u001b[0;34m\u001b[0m\u001b[0m\n\u001b[1;32m   2374\u001b[0m     \u001b[0mself\u001b[0m\u001b[0;34m.\u001b[0m\u001b[0m_tensors\u001b[0m \u001b[0;34m=\u001b[0m \u001b[0mstructure\u001b[0m\u001b[0;34m.\u001b[0m\u001b[0mto_batched_tensor_list\u001b[0m\u001b[0;34m(\u001b[0m\u001b[0mbatched_spec\u001b[0m\u001b[0;34m,\u001b[0m \u001b[0melement\u001b[0m\u001b[0;34m)\u001b[0m\u001b[0;34m\u001b[0m\u001b[0;34m\u001b[0m\u001b[0m\n",
            "\u001b[0;32m/tensorflow-1.15.2/python3.6/tensorflow_core/python/data/util/structure.py\u001b[0m in \u001b[0;36mnormalize_element\u001b[0;34m(element)\u001b[0m\n\u001b[1;32m    109\u001b[0m         \u001b[0;32melse\u001b[0m\u001b[0;34m:\u001b[0m\u001b[0;34m\u001b[0m\u001b[0;34m\u001b[0m\u001b[0m\n\u001b[1;32m    110\u001b[0m           normalized_components.append(\n\u001b[0;32m--> 111\u001b[0;31m               ops.convert_to_tensor(t, name=\"component_%d\" % i))\n\u001b[0m\u001b[1;32m    112\u001b[0m   \u001b[0;32mreturn\u001b[0m \u001b[0mnest\u001b[0m\u001b[0;34m.\u001b[0m\u001b[0mpack_sequence_as\u001b[0m\u001b[0;34m(\u001b[0m\u001b[0melement\u001b[0m\u001b[0;34m,\u001b[0m \u001b[0mnormalized_components\u001b[0m\u001b[0;34m)\u001b[0m\u001b[0;34m\u001b[0m\u001b[0;34m\u001b[0m\u001b[0m\n\u001b[1;32m    113\u001b[0m \u001b[0;34m\u001b[0m\u001b[0m\n",
            "\u001b[0;32m/tensorflow-1.15.2/python3.6/tensorflow_core/python/framework/ops.py\u001b[0m in \u001b[0;36mconvert_to_tensor\u001b[0;34m(value, dtype, name, preferred_dtype, dtype_hint)\u001b[0m\n\u001b[1;32m   1182\u001b[0m   preferred_dtype = deprecation.deprecated_argument_lookup(\n\u001b[1;32m   1183\u001b[0m       \"dtype_hint\", dtype_hint, \"preferred_dtype\", preferred_dtype)\n\u001b[0;32m-> 1184\u001b[0;31m   \u001b[0;32mreturn\u001b[0m \u001b[0mconvert_to_tensor_v2\u001b[0m\u001b[0;34m(\u001b[0m\u001b[0mvalue\u001b[0m\u001b[0;34m,\u001b[0m \u001b[0mdtype\u001b[0m\u001b[0;34m,\u001b[0m \u001b[0mpreferred_dtype\u001b[0m\u001b[0;34m,\u001b[0m \u001b[0mname\u001b[0m\u001b[0;34m)\u001b[0m\u001b[0;34m\u001b[0m\u001b[0;34m\u001b[0m\u001b[0m\n\u001b[0m\u001b[1;32m   1185\u001b[0m \u001b[0;34m\u001b[0m\u001b[0m\n\u001b[1;32m   1186\u001b[0m \u001b[0;34m\u001b[0m\u001b[0m\n",
            "\u001b[0;32m/tensorflow-1.15.2/python3.6/tensorflow_core/python/framework/ops.py\u001b[0m in \u001b[0;36mconvert_to_tensor_v2\u001b[0;34m(value, dtype, dtype_hint, name)\u001b[0m\n\u001b[1;32m   1240\u001b[0m       \u001b[0mname\u001b[0m\u001b[0;34m=\u001b[0m\u001b[0mname\u001b[0m\u001b[0;34m,\u001b[0m\u001b[0;34m\u001b[0m\u001b[0;34m\u001b[0m\u001b[0m\n\u001b[1;32m   1241\u001b[0m       \u001b[0mpreferred_dtype\u001b[0m\u001b[0;34m=\u001b[0m\u001b[0mdtype_hint\u001b[0m\u001b[0;34m,\u001b[0m\u001b[0;34m\u001b[0m\u001b[0;34m\u001b[0m\u001b[0m\n\u001b[0;32m-> 1242\u001b[0;31m       as_ref=False)\n\u001b[0m\u001b[1;32m   1243\u001b[0m \u001b[0;34m\u001b[0m\u001b[0m\n\u001b[1;32m   1244\u001b[0m \u001b[0;34m\u001b[0m\u001b[0m\n",
            "\u001b[0;32m/tensorflow-1.15.2/python3.6/tensorflow_core/python/framework/ops.py\u001b[0m in \u001b[0;36minternal_convert_to_tensor\u001b[0;34m(value, dtype, name, as_ref, preferred_dtype, ctx, accepted_result_types)\u001b[0m\n\u001b[1;32m   1295\u001b[0m \u001b[0;34m\u001b[0m\u001b[0m\n\u001b[1;32m   1296\u001b[0m     \u001b[0;32mif\u001b[0m \u001b[0mret\u001b[0m \u001b[0;32mis\u001b[0m \u001b[0;32mNone\u001b[0m\u001b[0;34m:\u001b[0m\u001b[0;34m\u001b[0m\u001b[0;34m\u001b[0m\u001b[0m\n\u001b[0;32m-> 1297\u001b[0;31m       \u001b[0mret\u001b[0m \u001b[0;34m=\u001b[0m \u001b[0mconversion_func\u001b[0m\u001b[0;34m(\u001b[0m\u001b[0mvalue\u001b[0m\u001b[0;34m,\u001b[0m \u001b[0mdtype\u001b[0m\u001b[0;34m=\u001b[0m\u001b[0mdtype\u001b[0m\u001b[0;34m,\u001b[0m \u001b[0mname\u001b[0m\u001b[0;34m=\u001b[0m\u001b[0mname\u001b[0m\u001b[0;34m,\u001b[0m \u001b[0mas_ref\u001b[0m\u001b[0;34m=\u001b[0m\u001b[0mas_ref\u001b[0m\u001b[0;34m)\u001b[0m\u001b[0;34m\u001b[0m\u001b[0;34m\u001b[0m\u001b[0m\n\u001b[0m\u001b[1;32m   1298\u001b[0m \u001b[0;34m\u001b[0m\u001b[0m\n\u001b[1;32m   1299\u001b[0m     \u001b[0;32mif\u001b[0m \u001b[0mret\u001b[0m \u001b[0;32mis\u001b[0m \u001b[0mNotImplemented\u001b[0m\u001b[0;34m:\u001b[0m\u001b[0;34m\u001b[0m\u001b[0;34m\u001b[0m\u001b[0m\n",
            "\u001b[0;32m/tensorflow-1.15.2/python3.6/tensorflow_core/python/framework/constant_op.py\u001b[0m in \u001b[0;36m_constant_tensor_conversion_function\u001b[0;34m(v, dtype, name, as_ref)\u001b[0m\n\u001b[1;32m    284\u001b[0m                                          as_ref=False):\n\u001b[1;32m    285\u001b[0m   \u001b[0m_\u001b[0m \u001b[0;34m=\u001b[0m \u001b[0mas_ref\u001b[0m\u001b[0;34m\u001b[0m\u001b[0;34m\u001b[0m\u001b[0m\n\u001b[0;32m--> 286\u001b[0;31m   \u001b[0;32mreturn\u001b[0m \u001b[0mconstant\u001b[0m\u001b[0;34m(\u001b[0m\u001b[0mv\u001b[0m\u001b[0;34m,\u001b[0m \u001b[0mdtype\u001b[0m\u001b[0;34m=\u001b[0m\u001b[0mdtype\u001b[0m\u001b[0;34m,\u001b[0m \u001b[0mname\u001b[0m\u001b[0;34m=\u001b[0m\u001b[0mname\u001b[0m\u001b[0;34m)\u001b[0m\u001b[0;34m\u001b[0m\u001b[0;34m\u001b[0m\u001b[0m\n\u001b[0m\u001b[1;32m    287\u001b[0m \u001b[0;34m\u001b[0m\u001b[0m\n\u001b[1;32m    288\u001b[0m \u001b[0;34m\u001b[0m\u001b[0m\n",
            "\u001b[0;32m/tensorflow-1.15.2/python3.6/tensorflow_core/python/framework/constant_op.py\u001b[0m in \u001b[0;36mconstant\u001b[0;34m(value, dtype, shape, name)\u001b[0m\n\u001b[1;32m    225\u001b[0m   \"\"\"\n\u001b[1;32m    226\u001b[0m   return _constant_impl(value, dtype, shape, name, verify_shape=False,\n\u001b[0;32m--> 227\u001b[0;31m                         allow_broadcast=True)\n\u001b[0m\u001b[1;32m    228\u001b[0m \u001b[0;34m\u001b[0m\u001b[0m\n\u001b[1;32m    229\u001b[0m \u001b[0;34m\u001b[0m\u001b[0m\n",
            "\u001b[0;32m/tensorflow-1.15.2/python3.6/tensorflow_core/python/framework/constant_op.py\u001b[0m in \u001b[0;36m_constant_impl\u001b[0;34m(value, dtype, shape, name, verify_shape, allow_broadcast)\u001b[0m\n\u001b[1;32m    263\u001b[0m       tensor_util.make_tensor_proto(\n\u001b[1;32m    264\u001b[0m           \u001b[0mvalue\u001b[0m\u001b[0;34m,\u001b[0m \u001b[0mdtype\u001b[0m\u001b[0;34m=\u001b[0m\u001b[0mdtype\u001b[0m\u001b[0;34m,\u001b[0m \u001b[0mshape\u001b[0m\u001b[0;34m=\u001b[0m\u001b[0mshape\u001b[0m\u001b[0;34m,\u001b[0m \u001b[0mverify_shape\u001b[0m\u001b[0;34m=\u001b[0m\u001b[0mverify_shape\u001b[0m\u001b[0;34m,\u001b[0m\u001b[0;34m\u001b[0m\u001b[0;34m\u001b[0m\u001b[0m\n\u001b[0;32m--> 265\u001b[0;31m           allow_broadcast=allow_broadcast))\n\u001b[0m\u001b[1;32m    266\u001b[0m   \u001b[0mdtype_value\u001b[0m \u001b[0;34m=\u001b[0m \u001b[0mattr_value_pb2\u001b[0m\u001b[0;34m.\u001b[0m\u001b[0mAttrValue\u001b[0m\u001b[0;34m(\u001b[0m\u001b[0mtype\u001b[0m\u001b[0;34m=\u001b[0m\u001b[0mtensor_value\u001b[0m\u001b[0;34m.\u001b[0m\u001b[0mtensor\u001b[0m\u001b[0;34m.\u001b[0m\u001b[0mdtype\u001b[0m\u001b[0;34m)\u001b[0m\u001b[0;34m\u001b[0m\u001b[0;34m\u001b[0m\u001b[0m\n\u001b[1;32m    267\u001b[0m   const_tensor = g.create_op(\n",
            "\u001b[0;32m/tensorflow-1.15.2/python3.6/tensorflow_core/python/framework/tensor_util.py\u001b[0m in \u001b[0;36mmake_tensor_proto\u001b[0;34m(values, dtype, shape, verify_shape, allow_broadcast)\u001b[0m\n\u001b[1;32m    456\u001b[0m                          \u001b[0;34m\"\"\" - got shape %s, but wanted %s.\"\"\"\u001b[0m \u001b[0;34m%\u001b[0m\u001b[0;34m\u001b[0m\u001b[0;34m\u001b[0m\u001b[0m\n\u001b[1;32m    457\u001b[0m                          (values, list(nparray.shape),\n\u001b[0;32m--> 458\u001b[0;31m                           _GetDenseDimensions(values)))\n\u001b[0m\u001b[1;32m    459\u001b[0m \u001b[0;34m\u001b[0m\u001b[0m\n\u001b[1;32m    460\u001b[0m     \u001b[0;31m# python/numpy default float type is float64. We prefer float32 instead.\u001b[0m\u001b[0;34m\u001b[0m\u001b[0;34m\u001b[0m\u001b[0;34m\u001b[0m\u001b[0m\n",
            "\u001b[0;31mValueError\u001b[0m: Argument must be a dense tensor: [array([[  3,   3,   3, ..., 129, 156,  78],\n       [  3,   3,   3, ..., 255, 255, 176],\n       [  3,   3,   3, ..., 255, 255, 160],\n       ...,\n       [120, 226, 220, ..., 198, 192, 104],\n       [136, 228, 222, ..., 198, 195, 123],\n       [ 54, 124, 108, ...,  92, 102,  51]], dtype=uint8), array([[255, 255, 255, ...,  22,  14,   0],\n       [255, 255, 255, ...,  22,  14,   0],\n       [255, 255, 255, ...,  22,  14,   0],\n       ...,\n       [255, 255, 255, ...,  27,  16,   0],\n       [255, 255, 255, ...,  28,  18,   0],\n       [255, 255, 255, ...,  28,  18,   0]], dtype=uint8), array([[  2,   2,   2, ...,   2,   2,   2],\n       [  2,   2,   2, ...,   2,   2,   2],\n       [  2,   2,   2, ...,   2,   2,   2],\n       ...,\n       [255, 255, 255, ..., 255, 255, 146],\n       [255, 255, 255, ..., 255, 255, 170],\n       [153, 153, 153, ..., 118, 140,  72]], dtype=uint8), array([[  3,   0,   2, ..., 130, 154, 141],\n       [  0,   0,   4, ..., 110, 105, 129],\n       [  2,   2,   2, ..., 100,  98, 112],\n       ...,\n       [  0,   0,   0, ...,   0,   0,   0],\n       [  0,   0,   0, ...,   0,   0,   4],\n       [  0,   0,   0, ...,   3,   2,   0]], dtype=uint8), array([[  0,   0,   0, ...,   0,   0,   0],\n       [  0,   0,   0, ...,   0,   0,   0],\n       [  0,   0,   0, ...,   0,   0,   0],\n       ...,\n       [216, 207, 201, ..., 255, 255, 254],\n       [196, 192, 190, ..., 255, 255, 254],\n       [190, 189, 194, ..., 255, 255, 249]], dtype=uint8), array([[ 0,  4, 28, ...,  2,  0,  2],\n       [ 4, 15, 40, ...,  0,  0,  0],\n       [ 0, 10, 38, ...,  0,  0,  0],\n       ...,\n       [ 4, 38, 99, ...,  0,  2,  0],\n       [ 0, 14, 48, ...,  0,  2,  2],\n       [ 2,  0,  2, ...,  0,  0,  0]], dtype=uint8), array([[ 80, 165, 135, ...,  12,  14,   6],\n       [192, 255, 255, ...,  22,  22,  15],\n       [165, 255, 255, ...,  26,  24,  16],\n       ...,\n       [ 78, 126, 118, ...,  30,  30,  18],\n       [ 86, 128, 122, ...,  30,  30,  20],\n       [ 36,  70,  58, ...,  16,  18,   9]], dtype=uint8), array([[ 80, 165, 135, ...,  12,  14,   6],\n       [192, 255, 255, ...,  22,  22,  15],\n       [165, 255, 255, ...,  26,  24,  16],\n       ...,\n       [ 78, 126, 118, ...,  30,  30,  18],\n       [ 86, 128, 122, ...,  30,  30,  20],\n       [ 36,  70,  58, ...,  16,  18,   9]], dtype=uint8), array([[  3,   3,   2, ...,  81,  99,  63],\n       [  3,   2,   2, ...,  80,  96,  62],\n       [  2,   2,   2, ...,  76,  94,  60],\n       ...,\n       [212, 213, 216, ..., 255, 255, 224],\n       [220, 220, 224, ..., 255, 255, 228],\n       [224, 224, 228, ..., 255, 255, 228]], dtype=uint8), array([[  0,   0,   0, ...,   0,   0,   0],\n       [  0,   0,   0, ...,   0,   0,   0],\n       [  0,   0,   0, ...,   0,   0,   0],\n       ...,\n       [ 68,  74,  52, ..., 222, 224, 204],\n       [ 24,  34,  22, ..., 128, 132, 122],\n       [  0,   6,   0, ...,   0,   3,   2]], dtype=uint8), array([[  0,   0,   0, ...,   0,   0,   0],\n       [  0,   0,   0, ...,   0,   0,   0],\n       [  0,   0,   0, ...,   0,   0,   0],\n       ...,\n       [ 68,  74,  52, ..., 222, 224, 204],\n       [ 24,  34,  22, ..., 128, 132, 122],\n       [  0,   6,   0, ...,   0,   3,   2]], dtype=uint8), array([[  0,   3,   8, ...,  10,  10,  10],\n       [  0,   6,  12, ...,  20,  20,  20],\n       [  0,   6,  12, ...,  18,  18,  18],\n       ...,\n       [  0, 106, 255, ...,  48,  36,  26],\n       [  3,  87, 238, ...,  28,  26,  20],\n       [  0,   0,   6, ...,   2,   2,   0]], dtype=uint8), array([[255, 255, 255, ..., 255, 255, 196],\n       [255, 255, 255, ..., 255, 255, 195],\n       [255, 255, 255, ..., 255, 255, 189],\n       ...,\n       [  6,   3,   0, ..., 231, 249, 138],\n       [  8,   4,   0, ..., 231, 250, 140],\n       [  9,   6,   2, ..., 230, 252, 142]], dtype=uint8), array([[  8, 114, 105, ...,  24,  24,   6],\n       [ 22, 186, 190, ...,  40,  40,  21],\n       [  6, 195, 188, ...,  39,  39,  21],\n       ...,\n       [  0,   0,   0, ...,   0,   0,   0],\n       [  0,   0,   0, ...,   0,   0,   0],\n       [  0,   0,   0, ...,   0,   0,   0]], dtype=uint8), array([[0, 0, 3, ..., 4, 4, 4],\n       [0, 2, 4, ..., 6, 6, 6],\n       [0, 3, 4, ..., 8, 8, 8],\n       ...,\n       [2, 3, 4, ..., 9, 4, 4],\n       [0, 2, 3, ..., 8, 6, 6],\n       [0, 0, 2, ..., 0, 0, 2]], dtype=uint8), array([[154, 134, 114, ..., 171, 174, 172],\n       [153, 132, 114, ..., 172, 176, 172],\n       [150, 129, 111, ..., 177, 178, 174],\n       ...,\n       [142, 142, 144, ..., 192, 196, 200],\n       [146, 146, 147, ..., 195, 201, 206],\n       [150, 150, 152, ..., 195, 202, 208]], dtype=uint8), array([[123, 102,  84, ...,  18,  12,   3],\n       [ 99,  80,  63, ...,  14,   8,   0],\n       [ 74,  57,  44, ...,   9,   4,   0],\n       ...,\n       [ 48,  40,  33, ...,   8,   4,   0],\n       [ 50,  42,  34, ...,   8,   4,   0],\n       [ 50,  44,  34, ...,   8,   4,   0]], dtype=uint8), array([[ 38,  30,  21, ...,  24,  27,  12],\n       [ 38,  30,  21, ...,  22,  26,  12],\n       [ 38,  30,  21, ...,  22,  26,  12],\n       ...,\n       [ 32,  28,  27, ..., 219, 255, 182],\n       [ 38,  34,  33, ..., 222, 255, 186],\n       [ 46,  44,  40, ..., 224, 255, 189]], dtype=uint8), array([[104,  94,  84, ..., 255, 255, 228],\n       [ 70,  63,  52, ..., 255, 255, 218],\n       [ 50,  44,  34, ..., 255, 255, 198],\n       ...,\n       [  0,   0,   0, ...,   9,   4,   0],\n       [  0,   0,   0, ...,   9,   6,   0],\n       [  0,   0,   0, ...,   9,   6,   0]], dtype=uint8), array([[255, 255, 255, ..., 255, 255, 246],\n       [255, 255, 255, ..., 255, 255, 238],\n       [255, 255, 255, ..., 255, 255, 236],\n       ...,\n       [ 24,  24,  22, ...,  24,  15,   0],\n       [ 24,  24,  22, ...,  24,  15,   0],\n       [ 24,  24,  22, ...,  24,  15,   0]], dtype=uint8), array([[255, 255, 255, ...,   6,   4,   2],\n       [255, 255, 255, ...,   3,   2,   0],\n       [255, 255, 255, ...,   0,   0,   0],\n       ...,\n       [ 75,  60,  48, ...,   0,   0,   0],\n       [ 76,  63,  51, ...,   0,   0,   0],\n       [ 78,  64,  52, ...,   0,   0,   0]], dtype=uint8), array([[  4,   4,   4, ..., 116, 140, 102],\n       [  4,   4,   4, ...,  92, 114,  78],\n       [  4,   4,   4, ...,  70,  90,  56],\n       ...,\n       [ 46,  42,  44, ..., 246, 255, 171],\n       [ 50,  46,  48, ..., 246, 255, 172],\n       [ 54,  51,  51, ..., 246, 255, 178]], dtype=uint8), array([[  2,   2,   2, ...,   2,   0,   0],\n       [  2,   2,   2, ...,   2,   2,   2],\n       [  2,   2,   2, ...,   3,   2,   2],\n       ...,\n       [111, 192, 188, ...,   9,   8,   6],\n       [120, 192, 180, ...,   8,   6,   4],\n       [ 46, 106,  86, ...,   6,   4,   3]], dtype=uint8), array([[  2,   2,   2, ...,   2,   0,   0],\n       [  2,   2,   2, ...,   2,   2,   2],\n       [  2,   2,   2, ...,   3,   2,   2],\n       ...,\n       [111, 192, 188, ...,   9,   8,   6],\n       [120, 192, 180, ...,   8,   6,   4],\n       [ 46, 106,  86, ...,   6,   4,   3]], dtype=uint8), array([[ 0,  0,  0, ...,  4,  3,  2],\n       [ 0,  0,  0, ...,  6,  4,  3],\n       [ 0,  0,  0, ...,  8,  6,  4],\n       ...,\n       [ 0,  0,  0, ..., 14, 12, 10],\n       [ 0,  0,  0, ..., 14, 12, 10],\n       [ 0,  0,  0, ...,  9,  8,  4]], dtype=uint8), array([[  9,  32,  22, ...,  26,  26,   8],\n       [ 28,  51,  44, ...,  50,  48,  27],\n       [ 30,  54,  46, ...,  56,  52,  32],\n       ...,\n       [ 99, 186, 182, ...,  38,  36,  22],\n       [111, 188, 178, ...,  38,  39,  26],\n       [ 45, 102,  81, ...,  20,  21,  10]], dtype=uint8), array([[  2,   2,   2, ...,  14,  16,   3],\n       [  2,   2,   2, ...,  24,  26,  14],\n       [  2,   2,   2, ...,  21,  22,  10],\n       ...,\n       [  2,   2,   2, ..., 255, 255, 170],\n       [  2,   2,   2, ..., 255, 255, 190],\n       [  2,   2,   2, ..., 201, 222, 100]], dtype=uint8), array([[ 0,  2,  3, ...,  2,  2,  2],\n       [ 0,  2,  3, ...,  3,  3,  3],\n       [ 0,  2,  3, ...,  3,  3,  3],\n       ...,\n       [ 0,  6, 20, ...,  6,  6,  8],\n       [ 2,  3, 12, ...,  4,  4,  4],\n       [ 0,  0,  2, ...,  0,  0,  0]], dtype=uint8), array([[  2,   3,   4, ...,  26,  28,  14],\n       [  3,   4,   6, ...,  51,  54,  39],\n       [  4,   6,   8, ...,  46,  50,  33],\n       ...,\n       [ 69, 117, 112, ..., 102, 106,  58],\n       [ 70, 116, 108, ...,  94, 102,  58],\n       [ 22,  64,  54, ...,  45,  57,  18]], dtype=uint8), array([[  2,   3,   4, ...,  26,  28,  14],\n       [  3,   4,   6, ...,  51,  54,  39],\n       [  4,   6,   8, ...,  46,  50,  33],\n       ...,\n       [ 69, 117, 112, ..., 102, 106,  58],\n       [ 70, 116, 108, ...,  94, 102,  58],\n       [ 22,  64,  54, ...,  45,  57,  18]], dtype=uint8), array([[ 75,  68,  60, ..., 255, 255, 207],\n       [ 74,  66,  58, ..., 255, 255, 202],\n       [ 74,  66,  58, ..., 255, 255, 194],\n       ...,\n       [255, 255, 255, ..., 255, 255, 204],\n       [255, 255, 255, ..., 255, 255, 204],\n       [255, 255, 255, ..., 255, 255, 204]], dtype=uint8), array([[  0,   0,   0, ...,   0,   0,   0],\n       [  0,   0,   0, ...,   0,   0,   0],\n       [  0,   0,   0, ...,   0,   0,   0],\n       ...,\n       [122, 118, 117, ...,   0,   0,   0],\n       [128, 124, 123, ...,   0,   0,   0],\n       [135, 134, 130, ...,   0,   0,   0]], dtype=uint8), array([[ 36,  32,  27, ..., 208, 208, 207],\n       [ 36,  32,  27, ..., 182, 184, 184],\n       [ 34,  32,  27, ..., 164, 168, 171],\n       ...,\n       [ 26,  24,  24, ..., 177, 184, 194],\n       [ 28,  28,  27, ..., 177, 186, 195],\n       [ 32,  30,  28, ..., 177, 186, 196]], dtype=uint8), array([[12, 12, 12, ..., 60, 70, 46],\n       [12, 12, 12, ..., 58, 69, 45],\n       [12, 12, 12, ..., 57, 69, 44],\n       ...,\n       [18, 18, 20, ..., 80, 87, 52],\n       [21, 21, 21, ..., 84, 92, 57],\n       [22, 22, 22, ..., 90, 98, 63]], dtype=uint8), array([[  0,  21,  66, ...,   4,   4,   4],\n       [  0,  44, 120, ...,   6,   6,   6],\n       [  0,  46, 142, ...,   8,   8,   8],\n       ...,\n       [  0,  52, 160, ...,  60,  60,  60],\n       [  2,  44, 117, ...,  46,  46,  46],\n       [  0,   0,   4, ...,   0,   2,   2]], dtype=uint8), array([[  0,   2,   2, ...,   2,   2,   3],\n       [  2,   6,   2, ...,   0,   0,   0],\n       [  2,   3,   0, ...,   4,   3,   3],\n       ...,\n       [171, 255, 255, ...,  80,  88,  52],\n       [204, 255, 255, ...,  86,  96,  63],\n       [ 94, 168, 132, ...,  42,  57,  26]], dtype=uint8), array([[  9,   9,   9, ..., 152, 176, 117],\n       [  9,   9,   9, ..., 141, 168, 111],\n       [  9,   9,   9, ..., 135, 164, 106],\n       ...,\n       [  9,   9,   9, ...,  15,  10,   0],\n       [  9,   9,   9, ...,  16,  10,   0],\n       [  9,   9,   9, ...,  20,  15,   3]], dtype=uint8), array([[255, 255, 255, ..., 255, 255, 190],\n       [255, 255, 255, ..., 255, 255, 194],\n       [255, 255, 255, ..., 255, 255, 192],\n       ...,\n       [141, 130, 120, ...,  15,   9,   0],\n       [140, 130, 122, ...,  15,   9,   0],\n       [140, 130, 123, ...,  15,   9,   0]], dtype=uint8), array([[  6,  18,  16, ...,   4,   9,   4],\n       [ 20,  32,  30, ...,  12,  15,   6],\n       [ 16,  28,  27, ...,  14,  16,   4],\n       ...,\n       [ 84, 150, 152, ...,   4,   4,   3],\n       [ 98, 154, 152, ...,   3,   3,   3],\n       [ 38,  86,  72, ...,   3,   2,   2]], dtype=uint8), array([[  0,   9,  15, ...,  60,  64,  54],\n       [  0,   9,  15, ...,  70,  75,  64],\n       [  0,   9,  15, ...,  66,  68,  57],\n       ...,\n       [  2,  81, 129, ..., 171, 174, 177],\n       [  2,  57,  98, ..., 122, 124, 126],\n       [  0,   2,   3, ...,   0,   0,   0]], dtype=uint8), array([[  0,   9,  15, ...,  60,  64,  54],\n       [  0,   9,  15, ...,  70,  75,  64],\n       [  0,   9,  15, ...,  66,  68,  57],\n       ...,\n       [  2,  81, 129, ..., 171, 174, 177],\n       [  2,  57,  98, ..., 122, 124, 126],\n       [  0,   2,   3, ...,   0,   0,   0]], dtype=uint8), array([[ 66,  64,  63, ..., 255, 255, 255],\n       [ 68,  68,  66, ..., 255, 255, 255],\n       [ 69,  68,  66, ..., 246, 250, 254],\n       ...,\n       [ 62,  62,  60, ..., 255, 255, 255],\n       [ 63,  63,  62, ..., 255, 255, 255],\n       [ 64,  64,  63, ..., 255, 255, 255]], dtype=uint8), array([[140, 122, 104, ..., 140, 141,  92],\n       [111,  93,  78, ...,  99, 100,  56],\n       [ 84,  69,  56, ...,  69,  72,  34],\n       ...,\n       [  0,   0,   0, ...,  87,  86,  46],\n       [  0,   0,   0, ...,  87,  88,  50],\n       [  0,   0,   0, ...,  92,  92,  52]], dtype=uint8), array([[3, 4, 6, ..., 4, 3, 0],\n       [6, 6, 8, ..., 6, 6, 3],\n       [6, 8, 9, ..., 8, 6, 4],\n       ...,\n       [6, 4, 8, ..., 4, 4, 3],\n       [4, 3, 4, ..., 3, 3, 3],\n       [0, 3, 3, ..., 3, 2, 2]], dtype=uint8), array([[255, 255, 255, ..., 255, 255, 250],\n       [255, 255, 255, ..., 255, 255, 248],\n       [255, 255, 255, ..., 255, 255, 248],\n       ...,\n       [ 32,  32,  32, ..., 255, 255, 176],\n       [ 32,  32,  32, ..., 255, 255, 174],\n       [ 32,  32,  32, ..., 255, 255, 180]], dtype=uint8), array([[146, 124,  90, ..., 255, 255, 248],\n       [158, 135, 106, ..., 255, 255, 242],\n       [164, 142, 123, ..., 255, 255, 232],\n       ...,\n       [255, 255, 255, ..., 224, 243, 156],\n       [255, 255, 255, ..., 224, 243, 154],\n       [255, 255, 255, ..., 219, 238, 152]], dtype=uint8), array([[ 24,  50,  34, ...,   2,   0,   0],\n       [ 57,  87,  78, ...,   2,   2,   2],\n       [ 44,  80,  75, ...,   3,   2,   2],\n       ...,\n       [186, 255, 255, ..., 255, 255, 186],\n       [206, 255, 255, ..., 255, 255, 207],\n       [ 92, 177, 154, ..., 154, 177,  93]], dtype=uint8), array([[226, 224, 220, ..., 236, 246, 156],\n       [218, 219, 218, ..., 234, 244, 153],\n       [210, 213, 214, ..., 231, 242, 152],\n       ...,\n       [ 12,  12,  12, ..., 231, 249, 152],\n       [ 12,  12,  12, ..., 243, 255, 165],\n       [ 12,  12,  12, ..., 252, 255, 176]], dtype=uint8), array([[  2,   2,   2, ...,   2,   2,   2],\n       [  2,   2,   2, ...,   2,   2,   2],\n       [  2,   2,   2, ...,   2,   2,   2],\n       ...,\n       [148, 255, 255, ...,   2,   2,   2],\n       [166, 255, 255, ...,   2,   2,   2],\n       [ 72, 140, 123, ...,   2,   2,   2]], dtype=uint8), array([[0, 0, 0, ..., 4, 4, 4],\n       [0, 0, 0, ..., 8, 6, 6],\n       [0, 0, 0, ..., 8, 8, 8],\n       ...,\n       [0, 0, 0, ..., 0, 0, 0],\n       [0, 0, 0, ..., 0, 0, 0],\n       [0, 0, 0, ..., 0, 0, 0]], dtype=uint8), array([[ 32,  27,  21, ..., 250, 255, 168],\n       [ 26,  21,  15, ..., 210, 225, 138],\n       [ 18,  15,  10, ..., 172, 188, 112],\n       ...,\n       [ 12,  10,  10, ...,  57,  68,  40],\n       [ 15,  14,  14, ...,  58,  70,  44],\n       [ 18,  18,  16, ...,  60,  72,  45]], dtype=uint8), array([[ 0,  0,  0, ...,  0,  0,  0],\n       [ 0,  0,  0, ...,  0,  0,  0],\n       [ 0,  0,  0, ...,  0,  0,  0],\n       ...,\n       [ 0,  0,  0, ...,  6,  0,  0],\n       [ 0,  0,  0, ...,  3,  0, 10],\n       [ 0,  0,  0, ...,  0, 10, 60]], dtype=uint8), array([[154, 156, 154, ..., 116, 116,  68],\n       [147, 150, 147, ..., 110, 110,  63],\n       [144, 144, 142, ..., 102, 100,  56],\n       ...,\n       [174, 160, 150, ...,   6,   4,   0],\n       [176, 160, 150, ...,   8,   4,   2],\n       [178, 165, 153, ...,   9,   6,   2]], dtype=uint8), array([[154, 156, 154, ..., 116, 116,  68],\n       [147, 150, 147, ..., 110, 110,  63],\n       [144, 144, 142, ..., 102, 100,  56],\n       ...,\n       [174, 160, 150, ...,   6,   4,   0],\n       [176, 160, 150, ...,   8,   4,   2],\n       [178, 165, 153, ...,   9,   6,   2]], dtype=uint8), array([[255, 255, 255, ...,   6,   4,   2],\n       [255, 255, 255, ...,   6,   4,   2],\n       [255, 255, 255, ...,   6,   4,   2],\n       ...,\n       [255, 255, 255, ...,   6,   4,   2],\n       [255, 255, 255, ...,   6,   4,   2],\n       [255, 255, 255, ...,   6,   4,   2]], dtype=uint8), array([[ 74,  63,  56, ..., 122, 142,  93],\n       [ 72,  62,  54, ..., 102, 123,  75],\n       [ 70,  60,  54, ...,  82, 100,  58],\n       ...,\n       [255, 255, 255, ..., 255, 255, 254],\n       [255, 255, 255, ..., 255, 255, 254],\n       [255, 255, 255, ..., 255, 255, 252]], dtype=uint8), array([[  0,   0,   0, ...,   0,   0,   0],\n       [  0,   0,   0, ...,   0,   2,   2],\n       [  0,   0,   0, ...,  90,  90,  90],\n       ...,\n       [141, 122, 102, ...,   0,   0,   0],\n       [140, 120, 100, ...,   0,   0,   2],\n       [138, 118,  99, ...,   4,   0,   0]], dtype=uint8), array([[ 50,  40,  34, ..., 122, 129, 138],\n       [ 48,  39,  33, ...,  94, 104, 111],\n       [ 48,  38,  33, ...,  75,  82,  88],\n       ...,\n       [  0,   0,   0, ..., 150, 159, 170],\n       [  0,   0,   0, ..., 154, 162, 174],\n       [  0,   0,   0, ..., 156, 166, 178]], dtype=uint8), array([[ 10,  10,  10, ...,  56,  72,  42],\n       [ 10,  10,  10, ...,  56,  72,  44],\n       [ 10,  10,  10, ...,  56,  72,  44],\n       ...,\n       [ 21,  20,  16, ...,  99, 110,  68],\n       [ 26,  22,  21, ..., 104, 116,  75],\n       [ 28,  27,  24, ..., 111, 124,  84]], dtype=uint8), array([[ 42,  44,  44, ..., 255, 255, 255],\n       [ 42,  42,  44, ..., 255, 255, 255],\n       [ 40,  42,  42, ..., 255, 255, 236],\n       ...,\n       [ 38,  38,  38, ...,  22,  22,  20],\n       [ 38,  38,  38, ...,  24,  22,  20],\n       [ 38,  38,  39, ...,  24,  22,  20]], dtype=uint8), array([[255, 255, 255, ...,  20,  12,   2],\n       [255, 255, 255, ...,  15,   9,   0],\n       [255, 255, 255, ...,   8,   4,   0],\n       ...,\n       [144, 130, 117, ...,  21,  12,   0],\n       [148, 134, 122, ...,  24,  14,   2],\n       [150, 135, 123, ...,  26,  15,   2]], dtype=uint8), array([[  4,   0,   0, ...,   2,   3,   2],\n       [  2,  26,  21, ...,   4,   6,   4],\n       [126, 192, 189, ...,  20,  21,  16],\n       ...,\n       [188, 255, 255, ...,  38,  40,  24],\n       [216, 255, 255, ...,  39,  44,  28],\n       [ 96, 189, 154, ...,  22,  27,  14]], dtype=uint8), array([[0, 0, 2, ..., 2, 2, 0],\n       [2, 2, 2, ..., 2, 2, 2],\n       [2, 2, 3, ..., 3, 3, 3],\n       ...,\n       [3, 3, 3, ..., 2, 2, 2],\n       [3, 3, 3, ..., 2, 2, 2],\n       [2, 2, 2, ..., 2, 2, 2]], dtype=uint8), array([[  0,   0,   0, ...,  98,  93,  52],\n       [  0,   0,   0, ...,  90,  86,  45],\n       [  0,   0,   0, ...,  86,  81,  42],\n       ...,\n       [  0,   0,   0, ..., 255, 255, 244],\n       [  0,   0,   0, ..., 255, 255, 246],\n       [  0,   0,   0, ..., 255, 255, 244]], dtype=uint8), array([[  3,   4,   6, ..., 132, 140,  70],\n       [  4,   6,   8, ..., 255, 255, 164],\n       [  6,   8,   9, ..., 231, 246, 132],\n       ...,\n       [110, 198, 194, ...,  88,  94,  54],\n       [130, 207, 198, ...,  87,  94,  58],\n       [ 45, 110,  94, ...,  40,  51,  18]], dtype=uint8), array([[ 39,  34,  30, ..., 200, 196, 194],\n       [ 27,  22,  16, ..., 200, 195, 192],\n       [ 15,  10,   6, ..., 196, 192, 188],\n       ...,\n       [117, 118, 118, ..., 212, 219, 225],\n       [120, 120, 122, ..., 213, 219, 226],\n       [118, 118, 122, ..., 213, 220, 228]], dtype=uint8), array([[ 2,  2,  2, ...,  2,  2,  2],\n       [ 2,  2,  2, ...,  2,  2,  2],\n       [ 2,  2,  2, ...,  2,  2,  2],\n       ...,\n       [15, 27, 27, ..., 24, 27, 16],\n       [15, 28, 27, ..., 22, 27, 16],\n       [ 6, 18, 18, ..., 16, 21, 12]], dtype=uint8), array([[ 50, 110,  88, ..., 117, 136,  62],\n       [129, 200, 184, ..., 242, 252, 162],\n       [105, 182, 172, ..., 231, 240, 141],\n       ...,\n       [136, 246, 242, ...,  32,  33,  20],\n       [152, 244, 238, ...,  28,  30,  18],\n       [ 60, 134, 117, ...,  14,  15,   3]], dtype=uint8), array([[  2,   3,   0, ...,   0,   0,   0],\n       [  0,   0,   0, ...,   0,   0,   0],\n       [  0,   3,   0, ...,   0,   0,   0],\n       ...,\n       [136, 255, 255, ...,   0,   0,   0],\n       [156, 255, 255, ...,   0,   0,   0],\n       [ 63, 136, 118, ...,   0,   0,   0]], dtype=uint8), array([[  3,  12,  12, ...,  27,  36,   0],\n       [ 10,  18,  18, ...,  50,  56,   8],\n       [ 12,  20,  21, ...,  56,  58,   3],\n       ...,\n       [184, 255, 255, ..., 255, 255,  14],\n       [198, 255, 255, ..., 255, 255,  32],\n       [102, 240, 219, ..., 210, 210,  15]], dtype=uint8), array([[ 33,  32,  28, ..., 188, 213, 130],\n       [ 27,  24,  22, ..., 170, 198, 122],\n       [ 20,  18,  16, ..., 148, 180, 112],\n       ...,\n       [  0,   0,   0, ...,  62,  56,  26],\n       [  0,   0,   0, ...,  64,  58,  28],\n       [  0,   0,   0, ...,  68,  62,  32]], dtype=uint8), array([[  0,   3,   9, ...,   9,   9,   9],\n       [  0,   8,  14, ...,  14,  14,  14],\n       [  0,   8,  14, ...,  14,  14,  14],\n       ...,\n       [  0,  48, 156, ...,   6,   8,   8],\n       [  0,  28,  96, ...,   4,   4,   6],\n       [  6,   0,   3, ...,   0,   0,   0]], dtype=uint8), array([[255, 255, 255, ...,  12,   8,   2],\n       [255, 255, 255, ...,  12,   6,   0],\n       [255, 255, 255, ...,  10,   6,   0],\n       ...,\n       [255, 255, 255, ...,  10,   6,   0],\n       [255, 255, 255, ...,  10,   6,   0],\n       [255, 255, 255, ...,  10,   6,   0]], dtype=uint8), array([[255, 255, 255, ...,  12,   8,   2],\n       [255, 255, 255, ...,  12,   6,   0],\n       [255, 255, 255, ...,  10,   6,   0],\n       ...,\n       [255, 255, 255, ...,  10,   6,   0],\n       [255, 255, 255, ...,  10,   6,   0],\n       [255, 255, 255, ...,  10,   6,   0]], dtype=uint8), array([[  2,   2,   2, ..., 144, 176,  98],\n       [  2,   2,   2, ..., 255, 255, 214],\n       [  2,   2,   2, ..., 255, 255, 184],\n       ...,\n       [  2,   2,   2, ..., 255, 255, 198],\n       [  2,   2,   2, ..., 255, 255, 201],\n       [  2,   2,   2, ...,  22,  24,  16]], dtype=uint8), array([[ 2,  6,  9, ...,  8,  8,  8],\n       [ 2,  6,  9, ...,  8,  8,  8],\n       [ 2,  6,  9, ...,  8,  8,  8],\n       ...,\n       [ 0, 45, 70, ..., 51, 52, 52],\n       [ 4, 32, 46, ..., 36, 38, 38],\n       [ 0,  3,  2, ...,  0,  0,  0]], dtype=uint8), array([[  4,   4,   4, ..., 242, 250, 156],\n       [  4,   4,   4, ..., 240, 249, 154],\n       [  4,   4,   4, ..., 236, 244, 152],\n       ...,\n       [  6,   6,   6, ..., 246, 255, 162],\n       [  6,   6,   6, ..., 249, 255, 164],\n       [  6,   6,   6, ..., 248, 255, 165]], dtype=uint8), array([[  8,   8,   6, ...,   6,   3,   0],\n       [  8,   8,   6, ...,   6,   3,   0],\n       [  8,   8,   6, ...,   6,   3,   0],\n       ...,\n       [255, 255, 255, ..., 148, 156,  93],\n       [255, 255, 255, ..., 171, 178, 110],\n       [255, 255, 255, ..., 201, 208, 135]], dtype=uint8), array([[ 18,  32,  26, ...,  24,  27,  18],\n       [219, 255, 255, ..., 255, 255, 220],\n       [228, 255, 255, ..., 255, 255, 206],\n       ...,\n       [ 72, 120, 111, ...,  70,  69,  42],\n       [ 74, 120, 108, ...,  63,  66,  42],\n       [ 27,  70,  56, ...,  32,  39,  18]], dtype=uint8), array([[106,  87,  70, ..., 246, 255, 172],\n       [ 84,  68,  52, ..., 212, 238, 153],\n       [ 64,  50,  36, ..., 184, 214, 144],\n       ...,\n       [132, 128, 123, ...,  63,  86,  56],\n       [136, 132, 130, ...,  63,  86,  56],\n       [140, 136, 135, ...,  63,  86,  54]], dtype=uint8), array([[  0,   0,   0, ..., 237, 246, 206],\n       [  0,   0,   0, ..., 255, 255, 255],\n       [  0,   0,   0, ..., 255, 255, 255],\n       ...,\n       [  0,   0,   0, ...,   6,   6,   6],\n       [  0,   0,   0, ...,   4,   4,   4],\n       [  0,   0,   0, ...,   0,   0,   0]], dtype=uint8), array([[34, 30, 24, ..., 32, 22,  9],\n       [28, 24, 20, ..., 24, 15,  2],\n       [22, 18, 14, ..., 18, 10,  0],\n       ...,\n       [20, 20, 18, ..., 33, 27, 10],\n       [22, 21, 21, ..., 34, 30, 12],\n       [24, 22, 22, ..., 38, 32, 15]], dtype=uint8), array([[  0,   2,   3, ...,   2,   2,   2],\n       [  0,   2,   3, ...,   3,   3,   3],\n       [  0,   2,   3, ...,   3,   3,   3],\n       ...,\n       [  0,  32, 112, ..., 250, 246, 243],\n       [  4,  30,  99, ..., 194, 192, 192],\n       [  6,   0,  12, ...,   0,   0,   2]], dtype=uint8), array([[ 6, 14, 15, ..., 16, 10,  0],\n       [12, 21, 21, ..., 24, 16,  3],\n       [14, 22, 22, ..., 24, 18,  3],\n       ...,\n       [12, 18, 21, ..., 16, 10,  0],\n       [14, 16, 20, ..., 16, 14,  4],\n       [ 0,  2,  3, ...,  3,  3,  0]], dtype=uint8), array([[156, 135, 117, ...,   9,   3,   0],\n       [156, 135, 116, ...,   9,   3,   0],\n       [154, 134, 114, ...,   9,   3,   0],\n       ...,\n       [180, 171, 164, ...,  56,  39,  15],\n       [192, 182, 174, ...,  64,  48,  21],\n       [206, 194, 186, ...,  72,  54,  27]], dtype=uint8), array([[2, 2, 2, ..., 2, 2, 0],\n       [2, 2, 2, ..., 2, 3, 3],\n       [2, 2, 2, ..., 0, 3, 3],\n       ...,\n       [2, 2, 2, ..., 0, 0, 4],\n       [2, 2, 2, ..., 0, 0, 8],\n       [2, 2, 2, ..., 0, 8, 0]], dtype=uint8), array([[2, 2, 2, ..., 2, 2, 0],\n       [2, 2, 2, ..., 2, 3, 3],\n       [2, 2, 2, ..., 0, 3, 3],\n       ...,\n       [2, 2, 2, ..., 0, 0, 4],\n       [2, 2, 2, ..., 0, 0, 8],\n       [2, 2, 2, ..., 0, 8, 0]], dtype=uint8), array([[  6,   6,   6, ..., 255, 255, 212],\n       [  6,   6,   6, ..., 255, 255, 208],\n       [  6,   6,   6, ..., 255, 255, 204],\n       ...,\n       [ 20,  20,  20, ..., 255, 255, 207],\n       [ 22,  22,  22, ..., 255, 255, 210],\n       [ 26,  26,  26, ..., 255, 255, 210]], dtype=uint8), array([[255, 255, 255, ..., 255, 255, 206],\n       [255, 255, 255, ..., 255, 255, 201],\n       [255, 255, 255, ..., 255, 255, 196],\n       ...,\n       [132, 126, 106, ..., 255, 255, 219],\n       [128, 124, 106, ..., 255, 255, 222],\n       [123, 123, 105, ..., 255, 255, 222]], dtype=uint8), array([[200, 201, 201, ..., 255, 255, 255],\n       [204, 204, 204, ..., 255, 255, 255],\n       [204, 206, 206, ..., 255, 255, 255],\n       ...,\n       [255, 255, 255, ..., 255, 255, 255],\n       [255, 255, 255, ..., 255, 255, 255],\n       [255, 255, 255, ..., 255, 255, 255]], dtype=uint8), array([[ 39,  84,  70, ...,  12,   8,   2],\n       [ 93, 150, 146, ...,  26,  18,  10],\n       [ 86, 152, 153, ...,  20,  15,  10],\n       ...,\n       [126, 216, 216, ...,  20,  18,  12],\n       [134, 214, 214, ...,  18,  16,  10],\n       [ 56, 116, 100, ...,  10,  10,   4]], dtype=uint8), array([[  3,   3,   4, ...,   8,   9,   4],\n       [  8,   8,   9, ...,  12,  14,   9],\n       [  8,   9,  10, ...,  12,  14,   9],\n       ...,\n       [164, 255, 255, ..., 255, 255, 162],\n       [198, 255, 255, ..., 255, 255, 183],\n       [ 87, 165, 152, ..., 134, 158,  78]], dtype=uint8), array([[  3,   3,   4, ...,   8,   9,   4],\n       [  8,   8,   9, ...,  12,  14,   9],\n       [  8,   9,  10, ...,  12,  14,   9],\n       ...,\n       [164, 255, 255, ..., 255, 255, 162],\n       [198, 255, 255, ..., 255, 255, 183],\n       [ 87, 165, 152, ..., 134, 158,  78]], dtype=uint8), array([[  0,   3,   4, ...,   3,   2,   2],\n       [  2,   4,   4, ...,   4,   3,   2],\n       [  2,   4,   6, ...,   4,   4,   3],\n       ...,\n       [ 45,  99, 104, ..., 255, 255, 135],\n       [ 56, 105, 106, ..., 255, 255, 166],\n       [ 22,  68,  64, ..., 170, 190,  76]], dtype=uint8), array([[  9,  27,  20, ...,  18,  22,   8],\n       [ 28,  48,  42, ...,  38,  39,  22],\n       [ 30,  51,  46, ...,  39,  39,  21],\n       ...,\n       [ 93, 180, 190, ...,  22,  21,  15],\n       [112, 188, 192, ...,  20,  20,  12],\n       [ 42,  98,  88, ...,  12,  12,   4]], dtype=uint8), array([[ 0,  0,  2, ...,  4,  3,  2],\n       [ 2,  2,  2, ...,  6,  4,  4],\n       [ 2,  2,  3, ...,  8,  6,  4],\n       ...,\n       [ 3,  6,  9, ..., 10, 10,  8],\n       [ 4,  8,  9, ...,  9,  8,  6],\n       [ 3,  6,  6, ...,  6,  4,  3]], dtype=uint8), array([[255, 255, 255, ..., 255, 255, 232],\n       [255, 255, 255, ..., 255, 255, 230],\n       [255, 255, 255, ..., 255, 255, 224],\n       ...,\n       [ 26,  26,  24, ...,  21,  14,   0],\n       [ 26,  26,  24, ...,  21,  14,   0],\n       [ 26,  26,  24, ...,  21,  14,   0]], dtype=uint8), array([[134, 135, 135, ..., 159, 159, 160],\n       [138, 138, 138, ..., 152, 152, 153],\n       [135, 135, 134, ..., 136, 136, 138],\n       ...,\n       [ 88,  87,  87, ...,  98,  98,  99],\n       [ 90,  90,  88, ...,  98,  98,  99],\n       [ 92,  92,  90, ...,  98,  98,  99]], dtype=uint8), array([[  2,   0,   0, ...,   0,   0,   0],\n       [  2,   0,   0, ...,   0,   0,   0],\n       [  0,   0,   0, ...,   0,   0,   0],\n       ...,\n       [  0,  40, 135, ...,   0,   0,   0],\n       [  0,  36, 114, ...,   0,   0,   0],\n       [  6,   0,   3, ...,   0,   0,   0]], dtype=uint8), array([[  2,   4,   6, ...,   0,   0,   0],\n       [  6,   9,  10, ...,   0,   0,   0],\n       [  8,  10,  12, ...,   0,   0,   0],\n       ...,\n       [165, 255, 255, ...,   0,   0,   0],\n       [188, 255, 255, ...,   0,   0,   0],\n       [ 78, 162, 141, ...,   0,   0,   0]], dtype=uint8)] - got shape [100, 1024, 1024], but wanted [100]."
          ]
        }
      ]
    },
    {
      "cell_type": "code",
      "metadata": {
        "id": "3X_DkfVBAgSA",
        "colab_type": "code",
        "colab": {
          "base_uri": "https://localhost:8080/",
          "height": 166
        },
        "outputId": "030175f7-5dcd-4117-e72b-26b44bc5e3f1"
      },
      "source": [
        "federated_train_data"
      ],
      "execution_count": 24,
      "outputs": [
        {
          "output_type": "error",
          "ename": "NameError",
          "evalue": "ignored",
          "traceback": [
            "\u001b[0;31m---------------------------------------------------------------------------\u001b[0m",
            "\u001b[0;31mNameError\u001b[0m                                 Traceback (most recent call last)",
            "\u001b[0;32m<ipython-input-24-b395ba8be62a>\u001b[0m in \u001b[0;36m<module>\u001b[0;34m()\u001b[0m\n\u001b[0;32m----> 1\u001b[0;31m \u001b[0mfederated_train_data\u001b[0m\u001b[0;34m\u001b[0m\u001b[0;34m\u001b[0m\u001b[0m\n\u001b[0m",
            "\u001b[0;31mNameError\u001b[0m: name 'federated_train_data' is not defined"
          ]
        }
      ]
    },
    {
      "cell_type": "code",
      "metadata": {
        "id": "rclzZ54rYkMr",
        "colab_type": "code",
        "colab": {}
      },
      "source": [
        "import numpy as np"
      ],
      "execution_count": 0,
      "outputs": []
    },
    {
      "cell_type": "code",
      "metadata": {
        "id": "64y3A4G3YXRD",
        "colab_type": "code",
        "colab": {}
      },
      "source": [
        "dicom = np.array(dicom)\n",
        "label = np.array(label,dtype=np.int16)"
      ],
      "execution_count": 0,
      "outputs": []
    },
    {
      "cell_type": "code",
      "metadata": {
        "id": "z7o-AexCY_PU",
        "colab_type": "code",
        "outputId": "ea5ec3e0-361d-441e-fd18-e47ab074bce7",
        "colab": {
          "base_uri": "https://localhost:8080/",
          "height": 52
        }
      },
      "source": [
        "print(len(dicom))\n",
        "print(len(label))"
      ],
      "execution_count": 0,
      "outputs": [
        {
          "output_type": "stream",
          "text": [
            "429\n",
            "429\n"
          ],
          "name": "stdout"
        }
      ]
    },
    {
      "cell_type": "code",
      "metadata": {
        "id": "xVcFAPdIYCCf",
        "colab_type": "code",
        "colab": {}
      },
      "source": [
        "##Preparing train/test data \n",
        "x_train,x_test,y_train,y_test=train_test_split(dicom,label,test_size=0.3)"
      ],
      "execution_count": 0,
      "outputs": []
    },
    {
      "cell_type": "code",
      "metadata": {
        "id": "HZt7uZzHaHa6",
        "colab_type": "code",
        "outputId": "57b0ee3b-ca95-4148-b90c-76c8e3cd42fe",
        "colab": {
          "base_uri": "https://localhost:8080/",
          "height": 87
        }
      },
      "source": [
        "print(np.shape(x_train))\n",
        "print(np.shape(y_train))\n",
        "print(np.shape(x_test))\n",
        "print(np.shape(y_test))\n"
      ],
      "execution_count": 0,
      "outputs": [
        {
          "output_type": "stream",
          "text": [
            "(300, 1024, 1024)\n",
            "(300,)\n",
            "(129, 1024, 1024)\n",
            "(129,)\n"
          ],
          "name": "stdout"
        }
      ]
    },
    {
      "cell_type": "code",
      "metadata": {
        "id": "Sd_uEryjQZZn",
        "colab_type": "code",
        "colab": {}
      },
      "source": [
        "import tensorflow as tf\n",
        "from sklearn.model_selection import train_test_split\n",
        "from tensorflow.keras.models import Sequential\n",
        "from tensorflow.keras.layers import Dense,Conv2D,Conv1D,Flatten"
      ],
      "execution_count": 0,
      "outputs": []
    },
    {
      "cell_type": "code",
      "metadata": {
        "id": "gZfB9dPacpzA",
        "colab_type": "code",
        "outputId": "0b78d7be-e67b-47a0-8020-3b20dbd814ce",
        "colab": {
          "base_uri": "https://localhost:8080/",
          "height": 35
        }
      },
      "source": [
        "tf.__version__"
      ],
      "execution_count": 0,
      "outputs": [
        {
          "output_type": "execute_result",
          "data": {
            "text/plain": [
              "'2.2.0-rc1'"
            ]
          },
          "metadata": {
            "tags": []
          },
          "execution_count": 83
        }
      ]
    },
    {
      "cell_type": "code",
      "metadata": {
        "id": "VgqSSHaleqt8",
        "colab_type": "code",
        "colab": {}
      },
      "source": [
        "model = Sequential()"
      ],
      "execution_count": 0,
      "outputs": []
    },
    {
      "cell_type": "code",
      "metadata": {
        "id": "H6j-7-x9fsQK",
        "colab_type": "code",
        "outputId": "c8e8f7eb-d929-4f2d-be40-f6c0008f2790",
        "colab": {
          "base_uri": "https://localhost:8080/",
          "height": 35
        }
      },
      "source": [
        "print(np.shape(x_train))"
      ],
      "execution_count": 0,
      "outputs": [
        {
          "output_type": "stream",
          "text": [
            "(300, 1024, 1024)\n"
          ],
          "name": "stdout"
        }
      ]
    },
    {
      "cell_type": "code",
      "metadata": {
        "id": "enc5hZEMWXN_",
        "colab_type": "code",
        "colab": {}
      },
      "source": [
        "#Conv Net for training \n",
        "\n",
        "model.add(Conv1D(64, kernel_size=6, activation='relu', input_shape=(1024,1024)))\n",
        "model.add(Conv1D(32, kernel_size=6, activation='relu'))\n",
        "model.add(Flatten())\n",
        "model.add(Dense(2, activation='softmax'))\n"
      ],
      "execution_count": 0,
      "outputs": []
    },
    {
      "cell_type": "code",
      "metadata": {
        "id": "xpoFuM_scTK3",
        "colab_type": "code",
        "colab": {}
      },
      "source": [
        "model.compile(optimizer='adam',loss='binary_crossentropy',metrics='accuracy')"
      ],
      "execution_count": 0,
      "outputs": []
    },
    {
      "cell_type": "code",
      "metadata": {
        "id": "alsAVqzRdapq",
        "colab_type": "code",
        "outputId": "319e8eab-f3cf-4840-a0a3-3129f1d33f36",
        "colab": {
          "base_uri": "https://localhost:8080/",
          "height": 295
        }
      },
      "source": [
        "model.summary()"
      ],
      "execution_count": 0,
      "outputs": [
        {
          "output_type": "stream",
          "text": [
            "Model: \"sequential_13\"\n",
            "_________________________________________________________________\n",
            "Layer (type)                 Output Shape              Param #   \n",
            "=================================================================\n",
            "conv1d_2 (Conv1D)            (None, 1019, 64)          393280    \n",
            "_________________________________________________________________\n",
            "conv1d_3 (Conv1D)            (None, 1014, 32)          12320     \n",
            "_________________________________________________________________\n",
            "flatten_7 (Flatten)          (None, 32448)             0         \n",
            "_________________________________________________________________\n",
            "dense_7 (Dense)              (None, 2)                 64898     \n",
            "=================================================================\n",
            "Total params: 470,498\n",
            "Trainable params: 470,498\n",
            "Non-trainable params: 0\n",
            "_________________________________________________________________\n"
          ],
          "name": "stdout"
        }
      ]
    },
    {
      "cell_type": "code",
      "metadata": {
        "id": "jvjknMZHdr_X",
        "colab_type": "code",
        "outputId": "89f5df2e-7c72-48e3-ba34-8a43538a7c7f",
        "colab": {
          "base_uri": "https://localhost:8080/",
          "height": 364
        }
      },
      "source": [
        "hist = model.fit(x_train, y_train, validation_split = 0.33, epochs = 10,verbose = 1, batch_size = 32, shuffle = True)"
      ],
      "execution_count": 0,
      "outputs": [
        {
          "output_type": "stream",
          "text": [
            "Epoch 1/10\n",
            "7/7 [==============================] - 12s 2s/step - loss: 7.6377 - accuracy: 0.7950 - val_loss: 7.6363 - val_accuracy: 0.8300\n",
            "Epoch 2/10\n",
            "7/7 [==============================] - 12s 2s/step - loss: 7.6427 - accuracy: 0.8000 - val_loss: 7.6363 - val_accuracy: 0.8300\n",
            "Epoch 3/10\n",
            "7/7 [==============================] - 12s 2s/step - loss: 7.6427 - accuracy: 0.8000 - val_loss: 7.6363 - val_accuracy: 0.8300\n",
            "Epoch 4/10\n",
            "7/7 [==============================] - 12s 2s/step - loss: 7.6415 - accuracy: 0.8000 - val_loss: 7.6363 - val_accuracy: 0.8300\n",
            "Epoch 5/10\n",
            "7/7 [==============================] - 12s 2s/step - loss: 7.6427 - accuracy: 0.8000 - val_loss: 7.6363 - val_accuracy: 0.8300\n",
            "Epoch 6/10\n",
            "7/7 [==============================] - 12s 2s/step - loss: 7.6415 - accuracy: 0.8000 - val_loss: 7.6363 - val_accuracy: 0.8300\n",
            "Epoch 7/10\n",
            "7/7 [==============================] - 12s 2s/step - loss: 7.6403 - accuracy: 0.8000 - val_loss: 7.6363 - val_accuracy: 0.8300\n",
            "Epoch 8/10\n",
            "7/7 [==============================] - 12s 2s/step - loss: 7.6415 - accuracy: 0.8000 - val_loss: 7.6363 - val_accuracy: 0.8300\n",
            "Epoch 9/10\n",
            "7/7 [==============================] - 12s 2s/step - loss: 7.6427 - accuracy: 0.8000 - val_loss: 7.6363 - val_accuracy: 0.8300\n",
            "Epoch 10/10\n",
            "7/7 [==============================] - 12s 2s/step - loss: 7.6438 - accuracy: 0.8000 - val_loss: 7.6363 - val_accuracy: 0.8300\n"
          ],
          "name": "stdout"
        }
      ]
    },
    {
      "cell_type": "code",
      "metadata": {
        "id": "NoonrMYwd6PT",
        "colab_type": "code",
        "outputId": "678a3d77-122e-4305-c9af-4fbb7c4ba19b",
        "colab": {
          "base_uri": "https://localhost:8080/",
          "height": 35
        }
      },
      "source": [
        "loss, acc = model.evaluate(x_test, y_test, verbose=0)\n",
        "print('Test Accuracy: %.3f' % acc)"
      ],
      "execution_count": 0,
      "outputs": [
        {
          "output_type": "stream",
          "text": [
            "Test Accuracy: 0.791\n"
          ],
          "name": "stdout"
        }
      ]
    },
    {
      "cell_type": "code",
      "metadata": {
        "id": "vInXavoki7QB",
        "colab_type": "code",
        "colab": {}
      },
      "source": [
        ""
      ],
      "execution_count": 0,
      "outputs": []
    }
  ]
}
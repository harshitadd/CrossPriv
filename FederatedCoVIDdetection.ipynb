{
  "nbformat": 4,
  "nbformat_minor": 0,
  "metadata": {
    "colab": {
      "name": "FederatedCoVIDdetection.ipynb",
      "provenance": [],
      "collapsed_sections": [],
      "include_colab_link": true
    },
    "kernelspec": {
      "name": "python3",
      "display_name": "Python 3"
    }
  },
  "cells": [
    {
      "cell_type": "markdown",
      "metadata": {
        "id": "view-in-github",
        "colab_type": "text"
      },
      "source": [
        "<a href=\"https://colab.research.google.com/github/harshitadd/FedBased_X-RayForCoVID/blob/master/FederatedCoVIDdetection.ipynb\" target=\"_parent\"><img src=\"https://colab.research.google.com/assets/colab-badge.svg\" alt=\"Open In Colab\"/></a>"
      ]
    },
    {
      "cell_type": "code",
      "metadata": {
        "id": "A6bD7JbBq0D6",
        "colab_type": "code",
        "outputId": "b8b196a9-30df-45e5-e621-39af68d04ad5",
        "colab": {
          "base_uri": "https://localhost:8080/",
          "height": 34
        }
      },
      "source": [
        "##Importing Mini Batch Data \n",
        "import os \n",
        "from google.colab import drive\n",
        "drive.mount('/content/drive')"
      ],
      "execution_count": 1,
      "outputs": [
        {
          "output_type": "stream",
          "text": [
            "Drive already mounted at /content/drive; to attempt to forcibly remount, call drive.mount(\"/content/drive\", force_remount=True).\n"
          ],
          "name": "stdout"
        }
      ]
    },
    {
      "cell_type": "code",
      "metadata": {
        "id": "9OVXoouw_Naw",
        "colab_type": "code",
        "colab": {}
      },
      "source": [
        "# %tensorflow_version 1.x\n",
        "import tensorflow as tf "
      ],
      "execution_count": 0,
      "outputs": []
    },
    {
      "cell_type": "code",
      "metadata": {
        "id": "PGCc2bqpi5mc",
        "colab_type": "code",
        "outputId": "6129a782-1599-472a-e17f-5021e940a84c",
        "colab": {
          "base_uri": "https://localhost:8080/",
          "height": 34
        }
      },
      "source": [
        "!pip install pydicom \n",
        "import pydicom \n",
        "import cv2\n",
        "import matplotlib.pyplot as plt "
      ],
      "execution_count": 3,
      "outputs": [
        {
          "output_type": "stream",
          "text": [
            "Requirement already satisfied: pydicom in /usr/local/lib/python3.6/dist-packages (1.4.2)\n"
          ],
          "name": "stdout"
        }
      ]
    },
    {
      "cell_type": "code",
      "metadata": {
        "id": "Nwuyc_DerKUv",
        "colab_type": "code",
        "outputId": "5972950b-1d39-44c1-9cf7-a2bfe0e44165",
        "colab": {
          "base_uri": "https://localhost:8080/",
          "height": 1000
        }
      },
      "source": [
        "dcm_path=os.listdir('/content/drive/My Drive/Fed_Covid/minibatch/')\n",
        "dcm_data={}\n",
        "\n",
        "alpha = 1.5 # Contrast control (1.0-3.0)\n",
        "beta = 0 # Brightness control (0-100)\n",
        "\n",
        "ctr=0\n",
        "for file in dcm_path:\n",
        "  name = '/content/drive/My Drive/Fed_Covid/minibatch/' + file\n",
        "  temp = pydicom.dcmread(name)\n",
        "  image = temp.pixel_array\n",
        "  ## Enhanced contrast and added colour\n",
        "  adjusted = cv2.convertScaleAbs(image, alpha=alpha, beta=beta)\n",
        "  dcm_data[file]=adjusted\n",
        "  ctr+=1\n",
        "  print(ctr)"
      ],
      "execution_count": 4,
      "outputs": [
        {
          "output_type": "stream",
          "text": [
            "1\n",
            "2\n",
            "3\n",
            "4\n",
            "5\n",
            "6\n",
            "7\n",
            "8\n",
            "9\n",
            "10\n",
            "11\n",
            "12\n",
            "13\n",
            "14\n",
            "15\n",
            "16\n",
            "17\n",
            "18\n",
            "19\n",
            "20\n",
            "21\n",
            "22\n",
            "23\n",
            "24\n",
            "25\n",
            "26\n",
            "27\n",
            "28\n",
            "29\n",
            "30\n",
            "31\n",
            "32\n",
            "33\n",
            "34\n",
            "35\n",
            "36\n",
            "37\n",
            "38\n",
            "39\n",
            "40\n",
            "41\n",
            "42\n",
            "43\n",
            "44\n",
            "45\n",
            "46\n",
            "47\n",
            "48\n",
            "49\n",
            "50\n",
            "51\n",
            "52\n",
            "53\n",
            "54\n",
            "55\n",
            "56\n",
            "57\n",
            "58\n",
            "59\n",
            "60\n",
            "61\n",
            "62\n",
            "63\n",
            "64\n",
            "65\n",
            "66\n",
            "67\n",
            "68\n",
            "69\n",
            "70\n",
            "71\n",
            "72\n",
            "73\n",
            "74\n",
            "75\n",
            "76\n",
            "77\n",
            "78\n",
            "79\n",
            "80\n",
            "81\n",
            "82\n",
            "83\n",
            "84\n",
            "85\n",
            "86\n",
            "87\n",
            "88\n",
            "89\n",
            "90\n",
            "91\n",
            "92\n",
            "93\n",
            "94\n",
            "95\n",
            "96\n",
            "97\n",
            "98\n",
            "99\n",
            "100\n",
            "101\n",
            "102\n",
            "103\n",
            "104\n",
            "105\n",
            "106\n",
            "107\n",
            "108\n",
            "109\n",
            "110\n",
            "111\n",
            "112\n",
            "113\n",
            "114\n",
            "115\n",
            "116\n",
            "117\n",
            "118\n",
            "119\n",
            "120\n",
            "121\n",
            "122\n",
            "123\n",
            "124\n",
            "125\n",
            "126\n",
            "127\n",
            "128\n",
            "129\n",
            "130\n",
            "131\n",
            "132\n",
            "133\n",
            "134\n",
            "135\n",
            "136\n",
            "137\n",
            "138\n",
            "139\n",
            "140\n",
            "141\n",
            "142\n",
            "143\n",
            "144\n",
            "145\n",
            "146\n",
            "147\n",
            "148\n",
            "149\n",
            "150\n",
            "151\n",
            "152\n",
            "153\n",
            "154\n",
            "155\n",
            "156\n",
            "157\n",
            "158\n",
            "159\n",
            "160\n",
            "161\n",
            "162\n",
            "163\n",
            "164\n",
            "165\n",
            "166\n",
            "167\n",
            "168\n",
            "169\n",
            "170\n",
            "171\n",
            "172\n",
            "173\n",
            "174\n",
            "175\n",
            "176\n",
            "177\n",
            "178\n",
            "179\n",
            "180\n",
            "181\n",
            "182\n",
            "183\n",
            "184\n",
            "185\n",
            "186\n",
            "187\n",
            "188\n",
            "189\n",
            "190\n",
            "191\n",
            "192\n",
            "193\n",
            "194\n",
            "195\n",
            "196\n",
            "197\n",
            "198\n",
            "199\n",
            "200\n",
            "201\n",
            "202\n",
            "203\n",
            "204\n",
            "205\n",
            "206\n",
            "207\n",
            "208\n",
            "209\n",
            "210\n",
            "211\n",
            "212\n",
            "213\n",
            "214\n",
            "215\n",
            "216\n",
            "217\n",
            "218\n",
            "219\n",
            "220\n",
            "221\n",
            "222\n",
            "223\n",
            "224\n",
            "225\n",
            "226\n",
            "227\n",
            "228\n",
            "229\n",
            "230\n",
            "231\n",
            "232\n",
            "233\n",
            "234\n",
            "235\n",
            "236\n",
            "237\n",
            "238\n",
            "239\n",
            "240\n",
            "241\n",
            "242\n",
            "243\n",
            "244\n",
            "245\n",
            "246\n",
            "247\n",
            "248\n",
            "249\n",
            "250\n",
            "251\n",
            "252\n",
            "253\n",
            "254\n",
            "255\n",
            "256\n",
            "257\n",
            "258\n",
            "259\n",
            "260\n",
            "261\n",
            "262\n",
            "263\n",
            "264\n",
            "265\n",
            "266\n",
            "267\n",
            "268\n",
            "269\n",
            "270\n",
            "271\n",
            "272\n",
            "273\n",
            "274\n",
            "275\n",
            "276\n",
            "277\n",
            "278\n",
            "279\n",
            "280\n",
            "281\n",
            "282\n",
            "283\n",
            "284\n",
            "285\n",
            "286\n",
            "287\n",
            "288\n",
            "289\n",
            "290\n",
            "291\n",
            "292\n",
            "293\n",
            "294\n",
            "295\n",
            "296\n",
            "297\n",
            "298\n",
            "299\n",
            "300\n",
            "301\n",
            "302\n",
            "303\n",
            "304\n",
            "305\n",
            "306\n",
            "307\n",
            "308\n",
            "309\n",
            "310\n",
            "311\n",
            "312\n",
            "313\n",
            "314\n",
            "315\n",
            "316\n",
            "317\n",
            "318\n",
            "319\n",
            "320\n",
            "321\n",
            "322\n",
            "323\n",
            "324\n",
            "325\n",
            "326\n",
            "327\n",
            "328\n",
            "329\n",
            "330\n",
            "331\n",
            "332\n",
            "333\n",
            "334\n",
            "335\n",
            "336\n",
            "337\n",
            "338\n",
            "339\n",
            "340\n",
            "341\n",
            "342\n",
            "343\n",
            "344\n",
            "345\n",
            "346\n",
            "347\n",
            "348\n",
            "349\n",
            "350\n",
            "351\n",
            "352\n",
            "353\n",
            "354\n",
            "355\n",
            "356\n",
            "357\n",
            "358\n",
            "359\n",
            "360\n",
            "361\n",
            "362\n",
            "363\n",
            "364\n",
            "365\n",
            "366\n",
            "367\n",
            "368\n",
            "369\n",
            "370\n",
            "371\n",
            "372\n",
            "373\n",
            "374\n",
            "375\n",
            "376\n",
            "377\n",
            "378\n",
            "379\n",
            "380\n",
            "381\n",
            "382\n",
            "383\n",
            "384\n",
            "385\n",
            "386\n",
            "387\n",
            "388\n",
            "389\n",
            "390\n",
            "391\n",
            "392\n",
            "393\n",
            "394\n",
            "395\n",
            "396\n",
            "397\n",
            "398\n",
            "399\n",
            "400\n",
            "401\n",
            "402\n",
            "403\n",
            "404\n",
            "405\n",
            "406\n",
            "407\n",
            "408\n",
            "409\n",
            "410\n",
            "411\n",
            "412\n",
            "413\n",
            "414\n",
            "415\n",
            "416\n",
            "417\n",
            "418\n",
            "419\n",
            "420\n",
            "421\n",
            "422\n",
            "423\n",
            "424\n",
            "425\n",
            "426\n",
            "427\n"
          ],
          "name": "stdout"
        }
      ]
    },
    {
      "cell_type": "code",
      "metadata": {
        "id": "PzFvABwRQtDb",
        "colab_type": "code",
        "colab": {}
      },
      "source": [
        "# plt.imshow(image,cmap=plt.cm.bone)"
      ],
      "execution_count": 0,
      "outputs": []
    },
    {
      "cell_type": "code",
      "metadata": {
        "id": "9bgPH0dsRf7Q",
        "colab_type": "code",
        "colab": {}
      },
      "source": [
        "# plt.imshow(adjusted,cmap=plt.cm.bone)\n",
        "# alpha=1.2\n",
        "# beta=1\n",
        "# adjusted = cv2.convertScaleAbs(image, alpha=alpha, beta=beta)\n",
        "# plt.imshow(adjusted,cmap=plt.cm.bone)\n"
      ],
      "execution_count": 0,
      "outputs": []
    },
    {
      "cell_type": "markdown",
      "metadata": {
        "id": "NYckld-QRemH",
        "colab_type": "text"
      },
      "source": [
        ""
      ]
    },
    {
      "cell_type": "code",
      "metadata": {
        "id": "0ffhDoyyPfLV",
        "colab_type": "code",
        "outputId": "957deb1f-d875-4a7f-be34-01303b8e1241",
        "colab": {
          "base_uri": "https://localhost:8080/",
          "height": 34
        }
      },
      "source": [
        "print(len(dcm_data))"
      ],
      "execution_count": 96,
      "outputs": [
        {
          "output_type": "stream",
          "text": [
            "427\n"
          ],
          "name": "stdout"
        }
      ]
    },
    {
      "cell_type": "code",
      "metadata": {
        "id": "SuXE_2wEi4CZ",
        "colab_type": "code",
        "colab": {}
      },
      "source": [
        "# import pickle\n",
        "# with open('/content/features_dcm.bin','wb') as file:\n",
        "#   pickle.dump(dcm_data,file)"
      ],
      "execution_count": 0,
      "outputs": []
    },
    {
      "cell_type": "code",
      "metadata": {
        "id": "BuoufluUrqEK",
        "colab_type": "code",
        "colab": {}
      },
      "source": [
        "import csv \n",
        "labels=[]\n",
        "with open('/content/drive/My Drive/Fed_Covid/stage_2_train_labels.csv','r') as file:\n",
        "  reader = csv.reader(file)\n",
        "  for row in reader:\n",
        "    labels.append(row)"
      ],
      "execution_count": 0,
      "outputs": []
    },
    {
      "cell_type": "code",
      "metadata": {
        "id": "mq92SkN2ZrRs",
        "colab_type": "code",
        "outputId": "8b305c4a-7271-4638-f572-479f6bf42ef8",
        "colab": {
          "base_uri": "https://localhost:8080/",
          "height": 52
        }
      },
      "source": [
        "print(len(labels))\n",
        "print(len(dcm_data))"
      ],
      "execution_count": 6,
      "outputs": [
        {
          "output_type": "stream",
          "text": [
            "30228\n",
            "427\n"
          ],
          "name": "stdout"
        }
      ]
    },
    {
      "cell_type": "code",
      "metadata": {
        "id": "TsrBQdKQtBON",
        "colab_type": "code",
        "colab": {}
      },
      "source": [
        "pid=[]\n",
        "dicom=[]\n",
        "label=[]\n",
        "cid = 0\n",
        "for PID in labels:\n",
        "  for key in dcm_data:\n",
        "    if(key[:-4]==PID[0]):\n",
        "      # pid.append(key)\n",
        "      dicom.append(dcm_data[key])\n",
        "      label.append(PID[5])\n",
        "      "
      ],
      "execution_count": 0,
      "outputs": []
    },
    {
      "cell_type": "code",
      "metadata": {
        "id": "5LT1SxJhPal_",
        "colab_type": "code",
        "outputId": "214bd8dd-5d30-4e0b-b71d-de7e479ed9cf",
        "colab": {
          "base_uri": "https://localhost:8080/",
          "height": 52
        }
      },
      "source": [
        "print(len(dicom))\n",
        "print(len(label))"
      ],
      "execution_count": 8,
      "outputs": [
        {
          "output_type": "stream",
          "text": [
            "429\n",
            "429\n"
          ],
          "name": "stdout"
        }
      ]
    },
    {
      "cell_type": "code",
      "metadata": {
        "id": "3E7xy2jqr5hx",
        "colab_type": "code",
        "colab": {}
      },
      "source": [
        "## Making Training DF \n",
        "import pandas as pd\n",
        "final_data = pd.DataFrame()\n",
        "# final_data['PatientID']=pid \n",
        "final_data['dicom']=dicom\n",
        "final_data['label']=label\n",
        "# final_data['clientID'] = cid"
      ],
      "execution_count": 0,
      "outputs": []
    },
    {
      "cell_type": "code",
      "metadata": {
        "id": "XovK0Ah8sk14",
        "colab_type": "code",
        "outputId": "2eb4d0cd-c774-456b-cfe4-b79d4e89b8bf",
        "colab": {
          "base_uri": "https://localhost:8080/",
          "height": 410
        }
      },
      "source": [
        "final_data"
      ],
      "execution_count": 34,
      "outputs": [
        {
          "output_type": "execute_result",
          "data": {
            "text/html": [
              "<div>\n",
              "<style scoped>\n",
              "    .dataframe tbody tr th:only-of-type {\n",
              "        vertical-align: middle;\n",
              "    }\n",
              "\n",
              "    .dataframe tbody tr th {\n",
              "        vertical-align: top;\n",
              "    }\n",
              "\n",
              "    .dataframe thead th {\n",
              "        text-align: right;\n",
              "    }\n",
              "</style>\n",
              "<table border=\"1\" class=\"dataframe\">\n",
              "  <thead>\n",
              "    <tr style=\"text-align: right;\">\n",
              "      <th></th>\n",
              "      <th>dicom</th>\n",
              "      <th>label</th>\n",
              "    </tr>\n",
              "  </thead>\n",
              "  <tbody>\n",
              "    <tr>\n",
              "      <th>0</th>\n",
              "      <td>[[3, 3, 3, 3, 3, 3, 3, 3, 2, 2, 2, 2, 2, 2, 2,...</td>\n",
              "      <td>0</td>\n",
              "    </tr>\n",
              "    <tr>\n",
              "      <th>1</th>\n",
              "      <td>[[255, 255, 255, 255, 255, 255, 255, 255, 255,...</td>\n",
              "      <td>0</td>\n",
              "    </tr>\n",
              "    <tr>\n",
              "      <th>2</th>\n",
              "      <td>[[2, 2, 2, 2, 2, 2, 2, 2, 2, 2, 2, 2, 2, 2, 2,...</td>\n",
              "      <td>0</td>\n",
              "    </tr>\n",
              "    <tr>\n",
              "      <th>3</th>\n",
              "      <td>[[3, 0, 2, 3, 0, 0, 0, 0, 0, 0, 0, 0, 0, 0, 0,...</td>\n",
              "      <td>0</td>\n",
              "    </tr>\n",
              "    <tr>\n",
              "      <th>4</th>\n",
              "      <td>[[0, 0, 0, 0, 0, 0, 0, 0, 0, 0, 0, 0, 0, 0, 0,...</td>\n",
              "      <td>0</td>\n",
              "    </tr>\n",
              "    <tr>\n",
              "      <th>...</th>\n",
              "      <td>...</td>\n",
              "      <td>...</td>\n",
              "    </tr>\n",
              "    <tr>\n",
              "      <th>424</th>\n",
              "      <td>[[3, 4, 4, 4, 3, 3, 3, 3, 2, 2, 3, 3, 3, 3, 3,...</td>\n",
              "      <td>1</td>\n",
              "    </tr>\n",
              "    <tr>\n",
              "      <th>425</th>\n",
              "      <td>[[4, 4, 4, 4, 4, 4, 4, 4, 4, 4, 4, 4, 4, 4, 4,...</td>\n",
              "      <td>0</td>\n",
              "    </tr>\n",
              "    <tr>\n",
              "      <th>426</th>\n",
              "      <td>[[0, 0, 0, 0, 0, 0, 0, 0, 0, 2, 2, 0, 10, 44, ...</td>\n",
              "      <td>0</td>\n",
              "    </tr>\n",
              "    <tr>\n",
              "      <th>427</th>\n",
              "      <td>[[104, 96, 93, 86, 69, 52, 38, 27, 14, 10, 8, ...</td>\n",
              "      <td>0</td>\n",
              "    </tr>\n",
              "    <tr>\n",
              "      <th>428</th>\n",
              "      <td>[[0, 0, 2, 3, 0, 0, 2, 0, 2, 0, 0, 0, 0, 0, 0,...</td>\n",
              "      <td>0</td>\n",
              "    </tr>\n",
              "  </tbody>\n",
              "</table>\n",
              "<p>429 rows × 2 columns</p>\n",
              "</div>"
            ],
            "text/plain": [
              "                                                 dicom label\n",
              "0    [[3, 3, 3, 3, 3, 3, 3, 3, 2, 2, 2, 2, 2, 2, 2,...     0\n",
              "1    [[255, 255, 255, 255, 255, 255, 255, 255, 255,...     0\n",
              "2    [[2, 2, 2, 2, 2, 2, 2, 2, 2, 2, 2, 2, 2, 2, 2,...     0\n",
              "3    [[3, 0, 2, 3, 0, 0, 0, 0, 0, 0, 0, 0, 0, 0, 0,...     0\n",
              "4    [[0, 0, 0, 0, 0, 0, 0, 0, 0, 0, 0, 0, 0, 0, 0,...     0\n",
              "..                                                 ...   ...\n",
              "424  [[3, 4, 4, 4, 3, 3, 3, 3, 2, 2, 3, 3, 3, 3, 3,...     1\n",
              "425  [[4, 4, 4, 4, 4, 4, 4, 4, 4, 4, 4, 4, 4, 4, 4,...     0\n",
              "426  [[0, 0, 0, 0, 0, 0, 0, 0, 0, 2, 2, 0, 10, 44, ...     0\n",
              "427  [[104, 96, 93, 86, 69, 52, 38, 27, 14, 10, 8, ...     0\n",
              "428  [[0, 0, 2, 3, 0, 0, 2, 0, 2, 0, 0, 0, 0, 0, 0,...     0\n",
              "\n",
              "[429 rows x 2 columns]"
            ]
          },
          "metadata": {
            "tags": []
          },
          "execution_count": 34
        }
      ]
    },
    {
      "cell_type": "code",
      "metadata": {
        "id": "f6eW9FLaFiUk",
        "colab_type": "code",
        "outputId": "6eee469a-28f5-482b-e60c-1830237bb9d4",
        "colab": {
          "base_uri": "https://localhost:8080/",
          "height": 410
        }
      },
      "source": [
        "final_data.loc[0:99,'clientID'] = '0'\n",
        "final_data.loc[100:199,'clientID'] = '1'\n",
        "final_data.loc[200:299,'clientID'] = '2'\n",
        "final_data.loc[300:428,'clientID'] = '3'\n",
        "final_data"
      ],
      "execution_count": 11,
      "outputs": [
        {
          "output_type": "execute_result",
          "data": {
            "text/html": [
              "<div>\n",
              "<style scoped>\n",
              "    .dataframe tbody tr th:only-of-type {\n",
              "        vertical-align: middle;\n",
              "    }\n",
              "\n",
              "    .dataframe tbody tr th {\n",
              "        vertical-align: top;\n",
              "    }\n",
              "\n",
              "    .dataframe thead th {\n",
              "        text-align: right;\n",
              "    }\n",
              "</style>\n",
              "<table border=\"1\" class=\"dataframe\">\n",
              "  <thead>\n",
              "    <tr style=\"text-align: right;\">\n",
              "      <th></th>\n",
              "      <th>dicom</th>\n",
              "      <th>label</th>\n",
              "      <th>clientID</th>\n",
              "    </tr>\n",
              "  </thead>\n",
              "  <tbody>\n",
              "    <tr>\n",
              "      <th>0</th>\n",
              "      <td>[[3, 3, 3, 3, 3, 3, 3, 3, 2, 2, 2, 2, 2, 2, 2,...</td>\n",
              "      <td>0</td>\n",
              "      <td>0</td>\n",
              "    </tr>\n",
              "    <tr>\n",
              "      <th>1</th>\n",
              "      <td>[[255, 255, 255, 255, 255, 255, 255, 255, 255,...</td>\n",
              "      <td>0</td>\n",
              "      <td>0</td>\n",
              "    </tr>\n",
              "    <tr>\n",
              "      <th>2</th>\n",
              "      <td>[[2, 2, 2, 2, 2, 2, 2, 2, 2, 2, 2, 2, 2, 2, 2,...</td>\n",
              "      <td>0</td>\n",
              "      <td>0</td>\n",
              "    </tr>\n",
              "    <tr>\n",
              "      <th>3</th>\n",
              "      <td>[[3, 0, 2, 3, 0, 0, 0, 0, 0, 0, 0, 0, 0, 0, 0,...</td>\n",
              "      <td>0</td>\n",
              "      <td>0</td>\n",
              "    </tr>\n",
              "    <tr>\n",
              "      <th>4</th>\n",
              "      <td>[[0, 0, 0, 0, 0, 0, 0, 0, 0, 0, 0, 0, 0, 0, 0,...</td>\n",
              "      <td>0</td>\n",
              "      <td>0</td>\n",
              "    </tr>\n",
              "    <tr>\n",
              "      <th>...</th>\n",
              "      <td>...</td>\n",
              "      <td>...</td>\n",
              "      <td>...</td>\n",
              "    </tr>\n",
              "    <tr>\n",
              "      <th>424</th>\n",
              "      <td>[[3, 4, 4, 4, 3, 3, 3, 3, 2, 2, 3, 3, 3, 3, 3,...</td>\n",
              "      <td>1</td>\n",
              "      <td>3</td>\n",
              "    </tr>\n",
              "    <tr>\n",
              "      <th>425</th>\n",
              "      <td>[[4, 4, 4, 4, 4, 4, 4, 4, 4, 4, 4, 4, 4, 4, 4,...</td>\n",
              "      <td>0</td>\n",
              "      <td>3</td>\n",
              "    </tr>\n",
              "    <tr>\n",
              "      <th>426</th>\n",
              "      <td>[[0, 0, 0, 0, 0, 0, 0, 0, 0, 2, 2, 0, 10, 44, ...</td>\n",
              "      <td>0</td>\n",
              "      <td>3</td>\n",
              "    </tr>\n",
              "    <tr>\n",
              "      <th>427</th>\n",
              "      <td>[[104, 96, 93, 86, 69, 52, 38, 27, 14, 10, 8, ...</td>\n",
              "      <td>0</td>\n",
              "      <td>3</td>\n",
              "    </tr>\n",
              "    <tr>\n",
              "      <th>428</th>\n",
              "      <td>[[0, 0, 2, 3, 0, 0, 2, 0, 2, 0, 0, 0, 0, 0, 0,...</td>\n",
              "      <td>0</td>\n",
              "      <td>3</td>\n",
              "    </tr>\n",
              "  </tbody>\n",
              "</table>\n",
              "<p>429 rows × 3 columns</p>\n",
              "</div>"
            ],
            "text/plain": [
              "                                                 dicom label clientID\n",
              "0    [[3, 3, 3, 3, 3, 3, 3, 3, 2, 2, 2, 2, 2, 2, 2,...     0        0\n",
              "1    [[255, 255, 255, 255, 255, 255, 255, 255, 255,...     0        0\n",
              "2    [[2, 2, 2, 2, 2, 2, 2, 2, 2, 2, 2, 2, 2, 2, 2,...     0        0\n",
              "3    [[3, 0, 2, 3, 0, 0, 0, 0, 0, 0, 0, 0, 0, 0, 0,...     0        0\n",
              "4    [[0, 0, 0, 0, 0, 0, 0, 0, 0, 0, 0, 0, 0, 0, 0,...     0        0\n",
              "..                                                 ...   ...      ...\n",
              "424  [[3, 4, 4, 4, 3, 3, 3, 3, 2, 2, 3, 3, 3, 3, 3,...     1        3\n",
              "425  [[4, 4, 4, 4, 4, 4, 4, 4, 4, 4, 4, 4, 4, 4, 4,...     0        3\n",
              "426  [[0, 0, 0, 0, 0, 0, 0, 0, 0, 2, 2, 0, 10, 44, ...     0        3\n",
              "427  [[104, 96, 93, 86, 69, 52, 38, 27, 14, 10, 8, ...     0        3\n",
              "428  [[0, 0, 2, 3, 0, 0, 2, 0, 2, 0, 0, 0, 0, 0, 0,...     0        3\n",
              "\n",
              "[429 rows x 3 columns]"
            ]
          },
          "metadata": {
            "tags": []
          },
          "execution_count": 11
        }
      ]
    },
    {
      "cell_type": "code",
      "metadata": {
        "id": "kgk_AmYhxd5H",
        "colab_type": "code",
        "colab": {}
      },
      "source": [
        "client_ids=['0','1','2','3']"
      ],
      "execution_count": 0,
      "outputs": []
    },
    {
      "cell_type": "code",
      "metadata": {
        "id": "poBu6G0lxWtt",
        "colab_type": "code",
        "colab": {}
      },
      "source": [
        "#split client id into train and test clients\n",
        "client_ids = df['clientID'].unique()\n",
        "train_client_ids = ['1','3']\n",
        "test_client_ids = [x for x in client_ids if x not in train_client_ids]\n",
        "# train_client_ids = client_ids.sample(frac=0.5).tolist()\n",
        "# test_client_ids = [x for x in client_ids if x not in train_client_ids]"
      ],
      "execution_count": 0,
      "outputs": []
    },
    {
      "cell_type": "code",
      "metadata": {
        "id": "4WLMxHMcaKF3",
        "colab_type": "code",
        "colab": {}
      },
      "source": [
        "type(final_data)\n",
        "client_data = final_data"
      ],
      "execution_count": 0,
      "outputs": []
    },
    {
      "cell_type": "code",
      "metadata": {
        "id": "OgZoNK0WpV8Y",
        "colab_type": "code",
        "colab": {}
      },
      "source": [
        "client_data = client_data.values.tolist()"
      ],
      "execution_count": 0,
      "outputs": []
    },
    {
      "cell_type": "code",
      "metadata": {
        "id": "fNC8H-VKpbs1",
        "colab_type": "code",
        "colab": {}
      },
      "source": [
        "print(client_data)"
      ],
      "execution_count": 0,
      "outputs": []
    },
    {
      "cell_type": "code",
      "metadata": {
        "id": "DRb8tdI2FsT1",
        "colab_type": "code",
        "colab": {}
      },
      "source": [
        "NUM_EPOCHS = 5\n",
        "BATCH_SIZE = 20\n",
        "SHUFFLE_BUFFER = 500\n",
        "NUM_CLIENTS = 4"
      ],
      "execution_count": 0,
      "outputs": []
    },
    {
      "cell_type": "code",
      "metadata": {
        "id": "hiR0gldpIHno",
        "colab_type": "code",
        "colab": {}
      },
      "source": [
        "def preprocess(dataset):\n",
        "  def element_fn(element):\n",
        "    return collections.OrderedDict([\n",
        "        ('x', tf.reshape(element['dicom'], [-1])),\n",
        "        ('y', tf.reshape(element['label'], [1])),\n",
        "    ])\n",
        "\n",
        "  return dataset.repeat(NUM_EPOCHS).map(element_fn).shuffle(\n",
        "      SHUFFLE_BUFFER).batch(BATCH_SIZE)"
      ],
      "execution_count": 0,
      "outputs": []
    },
    {
      "cell_type": "code",
      "metadata": {
        "id": "CPSvJXB12dtT",
        "colab_type": "code",
        "colab": {}
      },
      "source": [
        "df = final_data"
      ],
      "execution_count": 0,
      "outputs": []
    },
    {
      "cell_type": "code",
      "metadata": {
        "id": "Deh6ILjZHzmw",
        "colab_type": "code",
        "colab": {}
      },
      "source": [
        "def create_tf_dataset_for_client(client_id):\n",
        "  # a function which takes a client_id and returns a\n",
        "  # tf.data.Dataset for that client\n",
        "  client_data = df[df['clientID'] == client_id]\n",
        "  # dataset = tf.data.Dataset.from_tensor_slices(client_data.to_dict('list'))\n",
        "  dataset = tf.data.Dataset.from_tensor_slices(client_data.values.tolist())\n",
        "  dataset = dataset.shuffle(SHUFFLE_BUFFER).batch(1).repeat(NUM_EPOCHS)\n",
        "  print(type(dataset))\n",
        "  return dataset"
      ],
      "execution_count": 0,
      "outputs": []
    },
    {
      "cell_type": "code",
      "metadata": {
        "id": "KBb0HfE520tT",
        "colab_type": "code",
        "colab": {}
      },
      "source": [
        ""
      ],
      "execution_count": 0,
      "outputs": []
    },
    {
      "cell_type": "code",
      "metadata": {
        "id": "XPaUElxgH8N8",
        "colab_type": "code",
        "colab": {}
      },
      "source": [
        "def make_federated_data(client_data, client_ids):\n",
        "  for x in client_ids:\n",
        "    return create_tf_dataset_for_client(x) \n",
        "\n",
        "\n",
        "\n",
        "\n",
        "  # return [preprocess(create_tf_dataset_for_client(x))\n",
        "  #         for x in client_ids]"
      ],
      "execution_count": 0,
      "outputs": []
    },
    {
      "cell_type": "code",
      "metadata": {
        "id": "nXMy2ApF5Hwy",
        "colab_type": "code",
        "colab": {}
      },
      "source": [
        "import numpy as np"
      ],
      "execution_count": 0,
      "outputs": []
    },
    {
      "cell_type": "code",
      "metadata": {
        "id": "yn280LLV6e83",
        "colab_type": "code",
        "colab": {}
      },
      "source": [
        "client_set = set(final_data.clientID)"
      ],
      "execution_count": 0,
      "outputs": []
    },
    {
      "cell_type": "code",
      "metadata": {
        "id": "LqNOzP5r7QVp",
        "colab_type": "code",
        "colab": {}
      },
      "source": [
        ""
      ],
      "execution_count": 0,
      "outputs": []
    },
    {
      "cell_type": "code",
      "metadata": {
        "id": "e92k6rydtPu-",
        "colab_type": "code",
        "colab": {}
      },
      "source": [
        "client_set = list(client_set)"
      ],
      "execution_count": 0,
      "outputs": []
    },
    {
      "cell_type": "code",
      "metadata": {
        "id": "9RKR6ZMBtTXf",
        "colab_type": "code",
        "colab": {
          "base_uri": "https://localhost:8080/",
          "height": 34
        },
        "outputId": "2a46497c-2cb3-4e97-f369-c42b6f0cc1a0"
      },
      "source": [
        "print(client_set)"
      ],
      "execution_count": 19,
      "outputs": [
        {
          "output_type": "stream",
          "text": [
            "['3', '1', '0', '2']\n"
          ],
          "name": "stdout"
        }
      ]
    },
    {
      "cell_type": "code",
      "metadata": {
        "id": "IZUAIlwutyfZ",
        "colab_type": "code",
        "colab": {}
      },
      "source": [
        "final_data = final_data.values.tolist()"
      ],
      "execution_count": 0,
      "outputs": []
    },
    {
      "cell_type": "code",
      "metadata": {
        "id": "pu6qYdoJtpB3",
        "colab_type": "code",
        "colab": {}
      },
      "source": [
        "# final_data = tf.convert_to_tensor(final_data)"
      ],
      "execution_count": 0,
      "outputs": []
    },
    {
      "cell_type": "code",
      "metadata": {
        "id": "NmH1klGQqDzJ",
        "colab_type": "code",
        "colab": {}
      },
      "source": [
        "client_set=[1,2,3,4]"
      ],
      "execution_count": 0,
      "outputs": []
    },
    {
      "cell_type": "code",
      "metadata": {
        "id": "HjBy8c_PIBwZ",
        "colab_type": "code",
        "outputId": "5936042a-8058-4ac0-eeaa-166a7a21493f",
        "colab": {
          "base_uri": "https://localhost:8080/",
          "height": 1000
        }
      },
      "source": [
        "# sample_clients = final_data.clientID[0: NUM_CLIENTS] -- returning 0,0,0,0\n",
        "federated_train_data = make_federated_data(final_data, client_set)"
      ],
      "execution_count": 23,
      "outputs": [
        {
          "output_type": "error",
          "ename": "ValueError",
          "evalue": "ignored",
          "traceback": [
            "\u001b[0;31m---------------------------------------------------------------------------\u001b[0m",
            "\u001b[0;31mTypeError\u001b[0m                                 Traceback (most recent call last)",
            "\u001b[0;32m/usr/local/lib/python3.6/dist-packages/tensorflow/python/data/util/structure.py\u001b[0m in \u001b[0;36mnormalize_element\u001b[0;34m(element)\u001b[0m\n\u001b[1;32m     92\u001b[0m       \u001b[0;32mtry\u001b[0m\u001b[0;34m:\u001b[0m\u001b[0;34m\u001b[0m\u001b[0;34m\u001b[0m\u001b[0m\n\u001b[0;32m---> 93\u001b[0;31m         \u001b[0mspec\u001b[0m \u001b[0;34m=\u001b[0m \u001b[0mtype_spec_from_value\u001b[0m\u001b[0;34m(\u001b[0m\u001b[0mt\u001b[0m\u001b[0;34m,\u001b[0m \u001b[0muse_fallback\u001b[0m\u001b[0;34m=\u001b[0m\u001b[0;32mFalse\u001b[0m\u001b[0;34m)\u001b[0m\u001b[0;34m\u001b[0m\u001b[0;34m\u001b[0m\u001b[0m\n\u001b[0m\u001b[1;32m     94\u001b[0m       \u001b[0;32mexcept\u001b[0m \u001b[0mTypeError\u001b[0m\u001b[0;34m:\u001b[0m\u001b[0;34m\u001b[0m\u001b[0;34m\u001b[0m\u001b[0m\n",
            "\u001b[0;32m/usr/local/lib/python3.6/dist-packages/tensorflow/python/data/util/structure.py\u001b[0m in \u001b[0;36mtype_spec_from_value\u001b[0;34m(element, use_fallback)\u001b[0m\n\u001b[1;32m    465\u001b[0m   raise TypeError(\"Could not build a TypeSpec for %r with type %s\" %\n\u001b[0;32m--> 466\u001b[0;31m                   (element, type(element).__name__))\n\u001b[0m\u001b[1;32m    467\u001b[0m \u001b[0;34m\u001b[0m\u001b[0m\n",
            "\u001b[0;31mTypeError\u001b[0m: Could not build a TypeSpec for [[array([[170, 118,  76, ...,  74, 242, 255],\n       [ 94,  76,  63, ...,  10,  68, 112],\n       [ 75,  66,  57, ...,  14,  12,  22],\n       ...,\n       [255, 255, 255, ...,  68,  50,  27],\n       [255, 255, 255, ...,  69,  48,  24],\n       [255, 255, 255, ...,  69,  46,  22]], dtype=uint8), '0', '3'], [array([[0, 0, 0, ..., 0, 0, 0],\n       [0, 0, 0, ..., 0, 0, 0],\n       [0, 0, 0, ..., 0, 0, 0],\n       ...,\n       [0, 0, 0, ..., 0, 0, 0],\n       [0, 0, 0, ..., 0, 0, 0],\n       [0, 0, 0, ..., 0, 0, 0]], dtype=uint8), '0', '3'], [array([[  4,   0,   2, ...,   2,   4,   2],\n       [  2,   0,   2, ...,   3,   4,   2],\n       [  0,   0,   2, ...,   3,   4,   0],\n       ...,\n       [112, 218, 214, ...,  26,  27,  15],\n       [130, 220, 218, ...,  27,  28,  16],\n       [ 54, 116,  98, ...,  14,  16,   4]], dtype=uint8), '0', '3'], [array([[ 0,  0,  0, ..., 45, 52, 34],\n       [ 0,  0,  0, ..., 30, 33, 16],\n       [ 0,  0,  0, ..., 16, 18,  4],\n       ...,\n       [ 8, 10, 14, ...,  0,  0,  0],\n       [ 9, 14, 16, ...,  0,  0,  0],\n       [10, 15, 20, ...,  0,  0,  2]], dtype=uint8), '0', '3'], [array([[117, 195, 183, ...,  21,  24,  14],\n       [238, 255, 224, ...,  42,  45,  33],\n       [174, 176,  51, ...,  40,  44,  32],\n       ...,\n       [ 22,  39,  36, ...,  24,  28,  16],\n       [ 22,  38,  33, ...,  22,  26,  15],\n       [  9,  22,  16, ...,  14,  16,   6]], dtype=uint8), '0', '3'], [array([[ 76, 150, 129, ...,  12,   8,   4],\n       [178, 255, 255, ...,  26,  18,  12],\n       [153, 255, 255, ...,  24,  16,  10],\n       ...,\n       [  8,   9,  10, ..., 130, 135,  78],\n       [  6,   9,  10, ..., 128, 135,  87],\n       [  2,   4,   6, ...,  62,  75,  33]], dtype=uint8), '0', '3'], [array([[ 38, 189, 168, ...,  96, 117,  54],\n       [ 80, 255, 224, ..., 204, 212, 130],\n       [ 78, 255,  58, ..., 201, 207, 116],\n       ...,\n       [ 48, 255, 255, ..., 255, 255, 183],\n       [ 63, 255, 255, ..., 255, 255, 207],\n       [ 24, 136, 123, ..., 150, 171,  88]], dtype=uint8), '0', '3'], [array([[ 0,  0,  0, ..., 39, 39, 38],\n       [ 0,  0,  0, ..., 60, 60, 58],\n       [ 0,  0,  0, ..., 60, 60, 60],\n       ...,\n       [ 0,  0,  0, ..., 76, 78, 76],\n       [ 0,  0,  0, ..., 63, 63, 62],\n       [ 0,  0,  0, ...,  6,  4,  2]], dtype=uint8), '0', '3'], [array([[255, 255, 255, ...,  92,  90,  52],\n       [255, 255, 255, ...,  80,  80,  44],\n       [255, 255, 255, ...,  70,  68,  34],\n       ...,\n       [218, 206, 194, ..., 142, 158,  92],\n       [222, 208, 196, ..., 148, 164,  96],\n       [226, 212, 198, ..., 158, 171, 104]], dtype=uint8), '0', '3'], [array([[  0,   0,   0, ...,   0,   0,   0],\n       [  0,   0,   0, ...,   0,   0,   0],\n       [  0,   0,   0, ...,   0,   0,   0],\n       ...,\n       [  0,  62, 171, ..., 141, 140, 136],\n       [  0,  46, 136, ..., 111, 111, 108],\n       [  4,   0,  10, ...,   0,   0,   0]], dtype=uint8), '1', '3'], [array([[  0,   0,   0, ...,   0,   0,   0],\n       [  0,   0,   0, ...,   0,   0,   0],\n       [  0,   0,   0, ...,   0,   0,   0],\n       ...,\n       [  0,  62, 171, ..., 141, 140, 136],\n       [  0,  46, 136, ..., 111, 111, 108],\n       [  4,   0,  10, ...,   0,   0,   0]], dtype=uint8), '1', '3'], [array([[ 72, 152, 129, ..., 102, 122,  57],\n       [178, 255, 255, ..., 222, 228, 144],\n       [158, 255, 255, ..., 218, 219, 123],\n       ...,\n       [134, 240, 234, ..., 255, 255, 170],\n       [152, 243, 237, ..., 255, 255, 188],\n       [ 60, 132, 112, ..., 141, 160,  86]], dtype=uint8), '0', '3'], [array([[ 34,  75,  68, ...,  52,  58,  26],\n       [ 88, 132, 126, ...,  98, 104,  69],\n       [ 74, 118, 114, ...,  86,  90,  54],\n       ...,\n       [ 46,  72,  64, ...,  69,  66,  40],\n       [ 54,  76,  68, ...,  75,  72,  48],\n       [ 20,  39,  30, ...,  38,  36,  14]], dtype=uint8), '0', '3'], [array([[255, 255, 255, ..., 255, 255, 230],\n       [255, 255, 255, ..., 255, 255, 228],\n       [255, 255, 255, ..., 255, 255, 224],\n       ...,\n       [ 20,  20,  20, ...,  21,  14,   0],\n       [ 20,  20,  20, ...,  21,  14,   0],\n       [ 20,  20,  20, ...,  21,  14,   0]], dtype=uint8), '0', '3'], [array([[  6,  14,  15, ...,   6,   4,   4],\n       [ 15,  22,  22, ...,   9,   9,   8],\n       [ 12,  18,  20, ...,   9,   9,   8],\n       ...,\n       [153, 255, 255, ..., 222, 225, 130],\n       [176, 255, 255, ..., 230, 231, 147],\n       [ 69, 153, 126, ..., 108, 124,  62]], dtype=uint8), '0', '3'], [array([[ 0,  0,  0, ...,  0,  0,  0],\n       [ 0,  0,  0, ...,  0,  0,  0],\n       [ 0,  0,  0, ...,  0,  0,  0],\n       ...,\n       [ 0, 15, 18, ...,  0,  0,  0],\n       [ 0, 21, 30, ...,  0,  0,  0],\n       [ 0,  8,  2, ...,  0,  0,  0]], dtype=uint8), '0', '3'], [array([[ 88, 174, 146, ..., 136, 156,  76],\n       [202, 255, 255, ..., 255, 255, 190],\n       [177, 255, 255, ..., 255, 255, 158],\n       ...,\n       [164, 255, 255, ..., 225, 218, 117],\n       [194, 255, 255, ..., 220, 224, 130],\n       [ 82, 164, 138, ...,  96, 108,  56]], dtype=uint8), '1', '3'], [array([[ 88, 174, 146, ..., 136, 156,  76],\n       [202, 255, 255, ..., 255, 255, 190],\n       [177, 255, 255, ..., 255, 255, 158],\n       ...,\n       [164, 255, 255, ..., 225, 218, 117],\n       [194, 255, 255, ..., 220, 224, 130],\n       [ 82, 164, 138, ...,  96, 108,  56]], dtype=uint8), '1', '3'], [array([[81, 70, 57, ..., 32, 24,  6],\n       [64, 54, 42, ..., 21, 14,  0],\n       [46, 38, 27, ..., 12,  9,  0],\n       ...,\n       [ 6,  6,  6, ...,  4,  2,  0],\n       [ 6,  6,  6, ...,  4,  2,  0],\n       [ 8,  6,  6, ...,  4,  2,  0]], dtype=uint8), '0', '3'], [array([[146, 128, 110, ...,  10,   6,   0],\n       [147, 128, 111, ...,  10,   6,   0],\n       [147, 129, 111, ...,  10,   6,   0],\n       ...,\n       [255, 255, 255, ..., 255, 255, 202],\n       [255, 255, 255, ..., 255, 255, 208],\n       [255, 255, 255, ..., 255, 255, 212]], dtype=uint8), '0', '3'], [array([[  2,   2,   2, ...,   2,   2,   2],\n       [  2,   2,   2, ...,   2,   2,   2],\n       [  2,   2,   2, ...,   2,   2,   2],\n       ...,\n       [ 99, 184, 178, ..., 164, 159,  88],\n       [111, 184, 180, ..., 168, 168, 104],\n       [ 48, 102,  86, ...,  80,  90,  39]], dtype=uint8), '0', '3'], [array([[ 0,  4, 16, ..., 16, 16, 16],\n       [ 3,  9, 22, ..., 30, 30, 30],\n       [ 3, 10, 24, ..., 27, 27, 27],\n       ...,\n       [ 0, 10, 30, ..., 39, 36, 34],\n       [ 2, 10, 24, ..., 26, 26, 24],\n       [ 0,  0,  4, ...,  0,  0,  2]], dtype=uint8), '1', '3'], [array([[ 0,  4, 16, ..., 16, 16, 16],\n       [ 3,  9, 22, ..., 30, 30, 30],\n       [ 3, 10, 24, ..., 27, 27, 27],\n       ...,\n       [ 0, 10, 30, ..., 39, 36, 34],\n       [ 2, 10, 24, ..., 26, 26, 24],\n       [ 0,  0,  4, ...,  0,  0,  2]], dtype=uint8), '1', '3'], [array([[ 0,  4,  6, ...,  8,  8,  8],\n       [ 2,  4,  6, ...,  8,  8,  8],\n       [ 2,  3,  4, ...,  8,  8,  8],\n       ...,\n       [ 0, 16, 28, ..., 18, 18, 18],\n       [ 3, 18, 27, ..., 12, 12, 12],\n       [ 0,  3,  3, ...,  0,  0,  0]], dtype=uint8), '0', '3'], [array([[ 4, 14, 14, ...,  6,  3,  0],\n       [16, 24, 26, ...,  0,  0,  4],\n       [14, 21, 22, ...,  0,  0,  4],\n       ...,\n       [51, 84, 76, ...,  3,  9,  6],\n       [63, 96, 88, ...,  0,  2,  0],\n       [26, 58, 51, ...,  6,  6,  2]], dtype=uint8), '0', '3'], [array([[ 18,  16,  14, ...,   0,   0,   0],\n       [ 16,  15,  12, ...,   0,   0,   0],\n       [ 15,  14,  10, ...,   0,   0,   0],\n       ...,\n       [  0,   0,   0, ..., 224, 228, 234],\n       [  0,   0,   0, ..., 237, 243, 252],\n       [  0,   0,   0, ..., 138, 146, 158]], dtype=uint8), '0', '3'], [array([[255, 141,  84, ...,  48,  54,  57],\n       [208, 118,  84, ...,  56,  60,  63],\n       [130,  86,  75, ...,  57,  62,  64],\n       ...,\n       [128, 120, 116, ..., 160, 178, 194],\n       [146, 132, 124, ..., 166, 183, 200],\n       [164, 146, 135, ..., 172, 189, 202]], dtype=uint8), '0', '3'], [array([[255, 255, 255, ..., 255, 255, 237],\n       [255, 255, 255, ..., 255, 255, 231],\n       [255, 255, 255, ..., 255, 255, 225],\n       ...,\n       [ 20,  20,  20, ...,  21,  14,   0],\n       [ 20,  20,  20, ...,  21,  14,   0],\n       [ 20,  20,  20, ...,  21,  14,   0]], dtype=uint8), '0', '3'], [array([[255, 255, 255, ..., 255, 255, 198],\n       [255, 255, 255, ..., 255, 255, 202],\n       [255, 255, 255, ..., 255, 255, 201],\n       ...,\n       [ 20,  20,  20, ...,  96, 122,  81],\n       [ 20,  20,  20, ...,  96, 123,  81],\n       [ 20,  20,  20, ...,  96, 123,  81]], dtype=uint8), '0', '3'], [array([[  0,   0,   0, ...,   8,   8,   8],\n       [  0,   0,   0, ...,  12,  12,  12],\n       [  0,   0,   0, ...,  14,  14,  14],\n       ...,\n       [  0,   0,   0, ..., 255, 255, 255],\n       [  0,   0,   0, ..., 255, 255, 255],\n       [  0,   0,   0, ...,  24,  24,  22]], dtype=uint8), '0', '3'], [array([[ 98,  92,  87, ..., 224, 224, 225],\n       [ 90,  84,  78, ..., 218, 220, 224],\n       [ 82,  78,  74, ..., 210, 218, 224],\n       ...,\n       [ 63,  63,  62, ..., 206, 208, 210],\n       [ 64,  64,  64, ..., 207, 208, 210],\n       [ 64,  64,  64, ..., 207, 208, 210]], dtype=uint8), '0', '3'], [array([[  3,   2,   2, ..., 204, 213, 234],\n       [  3,   2,   2, ..., 154, 164, 184],\n       [  2,   2,   0, ..., 126, 135, 156],\n       ...,\n       [170, 170, 170, ..., 138, 158, 177],\n       [171, 171, 171, ..., 138, 158, 178],\n       [172, 172, 172, ..., 138, 158, 178]], dtype=uint8), '0', '3'], [array([[110,  96,  87, ...,  69,  70,  70],\n       [108,  96,  87, ...,  58,  60,  62],\n       [108,  96,  87, ...,  50,  51,  52],\n       ...,\n       [ 20,  21,  20, ...,  48,  56,  63],\n       [ 21,  22,  22, ...,  46,  56,  63],\n       [ 22,  24,  24, ...,  46,  56,  63]], dtype=uint8), '0', '3'], [array([[0, 0, 0, ..., 0, 0, 0],\n       [0, 0, 0, ..., 0, 0, 0],\n       [0, 0, 0, ..., 0, 0, 0],\n       ...,\n       [0, 0, 0, ..., 0, 0, 0],\n       [0, 0, 0, ..., 0, 0, 0],\n       [0, 0, 0, ..., 0, 0, 0]], dtype=uint8), '1', '3'], [array([[0, 0, 0, ..., 0, 0, 0],\n       [0, 0, 0, ..., 0, 0, 0],\n       [0, 0, 0, ..., 0, 0, 0],\n       ...,\n       [0, 0, 0, ..., 0, 0, 0],\n       [0, 0, 0, ..., 0, 0, 0],\n       [0, 0, 0, ..., 0, 0, 0]], dtype=uint8), '1', '3'], [array([[  0,   2,   0, ...,   0,   2,   2],\n       [  0,   0,   0, ...,   0,   0,   0],\n       [  0,   3,   0, ...,   0,   0,   2],\n       ...,\n       [150, 255, 255, ...,   8,   8,   8],\n       [176, 255, 255, ...,   8,   8,   8],\n       [ 76, 153, 128, ...,   3,   3,   3]], dtype=uint8), '0', '3'], [array([[  0,   3,  20, ...,  18,  18,  18],\n       [  2,   8,  26, ...,  32,  32,  32],\n       [  2,   8,  26, ...,  30,  30,  30],\n       ...,\n       [  0,   9,  26, ..., 130, 132, 129],\n       [  2,   6,  16, ...,  78,  81,  78],\n       [  0,   0,   3, ...,   0,   0,   0]], dtype=uint8), '0', '3'], [array([[110, 210, 174, ...,  34,  38,  20],\n       [249, 255, 255, ...,  58,  60,  44],\n       [194, 255, 255, ...,  51,  52,  36],\n       ...,\n       [ 28,  44,  39, ...,  42,  51,  39],\n       [ 30,  44,  39, ...,  44,  54,  45],\n       [ 16,  28,  22, ...,  21,  28,  18]], dtype=uint8), '0', '3'], [array([[116, 196, 164, ...,  39,  48,  26],\n       [240, 255, 195, ...,  78,  86,  60],\n       [156, 156,  54, ...,  74,  78,  51],\n       ...,\n       [ 14,  20,  18, ...,  57,  60,  38],\n       [  9,  14,  12, ...,  42,  45,  32],\n       [  2,   6,   4, ...,   4,   8,   2]], dtype=uint8), '0', '3'], [array([[ 26,  26,  24, ..., 255, 255, 252],\n       [ 21,  20,  18, ..., 255, 255, 250],\n       [ 15,  15,  14, ..., 255, 255, 250],\n       ...,\n       [ 22,  22,  22, ..., 255, 255, 250],\n       [ 26,  26,  26, ..., 255, 255, 250],\n       [ 27,  27,  27, ..., 255, 255, 250]], dtype=uint8), '0', '3'], [array([[255, 255, 255, ..., 255, 255, 222],\n       [255, 255, 255, ..., 255, 255, 213],\n       [255, 255, 255, ..., 255, 255, 206],\n       ...,\n       [170, 147, 124, ...,   9,   4,   0],\n       [170, 147, 124, ...,   9,   4,   0],\n       [170, 147, 124, ...,   9,   4,   0]], dtype=uint8), '0', '3'], [array([[  2,   4,   6, ...,   4,   4,   3],\n       [  6,   9,  10, ...,   8,   6,   4],\n       [  8,   9,  10, ...,   8,   6,   3],\n       ...,\n       [ 62, 110, 105, ..., 148, 146,  80],\n       [ 66, 108, 100, ..., 147, 150,  88],\n       [ 26,  62,  48, ...,  74,  84,  30]], dtype=uint8), '0', '3'], [array([[  2,   2,   3, ...,   4,   3,   2],\n       [  3,   3,   3, ...,   6,   4,   4],\n       [  3,   4,   4, ...,   8,   6,   6],\n       ...,\n       [  4,   6,   8, ..., 255, 255, 150],\n       [  3,   4,   6, ..., 255, 255, 164],\n       [  2,   3,   4, ..., 124, 152,  70]], dtype=uint8), '0', '3'], [array([[255, 255, 255, ...,   4,   3,   2],\n       [255, 255, 255, ...,   0,   0,   0],\n       [255, 255, 255, ...,   0,   0,   0],\n       ...,\n       [255, 255, 255, ...,  56,  36,   9],\n       [255, 255, 255, ...,  60,  40,  14],\n       [255, 255, 255, ...,  63,  44,  15]], dtype=uint8), '0', '3'], [array([[ 12,  12,  14, ..., 255, 255, 255],\n       [ 10,  10,  12, ..., 255, 255, 255],\n       [  9,  10,  10, ..., 255, 255, 255],\n       ...,\n       [ 81,  98, 104, ...,  34,  36,  36],\n       [112,  94, 100, ...,  34,  34,  36],\n       [160, 100,  98, ...,  36,  36,  36]], dtype=uint8), '0', '3'], [array([[ 0,  0,  0, ...,  0,  0,  0],\n       [ 0,  0,  0, ...,  0,  0,  0],\n       [ 0,  0,  0, ...,  0,  0,  0],\n       ...,\n       [20, 38, 34, ...,  0,  0,  0],\n       [22, 39, 34, ...,  0,  0,  0],\n       [ 8, 22, 20, ...,  0,  0,  0]], dtype=uint8), '0', '3'], [array([[0, 0, 2, ..., 3, 3, 3],\n       [2, 2, 2, ..., 4, 3, 3],\n       [2, 2, 3, ..., 4, 4, 4],\n       ...,\n       [3, 3, 2, ..., 3, 2, 2],\n       [3, 3, 2, ..., 2, 2, 2],\n       [3, 3, 2, ..., 2, 0, 0]], dtype=uint8), '0', '3'], [array([[2, 3, 4, ..., 2, 2, 2],\n       [3, 4, 6, ..., 2, 2, 2],\n       [4, 6, 6, ..., 3, 2, 2],\n       ...,\n       [0, 0, 0, ..., 0, 0, 0],\n       [0, 0, 0, ..., 0, 0, 0],\n       [0, 0, 0, ..., 0, 0, 0]], dtype=uint8), '0', '3'], [array([[222, 220, 219, ..., 255, 255, 255],\n       [196, 196, 195, ..., 255, 255, 255],\n       [168, 170, 170, ..., 255, 255, 255],\n       ...,\n       [ 28,  34,  42, ..., 255, 255, 255],\n       [ 28,  34,  42, ..., 255, 255, 255],\n       [ 28,  34,  42, ..., 255, 255, 255]], dtype=uint8), '0', '3'], [array([[  2,   2,   3, ..., 130, 138,  87],\n       [  3,   3,   3, ..., 255, 255, 177],\n       [  3,   4,   4, ..., 255, 255, 171],\n       ...,\n       [  8,  12,  12, ...,  12,  10,   8],\n       [  4,  10,  10, ...,   9,   9,   6],\n       [  2,   8,   8, ...,   6,   4,   3]], dtype=uint8), '0', '3'], [array([[255, 255, 255, ..., 255, 255, 220],\n       [255, 255, 255, ..., 255, 255, 219],\n       [255, 255, 255, ..., 255, 255, 214],\n       ...,\n       [102,  90,  76, ...,  87,  94,  52],\n       [102,  90,  76, ...,  88,  96,  54],\n       [102,  90,  76, ...,  90,  98,  57]], dtype=uint8), '0', '3'], [array([[  0,   0,   0, ...,   2,   2,   2],\n       [  0,   0,   0, ...,   2,   2,   2],\n       [  0,   0,   0, ...,   2,   2,   2],\n       ...,\n       [ 96, 100, 105, ...,   0,   0,   0],\n       [ 98, 102, 106, ...,   0,   0,   0],\n       [102, 105, 110, ...,   0,   0,   0]], dtype=uint8), '0', '3'], [array([[ 0,  0,  2, ...,  3,  3,  3],\n       [ 2,  2,  2, ...,  4,  4,  4],\n       [ 2,  2,  3, ...,  4,  4,  4],\n       ...,\n       [52, 34, 15, ..., 78, 82, 50],\n       [44, 28, 14, ..., 66, 72, 46],\n       [24, 12,  3, ..., 30, 39, 20]], dtype=uint8), '0', '3'], [array([[158, 152, 144, ..., 220, 222, 226],\n       [158, 148, 142, ..., 190, 194, 198],\n       [152, 141, 142, ..., 170, 172, 178],\n       ...,\n       [ 33,  33,  30, ..., 116, 128, 141],\n       [ 33,  33,  30, ..., 117, 128, 141],\n       [ 34,  33,  30, ..., 117, 129, 142]], dtype=uint8), '0', '3'], [array([[14, 10,  9, ..., 21, 15,  6],\n       [12, 10,  9, ..., 15, 10,  3],\n       [12, 10,  8, ..., 10,  6,  0],\n       ...,\n       [36, 34, 32, ..., 44, 44, 21],\n       [42, 40, 38, ..., 48, 48, 26],\n       [50, 48, 45, ..., 51, 52, 27]], dtype=uint8), '0', '3'], [array([[234, 225, 218, ..., 255, 255, 204],\n       [201, 192, 183, ..., 255, 255, 202],\n       [171, 160, 150, ..., 255, 255, 195],\n       ...,\n       [255, 255, 255, ..., 255, 255, 243],\n       [255, 255, 255, ..., 255, 255, 246],\n       [255, 255, 255, ..., 255, 255, 250]], dtype=uint8), '0', '3'], [array([[  0,   0,   0, ...,   4,   4,   4],\n       [  0,   0,   0, ...,   8,   8,   8],\n       [  0,   0,   0, ...,   8,   8,   8],\n       ...,\n       [  0,   0,   0, ..., 218, 220, 219],\n       [  0,   0,   0, ..., 164, 165, 162],\n       [  0,   0,   0, ...,   2,   3,   0]], dtype=uint8), '0', '3'], [array([[  0,   0,   0, ...,   0,   0,   0],\n       [  0,   0,   0, ...,   0,   0,   0],\n       [  0,   0,   0, ...,   0,   0,   0],\n       ...,\n       [180, 186, 188, ...,  84,  74,  33],\n       [188, 192, 195, ...,  86,  78,  39],\n       [196, 201, 202, ...,  90,  84,  46]], dtype=uint8), '0', '3'], [array([[  2,   2,   3, ...,   2,   2,   2],\n       [  3,   3,   3, ...,   4,   3,   3],\n       [  3,   4,   4, ...,   4,   4,   4],\n       ...,\n       [ 44,  74,  70, ..., 132, 135,  76],\n       [ 42,  69,  64, ..., 129, 136,  87],\n       [ 16,  40,  33, ...,  60,  74,  32]], dtype=uint8), '0', '3'], [array([[166, 140, 123, ..., 255, 255, 252],\n       [136, 112,  98, ..., 255, 255, 246],\n       [111,  87,  75, ..., 255, 255, 240],\n       ...,\n       [  8,   8,   8, ..., 220, 255, 172],\n       [  8,   8,   8, ..., 222, 255, 174],\n       [  8,   8,   8, ..., 222, 255, 174]], dtype=uint8), '0', '3'], [array([[10, 10, 10, ...,  6,  3,  2],\n       [10, 10, 10, ...,  6,  3,  2],\n       [10, 10, 10, ...,  4,  3,  0],\n       ...,\n       [10, 10, 10, ..., 10,  6,  0],\n       [10, 10, 10, ..., 10,  6,  0],\n       [10, 10, 10, ..., 10,  6,  0]], dtype=uint8), '0', '3'], [array([[0, 4, 8, ..., 8, 8, 8],\n       [0, 4, 8, ..., 8, 8, 8],\n       [0, 4, 8, ..., 8, 8, 8],\n       ...,\n       [2, 4, 8, ..., 9, 9, 9],\n       [2, 4, 8, ..., 8, 8, 8],\n       [0, 2, 3, ..., 2, 2, 2]], dtype=uint8), '0', '3'], [array([[ 2,  3,  4, ...,  8,  6,  3],\n       [ 3,  4,  6, ..., 12, 10,  8],\n       [ 4,  6,  8, ..., 14, 12,  9],\n       ...,\n       [14, 33, 42, ..., 28, 24, 14],\n       [15, 32, 39, ..., 14,  9,  9],\n       [ 6, 18, 20, ...,  8,  0,  2]], dtype=uint8), '0', '3'], [array([[ 74, 148, 120, ...,  64,  80,  39],\n       [162, 255, 255, ..., 146, 150,  92],\n       [144, 255, 255, ..., 144, 147,  80],\n       ...,\n       [ 18,  28,  27, ..., 122, 116,  64],\n       [ 20,  32,  28, ..., 126, 124,  80],\n       [  6,  16,  14, ...,  62,  68,  27]], dtype=uint8), '0', '3'], [array([[64, 34,  9, ..., 12, 15,  4],\n       [39, 24, 10, ..., 26, 28, 16],\n       [14, 12, 10, ..., 21, 26, 14],\n       ...,\n       [ 9,  9, 10, ...,  4,  4,  4],\n       [ 4,  6,  9, ...,  4,  3,  3],\n       [ 4,  4,  4, ...,  2,  2,  2]], dtype=uint8), '0', '3'], [array([[  2,   2,   3, ...,   3,   2,   0],\n       [  3,   3,   3, ...,   4,   3,   0],\n       [  3,   4,   4, ...,   6,   3,   0],\n       ...,\n       [148, 236, 242, ..., 200, 190,   8],\n       [122, 177, 183, ..., 168, 146,  18],\n       [  0,   8,   0, ...,   0,   0,   0]], dtype=uint8), '0', '3'], [array([[ 26,  62,  51, ...,  36,  42,  21],\n       [ 68, 108, 102, ...,  68,  72,  51],\n       [ 57,  99,  96, ...,  60,  64,  42],\n       ...,\n       [117, 198, 195, ...,  99, 110,  69],\n       [142, 219, 208, ..., 104, 114,  76],\n       [ 54, 123, 105, ...,  56,  66,  30]], dtype=uint8), '0', '3'], [array([[ 0,  0,  0, ..., 21, 21, 21],\n       [ 0,  0,  0, ..., 34, 34, 34],\n       [ 0,  0,  0, ..., 32, 32, 32],\n       ...,\n       [ 0,  0,  0, ...,  0,  0,  0],\n       [ 0,  0,  0, ...,  0,  0,  0],\n       [ 0,  0,  0, ...,  0,  0,  0]], dtype=uint8), '0', '3'], [array([[2, 2, 3, ..., 4, 3, 2],\n       [3, 3, 3, ..., 6, 4, 3],\n       [3, 4, 4, ..., 8, 6, 4],\n       ...,\n       [0, 0, 0, ..., 0, 0, 0],\n       [0, 0, 0, ..., 0, 0, 0],\n       [0, 0, 0, ..., 0, 0, 0]], dtype=uint8), '0', '3'], [array([[  2,   2,   2, ...,  92, 114,  50],\n       [  2,   2,   2, ..., 196, 206, 124],\n       [  2,   2,   2, ..., 192, 198, 110],\n       ...,\n       [  3,   3,   3, ...,   3,   3,   2],\n       [  2,   2,   2, ...,   3,   2,   2],\n       [  0,   0,   0, ...,   2,   2,   2]], dtype=uint8), '0', '3'], [array([[255, 244, 230, ..., 255, 255, 230],\n       [242, 228, 212, ..., 255, 255, 234],\n       [225, 212, 196, ..., 255, 255, 231],\n       ...,\n       [ 28,  27,  24, ...,  34,  36,  18],\n       [ 28,  27,  26, ...,  36,  38,  20],\n       [ 28,  27,  26, ...,  36,  39,  21]], dtype=uint8), '0', '3'], [array([[255, 255, 255, ..., 255, 255, 214],\n       [255, 255, 255, ..., 255, 255, 208],\n       [255, 255, 255, ..., 255, 255, 208],\n       ...,\n       [111, 114, 118, ...,  21,  14,   0],\n       [117, 118, 123, ...,  21,  14,   0],\n       [123, 123, 126, ...,  21,  14,   0]], dtype=uint8), '0', '3'], [array([[130, 112,  96, ...,  66,  58,  30],\n       [108,  92,  76, ...,  48,  40,  14],\n       [ 84,  69,  57, ...,  30,  24,   2],\n       ...,\n       [  0,   0,   0, ...,   0,   0,   0],\n       [  0,   0,   0, ...,   0,   0,   0],\n       [  0,   0,   0, ...,   0,   0,   0]], dtype=uint8), '0', '3'], [array([[255, 255, 255, ..., 255, 255, 214],\n       [255, 255, 255, ..., 255, 255, 213],\n       [255, 255, 255, ..., 255, 255, 208],\n       ...,\n       [ 12,  12,  10, ...,  32,  33,  12],\n       [ 14,  12,  10, ...,  33,  34,  14],\n       [ 14,  12,  12, ...,  34,  36,  15]], dtype=uint8), '0', '3'], [array([[255, 255, 249, ..., 184, 196, 117],\n       [254, 238, 225, ..., 158, 170,  94],\n       [230, 213, 200, ..., 130, 140,  74],\n       ...,\n       [ 46,  42,  38, ...,  27,  15,   0],\n       [ 50,  45,  39, ...,  28,  16,   2],\n       [ 51,  45,  39, ...,  30,  18,   3]], dtype=uint8), '0', '3'], [array([[ 98,  81,  63, ..., 250, 255, 198],\n       [ 75,  60,  45, ..., 214, 246, 166],\n       [ 52,  42,  30, ..., 180, 210, 138],\n       ...,\n       [  0,   0,   0, ...,  40,  50,  33],\n       [  0,   0,   0, ...,  40,  50,  32],\n       [  0,   0,   0, ...,  40,  48,  32]], dtype=uint8), '0', '3'], [array([[255, 255, 255, ..., 255, 255, 248],\n       [255, 255, 255, ..., 255, 255, 244],\n       [255, 255, 255, ..., 255, 255, 237],\n       ...,\n       [  9,   9,   9, ...,  24,  16,   0],\n       [  9,   9,   9, ...,  24,  16,   0],\n       [  9,   9,   9, ...,  24,  16,   0]], dtype=uint8), '0', '3'], [array([[8, 8, 8, ..., 6, 6, 6],\n       [8, 8, 8, ..., 6, 6, 6],\n       [8, 8, 8, ..., 6, 6, 6],\n       ...,\n       [0, 0, 0, ..., 8, 8, 8],\n       [0, 0, 0, ..., 8, 8, 8],\n       [0, 0, 0, ..., 8, 8, 8]], dtype=uint8), '0', '3'], [array([[ 0,  0,  0, ...,  0,  0,  0],\n       [ 0,  0,  0, ...,  0,  2,  2],\n       [ 0,  0,  0, ..., 24, 24, 24],\n       ...,\n       [ 0,  0,  0, ..., 33, 33, 33],\n       [ 0,  0,  0, ..., 34, 34, 34],\n       [ 0,  0,  0, ..., 36, 36, 36]], dtype=uint8), '0', '3'], [array([[  0,   2,   0, ...,   0,   0,   0],\n       [  2,   3,   0, ...,   0,   0,   0],\n       [  0,   2,   0, ...,   0,   0,   0],\n       ...,\n       [ 93, 118,  70, ...,  10,  10,   4],\n       [136, 164, 105, ...,  15,  12,   9],\n       [ 69, 110,  60, ...,   8,   3,   4]], dtype=uint8), '1', '3'], [array([[238, 220, 206, ..., 225, 225, 224],\n       [237, 220, 204, ..., 226, 226, 226],\n       [236, 218, 201, ..., 224, 224, 224],\n       ...,\n       [ 44,  44,  44, ..., 212, 212, 208],\n       [ 46,  48,  46, ..., 210, 212, 210],\n       [ 48,  50,  50, ..., 210, 212, 210]], dtype=uint8), '0', '3'], [array([[255, 255, 255, ...,  36,  26,   6],\n       [255, 255, 255, ...,  26,  16,   0],\n       [255, 255, 255, ...,  18,  10,   0],\n       ...,\n       [124, 104,  86, ...,  96,  94,  51],\n       [124, 105,  88, ..., 102, 100,  54],\n       [126, 106,  90, ..., 108, 105,  57]], dtype=uint8), '0', '3'], [array([[ 0,  0,  0, ...,  0,  0,  0],\n       [ 0,  0,  0, ...,  0,  0,  0],\n       [ 0,  0,  0, ...,  0,  0,  0],\n       ...,\n       [ 0,  0,  0, ..., 15, 15, 16],\n       [ 0,  0,  0, ..., 10, 12, 12],\n       [ 0,  0,  0, ...,  2,  2,  2]], dtype=uint8), '0', '3'], [array([[  2,   0,   0, ...,   0,   2,   0],\n       [  2,   0,   0, ...,   0,   2,   0],\n       [  2,   0,   0, ...,   0,   2,   0],\n       ...,\n       [ 80, 140, 140, ..., 224, 226, 129],\n       [ 78, 135, 130, ..., 224, 230, 147],\n       [ 30,  80,  66, ..., 106, 122,  56]], dtype=uint8), '0', '3'], [array([[  0,   0,   0, ..., 114, 132, 152],\n       [  0,   0,   0, ...,  88, 105, 124],\n       [  0,   0,   0, ...,  66,  82,  99],\n       ...,\n       [100,  87,  74, ..., 255, 243, 224],\n       [105,  90,  72, ..., 255, 254, 238],\n       [110,  90,  69, ..., 255, 255, 255]], dtype=uint8), '0', '3'], [array([[  0,   0,   2, ...,   2,   0,   0],\n       [  2,   2,   2, ...,   2,   2,   2],\n       [  2,   2,   3, ...,   3,   2,   2],\n       ...,\n       [  3,   3,   4, ..., 153, 138,  66],\n       [  3,   3,   3, ..., 154, 141,  72],\n       [  2,   3,   3, ...,  72,  76,  22]], dtype=uint8), '1', '3'], [array([[  0,   0,   2, ...,   2,   0,   0],\n       [  2,   2,   2, ...,   2,   2,   2],\n       [  2,   2,   3, ...,   3,   2,   2],\n       ...,\n       [  3,   3,   4, ..., 153, 138,  66],\n       [  3,   3,   3, ..., 154, 141,  72],\n       [  2,   3,   3, ...,  72,  76,  22]], dtype=uint8), '1', '3'], [array([[  0,   0,   0, ...,   0,   0,   0],\n       [  0,   0,   0, ...,   0,   0,   0],\n       [  0,   0,   0, ...,   0,   0,   0],\n       ...,\n       [  0,   0,   0, ..., 136, 142,  86],\n       [  0,   0,   0, ..., 138, 144,  88],\n       [  0,   0,   0, ..., 141, 147,  92]], dtype=uint8), '0', '3'], [array([[ 0,  2,  4, ...,  4,  4,  4],\n       [ 0,  3,  6, ...,  8,  8,  8],\n       [ 2,  4,  8, ...,  8,  8,  8],\n       ...,\n       [ 0,  2,  4, ..., 12, 12, 12],\n       [ 2,  3,  6, ...,  9,  9,  9],\n       [ 0,  0,  2, ...,  0,  0,  0]], dtype=uint8), '0', '3'], [array([[ 10,  10,   9, ...,  14,   8,   0],\n       [ 10,  10,   9, ...,  12,   6,   0],\n       [ 10,  10,   9, ...,  10,   4,   0],\n       ...,\n       [  0,   0,   0, ..., 148, 177, 108],\n       [  0,   0,   0, ..., 148, 178, 110],\n       [  0,   0,   0, ..., 150, 178, 110]], dtype=uint8), '0', '3'], [array([[6, 6, 6, ..., 8, 4, 0],\n       [6, 6, 6, ..., 8, 4, 0],\n       [6, 6, 6, ..., 8, 4, 0],\n       ...,\n       [6, 6, 6, ..., 2, 2, 0],\n       [8, 8, 8, ..., 2, 2, 0],\n       [8, 8, 8, ..., 2, 2, 0]], dtype=uint8), '0', '3'], [array([[  3,   3,   3, ...,   8,   8,   3],\n       [  3,   3,   4, ...,  14,  12,   6],\n       [  3,   4,   4, ...,  16,  15,   9],\n       ...,\n       [ 30,  51,  51, ..., 144, 144,  84],\n       [ 30,  50,  46, ..., 138, 144,  92],\n       [ 10,  27,  24, ...,  66,  78,  34]], dtype=uint8), '1', '3'], [array([[  0,   3,  14, ...,  12,  12,  12],\n       [  2,   8,  21, ...,  20,  20,  20],\n       [  2,   8,  21, ...,  21,  21,  21],\n       ...,\n       [  0,  30, 100, ..., 255, 255, 255],\n       [  4,  21,  64, ..., 204, 200, 201],\n       [  0,   0,   3, ...,   3,   0,   0]], dtype=uint8), '0', '3'], [array([[150, 123,  98, ..., 255, 255, 255],\n       [ 90,  75,  66, ..., 255, 255, 255],\n       [ 69,  62,  60, ..., 255, 255, 255],\n       ...,\n       [255, 255, 255, ..., 255, 255, 255],\n       [255, 255, 255, ..., 255, 255, 255],\n       [255, 255, 255, ..., 255, 255, 255]], dtype=uint8), '0', '3'], [array([[ 0,  0,  0, ...,  0,  0,  0],\n       [ 0,  0,  0, ...,  0,  0,  0],\n       [ 0,  0,  0, ...,  0,  0,  0],\n       ...,\n       [ 0,  0,  0, ..., 26, 26, 27],\n       [ 0,  0,  0, ..., 21, 21, 22],\n       [ 0,  0,  0, ...,  0,  0,  2]], dtype=uint8), '0', '3'], [array([[255, 255, 255, ..., 255, 255, 234],\n       [255, 255, 255, ..., 255, 255, 231],\n       [255, 255, 255, ..., 255, 255, 225],\n       ...,\n       [ 14,  14,  14, ...,  12,   3,   0],\n       [ 14,  14,  14, ...,  14,   3,   0],\n       [ 14,  14,  14, ...,  16,   6,   2]], dtype=uint8), '0', '3'], [array([[ 28,  27,  26, ..., 225, 220, 219],\n       [ 27,  26,  24, ..., 218, 216, 218],\n       [ 27,  26,  24, ..., 214, 216, 220],\n       ...,\n       [ 81,  76,  74, ..., 225, 226, 231],\n       [ 81,  76,  74, ..., 226, 226, 230],\n       [ 84,  78,  75, ..., 226, 225, 225]], dtype=uint8), '0', '3'], [array([[255, 255, 255, ..., 255, 255, 250],\n       [255, 255, 255, ..., 255, 255, 250],\n       [255, 255, 255, ..., 255, 255, 252],\n       ...,\n       [ 18,  18,  18, ...,  28,  30,   9],\n       [ 18,  18,  18, ...,  28,  30,   9],\n       [ 18,  18,  18, ...,  28,  30,   9]], dtype=uint8), '0', '3'], [array([[  0,   0,   0, ...,   0,   0,   0],\n       [  0,   0,   0, ...,   0,   0,   0],\n       [  0,   0,   0, ...,   0,   0,   0],\n       ...,\n       [  9,  21,  18, ..., 255, 255, 147],\n       [  8,  20,  16, ..., 255, 255, 162],\n       [  3,  14,  12, ..., 166, 200,  87]], dtype=uint8), '0', '3'], [array([[ 15,  36,  32, ..., 110, 135,  60],\n       [ 45,  68,  63, ..., 219, 232, 150],\n       [ 38,  60,  57, ..., 198, 204, 117],\n       ...,\n       [141, 252, 248, ...,  44,  46,  30],\n       [159, 255, 252, ...,  44,  46,  30],\n       [ 68, 130, 114, ...,  22,  26,   9]], dtype=uint8), '0', '3'], [array([[255, 255, 255, ..., 255, 255, 171],\n       [255, 255, 255, ..., 249, 255, 166],\n       [255, 255, 255, ..., 243, 255, 164],\n       ...,\n       [152, 153, 153, ...,   8,   4,   0],\n       [153, 152, 152, ...,   8,   4,   0],\n       [159, 153, 150, ...,   8,   4,   0]], dtype=uint8), '0', '3'], [array([[255, 255, 255, ...,  52,  44,  26],\n       [255, 255, 255, ...,  34,  26,   9],\n       [255, 255, 255, ...,  22,  15,   2],\n       ...,\n       [158, 134, 110, ...,   8,   4,   0],\n       [159, 135, 111, ...,   9,   4,   0],\n       [162, 138, 116, ...,   9,   6,   2]], dtype=uint8), '0', '3'], [array([[255, 255, 255, ..., 255, 255, 243],\n       [255, 255, 255, ..., 255, 255, 238],\n       [255, 255, 255, ..., 255, 255, 237],\n       ...,\n       [ 22,  21,  21, ...,  24,  16,   0],\n       [ 22,  21,  21, ...,  24,  16,   0],\n       [ 22,  21,  21, ...,  24,  16,   0]], dtype=uint8), '0', '3'], [array([[  0,   0,   0, ...,   0,   0,   0],\n       [  0,   0,   0, ...,   0,   0,   0],\n       [  0,   0,   0, ...,   0,   0,   0],\n       ...,\n       [  0, 106, 255, ...,   0,   0,   0],\n       [  6,  86, 250, ...,   0,   0,   0],\n       [  0,   0,   3, ...,   0,   0,   0]], dtype=uint8), '0', '3'], [array([[255, 255, 255, ..., 255, 255, 231],\n       [255, 255, 255, ..., 255, 255, 216],\n       [255, 255, 255, ..., 252, 255, 200],\n       ...,\n       [170, 142, 124, ...,  22,  15,   0],\n       [170, 142, 124, ...,  26,  18,   2],\n       [166, 141, 124, ...,  27,  20,   3]], dtype=uint8), '0', '3'], [array([[ 2,  9,  9, ..., 18, 22, 15],\n       [ 8, 15, 15, ..., 30, 33, 24],\n       [ 9, 16, 16, ..., 30, 32, 21],\n       ...,\n       [10, 21, 18, ..., 26, 27, 15],\n       [ 8, 18, 15, ..., 26, 27, 16],\n       [ 2, 12,  9, ..., 10, 12,  2]], dtype=uint8), '0', '3'], [array([[ 9, 28,  4, ...,  6,  4,  3],\n       [22, 42, 15, ...,  8,  6,  6],\n       [22, 44, 16, ...,  9,  8,  6],\n       ...,\n       [38, 63, 60, ..., 81, 82, 45],\n       [38, 60, 57, ..., 82, 87, 52],\n       [12, 33, 28, ..., 40, 50, 18]], dtype=uint8), '1', '3'], [array([[ 9, 28,  4, ...,  6,  4,  3],\n       [22, 42, 15, ...,  8,  6,  6],\n       [22, 44, 16, ...,  9,  8,  6],\n       ...,\n       [38, 63, 60, ..., 81, 82, 45],\n       [38, 60, 57, ..., 82, 87, 52],\n       [12, 33, 28, ..., 40, 50, 18]], dtype=uint8), '1', '3'], [array([[ 42,  34,  14, ...,  16,   8,   9],\n       [ 39,  38,  22, ...,  26,  26,  20],\n       [ 16,  24,  18, ...,  21,  28,  14],\n       ...,\n       [  8,  15,  15, ..., 255, 255, 165],\n       [  8,  14,  15, ..., 255, 255, 188],\n       [  2,   8,   9, ..., 135, 162,  80]], dtype=uint8), '0', '3'], [array([[116,  96,  80, ..., 134, 159, 105],\n       [112,  94,  78, ..., 111, 135,  84],\n       [112,  94,  78, ...,  88, 110,  66],\n       ...,\n       [ 15,  15,  14, ..., 255, 255, 218],\n       [ 16,  16,  16, ..., 255, 255, 222],\n       [ 20,  18,  18, ..., 255, 255, 226]], dtype=uint8), '0', '3'], [array([[  4,  15,  12, ...,  12,  15,   4],\n       [ 16,  28,  26, ...,  24,  28,  18],\n       [ 15,  26,  24, ...,  22,  26,  15],\n       ...,\n       [ 48,  98, 105, ..., 244, 243, 138],\n       [ 60, 105, 108, ..., 249, 249, 156],\n       [ 21,  58,  51, ..., 116, 134,  63]], dtype=uint8), '0', '3'], [array([[ 45,  30,  21, ...,  88,  92,  94],\n       [ 42,  28,  20, ...,  57,  58,  62],\n       [ 39,  27,  18, ...,  36,  39,  40],\n       ...,\n       [198, 198, 198, ..., 186, 186, 188],\n       [198, 198, 196, ..., 186, 188, 188],\n       [200, 198, 195, ..., 189, 189, 189]], dtype=uint8), '0', '3'], [array([[  0,   0,   0, ...,   0,   0,   0],\n       [  0,   0,   0, ...,   0,   0,   0],\n       [  0,   0,   0, ...,   0,   0,   0],\n       ...,\n       [  0,   0,   0, ..., 255, 255, 176],\n       [  0,   0,   0, ..., 255, 255, 182],\n       [  0,   0,   0, ..., 255, 255, 188]], dtype=uint8), '0', '3'], [array([[ 99,  84,  64, ..., 255, 255, 198],\n       [ 74,  62,  45, ..., 255, 255, 189],\n       [ 51,  40,  28, ..., 254, 255, 183],\n       ...,\n       [  2,   2,   2, ...,  56,  80,  56],\n       [  2,   2,   2, ...,  57,  80,  57],\n       [  2,   2,   2, ...,  58,  81,  58]], dtype=uint8), '0', '3'], [array([[255, 255, 255, ..., 255, 255, 222],\n       [255, 255, 255, ..., 255, 255, 220],\n       [255, 255, 255, ..., 255, 255, 222],\n       ...,\n       [ 18,  18,  18, ...,  20,  14,   0],\n       [ 18,  18,  18, ...,  20,  14,   0],\n       [ 18,  18,  18, ...,  20,  14,   0]], dtype=uint8), '0', '3'], [array([[140, 114,  94, ...,  18,  14,   4],\n       [138, 112,  93, ...,  10,   8,   0],\n       [138, 111,  93, ...,   4,   2,   0],\n       ...,\n       [ 20,  15,  10, ..., 132, 170, 123],\n       [ 22,  18,  15, ..., 135, 171, 126],\n       [ 27,  22,  18, ..., 135, 172, 128]], dtype=uint8), '0', '3'], [array([[ 58,  58,  57, ...,  66,  72,  78],\n       [ 64,  64,  63, ...,  69,  75,  81],\n       [ 66,  64,  64, ...,  68,  72,  78],\n       ...,\n       [255, 255, 255, ..., 255, 255, 255],\n       [255, 255, 255, ..., 255, 255, 255],\n       [255, 255, 255, ..., 255, 255, 255]], dtype=uint8), '0', '3'], [array([[232, 231, 230, ..., 212, 212, 210],\n       [224, 231, 231, ..., 214, 214, 214],\n       [218, 226, 226, ..., 228, 228, 226],\n       ...,\n       [  0,   0,   2, ..., 228, 216, 210],\n       [  0,   0,   0, ..., 226, 214, 208],\n       [  0,   0,   0, ..., 230, 214, 206]], dtype=uint8), '0', '3'], [array([[ 74, 142, 123, ..., 106, 128,  58],\n       [176, 255, 255, ..., 234, 242, 152],\n       [150, 255, 255, ..., 230, 232, 130],\n       ...,\n       [ 33,  54,  54, ..., 255, 255, 188],\n       [ 34,  52,  52, ..., 255, 255, 201],\n       [ 12,  30,  28, ..., 150, 171,  92]], dtype=uint8), '0', '3'], [array([[  6,  10,  10, ...,  12,  15,   4],\n       [ 12,  18,  18, ...,  28,  30,  20],\n       [ 12,  18,  20, ...,  28,  30,  16],\n       ...,\n       [  2,   2,   2, ..., 160, 166,  96],\n       [  2,   2,   2, ..., 165, 172, 110],\n       [  2,   2,   2, ...,  82,  94,  39]], dtype=uint8), '1', '3'], [array([[ 0,  4, 10, ...,  3,  2,  2],\n       [ 2,  9, 15, ...,  4,  3,  3],\n       [ 2,  9, 15, ...,  4,  4,  3],\n       ...,\n       [ 0,  0,  0, ...,  0,  0,  0],\n       [ 0,  0,  0, ...,  0,  0,  0],\n       [ 0,  0,  0, ...,  0,  0,  0]], dtype=uint8), '0', '3'], [array([[ 0,  3,  2, ...,  0,  0,  0],\n       [ 0,  0,  0, ...,  0,  0,  0],\n       [ 8,  0,  2, ...,  0,  0,  0],\n       ...,\n       [ 2,  8, 14, ...,  0,  0,  0],\n       [ 0,  6,  9, ...,  0,  0,  0],\n       [ 0,  0,  3, ...,  0,  0,  0]], dtype=uint8), '0', '3'], [array([[  0,   0,   0, ...,   0,   0,   0],\n       [  0,   0,   0, ...,   0,   0,   0],\n       [  0,   0,   0, ...,   0,   0,   0],\n       ...,\n       [ 66, 122, 128, ...,   0,   0,   0],\n       [ 76, 126, 124, ...,   0,   0,   0],\n       [ 28,  69,  62, ...,   0,   0,   0]], dtype=uint8), '0', '3'], [array([[  3,   4,   4, ...,   9,   9,   3],\n       [  6,   6,   8, ...,  16,  15,   9],\n       [  6,   8,   9, ...,  16,  16,  10],\n       ...,\n       [ 62, 110, 111, ...,   9,   8,   4],\n       [ 70, 112, 110, ...,   8,   6,   3],\n       [ 22,  58,  51, ...,   4,   3,   2]], dtype=uint8), '1', '3'], [array([[  3,   4,   4, ...,   9,   9,   3],\n       [  6,   6,   8, ...,  16,  15,   9],\n       [  6,   8,   9, ...,  16,  16,  10],\n       ...,\n       [ 62, 110, 111, ...,   9,   8,   4],\n       [ 70, 112, 110, ...,   8,   6,   3],\n       [ 22,  58,  51, ...,   4,   3,   2]], dtype=uint8), '1', '3'], [array([[  4,   4,   4, ...,  94, 122,  86],\n       [  4,   4,   4, ...,  92, 120,  84],\n       [  4,   4,   4, ...,  93, 122,  86],\n       ...,\n       [  8,   8,   8, ...,  87,  94,  57],\n       [ 10,  10,  10, ...,  93, 100,  62],\n       [ 12,  12,  12, ..., 100, 108,  69]], dtype=uint8), '0', '3'], [array([[0, 0, 0, ..., 0, 0, 0],\n       [0, 0, 0, ..., 0, 0, 0],\n       [0, 0, 0, ..., 0, 0, 0],\n       ...,\n       [0, 0, 0, ..., 0, 0, 0],\n       [0, 0, 0, ..., 0, 0, 0],\n       [0, 0, 0, ..., 0, 0, 0]], dtype=uint8), '0', '3'], [array([[104,  96,  93, ..., 116, 108,  57],\n       [ 94,  86,  78, ..., 108, 102,  51],\n       [ 82,  70,  58, ..., 102,  96,  46],\n       ...,\n       [255, 255, 255, ..., 255, 255, 237],\n       [255, 255, 255, ..., 255, 255, 236],\n       [255, 255, 255, ..., 255, 255, 238]], dtype=uint8), '0', '3'], [array([[  0,   0,   2, ...,   0,   0,   0],\n       [  4,   0,   0, ...,   2,   2,   2],\n       [  3,   0,   3, ...,   0,   0,   0],\n       ...,\n       [  0,  66, 207, ...,  63,  57,  66],\n       [  3,  51, 136, ...,  72,  66,  69],\n       [  0,   0,   0, ...,   3,   0,   0]], dtype=uint8), '0', '3']] with type list",
            "\nDuring handling of the above exception, another exception occurred:\n",
            "\u001b[0;31mValueError\u001b[0m                                Traceback (most recent call last)",
            "\u001b[0;32m<ipython-input-23-b4cf2420b24e>\u001b[0m in \u001b[0;36m<module>\u001b[0;34m()\u001b[0m\n\u001b[0;32m----> 1\u001b[0;31m \u001b[0mfederated_train_data\u001b[0m \u001b[0;34m=\u001b[0m \u001b[0mmake_federated_data\u001b[0m\u001b[0;34m(\u001b[0m\u001b[0mfinal_data\u001b[0m\u001b[0;34m,\u001b[0m \u001b[0mclient_set\u001b[0m\u001b[0;34m)\u001b[0m\u001b[0;34m\u001b[0m\u001b[0;34m\u001b[0m\u001b[0m\n\u001b[0m",
            "\u001b[0;32m<ipython-input-14-b52954437443>\u001b[0m in \u001b[0;36mmake_federated_data\u001b[0;34m(client_data, client_ids)\u001b[0m\n\u001b[1;32m      1\u001b[0m \u001b[0;32mdef\u001b[0m \u001b[0mmake_federated_data\u001b[0m\u001b[0;34m(\u001b[0m\u001b[0mclient_data\u001b[0m\u001b[0;34m,\u001b[0m \u001b[0mclient_ids\u001b[0m\u001b[0;34m)\u001b[0m\u001b[0;34m:\u001b[0m\u001b[0;34m\u001b[0m\u001b[0;34m\u001b[0m\u001b[0m\n\u001b[1;32m      2\u001b[0m   \u001b[0;32mfor\u001b[0m \u001b[0mx\u001b[0m \u001b[0;32min\u001b[0m \u001b[0mclient_ids\u001b[0m\u001b[0;34m:\u001b[0m\u001b[0;34m\u001b[0m\u001b[0;34m\u001b[0m\u001b[0m\n\u001b[0;32m----> 3\u001b[0;31m     \u001b[0;32mreturn\u001b[0m \u001b[0mcreate_tf_dataset_for_client\u001b[0m\u001b[0;34m(\u001b[0m\u001b[0mx\u001b[0m\u001b[0;34m)\u001b[0m\u001b[0;34m\u001b[0m\u001b[0;34m\u001b[0m\u001b[0m\n\u001b[0m\u001b[1;32m      4\u001b[0m \u001b[0;34m\u001b[0m\u001b[0m\n\u001b[1;32m      5\u001b[0m \u001b[0;34m\u001b[0m\u001b[0m\n",
            "\u001b[0;32m<ipython-input-22-689fd1efd56c>\u001b[0m in \u001b[0;36mcreate_tf_dataset_for_client\u001b[0;34m(client_id)\u001b[0m\n\u001b[1;32m      4\u001b[0m   \u001b[0mclient_data\u001b[0m \u001b[0;34m=\u001b[0m \u001b[0mdf\u001b[0m\u001b[0;34m[\u001b[0m\u001b[0mdf\u001b[0m\u001b[0;34m[\u001b[0m\u001b[0;34m'clientID'\u001b[0m\u001b[0;34m]\u001b[0m \u001b[0;34m==\u001b[0m \u001b[0mclient_id\u001b[0m\u001b[0;34m]\u001b[0m\u001b[0;34m\u001b[0m\u001b[0;34m\u001b[0m\u001b[0m\n\u001b[1;32m      5\u001b[0m   \u001b[0;31m# dataset = tf.data.Dataset.from_tensor_slices(client_data.to_dict('list'))\u001b[0m\u001b[0;34m\u001b[0m\u001b[0;34m\u001b[0m\u001b[0;34m\u001b[0m\u001b[0m\n\u001b[0;32m----> 6\u001b[0;31m   \u001b[0mdataset\u001b[0m \u001b[0;34m=\u001b[0m \u001b[0mtf\u001b[0m\u001b[0;34m.\u001b[0m\u001b[0mdata\u001b[0m\u001b[0;34m.\u001b[0m\u001b[0mDataset\u001b[0m\u001b[0;34m.\u001b[0m\u001b[0mfrom_tensor_slices\u001b[0m\u001b[0;34m(\u001b[0m\u001b[0mclient_data\u001b[0m\u001b[0;34m.\u001b[0m\u001b[0mvalues\u001b[0m\u001b[0;34m.\u001b[0m\u001b[0mtolist\u001b[0m\u001b[0;34m(\u001b[0m\u001b[0;34m)\u001b[0m\u001b[0;34m)\u001b[0m\u001b[0;34m\u001b[0m\u001b[0;34m\u001b[0m\u001b[0m\n\u001b[0m\u001b[1;32m      7\u001b[0m   \u001b[0mdataset\u001b[0m \u001b[0;34m=\u001b[0m \u001b[0mdataset\u001b[0m\u001b[0;34m.\u001b[0m\u001b[0mshuffle\u001b[0m\u001b[0;34m(\u001b[0m\u001b[0mSHUFFLE_BUFFER\u001b[0m\u001b[0;34m)\u001b[0m\u001b[0;34m.\u001b[0m\u001b[0mbatch\u001b[0m\u001b[0;34m(\u001b[0m\u001b[0;36m1\u001b[0m\u001b[0;34m)\u001b[0m\u001b[0;34m.\u001b[0m\u001b[0mrepeat\u001b[0m\u001b[0;34m(\u001b[0m\u001b[0mNUM_EPOCHS\u001b[0m\u001b[0;34m)\u001b[0m\u001b[0;34m\u001b[0m\u001b[0;34m\u001b[0m\u001b[0m\n\u001b[1;32m      8\u001b[0m   \u001b[0;32mreturn\u001b[0m \u001b[0mdataset\u001b[0m\u001b[0;34m\u001b[0m\u001b[0;34m\u001b[0m\u001b[0m\n",
            "\u001b[0;32m/usr/local/lib/python3.6/dist-packages/tensorflow/python/data/ops/dataset_ops.py\u001b[0m in \u001b[0;36mfrom_tensor_slices\u001b[0;34m(tensors)\u001b[0m\n\u001b[1;32m    638\u001b[0m       \u001b[0mDataset\u001b[0m\u001b[0;34m:\u001b[0m \u001b[0mA\u001b[0m\u001b[0;31m \u001b[0m\u001b[0;31m`\u001b[0m\u001b[0mDataset\u001b[0m\u001b[0;31m`\u001b[0m\u001b[0;34m.\u001b[0m\u001b[0;34m\u001b[0m\u001b[0;34m\u001b[0m\u001b[0m\n\u001b[1;32m    639\u001b[0m     \"\"\"\n\u001b[0;32m--> 640\u001b[0;31m     \u001b[0;32mreturn\u001b[0m \u001b[0mTensorSliceDataset\u001b[0m\u001b[0;34m(\u001b[0m\u001b[0mtensors\u001b[0m\u001b[0;34m)\u001b[0m\u001b[0;34m\u001b[0m\u001b[0;34m\u001b[0m\u001b[0m\n\u001b[0m\u001b[1;32m    641\u001b[0m \u001b[0;34m\u001b[0m\u001b[0m\n\u001b[1;32m    642\u001b[0m   \u001b[0;32mclass\u001b[0m \u001b[0m_GeneratorState\u001b[0m\u001b[0;34m(\u001b[0m\u001b[0mobject\u001b[0m\u001b[0;34m)\u001b[0m\u001b[0;34m:\u001b[0m\u001b[0;34m\u001b[0m\u001b[0;34m\u001b[0m\u001b[0m\n",
            "\u001b[0;32m/usr/local/lib/python3.6/dist-packages/tensorflow/python/data/ops/dataset_ops.py\u001b[0m in \u001b[0;36m__init__\u001b[0;34m(self, element)\u001b[0m\n\u001b[1;32m   2856\u001b[0m   \u001b[0;32mdef\u001b[0m \u001b[0m__init__\u001b[0m\u001b[0;34m(\u001b[0m\u001b[0mself\u001b[0m\u001b[0;34m,\u001b[0m \u001b[0melement\u001b[0m\u001b[0;34m)\u001b[0m\u001b[0;34m:\u001b[0m\u001b[0;34m\u001b[0m\u001b[0;34m\u001b[0m\u001b[0m\n\u001b[1;32m   2857\u001b[0m     \u001b[0;34m\"\"\"See `Dataset.from_tensor_slices()` for details.\"\"\"\u001b[0m\u001b[0;34m\u001b[0m\u001b[0;34m\u001b[0m\u001b[0m\n\u001b[0;32m-> 2858\u001b[0;31m     \u001b[0melement\u001b[0m \u001b[0;34m=\u001b[0m \u001b[0mstructure\u001b[0m\u001b[0;34m.\u001b[0m\u001b[0mnormalize_element\u001b[0m\u001b[0;34m(\u001b[0m\u001b[0melement\u001b[0m\u001b[0;34m)\u001b[0m\u001b[0;34m\u001b[0m\u001b[0;34m\u001b[0m\u001b[0m\n\u001b[0m\u001b[1;32m   2859\u001b[0m     \u001b[0mbatched_spec\u001b[0m \u001b[0;34m=\u001b[0m \u001b[0mstructure\u001b[0m\u001b[0;34m.\u001b[0m\u001b[0mtype_spec_from_value\u001b[0m\u001b[0;34m(\u001b[0m\u001b[0melement\u001b[0m\u001b[0;34m)\u001b[0m\u001b[0;34m\u001b[0m\u001b[0;34m\u001b[0m\u001b[0m\n\u001b[1;32m   2860\u001b[0m     \u001b[0mself\u001b[0m\u001b[0;34m.\u001b[0m\u001b[0m_tensors\u001b[0m \u001b[0;34m=\u001b[0m \u001b[0mstructure\u001b[0m\u001b[0;34m.\u001b[0m\u001b[0mto_batched_tensor_list\u001b[0m\u001b[0;34m(\u001b[0m\u001b[0mbatched_spec\u001b[0m\u001b[0;34m,\u001b[0m \u001b[0melement\u001b[0m\u001b[0;34m)\u001b[0m\u001b[0;34m\u001b[0m\u001b[0;34m\u001b[0m\u001b[0m\n",
            "\u001b[0;32m/usr/local/lib/python3.6/dist-packages/tensorflow/python/data/util/structure.py\u001b[0m in \u001b[0;36mnormalize_element\u001b[0;34m(element)\u001b[0m\n\u001b[1;32m     96\u001b[0m         \u001b[0;31m# the value. As a fallback try converting the value to a tensor.\u001b[0m\u001b[0;34m\u001b[0m\u001b[0;34m\u001b[0m\u001b[0;34m\u001b[0m\u001b[0m\n\u001b[1;32m     97\u001b[0m         normalized_components.append(\n\u001b[0;32m---> 98\u001b[0;31m             ops.convert_to_tensor(t, name=\"component_%d\" % i))\n\u001b[0m\u001b[1;32m     99\u001b[0m       \u001b[0;32melse\u001b[0m\u001b[0;34m:\u001b[0m\u001b[0;34m\u001b[0m\u001b[0;34m\u001b[0m\u001b[0m\n\u001b[1;32m    100\u001b[0m         \u001b[0;32mif\u001b[0m \u001b[0misinstance\u001b[0m\u001b[0;34m(\u001b[0m\u001b[0mspec\u001b[0m\u001b[0;34m,\u001b[0m \u001b[0msparse_tensor\u001b[0m\u001b[0;34m.\u001b[0m\u001b[0mSparseTensorSpec\u001b[0m\u001b[0;34m)\u001b[0m\u001b[0;34m:\u001b[0m\u001b[0;34m\u001b[0m\u001b[0;34m\u001b[0m\u001b[0m\n",
            "\u001b[0;32m/usr/local/lib/python3.6/dist-packages/tensorflow/python/framework/ops.py\u001b[0m in \u001b[0;36mconvert_to_tensor\u001b[0;34m(value, dtype, name, as_ref, preferred_dtype, dtype_hint, ctx, accepted_result_types)\u001b[0m\n\u001b[1;32m   1339\u001b[0m \u001b[0;34m\u001b[0m\u001b[0m\n\u001b[1;32m   1340\u001b[0m     \u001b[0;32mif\u001b[0m \u001b[0mret\u001b[0m \u001b[0;32mis\u001b[0m \u001b[0;32mNone\u001b[0m\u001b[0;34m:\u001b[0m\u001b[0;34m\u001b[0m\u001b[0;34m\u001b[0m\u001b[0m\n\u001b[0;32m-> 1341\u001b[0;31m       \u001b[0mret\u001b[0m \u001b[0;34m=\u001b[0m \u001b[0mconversion_func\u001b[0m\u001b[0;34m(\u001b[0m\u001b[0mvalue\u001b[0m\u001b[0;34m,\u001b[0m \u001b[0mdtype\u001b[0m\u001b[0;34m=\u001b[0m\u001b[0mdtype\u001b[0m\u001b[0;34m,\u001b[0m \u001b[0mname\u001b[0m\u001b[0;34m=\u001b[0m\u001b[0mname\u001b[0m\u001b[0;34m,\u001b[0m \u001b[0mas_ref\u001b[0m\u001b[0;34m=\u001b[0m\u001b[0mas_ref\u001b[0m\u001b[0;34m)\u001b[0m\u001b[0;34m\u001b[0m\u001b[0;34m\u001b[0m\u001b[0m\n\u001b[0m\u001b[1;32m   1342\u001b[0m \u001b[0;34m\u001b[0m\u001b[0m\n\u001b[1;32m   1343\u001b[0m     \u001b[0;32mif\u001b[0m \u001b[0mret\u001b[0m \u001b[0;32mis\u001b[0m \u001b[0mNotImplemented\u001b[0m\u001b[0;34m:\u001b[0m\u001b[0;34m\u001b[0m\u001b[0;34m\u001b[0m\u001b[0m\n",
            "\u001b[0;32m/usr/local/lib/python3.6/dist-packages/tensorflow/python/framework/constant_op.py\u001b[0m in \u001b[0;36m_constant_tensor_conversion_function\u001b[0;34m(v, dtype, name, as_ref)\u001b[0m\n\u001b[1;32m    319\u001b[0m                                          as_ref=False):\n\u001b[1;32m    320\u001b[0m   \u001b[0m_\u001b[0m \u001b[0;34m=\u001b[0m \u001b[0mas_ref\u001b[0m\u001b[0;34m\u001b[0m\u001b[0;34m\u001b[0m\u001b[0m\n\u001b[0;32m--> 321\u001b[0;31m   \u001b[0;32mreturn\u001b[0m \u001b[0mconstant\u001b[0m\u001b[0;34m(\u001b[0m\u001b[0mv\u001b[0m\u001b[0;34m,\u001b[0m \u001b[0mdtype\u001b[0m\u001b[0;34m=\u001b[0m\u001b[0mdtype\u001b[0m\u001b[0;34m,\u001b[0m \u001b[0mname\u001b[0m\u001b[0;34m=\u001b[0m\u001b[0mname\u001b[0m\u001b[0;34m)\u001b[0m\u001b[0;34m\u001b[0m\u001b[0;34m\u001b[0m\u001b[0m\n\u001b[0m\u001b[1;32m    322\u001b[0m \u001b[0;34m\u001b[0m\u001b[0m\n\u001b[1;32m    323\u001b[0m \u001b[0;34m\u001b[0m\u001b[0m\n",
            "\u001b[0;32m/usr/local/lib/python3.6/dist-packages/tensorflow/python/framework/constant_op.py\u001b[0m in \u001b[0;36mconstant\u001b[0;34m(value, dtype, shape, name)\u001b[0m\n\u001b[1;32m    260\u001b[0m   \"\"\"\n\u001b[1;32m    261\u001b[0m   return _constant_impl(value, dtype, shape, name, verify_shape=False,\n\u001b[0;32m--> 262\u001b[0;31m                         allow_broadcast=True)\n\u001b[0m\u001b[1;32m    263\u001b[0m \u001b[0;34m\u001b[0m\u001b[0m\n\u001b[1;32m    264\u001b[0m \u001b[0;34m\u001b[0m\u001b[0m\n",
            "\u001b[0;32m/usr/local/lib/python3.6/dist-packages/tensorflow/python/framework/constant_op.py\u001b[0m in \u001b[0;36m_constant_impl\u001b[0;34m(value, dtype, shape, name, verify_shape, allow_broadcast)\u001b[0m\n\u001b[1;32m    268\u001b[0m   \u001b[0mctx\u001b[0m \u001b[0;34m=\u001b[0m \u001b[0mcontext\u001b[0m\u001b[0;34m.\u001b[0m\u001b[0mcontext\u001b[0m\u001b[0;34m(\u001b[0m\u001b[0;34m)\u001b[0m\u001b[0;34m\u001b[0m\u001b[0;34m\u001b[0m\u001b[0m\n\u001b[1;32m    269\u001b[0m   \u001b[0;32mif\u001b[0m \u001b[0mctx\u001b[0m\u001b[0;34m.\u001b[0m\u001b[0mexecuting_eagerly\u001b[0m\u001b[0;34m(\u001b[0m\u001b[0;34m)\u001b[0m\u001b[0;34m:\u001b[0m\u001b[0;34m\u001b[0m\u001b[0;34m\u001b[0m\u001b[0m\n\u001b[0;32m--> 270\u001b[0;31m     \u001b[0mt\u001b[0m \u001b[0;34m=\u001b[0m \u001b[0mconvert_to_eager_tensor\u001b[0m\u001b[0;34m(\u001b[0m\u001b[0mvalue\u001b[0m\u001b[0;34m,\u001b[0m \u001b[0mctx\u001b[0m\u001b[0;34m,\u001b[0m \u001b[0mdtype\u001b[0m\u001b[0;34m)\u001b[0m\u001b[0;34m\u001b[0m\u001b[0;34m\u001b[0m\u001b[0m\n\u001b[0m\u001b[1;32m    271\u001b[0m     \u001b[0;32mif\u001b[0m \u001b[0mshape\u001b[0m \u001b[0;32mis\u001b[0m \u001b[0;32mNone\u001b[0m\u001b[0;34m:\u001b[0m\u001b[0;34m\u001b[0m\u001b[0;34m\u001b[0m\u001b[0m\n\u001b[1;32m    272\u001b[0m       \u001b[0;32mreturn\u001b[0m \u001b[0mt\u001b[0m\u001b[0;34m\u001b[0m\u001b[0;34m\u001b[0m\u001b[0m\n",
            "\u001b[0;32m/usr/local/lib/python3.6/dist-packages/tensorflow/python/framework/constant_op.py\u001b[0m in \u001b[0;36mconvert_to_eager_tensor\u001b[0;34m(value, ctx, dtype)\u001b[0m\n\u001b[1;32m     94\u001b[0m       \u001b[0mdtype\u001b[0m \u001b[0;34m=\u001b[0m \u001b[0mdtypes\u001b[0m\u001b[0;34m.\u001b[0m\u001b[0mas_dtype\u001b[0m\u001b[0;34m(\u001b[0m\u001b[0mdtype\u001b[0m\u001b[0;34m)\u001b[0m\u001b[0;34m.\u001b[0m\u001b[0mas_datatype_enum\u001b[0m\u001b[0;34m\u001b[0m\u001b[0;34m\u001b[0m\u001b[0m\n\u001b[1;32m     95\u001b[0m   \u001b[0mctx\u001b[0m\u001b[0;34m.\u001b[0m\u001b[0mensure_initialized\u001b[0m\u001b[0;34m(\u001b[0m\u001b[0;34m)\u001b[0m\u001b[0;34m\u001b[0m\u001b[0;34m\u001b[0m\u001b[0m\n\u001b[0;32m---> 96\u001b[0;31m   \u001b[0;32mreturn\u001b[0m \u001b[0mops\u001b[0m\u001b[0;34m.\u001b[0m\u001b[0mEagerTensor\u001b[0m\u001b[0;34m(\u001b[0m\u001b[0mvalue\u001b[0m\u001b[0;34m,\u001b[0m \u001b[0mctx\u001b[0m\u001b[0;34m.\u001b[0m\u001b[0mdevice_name\u001b[0m\u001b[0;34m,\u001b[0m \u001b[0mdtype\u001b[0m\u001b[0;34m)\u001b[0m\u001b[0;34m\u001b[0m\u001b[0;34m\u001b[0m\u001b[0m\n\u001b[0m\u001b[1;32m     97\u001b[0m \u001b[0;34m\u001b[0m\u001b[0m\n\u001b[1;32m     98\u001b[0m \u001b[0;34m\u001b[0m\u001b[0m\n",
            "\u001b[0;31mValueError\u001b[0m: Can't convert non-rectangular Python sequence to Tensor."
          ]
        }
      ]
    },
    {
      "cell_type": "code",
      "metadata": {
        "id": "JX00K-CEwltw",
        "colab_type": "code",
        "colab": {}
      },
      "source": [
        "def create_tf_dataset_for_client_fn(client_id):\n",
        "  # a function which takes a client_id and returns a\n",
        "  # tf.data.Dataset for that client\n",
        "  client_data = df[df['clientID'] == client_id]\n",
        "  # dataset = tf.data.Dataset.from_tensor_slices(client_data.to_dict('list'))\n",
        "  dataset = tf.data.Dataset.from_tensor_slices(client_data.values.tolist())\n",
        "  dataset = dataset.shuffle(SHUFFLE_BUFFER).batch(1).repeat(NUM_EPOCHS)\n",
        "  return dataset"
      ],
      "execution_count": 0,
      "outputs": []
    },
    {
      "cell_type": "code",
      "metadata": {
        "id": "wAwAoElczKgT",
        "colab_type": "code",
        "colab": {
          "base_uri": "https://localhost:8080/",
          "height": 52
        },
        "outputId": "fb0ca342-aeb8-4f6a-f650-8792f8ca0d2f"
      },
      "source": [
        "!pip install tensorflow_core"
      ],
      "execution_count": 147,
      "outputs": [
        {
          "output_type": "stream",
          "text": [
            "\u001b[31mERROR: Could not find a version that satisfies the requirement tensorflow_core (from versions: none)\u001b[0m\n",
            "\u001b[31mERROR: No matching distribution found for tensorflow_core\u001b[0m\n"
          ],
          "name": "stdout"
        }
      ]
    },
    {
      "cell_type": "code",
      "metadata": {
        "id": "wHqo5cgkzBCA",
        "colab_type": "code",
        "colab": {
          "base_uri": "https://localhost:8080/",
          "height": 308
        },
        "outputId": "92d9bfb7-f040-4643-b641-2d9bca17e217"
      },
      "source": [
        "# tf.compat.v1.enable_v2_behavior()\n",
        "import tensorflow_federated as tff"
      ],
      "execution_count": 148,
      "outputs": [
        {
          "output_type": "error",
          "ename": "ModuleNotFoundError",
          "evalue": "ignored",
          "traceback": [
            "\u001b[0;31m---------------------------------------------------------------------------\u001b[0m",
            "\u001b[0;31mModuleNotFoundError\u001b[0m                       Traceback (most recent call last)",
            "\u001b[0;32m<ipython-input-148-961ae1555cfa>\u001b[0m in \u001b[0;36m<module>\u001b[0;34m()\u001b[0m\n\u001b[0;32m----> 1\u001b[0;31m \u001b[0;32mimport\u001b[0m \u001b[0mtensorflow_federated\u001b[0m \u001b[0;32mas\u001b[0m \u001b[0mtff\u001b[0m\u001b[0;34m\u001b[0m\u001b[0;34m\u001b[0m\u001b[0m\n\u001b[0m",
            "\u001b[0;31mModuleNotFoundError\u001b[0m: No module named 'tensorflow_federated'",
            "",
            "\u001b[0;31m---------------------------------------------------------------------------\u001b[0;32m\nNOTE: If your import is failing due to a missing package, you can\nmanually install dependencies using either !pip or !apt.\n\nTo view examples of installing some common dependencies, click the\n\"Open Examples\" button below.\n\u001b[0;31m---------------------------------------------------------------------------\u001b[0m\n"
          ]
        }
      ]
    },
    {
      "cell_type": "code",
      "metadata": {
        "id": "E9VnJI3NVAv9",
        "colab_type": "code",
        "colab": {
          "base_uri": "https://localhost:8080/",
          "height": 185
        },
        "outputId": "d92260c0-9e88-4d60-dccb-50a48e5418d6"
      },
      "source": [
        "## Establishing simulation\n",
        "source = tff.simulation.ClientData.from_clients_and_fn(\n",
        "  ['client_0','client_1','client_2','client_3'], create_tf_dataset_for_client_fn)"
      ],
      "execution_count": 144,
      "outputs": [
        {
          "output_type": "error",
          "ename": "NameError",
          "evalue": "ignored",
          "traceback": [
            "\u001b[0;31m---------------------------------------------------------------------------\u001b[0m",
            "\u001b[0;31mNameError\u001b[0m                                 Traceback (most recent call last)",
            "\u001b[0;32m<ipython-input-144-9115ad7bbbca>\u001b[0m in \u001b[0;36m<module>\u001b[0;34m()\u001b[0m\n\u001b[0;32m----> 1\u001b[0;31m source = tff.simulation.ClientData.from_clients_and_fn(\n\u001b[0m\u001b[1;32m      2\u001b[0m   ['client_0','client_1','client_2','client_3'], create_tf_dataset_for_client_fn)\n",
            "\u001b[0;31mNameError\u001b[0m: name 'tff' is not defined"
          ]
        }
      ]
    },
    {
      "cell_type": "code",
      "metadata": {
        "id": "9QffJ5AEVXI-",
        "colab_type": "code",
        "colab": {}
      },
      "source": [
        ""
      ],
      "execution_count": 0,
      "outputs": []
    },
    {
      "cell_type": "code",
      "metadata": {
        "id": "7gUxKdAvQSjw",
        "colab_type": "code",
        "outputId": "3bd53927-ca9a-4f0a-cd0b-b514ee607389",
        "colab": {
          "base_uri": "https://localhost:8080/",
          "height": 287
        }
      },
      "source": [
        "plt.imshow(dicom[78], cmap=plt.cm.bone)"
      ],
      "execution_count": 0,
      "outputs": [
        {
          "output_type": "execute_result",
          "data": {
            "text/plain": [
              "<matplotlib.image.AxesImage at 0x7f202ff55710>"
            ]
          },
          "metadata": {
            "tags": []
          },
          "execution_count": 27
        },
        {
          "output_type": "display_data",
          "data": {
            "image/png": "[encoded data removed]",
            "text/plain": [
              "<Figure size 432x288 with 1 Axes>"
            ]
          },
          "metadata": {
            "tags": []
          }
        }
      ]
    },
    {
      "cell_type": "code",
      "metadata": {
        "id": "rclzZ54rYkMr",
        "colab_type": "code",
        "colab": {}
      },
      "source": [
        "import numpy as np"
      ],
      "execution_count": 0,
      "outputs": []
    },
    {
      "cell_type": "code",
      "metadata": {
        "id": "64y3A4G3YXRD",
        "colab_type": "code",
        "colab": {}
      },
      "source": [
        "dicom = np.array(dicom)\n",
        "label = np.array(label,dtype=np.int16)"
      ],
      "execution_count": 0,
      "outputs": []
    },
    {
      "cell_type": "code",
      "metadata": {
        "id": "z7o-AexCY_PU",
        "colab_type": "code",
        "outputId": "ea5ec3e0-361d-441e-fd18-e47ab074bce7",
        "colab": {
          "base_uri": "https://localhost:8080/",
          "height": 52
        }
      },
      "source": [
        "print(len(dicom))\n",
        "print(len(label))"
      ],
      "execution_count": 0,
      "outputs": [
        {
          "output_type": "stream",
          "text": [
            "429\n",
            "429\n"
          ],
          "name": "stdout"
        }
      ]
    },
    {
      "cell_type": "code",
      "metadata": {
        "id": "xVcFAPdIYCCf",
        "colab_type": "code",
        "colab": {}
      },
      "source": [
        "##Preparing train/test data \n",
        "x_train,x_test,y_train,y_test=train_test_split(dicom,label,test_size=0.3)"
      ],
      "execution_count": 0,
      "outputs": []
    },
    {
      "cell_type": "code",
      "metadata": {
        "id": "HZt7uZzHaHa6",
        "colab_type": "code",
        "outputId": "57b0ee3b-ca95-4148-b90c-76c8e3cd42fe",
        "colab": {
          "base_uri": "https://localhost:8080/",
          "height": 87
        }
      },
      "source": [
        "print(np.shape(x_train))\n",
        "print(np.shape(y_train))\n",
        "print(np.shape(x_test))\n",
        "print(np.shape(y_test))\n"
      ],
      "execution_count": 0,
      "outputs": [
        {
          "output_type": "stream",
          "text": [
            "(300, 1024, 1024)\n",
            "(300,)\n",
            "(129, 1024, 1024)\n",
            "(129,)\n"
          ],
          "name": "stdout"
        }
      ]
    },
    {
      "cell_type": "code",
      "metadata": {
        "id": "Sd_uEryjQZZn",
        "colab_type": "code",
        "colab": {}
      },
      "source": [
        "import tensorflow as tf\n",
        "from sklearn.model_selection import train_test_split\n",
        "from tensorflow.keras.models import Sequential\n",
        "from tensorflow.keras.layers import Dense,Conv2D,Conv1D,Flatten"
      ],
      "execution_count": 0,
      "outputs": []
    },
    {
      "cell_type": "code",
      "metadata": {
        "id": "gZfB9dPacpzA",
        "colab_type": "code",
        "outputId": "0b78d7be-e67b-47a0-8020-3b20dbd814ce",
        "colab": {
          "base_uri": "https://localhost:8080/",
          "height": 35
        }
      },
      "source": [
        "tf.__version__"
      ],
      "execution_count": 0,
      "outputs": [
        {
          "output_type": "execute_result",
          "data": {
            "text/plain": [
              "'2.2.0-rc1'"
            ]
          },
          "metadata": {
            "tags": []
          },
          "execution_count": 83
        }
      ]
    },
    {
      "cell_type": "code",
      "metadata": {
        "id": "VgqSSHaleqt8",
        "colab_type": "code",
        "colab": {}
      },
      "source": [
        "model = Sequential()"
      ],
      "execution_count": 0,
      "outputs": []
    },
    {
      "cell_type": "code",
      "metadata": {
        "id": "H6j-7-x9fsQK",
        "colab_type": "code",
        "outputId": "c8e8f7eb-d929-4f2d-be40-f6c0008f2790",
        "colab": {
          "base_uri": "https://localhost:8080/",
          "height": 35
        }
      },
      "source": [
        "print(np.shape(x_train))"
      ],
      "execution_count": 0,
      "outputs": [
        {
          "output_type": "stream",
          "text": [
            "(300, 1024, 1024)\n"
          ],
          "name": "stdout"
        }
      ]
    },
    {
      "cell_type": "code",
      "metadata": {
        "id": "enc5hZEMWXN_",
        "colab_type": "code",
        "colab": {}
      },
      "source": [
        "#Conv Net for training \n",
        "\n",
        "model.add(Conv1D(64, kernel_size=6, activation='relu', input_shape=(1024,1024)))\n",
        "model.add(Conv1D(32, kernel_size=6, activation='relu'))\n",
        "model.add(Flatten())\n",
        "model.add(Dense(2, activation='softmax'))\n"
      ],
      "execution_count": 0,
      "outputs": []
    },
    {
      "cell_type": "code",
      "metadata": {
        "id": "xpoFuM_scTK3",
        "colab_type": "code",
        "colab": {}
      },
      "source": [
        "model.compile(optimizer='adam',loss='binary_crossentropy',metrics='accuracy')"
      ],
      "execution_count": 0,
      "outputs": []
    },
    {
      "cell_type": "code",
      "metadata": {
        "id": "alsAVqzRdapq",
        "colab_type": "code",
        "outputId": "319e8eab-f3cf-4840-a0a3-3129f1d33f36",
        "colab": {
          "base_uri": "https://localhost:8080/",
          "height": 295
        }
      },
      "source": [
        "model.summary()"
      ],
      "execution_count": 0,
      "outputs": [
        {
          "output_type": "stream",
          "text": [
            "Model: \"sequential_13\"\n",
            "_________________________________________________________________\n",
            "Layer (type)                 Output Shape              Param #   \n",
            "=================================================================\n",
            "conv1d_2 (Conv1D)            (None, 1019, 64)          393280    \n",
            "_________________________________________________________________\n",
            "conv1d_3 (Conv1D)            (None, 1014, 32)          12320     \n",
            "_________________________________________________________________\n",
            "flatten_7 (Flatten)          (None, 32448)             0         \n",
            "_________________________________________________________________\n",
            "dense_7 (Dense)              (None, 2)                 64898     \n",
            "=================================================================\n",
            "Total params: 470,498\n",
            "Trainable params: 470,498\n",
            "Non-trainable params: 0\n",
            "_________________________________________________________________\n"
          ],
          "name": "stdout"
        }
      ]
    },
    {
      "cell_type": "code",
      "metadata": {
        "id": "jvjknMZHdr_X",
        "colab_type": "code",
        "outputId": "89f5df2e-7c72-48e3-ba34-8a43538a7c7f",
        "colab": {
          "base_uri": "https://localhost:8080/",
          "height": 364
        }
      },
      "source": [
        "hist = model.fit(x_train, y_train, validation_split = 0.33, epochs = 10,verbose = 1, batch_size = 32, shuffle = True)"
      ],
      "execution_count": 0,
      "outputs": [
        {
          "output_type": "stream",
          "text": [
            "Epoch 1/10\n",
            "7/7 [==============================] - 12s 2s/step - loss: 7.6377 - accuracy: 0.7950 - val_loss: 7.6363 - val_accuracy: 0.8300\n",
            "Epoch 2/10\n",
            "7/7 [==============================] - 12s 2s/step - loss: 7.6427 - accuracy: 0.8000 - val_loss: 7.6363 - val_accuracy: 0.8300\n",
            "Epoch 3/10\n",
            "7/7 [==============================] - 12s 2s/step - loss: 7.6427 - accuracy: 0.8000 - val_loss: 7.6363 - val_accuracy: 0.8300\n",
            "Epoch 4/10\n",
            "7/7 [==============================] - 12s 2s/step - loss: 7.6415 - accuracy: 0.8000 - val_loss: 7.6363 - val_accuracy: 0.8300\n",
            "Epoch 5/10\n",
            "7/7 [==============================] - 12s 2s/step - loss: 7.6427 - accuracy: 0.8000 - val_loss: 7.6363 - val_accuracy: 0.8300\n",
            "Epoch 6/10\n",
            "7/7 [==============================] - 12s 2s/step - loss: 7.6415 - accuracy: 0.8000 - val_loss: 7.6363 - val_accuracy: 0.8300\n",
            "Epoch 7/10\n",
            "7/7 [==============================] - 12s 2s/step - loss: 7.6403 - accuracy: 0.8000 - val_loss: 7.6363 - val_accuracy: 0.8300\n",
            "Epoch 8/10\n",
            "7/7 [==============================] - 12s 2s/step - loss: 7.6415 - accuracy: 0.8000 - val_loss: 7.6363 - val_accuracy: 0.8300\n",
            "Epoch 9/10\n",
            "7/7 [==============================] - 12s 2s/step - loss: 7.6427 - accuracy: 0.8000 - val_loss: 7.6363 - val_accuracy: 0.8300\n",
            "Epoch 10/10\n",
            "7/7 [==============================] - 12s 2s/step - loss: 7.6438 - accuracy: 0.8000 - val_loss: 7.6363 - val_accuracy: 0.8300\n"
          ],
          "name": "stdout"
        }
      ]
    },
    {
      "cell_type": "code",
      "metadata": {
        "id": "NoonrMYwd6PT",
        "colab_type": "code",
        "outputId": "678a3d77-122e-4305-c9af-4fbb7c4ba19b",
        "colab": {
          "base_uri": "https://localhost:8080/",
          "height": 35
        }
      },
      "source": [
        "loss, acc = model.evaluate(x_test, y_test, verbose=0)\n",
        "print('Test Accuracy: %.3f' % acc)"
      ],
      "execution_count": 0,
      "outputs": [
        {
          "output_type": "stream",
          "text": [
            "Test Accuracy: 0.791\n"
          ],
          "name": "stdout"
        }
      ]
    },
    {
      "cell_type": "code",
      "metadata": {
        "id": "vInXavoki7QB",
        "colab_type": "code",
        "colab": {}
      },
      "source": [
        ""
      ],
      "execution_count": 0,
      "outputs": []
    },
    {
      "cell_type": "markdown",
      "metadata": {
        "id": "dp0Y6Q1o53O0",
        "colab_type": "text"
      },
      "source": [
        "PYTORCH IMPLEMENTATION\n"
      ]
    },
    {
      "cell_type": "code",
      "metadata": {
        "id": "4VS2_fMt55jL",
        "colab_type": "code",
        "colab": {}
      },
      "source": [
        "import torch\n",
        "import torch.nn as nn\n",
        "import torch.nn.functional as F\n",
        "import torch.optim as optim\n",
        "from torchvision import datasets, transforms"
      ],
      "execution_count": 0,
      "outputs": []
    },
    {
      "cell_type": "code",
      "metadata": {
        "id": "YiK9GSQ-6PXZ",
        "colab_type": "code",
        "colab": {
          "base_uri": "https://localhost:8080/",
          "height": 1000
        },
        "outputId": "4bb9c55a-bda5-4dc0-aaac-ced1f6e935e4"
      },
      "source": [
        "!pip install syft"
      ],
      "execution_count": 29,
      "outputs": [
        {
          "output_type": "stream",
          "text": [
            "Collecting syft\n",
            "\u001b[?25l  Downloading https://files.pythonhosted.org/packages/1f/8b/dc9a253392908d480322466832d618d85cdb1b66a1781604cf1064b50c32/syft-0.2.4-py3-none-any.whl (341kB)\n",
            "\u001b[K     |████████████████████████████████| 348kB 3.5MB/s \n",
            "\u001b[?25hCollecting requests~=2.22.0\n",
            "\u001b[?25l  Downloading https://files.pythonhosted.org/packages/51/bd/23c926cd341ea6b7dd0b2a00aba99ae0f828be89d72b2190f27c11d4b7fb/requests-2.22.0-py2.py3-none-any.whl (57kB)\n",
            "\u001b[K     |████████████████████████████████| 61kB 8.5MB/s \n",
            "\u001b[?25hRequirement already satisfied: torchvision~=0.5.0 in /usr/local/lib/python3.6/dist-packages (from syft) (0.5.0)\n",
            "Collecting flask-socketio~=4.2.1\n",
            "  Downloading https://files.pythonhosted.org/packages/66/44/edc4715af85671b943c18ac8345d0207972284a0cd630126ff5251faa08b/Flask_SocketIO-4.2.1-py2.py3-none-any.whl\n",
            "Collecting syft-proto~=0.2.5.a1\n",
            "\u001b[?25l  Downloading https://files.pythonhosted.org/packages/c7/ab/849e6ef6c0e7af1a2a1d7a18f478fa07cd2217ed63867ab101ad5abff302/syft_proto-0.2.5a1-py3-none-any.whl (43kB)\n",
            "\u001b[K     |████████████████████████████████| 51kB 5.8MB/s \n",
            "\u001b[?25hCollecting websocket-client~=0.57.0\n",
            "\u001b[?25l  Downloading https://files.pythonhosted.org/packages/4c/5f/f61b420143ed1c8dc69f9eaec5ff1ac36109d52c80de49d66e0c36c3dfdf/websocket_client-0.57.0-py2.py3-none-any.whl (200kB)\n",
            "\u001b[K     |████████████████████████████████| 204kB 49.3MB/s \n",
            "\u001b[?25hRequirement already satisfied: Flask~=1.1.1 in /usr/local/lib/python3.6/dist-packages (from syft) (1.1.1)\n",
            "Collecting phe~=1.4.0\n",
            "  Downloading https://files.pythonhosted.org/packages/32/0e/568e97b014eb14e794a1258a341361e9da351dc6240c63b89e1541e3341c/phe-1.4.0.tar.gz\n",
            "Requirement already satisfied: msgpack~=1.0.0 in /usr/local/lib/python3.6/dist-packages (from syft) (1.0.0)\n",
            "Collecting websockets~=8.1.0\n",
            "\u001b[?25l  Downloading https://files.pythonhosted.org/packages/bb/d9/856af84843912e2853b1b6e898ac8b802989fcf9ecf8e8445a1da263bf3b/websockets-8.1-cp36-cp36m-manylinux2010_x86_64.whl (78kB)\n",
            "\u001b[K     |████████████████████████████████| 81kB 9.0MB/s \n",
            "\u001b[?25hRequirement already satisfied: numpy~=1.18.1 in /usr/local/lib/python3.6/dist-packages (from syft) (1.18.2)\n",
            "Collecting Pillow~=6.2.2\n",
            "\u001b[?25l  Downloading https://files.pythonhosted.org/packages/8a/fd/bbbc569f98f47813c50a116b539d97b3b17a86ac7a309f83b2022d26caf2/Pillow-6.2.2-cp36-cp36m-manylinux1_x86_64.whl (2.1MB)\n",
            "\u001b[K     |████████████████████████████████| 2.1MB 38.2MB/s \n",
            "\u001b[?25hRequirement already satisfied: scipy~=1.4.1 in /usr/local/lib/python3.6/dist-packages (from syft) (1.4.1)\n",
            "Requirement already satisfied: tblib~=1.6.0 in /usr/local/lib/python3.6/dist-packages (from syft) (1.6.0)\n",
            "Requirement already satisfied: tornado==4.5.3 in /usr/local/lib/python3.6/dist-packages (from syft) (4.5.3)\n",
            "Requirement already satisfied: torch~=1.4.0 in /usr/local/lib/python3.6/dist-packages (from syft) (1.4.0)\n",
            "Collecting lz4~=3.0.2\n",
            "\u001b[?25l  Downloading https://files.pythonhosted.org/packages/e7/81/011fef8766fb0ef681037ad6fee96168ee03a864464986cbaa23e5357704/lz4-3.0.2-cp36-cp36m-manylinux2010_x86_64.whl (1.8MB)\n",
            "\u001b[K     |████████████████████████████████| 1.8MB 36.9MB/s \n",
            "\u001b[?25hRequirement already satisfied: idna<2.9,>=2.5 in /usr/local/lib/python3.6/dist-packages (from requests~=2.22.0->syft) (2.8)\n",
            "Requirement already satisfied: certifi>=2017.4.17 in /usr/local/lib/python3.6/dist-packages (from requests~=2.22.0->syft) (2019.11.28)\n",
            "Requirement already satisfied: urllib3!=1.25.0,!=1.25.1,<1.26,>=1.21.1 in /usr/local/lib/python3.6/dist-packages (from requests~=2.22.0->syft) (1.24.3)\n",
            "Requirement already satisfied: chardet<3.1.0,>=3.0.2 in /usr/local/lib/python3.6/dist-packages (from requests~=2.22.0->syft) (3.0.4)\n",
            "Requirement already satisfied: six in /usr/local/lib/python3.6/dist-packages (from torchvision~=0.5.0->syft) (1.12.0)\n",
            "Collecting python-socketio>=4.3.0\n",
            "\u001b[?25l  Downloading https://files.pythonhosted.org/packages/10/cb/631c0b713daea3938e66d4c0923e88f3c0b57b026f860ea76e0337bc9c7a/python_socketio-4.5.1-py2.py3-none-any.whl (51kB)\n",
            "\u001b[K     |████████████████████████████████| 61kB 7.7MB/s \n",
            "\u001b[?25hCollecting protobuf>=3.11.1\n",
            "\u001b[?25l  Downloading https://files.pythonhosted.org/packages/57/02/5432412c162989260fab61fa65e0a490c1872739eb91a659896e4d554b26/protobuf-3.11.3-cp36-cp36m-manylinux1_x86_64.whl (1.3MB)\n",
            "\u001b[K     |████████████████████████████████| 1.3MB 35.7MB/s \n",
            "\u001b[?25hRequirement already satisfied: itsdangerous>=0.24 in /usr/local/lib/python3.6/dist-packages (from Flask~=1.1.1->syft) (1.1.0)\n",
            "Requirement already satisfied: click>=5.1 in /usr/local/lib/python3.6/dist-packages (from Flask~=1.1.1->syft) (7.1.1)\n",
            "Requirement already satisfied: Werkzeug>=0.15 in /usr/local/lib/python3.6/dist-packages (from Flask~=1.1.1->syft) (1.0.0)\n",
            "Requirement already satisfied: Jinja2>=2.10.1 in /usr/local/lib/python3.6/dist-packages (from Flask~=1.1.1->syft) (2.11.1)\n",
            "Collecting python-engineio>=3.9.0\n",
            "\u001b[?25l  Downloading https://files.pythonhosted.org/packages/6c/aa/c975982df73c4bcd087732db14b05306e8a3f3f24596cc18647746539290/python_engineio-3.12.1-py2.py3-none-any.whl (49kB)\n",
            "\u001b[K     |████████████████████████████████| 51kB 6.3MB/s \n",
            "\u001b[?25hRequirement already satisfied: setuptools in /usr/local/lib/python3.6/dist-packages (from protobuf>=3.11.1->syft-proto~=0.2.5.a1->syft) (46.0.0)\n",
            "Requirement already satisfied: MarkupSafe>=0.23 in /usr/local/lib/python3.6/dist-packages (from Jinja2>=2.10.1->Flask~=1.1.1->syft) (1.1.1)\n",
            "Building wheels for collected packages: phe\n",
            "  Building wheel for phe (setup.py) ... \u001b[?25l\u001b[?25hdone\n",
            "  Created wheel for phe: filename=phe-1.4.0-py2.py3-none-any.whl size=37362 sha256=5f50eafd0c6947163ae676b392f30ac71fb2faec9d5d904a7c54f2724684662b\n",
            "  Stored in directory: /root/.cache/pip/wheels/f8/dc/36/dcb6bf0f1b9907e7b710ace63e64d08e7022340909315fdea4\n",
            "Successfully built phe\n",
            "\u001b[31mERROR: google-colab 1.0.0 has requirement requests~=2.21.0, but you'll have requests 2.22.0 which is incompatible.\u001b[0m\n",
            "\u001b[31mERROR: datascience 0.10.6 has requirement folium==0.2.1, but you'll have folium 0.8.3 which is incompatible.\u001b[0m\n",
            "\u001b[31mERROR: albumentations 0.1.12 has requirement imgaug<0.2.7,>=0.2.5, but you'll have imgaug 0.2.9 which is incompatible.\u001b[0m\n",
            "Installing collected packages: requests, python-engineio, python-socketio, flask-socketio, protobuf, syft-proto, websocket-client, phe, websockets, Pillow, lz4, syft\n",
            "  Found existing installation: requests 2.21.0\n",
            "    Uninstalling requests-2.21.0:\n",
            "      Successfully uninstalled requests-2.21.0\n",
            "  Found existing installation: protobuf 3.10.0\n",
            "    Uninstalling protobuf-3.10.0:\n",
            "      Successfully uninstalled protobuf-3.10.0\n",
            "  Found existing installation: Pillow 7.0.0\n",
            "    Uninstalling Pillow-7.0.0:\n",
            "      Successfully uninstalled Pillow-7.0.0\n",
            "Successfully installed Pillow-6.2.2 flask-socketio-4.2.1 lz4-3.0.2 phe-1.4.0 protobuf-3.11.3 python-engineio-3.12.1 python-socketio-4.5.1 requests-2.22.0 syft-0.2.4 syft-proto-0.2.5a1 websocket-client-0.57.0 websockets-8.1\n"
          ],
          "name": "stdout"
        },
        {
          "output_type": "display_data",
          "data": {
            "application/vnd.colab-display-data+json": {
              "pip_warning": {
                "packages": [
                  "PIL",
                  "google",
                  "requests"
                ]
              }
            }
          },
          "metadata": {
            "tags": []
          }
        }
      ]
    },
    {
      "cell_type": "code",
      "metadata": {
        "id": "kwsjmf7u58ix",
        "colab_type": "code",
        "colab": {}
      },
      "source": [
        "import syft as sy  # <-- NEW: import the Pysyft library\n",
        "hook = sy.TorchHook(torch)  # <-- NEW: hook PyTorch ie add extra functionalities to support Federated Learning\n",
        "bob = sy.VirtualWorker(hook, id=\"bob\")  # <-- NEW: define remote worker bob -- HOSPITAL 1 \n",
        "alice = sy.VirtualWorker(hook, id=\"alice\")  # <-- NEW: and alice -- HOSPITAL 2 "
      ],
      "execution_count": 0,
      "outputs": []
    },
    {
      "cell_type": "code",
      "metadata": {
        "id": "2zK0x9fk6N6g",
        "colab_type": "code",
        "colab": {}
      },
      "source": [
        "class Arguments():\n",
        "    def __init__(self):\n",
        "        self.batch_size = 64\n",
        "        self.test_batch_size = 1000\n",
        "        self.epochs = 10\n",
        "        self.lr = 0.01\n",
        "        self.momentum = 0.5\n",
        "        self.no_cuda = False\n",
        "        self.seed = 1\n",
        "        self.log_interval = 10\n",
        "        self.save_model = False\n",
        "\n",
        "args = Arguments()\n",
        "\n",
        "use_cuda = not args.no_cuda and torch.cuda.is_available()\n",
        "\n",
        "torch.manual_seed(args.seed)\n",
        "\n",
        "device = torch.device(\"cuda\" if use_cuda else \"cpu\")\n",
        "\n",
        "kwargs = {'num_workers': 1, 'pin_memory': True} if use_cuda else {}\n"
      ],
      "execution_count": 0,
      "outputs": []
    },
    {
      "cell_type": "code",
      "metadata": {
        "id": "v1jyUKN96kKo",
        "colab_type": "code",
        "colab": {}
      },
      "source": [
        "federated_train_loader = sy.FederatedDataLoader( # <-- this is now a FederatedDataLoader \n",
        "    datasets.MNIST('../data', train=True, download=True,\n",
        "                   transform=transforms.Compose([\n",
        "                       transforms.ToTensor(),\n",
        "                       transforms.Normalize((0.1307,), (0.3081,))\n",
        "                   ]))\n",
        "    .federate((bob, alice)), # <-- NEW: we distribute the dataset across all the workers, it's now a FederatedDataset\n",
        "    batch_size=args.batch_size, shuffle=True, **kwargs)\n",
        "\n",
        "test_loader = torch.utils.data.DataLoader(\n",
        "    datasets.MNIST('../data', train=False, transform=transforms.Compose([\n",
        "                       transforms.ToTensor(),\n",
        "                       transforms.Normalize((0.1307,), (0.3081,))\n",
        "                   ])),\n",
        "    batch_size=args.test_batch_size, shuffle=True, **kwargs)"
      ],
      "execution_count": 0,
      "outputs": []
    },
    {
      "cell_type": "code",
      "metadata": {
        "id": "IU0yorcN9q7o",
        "colab_type": "code",
        "colab": {
          "base_uri": "https://localhost:8080/",
          "height": 410
        },
        "outputId": "d9f5c9e8-a1e2-4d7d-987c-25a3a8b26fa6"
      },
      "source": [
        "final_data"
      ],
      "execution_count": 35,
      "outputs": [
        {
          "output_type": "execute_result",
          "data": {
            "text/html": [
              "<div>\n",
              "<style scoped>\n",
              "    .dataframe tbody tr th:only-of-type {\n",
              "        vertical-align: middle;\n",
              "    }\n",
              "\n",
              "    .dataframe tbody tr th {\n",
              "        vertical-align: top;\n",
              "    }\n",
              "\n",
              "    .dataframe thead th {\n",
              "        text-align: right;\n",
              "    }\n",
              "</style>\n",
              "<table border=\"1\" class=\"dataframe\">\n",
              "  <thead>\n",
              "    <tr style=\"text-align: right;\">\n",
              "      <th></th>\n",
              "      <th>dicom</th>\n",
              "      <th>label</th>\n",
              "    </tr>\n",
              "  </thead>\n",
              "  <tbody>\n",
              "    <tr>\n",
              "      <th>0</th>\n",
              "      <td>[[3, 3, 3, 3, 3, 3, 3, 3, 2, 2, 2, 2, 2, 2, 2,...</td>\n",
              "      <td>0</td>\n",
              "    </tr>\n",
              "    <tr>\n",
              "      <th>1</th>\n",
              "      <td>[[255, 255, 255, 255, 255, 255, 255, 255, 255,...</td>\n",
              "      <td>0</td>\n",
              "    </tr>\n",
              "    <tr>\n",
              "      <th>2</th>\n",
              "      <td>[[2, 2, 2, 2, 2, 2, 2, 2, 2, 2, 2, 2, 2, 2, 2,...</td>\n",
              "      <td>0</td>\n",
              "    </tr>\n",
              "    <tr>\n",
              "      <th>3</th>\n",
              "      <td>[[3, 0, 2, 3, 0, 0, 0, 0, 0, 0, 0, 0, 0, 0, 0,...</td>\n",
              "      <td>0</td>\n",
              "    </tr>\n",
              "    <tr>\n",
              "      <th>4</th>\n",
              "      <td>[[0, 0, 0, 0, 0, 0, 0, 0, 0, 0, 0, 0, 0, 0, 0,...</td>\n",
              "      <td>0</td>\n",
              "    </tr>\n",
              "    <tr>\n",
              "      <th>...</th>\n",
              "      <td>...</td>\n",
              "      <td>...</td>\n",
              "    </tr>\n",
              "    <tr>\n",
              "      <th>424</th>\n",
              "      <td>[[3, 4, 4, 4, 3, 3, 3, 3, 2, 2, 3, 3, 3, 3, 3,...</td>\n",
              "      <td>1</td>\n",
              "    </tr>\n",
              "    <tr>\n",
              "      <th>425</th>\n",
              "      <td>[[4, 4, 4, 4, 4, 4, 4, 4, 4, 4, 4, 4, 4, 4, 4,...</td>\n",
              "      <td>0</td>\n",
              "    </tr>\n",
              "    <tr>\n",
              "      <th>426</th>\n",
              "      <td>[[0, 0, 0, 0, 0, 0, 0, 0, 0, 2, 2, 0, 10, 44, ...</td>\n",
              "      <td>0</td>\n",
              "    </tr>\n",
              "    <tr>\n",
              "      <th>427</th>\n",
              "      <td>[[104, 96, 93, 86, 69, 52, 38, 27, 14, 10, 8, ...</td>\n",
              "      <td>0</td>\n",
              "    </tr>\n",
              "    <tr>\n",
              "      <th>428</th>\n",
              "      <td>[[0, 0, 2, 3, 0, 0, 2, 0, 2, 0, 0, 0, 0, 0, 0,...</td>\n",
              "      <td>0</td>\n",
              "    </tr>\n",
              "  </tbody>\n",
              "</table>\n",
              "<p>429 rows × 2 columns</p>\n",
              "</div>"
            ],
            "text/plain": [
              "                                                 dicom label\n",
              "0    [[3, 3, 3, 3, 3, 3, 3, 3, 2, 2, 2, 2, 2, 2, 2,...     0\n",
              "1    [[255, 255, 255, 255, 255, 255, 255, 255, 255,...     0\n",
              "2    [[2, 2, 2, 2, 2, 2, 2, 2, 2, 2, 2, 2, 2, 2, 2,...     0\n",
              "3    [[3, 0, 2, 3, 0, 0, 0, 0, 0, 0, 0, 0, 0, 0, 0,...     0\n",
              "4    [[0, 0, 0, 0, 0, 0, 0, 0, 0, 0, 0, 0, 0, 0, 0,...     0\n",
              "..                                                 ...   ...\n",
              "424  [[3, 4, 4, 4, 3, 3, 3, 3, 2, 2, 3, 3, 3, 3, 3,...     1\n",
              "425  [[4, 4, 4, 4, 4, 4, 4, 4, 4, 4, 4, 4, 4, 4, 4,...     0\n",
              "426  [[0, 0, 0, 0, 0, 0, 0, 0, 0, 2, 2, 0, 10, 44, ...     0\n",
              "427  [[104, 96, 93, 86, 69, 52, 38, 27, 14, 10, 8, ...     0\n",
              "428  [[0, 0, 2, 3, 0, 0, 2, 0, 2, 0, 0, 0, 0, 0, 0,...     0\n",
              "\n",
              "[429 rows x 2 columns]"
            ]
          },
          "metadata": {
            "tags": []
          },
          "execution_count": 35
        }
      ]
    },
    {
      "cell_type": "code",
      "metadata": {
        "id": "uUAWiIpcAegM",
        "colab_type": "code",
        "colab": {}
      },
      "source": [
        "# class SVHNDataset(Dataset):\n",
        "\n",
        "#     def __init__(self,features,labels,transform=None):\n",
        "        \n",
        "#         \"\"\"Args:\n",
        "             \n",
        "#              images (Numpy Array): Image Data\n",
        "#              labels (Numpy Array): Labels corresponding to each image\n",
        "#              transform (Optional): If any torch transform has to be performed on the dataset\n",
        "             \n",
        "#         \"\"\"\n",
        "        \n",
        "#         \"Attributes self.data and self.targets must be initialized.\"\n",
        "        \n",
        "#         #<--Data must be initialized as self.data,self.train_data or self.test_data\n",
        "#         self.data=features\n",
        "#         #<--Targets must be initialized as self.targets,self.test_labels or self.train_labels\n",
        "#         self.targets=labels\n",
        "        \n",
        "#         #<--The data and target must be converted to torch tensors before it is returned by __getitem__ method\n",
        "#         self.to_torchtensor()\n",
        "        \n",
        "#         #<--If any transforms have to be performed on the dataset\n",
        "#         self.transform = transform\n",
        "        \n",
        "        \n",
        "#     def to_torchtensor(self):\n",
        "        \n",
        "#         \"Transform Numpy Arrays to Torch tensors.\"\n",
        "        \n",
        "#         self.data=torch.from_numpy(self.data)\n",
        "#         self.labels=torch.from_numpy(self.targets)\n",
        "    \n",
        "        \n",
        "#     def __len__(self):\n",
        "        \n",
        "#         \"\"\"Required Method\n",
        "            \n",
        "#            Returns:\n",
        "        \n",
        "#                 Length [int]: Length of Dataset/batches\n",
        "        \n",
        "#         \"\"\"\n",
        "        \n",
        "#         return len(self.data)\n",
        "    \n",
        "\n",
        "#     def __getitem__(self, idx):\n",
        "        \n",
        "#         \"\"\"Required Method\n",
        "        \n",
        "#            The output of this method must be torch tensors since torch tensors are overloaded \n",
        "#            with share() method which is used to share data to workers.\n",
        "        \n",
        "#            Args:\n",
        "                 \n",
        "#                  idx [integer]: The index of required batch/example\n",
        "                 \n",
        "#            Returns:\n",
        "                 \n",
        "#                  Data [Torch Tensor]:     The training examples\n",
        "#                  Target [ Torch Tensor]:  Corresponding labels of training examples \n",
        "        \n",
        "#         \"\"\"\n",
        "        \n",
        "#         sample=self.data[idx]\n",
        "#         target=self.targets[idx]\n",
        "                \n",
        "#         if self.transform:\n",
        "#             sample = self.transform(sample)\n",
        "\n",
        "#         return sample,target"
      ],
      "execution_count": 0,
      "outputs": []
    },
    {
      "cell_type": "markdown",
      "metadata": {
        "id": "XUCOOdGvDMOQ",
        "colab_type": "text"
      },
      "source": [
        "CHECK THIS OUT \n"
      ]
    },
    {
      "cell_type": "code",
      "metadata": {
        "id": "yx0UHNoPBAln",
        "colab_type": "code",
        "colab": {}
      },
      "source": [
        "from sklearn.model_selection import train_test_split\n",
        "X_train,x_test,y_train,y_test=train_test_split(features,labels,test_size=0.3)"
      ],
      "execution_count": 0,
      "outputs": []
    },
    {
      "cell_type": "code",
      "metadata": {
        "id": "y7p9qngc9sdV",
        "colab_type": "code",
        "colab": {}
      },
      "source": [
        "features=dicom\n",
        "labels=label"
      ],
      "execution_count": 0,
      "outputs": []
    },
    {
      "cell_type": "code",
      "metadata": {
        "id": "9lM2ZYQ7-q_m",
        "colab_type": "code",
        "colab": {
          "base_uri": "https://localhost:8080/",
          "height": 34
        },
        "outputId": "da5aaeac-b76b-4c18-af6e-e6756824a3d9"
      },
      "source": [
        "type(features)"
      ],
      "execution_count": 47,
      "outputs": [
        {
          "output_type": "execute_result",
          "data": {
            "text/plain": [
              "list"
            ]
          },
          "metadata": {
            "tags": []
          },
          "execution_count": 47
        }
      ]
    },
    {
      "cell_type": "code",
      "metadata": {
        "id": "Ii6TzsmN-7Nw",
        "colab_type": "code",
        "colab": {}
      },
      "source": [
        "features = np.array(features, dtype=np.int16)\n",
        "labels = np.array(label,dtype=np.int16)"
      ],
      "execution_count": 0,
      "outputs": []
    },
    {
      "cell_type": "code",
      "metadata": {
        "id": "pyGppmpQ-knT",
        "colab_type": "code",
        "colab": {}
      },
      "source": [
        "\n",
        "#Converting to torch tensors\n",
        "features = torch.from_numpy(features)\n",
        "labels= torch.from_numpy(labels)"
      ],
      "execution_count": 0,
      "outputs": []
    },
    {
      "cell_type": "code",
      "metadata": {
        "id": "b67ZNtlZ98qW",
        "colab_type": "code",
        "colab": {}
      },
      "source": [
        "import numpy as np"
      ],
      "execution_count": 0,
      "outputs": []
    },
    {
      "cell_type": "code",
      "metadata": {
        "id": "RDnuY-6X-I7a",
        "colab_type": "code",
        "colab": {}
      },
      "source": [
        "base=sy.BaseDataset(X_train,y_train)"
      ],
      "execution_count": 0,
      "outputs": []
    },
    {
      "cell_type": "code",
      "metadata": {
        "id": "-pD3HekpBtAO",
        "colab_type": "code",
        "colab": {}
      },
      "source": [
        "base_federated=base.federate((bob, alice))"
      ],
      "execution_count": 0,
      "outputs": []
    },
    {
      "cell_type": "code",
      "metadata": {
        "id": "Md3qkFNEB0cZ",
        "colab_type": "code",
        "colab": {}
      },
      "source": [
        "federated_train_loader = sy.FederatedDataLoader( # <-- this is now a FederatedDataLoader \n",
        "                         base_federated,batch_size=args.batch_size)"
      ],
      "execution_count": 0,
      "outputs": []
    },
    {
      "cell_type": "code",
      "metadata": {
        "id": "e_t8Fww_B6Qv",
        "colab_type": "code",
        "colab": {}
      },
      "source": [
        "class Net(nn.Module):\n",
        "    def __init__(self):\n",
        "        super(Net, self).__init__()\n",
        "        self.conv1 = nn.Conv2d(64, 1024, 1024)\n",
        "        self.conv2 = nn.Conv2d(20, 50, 5)\n",
        "        self.fc1 = nn.Linear(4*4*50, 500)\n",
        "        self.fc2 = nn.Linear(500, 10)\n",
        "\n",
        "    def forward(self, x):\n",
        "        x = F.relu(self.conv1(x))\n",
        "        x = F.max_pool2d(x, 2, 2)\n",
        "        x = F.relu(self.conv2(x))\n",
        "        x = F.max_pool2d(x, 2, 2)\n",
        "        x = x.view(-1, 4*4*50)\n",
        "        x = F.relu(self.fc1(x))\n",
        "        x = self.fc2(x)\n",
        "        return F.log_softmax(x, dim=1)"
      ],
      "execution_count": 0,
      "outputs": []
    },
    {
      "cell_type": "code",
      "metadata": {
        "id": "EMD1hSQGCEwU",
        "colab_type": "code",
        "colab": {}
      },
      "source": [
        "def train(args, model, device, train_loader, optimizer, epoch):\n",
        "    model.train()\n",
        "    for batch_idx, (data, target) in enumerate(federated_train_loader): # <-- now it is a distributed dataset\n",
        "        model.send(data.location) # <-- NEW: send the model to the right location\n",
        "        data, target = data.to(device), target.to(device)\n",
        "        optimizer.zero_grad()\n",
        "        output = model(data)\n",
        "        loss = F.nll_loss(output, target)\n",
        "        loss.backward()\n",
        "        optimizer.step()\n",
        "        model.get() # <-- NEW: get the model back\n",
        "        if batch_idx % args.log_interval == 0:\n",
        "            loss = loss.get() # <-- NEW: get the loss back\n",
        "            print('Train Epoch: {} [{}/{} ({:.0f}%)]\\tLoss: {:.6f}'.format(\n",
        "                epoch, batch_idx * args.batch_size, len(train_loader) * args.batch_size, #batch_idx * len(data), len(train_loader.dataset),\n",
        "                100. * batch_idx / len(train_loader), loss.item()))"
      ],
      "execution_count": 0,
      "outputs": []
    },
    {
      "cell_type": "code",
      "metadata": {
        "id": "1q5jREmZCKnv",
        "colab_type": "code",
        "colab": {}
      },
      "source": [
        "def test(args, model, device, test_loader):\n",
        "    model.eval()\n",
        "    test_loss = 0\n",
        "    correct = 0\n",
        "    with torch.no_grad():\n",
        "        for data, target in test_loader:\n",
        "            data, target = data.to(device), target.to(device)\n",
        "            output = model(data)\n",
        "            test_loss += F.nll_loss(output, target, reduction='sum').item() # sum up batch loss\n",
        "            pred = output.argmax(1, keepdim=True) # get the index of the max log-probability \n",
        "            correct += pred.eq(target.view_as(pred)).sum().item()\n",
        "\n",
        "    test_loss /= len(test_loader.dataset)\n",
        "\n",
        "    print('\\nTest set: Average loss: {:.4f}, Accuracy: {}/{} ({:.0f}%)\\n'.format(\n",
        "        test_loss, correct, len(test_loader.dataset),\n",
        "        100. * correct / len(test_loader.dataset)))"
      ],
      "execution_count": 0,
      "outputs": []
    },
    {
      "cell_type": "code",
      "metadata": {
        "id": "2x2oGF31CONq",
        "colab_type": "code",
        "colab": {}
      },
      "source": [
        "model = Net().to(device)\n",
        "optimizer = optim.SGD(model.parameters(), lr=args.lr) # TODO momentum is not supported at the moment\n",
        "\n",
        "for epoch in range(1, args.epochs + 1):\n",
        "    train(args, model, device, federated_train_loader, optimizer, epoch)\n",
        "    test(args, model, device, test_loader)\n",
        "\n",
        "if (args.save_model):\n",
        "    torch.save(model.state_dict(), \"fed.pt\")"
      ],
      "execution_count": 0,
      "outputs": []
    },
    {
      "cell_type": "code",
      "metadata": {
        "id": "q5drvlBDCUW8",
        "colab_type": "code",
        "colab": {}
      },
      "source": [
        ""
      ],
      "execution_count": 0,
      "outputs": []
    }
  ]
}
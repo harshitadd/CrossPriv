{
  "nbformat": 4,
  "nbformat_minor": 0,
  "metadata": {
    "colab": {
      "name": "PreVID_PySyft_FINAL.ipynb",
      "provenance": [],
      "collapsed_sections": [],
      "include_colab_link": true
    },
    "kernelspec": {
      "name": "python3",
      "display_name": "Python 3"
    },
    "accelerator": "GPU"
  },
  "cells": [
    {
      "cell_type": "markdown",
      "metadata": {
        "id": "view-in-github",
        "colab_type": "text"
      },
      "source": [
        "<a href=\"https://colab.research.google.com/github/harshitadd/CrossSiloFLDemo/blob/master/PreVID_PySyft_FINAL.ipynb\" target=\"_parent\"><img src=\"https://colab.research.google.com/assets/colab-badge.svg\" alt=\"Open In Colab\"/></a>"
      ]
    },
    {
      "cell_type": "code",
      "metadata": {
        "id": "Aoq3s2Yzd15t",
        "colab_type": "code",
        "colab": {}
      },
      "source": [
        "#!pip install syft --quiet "
      ],
      "execution_count": null,
      "outputs": []
    },
    {
      "cell_type": "code",
      "metadata": {
        "id": "A6bD7JbBq0D6",
        "colab_type": "code",
        "colab": {
          "base_uri": "https://localhost:8080/",
          "height": 34
        },
        "outputId": "b24e7624-cfc6-4298-de45-43afb176e2a8"
      },
      "source": [
        "##Importing Mini Batch Data \n",
        "import os \n",
        "from google.colab import drive\n",
        "drive.mount('/content/drive')"
      ],
      "execution_count": 1,
      "outputs": [
        {
          "output_type": "stream",
          "text": [
            "Drive already mounted at /content/drive; to attempt to forcibly remount, call drive.mount(\"/content/drive\", force_remount=True).\n"
          ],
          "name": "stdout"
        }
      ]
    },
    {
      "cell_type": "code",
      "metadata": {
        "id": "PGCc2bqpi5mc",
        "colab_type": "code",
        "colab": {}
      },
      "source": [
        "!pip install pydicom --quiet\n",
        "import pydicom \n",
        "import cv2\n",
        "import matplotlib.pyplot as plt "
      ],
      "execution_count": 2,
      "outputs": []
    },
    {
      "cell_type": "code",
      "metadata": {
        "id": "Nwuyc_DerKUv",
        "colab_type": "code",
        "colab": {}
      },
      "source": [
        "dcm_path=os.listdir('/content/drive/My Drive/Fed_Covid/minibatch/')\n",
        "dcm_data={}\n",
        "\n",
        "alpha = 1.5 # Contrast control (1.0-3.0)\n",
        "beta = 0 # Brightness control (0-100)\n",
        "\n",
        "ctr=0\n",
        "for file in dcm_path:\n",
        "  name = '/content/drive/My Drive/Fed_Covid/minibatch/' + file\n",
        "  temp = pydicom.dcmread(name)\n",
        "  image = temp.pixel_array\n",
        "  image = cv2.cvtColor(image, cv2.COLOR_BGR2RGB)\n",
        "  adjusted = cv2.resize(image,(64,64))\n",
        "  dcm_data[file]=adjusted\n",
        "  ctr+=1"
      ],
      "execution_count": 3,
      "outputs": []
    },
    {
      "cell_type": "code",
      "metadata": {
        "id": "BuoufluUrqEK",
        "colab_type": "code",
        "colab": {}
      },
      "source": [
        "import csv \n",
        "labels=[]\n",
        "with open('/content/drive/My Drive/Fed_Covid/stage_2_train_labels.csv','r') as file:\n",
        "  reader = csv.reader(file)\n",
        "  for row in reader:\n",
        "    labels.append(row)"
      ],
      "execution_count": 4,
      "outputs": []
    },
    {
      "cell_type": "code",
      "metadata": {
        "id": "TsrBQdKQtBON",
        "colab_type": "code",
        "colab": {}
      },
      "source": [
        "from sklearn.preprocessing import MinMaxScaler \n",
        "import numpy as np\n",
        "scaler = MinMaxScaler()\n",
        "pid=[]\n",
        "dicom=[]\n",
        "label=[]\n",
        "cid = 0\n",
        "for PID in labels:\n",
        "  for key in dcm_data:\n",
        "    if(key[:-4]==PID[0]):\n",
        "      l=[]\n",
        "      for val in dcm_data[key]:\n",
        "        l.append(scaler.fit_transform(val))\n",
        "      l = np.reshape(l,(3,64,64))\n",
        "      dicom.append(l)\n",
        "      label.append(int(PID[5]))\n",
        "      "
      ],
      "execution_count": 5,
      "outputs": []
    },
    {
      "cell_type": "code",
      "metadata": {
        "id": "4VS2_fMt55jL",
        "colab_type": "code",
        "colab": {}
      },
      "source": [
        "import torch\n",
        "import torch.nn as nn\n",
        "import torch.nn.functional as F\n",
        "import torch.optim as optim\n",
        "import syft as sy\n",
        "from torch.utils.data import TensorDataset, DataLoader\n",
        "import time\n",
        "import copy\n",
        "import numpy as np\n",
        "from torch.utils.data import Dataset\n",
        "from syft.frameworks.torch.fl import utils\n",
        "from syft.workers.websocket_client import WebsocketClientWorker"
      ],
      "execution_count": 6,
      "outputs": []
    },
    {
      "cell_type": "markdown",
      "metadata": {
        "id": "nQ1qdaL-B1_C",
        "colab_type": "text"
      },
      "source": [
        ""
      ]
    },
    {
      "cell_type": "code",
      "metadata": {
        "id": "yOeS4TuIgogO",
        "colab_type": "code",
        "colab": {}
      },
      "source": [
        "class Arguments():\n",
        "    def __init__(self):\n",
        "        self.batch_size = 4\n",
        "        self.test_batch_size = 4\n",
        "        self.epochs = 5\n",
        "        self.lr = 0.01\n",
        "        self.momentum = 0.5\n",
        "        self.seed = 1\n",
        "        self.log_interval = 10\n",
        "        self.save_model = False\n",
        "\n",
        "args = Arguments()"
      ],
      "execution_count": 7,
      "outputs": []
    },
    {
      "cell_type": "code",
      "metadata": {
        "id": "td7w-9SHFgaK",
        "colab_type": "code",
        "colab": {}
      },
      "source": [
        "from sklearn.model_selection import train_test_split\n",
        "x_train, x_test, y_train, y_test = train_test_split(dicom,label,test_size=0.3)"
      ],
      "execution_count": 8,
      "outputs": []
    },
    {
      "cell_type": "code",
      "metadata": {
        "id": "jNDNknm_9hW1",
        "colab_type": "code",
        "colab": {}
      },
      "source": [
        "import pandas as pd \n",
        "test_df = pd.DataFrame()\n",
        "test_df['features']=x_test\n",
        "test_df['labels']=y_test"
      ],
      "execution_count": 9,
      "outputs": []
    },
    {
      "cell_type": "code",
      "metadata": {
        "id": "r5E6HzYS5ycR",
        "colab_type": "code",
        "colab": {}
      },
      "source": [
        "x_train= np.array(x_train)\n",
        "y_train= np.array(y_train)\n",
        "x_test= np.array(x_test)\n",
        "y_test= np.array(y_test)"
      ],
      "execution_count": 10,
      "outputs": []
    },
    {
      "cell_type": "code",
      "metadata": {
        "id": "x8KCNM1rpsJb",
        "colab_type": "code",
        "colab": {}
      },
      "source": [
        "class data_maker(Dataset):\n",
        "  def __init__(self, images, labels):\n",
        "        self.data = images \n",
        "        self.targets = labels \n",
        "\n",
        "        self.to_torchtensor()\n",
        "        \n",
        "  def __len__(self):\n",
        "      return len(self.data)\n",
        "\n",
        "  def to_torchtensor(self):      \n",
        "      self.data=torch.from_numpy(self.data)\n",
        "      self.labels=torch.from_numpy(self.targets)\n",
        "  \n",
        "  def __getitem__(self, idx):\n",
        "      sample=self.data[idx]\n",
        "      target=self.targets[idx]\n",
        "      return sample,target"
      ],
      "execution_count": 11,
      "outputs": []
    },
    {
      "cell_type": "code",
      "metadata": {
        "id": "_HjuI6IJnOo_",
        "colab_type": "code",
        "colab": {}
      },
      "source": [
        "hook = sy.TorchHook(torch)\n",
        "hospital = sy.VirtualWorker(hook, id=\"hospital\")  \n",
        "clinic = sy.VirtualWorker(hook, id=\"clinic\")  "
      ],
      "execution_count": 12,
      "outputs": []
    },
    {
      "cell_type": "code",
      "metadata": {
        "id": "TGOtNPrLcCXO",
        "colab_type": "code",
        "colab": {}
      },
      "source": [
        "federated_train_data = data_maker(x_train,y_train).federate((hospital,clinic))"
      ],
      "execution_count": 13,
      "outputs": []
    },
    {
      "cell_type": "code",
      "metadata": {
        "id": "iVmlJAfUcCUX",
        "colab_type": "code",
        "colab": {}
      },
      "source": [
        "federated_train_loader = sy.FederatedDataLoader(federated_train_data,batch_size=args.batch_size)\n",
        "test_data = data_maker(x_test,y_test)\n",
        "test_loader = torch.utils.data.DataLoader(test_data, batch_size=args.test_batch_size)"
      ],
      "execution_count": 14,
      "outputs": []
    },
    {
      "cell_type": "code",
      "metadata": {
        "id": "KpiILdmui8ar",
        "colab_type": "code",
        "colab": {}
      },
      "source": [
        "class Net(nn.Module):\n",
        "    def __init__(self):\n",
        "        super().__init__()\n",
        "\n",
        "        # Input - (32,1024,1024)\n",
        "  \n",
        "        self.conv1 = nn.Conv2d(3,32, kernel_size=8, stride = 2)  #I/P - 1*32\n",
        "        self.pool1 = nn.MaxPool2d(kernel_size=4,stride=2,padding=0)  \n",
        "        self.conv2 = nn.Conv2d(32, 64, 8)\n",
        "        self.pool2 = nn.MaxPool2d(4,2,padding=0)\n",
        "        self.fc1 = nn.Linear(256, 64*64)\n",
        "        self.fc2 = nn.Linear(64*64, 64)\n",
        "        self.fc3 = nn.Linear(64, 2)\n",
        "\n",
        "    def forward(self, x):\n",
        "        \n",
        "        x = F.relu(self.conv1(x))\n",
        "        # Input of 1*1024*1024 going to 32*1024*1024  - 1*64*64 going to 32*64*64\n",
        "        x = self.pool1(x)\n",
        "        # Input of 32*1024*1024 going to 32*256*256 - 32*64*64 going to 32*16*16\n",
        "        x = F.relu(self.conv2(x))\n",
        "        # Input of 32*256*256 to 64*256*256 - 32*16*16 to 64*16*16\n",
        "        x = self.pool2(x)\n",
        "        # Input of 64*256*256 to 64*64*64 - 64*16*16 going to 64*4*4\n",
        "\n",
        "        x = x.view(-1,256)\n",
        "     \n",
        "        x = F.relu(self.fc1(x))\n",
        "        x = F.relu(self.fc2(x))\n",
        "        x = self.fc3(x)\n",
        "\n",
        "        return F.log_softmax(x,dim=1)"
      ],
      "execution_count": 17,
      "outputs": []
    },
    {
      "cell_type": "code",
      "metadata": {
        "id": "17SLUzJKcCRd",
        "colab_type": "code",
        "colab": {}
      },
      "source": [
        "def train(args, model,train_loader, optimizer, epoch):\n",
        "    model.train()\n",
        "    loss = nn.CrossEntropyLoss()\n",
        "    for batch_idx, (data, target) in enumerate(federated_train_loader): # <-- now it is a distributed dataset\n",
        "        model.send(data.location) # <-- NEW: send the model to the right location\n",
        "        #data, target = data.to(device), target.to(device)\n",
        "        optimizer.zero_grad()\n",
        "        output = model(data)\n",
        "        out = loss(output, target)\n",
        "        out.backward()\n",
        "        optimizer.step()\n",
        "        model.get() # <-- NEW: get the model back\n",
        "        \n",
        "        if batch_idx % args.log_interval == 0:\n",
        "            final_loss = out.get() # <-- NEW: get the loss back\n",
        "            print('For Training Epoch: ' + str(epoch) + 'loss is :' + str(final_loss) + 'at ' + str(data.location))"
      ],
      "execution_count": 18,
      "outputs": []
    },
    {
      "cell_type": "code",
      "metadata": {
        "id": "2fExH8Z0cCOg",
        "colab_type": "code",
        "colab": {}
      },
      "source": [
        "def test(args, model, test_loader):\n",
        "    model.eval()\n",
        "    test_loss = 0\n",
        "    correct = 0\n",
        "    loss = nn.CrossEntropyLoss()\n",
        "    with torch.no_grad():\n",
        "        for data, target in test_loader:\n",
        "            output = model(data)\n",
        "            out = loss(output,target)\n",
        "            test_loss +=out\n",
        "            pred = output.argmax(1, keepdim=True) # get the index of the max log-probability \n",
        "            correct += pred.eq(target.view_as(pred))\n",
        "\n",
        "    test_loss /= len(test_loader.dataset)\n",
        "\n",
        "    print('For Test Loss:' + str(test_loss))"
      ],
      "execution_count": 19,
      "outputs": []
    },
    {
      "cell_type": "code",
      "metadata": {
        "id": "K8c137J-cCLk",
        "colab_type": "code",
        "colab": {
          "base_uri": "https://localhost:8080/",
          "height": 1000
        },
        "outputId": "d378da79-a315-4243-f226-d2c8d3722f08"
      },
      "source": [
        "model = Net().double()\n",
        "optimizer = optim.SGD(model.parameters(), lr=args.lr) \n",
        "for epoch in range(1, 10):\n",
        "    model.train()\n",
        "    loss = nn.CrossEntropyLoss()\n",
        "    for batch_idx, (data, target) in enumerate(federated_train_loader): # <-- now it is a distributed dataset\n",
        "        model.send(data.location) # <-- NEW: send the model to the right location\n",
        "        #data, target = data.to(device), target.to(device)\n",
        "        optimizer.zero_grad()\n",
        "        output = model(data)\n",
        "        out = loss(output, target)\n",
        "        out.backward()\n",
        "        optimizer.step()\n",
        "        model.get() # <-- NEW: get the model back\n",
        "        \n",
        "        if batch_idx % args.log_interval == 0:\n",
        "            final_loss = out.get() # <-- NEW: get the loss back\n",
        "            print('Train Epoch:' + str(epoch) + 'loss is :' + str(final_loss))\n",
        "  \n",
        "\n"
      ],
      "execution_count": 20,
      "outputs": [
        {
          "output_type": "stream",
          "text": [
            "Train Epoch:1loss is :tensor(0.7002, dtype=torch.float64, requires_grad=True)\n",
            "Train Epoch:1loss is :tensor(0.6282, dtype=torch.float64, requires_grad=True)\n",
            "Train Epoch:1loss is :tensor(0.9661, dtype=torch.float64, requires_grad=True)\n",
            "Train Epoch:1loss is :tensor(0.5697, dtype=torch.float64, requires_grad=True)\n",
            "Train Epoch:1loss is :tensor(0.8416, dtype=torch.float64, requires_grad=True)\n",
            "Train Epoch:1loss is :tensor(0.5631, dtype=torch.float64, requires_grad=True)\n",
            "Train Epoch:1loss is :tensor(1.3001, dtype=torch.float64, requires_grad=True)\n",
            "Train Epoch:1loss is :tensor(0.5908, dtype=torch.float64, requires_grad=True)\n",
            "Train Epoch:2loss is :tensor(0.1910, dtype=torch.float64, requires_grad=True)\n",
            "Train Epoch:2loss is :tensor(0.5530, dtype=torch.float64, requires_grad=True)\n",
            "Train Epoch:2loss is :tensor(1.3194, dtype=torch.float64, requires_grad=True)\n",
            "Train Epoch:2loss is :tensor(0.5611, dtype=torch.float64, requires_grad=True)\n",
            "Train Epoch:2loss is :tensor(0.8491, dtype=torch.float64, requires_grad=True)\n",
            "Train Epoch:2loss is :tensor(0.5585, dtype=torch.float64, requires_grad=True)\n",
            "Train Epoch:2loss is :tensor(1.2665, dtype=torch.float64, requires_grad=True)\n",
            "Train Epoch:2loss is :tensor(0.5919, dtype=torch.float64, requires_grad=True)\n",
            "Train Epoch:3loss is :tensor(0.1942, dtype=torch.float64, requires_grad=True)\n",
            "Train Epoch:3loss is :tensor(0.5536, dtype=torch.float64, requires_grad=True)\n",
            "Train Epoch:3loss is :tensor(1.3220, dtype=torch.float64, requires_grad=True)\n",
            "Train Epoch:3loss is :tensor(0.5506, dtype=torch.float64, requires_grad=True)\n",
            "Train Epoch:3loss is :tensor(0.8489, dtype=torch.float64, requires_grad=True)\n",
            "Train Epoch:3loss is :tensor(0.5537, dtype=torch.float64, requires_grad=True)\n",
            "Train Epoch:3loss is :tensor(1.2403, dtype=torch.float64, requires_grad=True)\n",
            "Train Epoch:3loss is :tensor(0.5945, dtype=torch.float64, requires_grad=True)\n",
            "Train Epoch:4loss is :tensor(0.1947, dtype=torch.float64, requires_grad=True)\n",
            "Train Epoch:4loss is :tensor(0.5545, dtype=torch.float64, requires_grad=True)\n",
            "Train Epoch:4loss is :tensor(1.3212, dtype=torch.float64, requires_grad=True)\n",
            "Train Epoch:4loss is :tensor(0.5384, dtype=torch.float64, requires_grad=True)\n",
            "Train Epoch:4loss is :tensor(0.8459, dtype=torch.float64, requires_grad=True)\n",
            "Train Epoch:4loss is :tensor(0.5480, dtype=torch.float64, requires_grad=True)\n",
            "Train Epoch:4loss is :tensor(1.2222, dtype=torch.float64, requires_grad=True)\n",
            "Train Epoch:4loss is :tensor(0.5982, dtype=torch.float64, requires_grad=True)\n",
            "Train Epoch:5loss is :tensor(0.1940, dtype=torch.float64, requires_grad=True)\n",
            "Train Epoch:5loss is :tensor(0.5562, dtype=torch.float64, requires_grad=True)\n",
            "Train Epoch:5loss is :tensor(1.3151, dtype=torch.float64, requires_grad=True)\n",
            "Train Epoch:5loss is :tensor(0.5227, dtype=torch.float64, requires_grad=True)\n",
            "Train Epoch:5loss is :tensor(0.8383, dtype=torch.float64, requires_grad=True)\n",
            "Train Epoch:5loss is :tensor(0.5405, dtype=torch.float64, requires_grad=True)\n",
            "Train Epoch:5loss is :tensor(1.2110, dtype=torch.float64, requires_grad=True)\n",
            "Train Epoch:5loss is :tensor(0.6043, dtype=torch.float64, requires_grad=True)\n",
            "Train Epoch:6loss is :tensor(0.1916, dtype=torch.float64, requires_grad=True)\n",
            "Train Epoch:6loss is :tensor(0.5605, dtype=torch.float64, requires_grad=True)\n",
            "Train Epoch:6loss is :tensor(1.3014, dtype=torch.float64, requires_grad=True)\n",
            "Train Epoch:6loss is :tensor(0.5011, dtype=torch.float64, requires_grad=True)\n",
            "Train Epoch:6loss is :tensor(0.8239, dtype=torch.float64, requires_grad=True)\n",
            "Train Epoch:6loss is :tensor(0.5289, dtype=torch.float64, requires_grad=True)\n",
            "Train Epoch:6loss is :tensor(1.2136, dtype=torch.float64, requires_grad=True)\n",
            "Train Epoch:6loss is :tensor(0.6135, dtype=torch.float64, requires_grad=True)\n",
            "Train Epoch:7loss is :tensor(0.1875, dtype=torch.float64, requires_grad=True)\n",
            "Train Epoch:7loss is :tensor(0.5684, dtype=torch.float64, requires_grad=True)\n",
            "Train Epoch:7loss is :tensor(1.2760, dtype=torch.float64, requires_grad=True)\n",
            "Train Epoch:7loss is :tensor(0.4696, dtype=torch.float64, requires_grad=True)\n",
            "Train Epoch:7loss is :tensor(0.7938, dtype=torch.float64, requires_grad=True)\n",
            "Train Epoch:7loss is :tensor(0.5111, dtype=torch.float64, requires_grad=True)\n",
            "Train Epoch:7loss is :tensor(1.2287, dtype=torch.float64, requires_grad=True)\n",
            "Train Epoch:7loss is :tensor(0.6285, dtype=torch.float64, requires_grad=True)\n",
            "Train Epoch:8loss is :tensor(0.1804, dtype=torch.float64, requires_grad=True)\n",
            "Train Epoch:8loss is :tensor(0.5830, dtype=torch.float64, requires_grad=True)\n",
            "Train Epoch:8loss is :tensor(1.2351, dtype=torch.float64, requires_grad=True)\n",
            "Train Epoch:8loss is :tensor(0.4278, dtype=torch.float64, requires_grad=True)\n",
            "Train Epoch:8loss is :tensor(0.7457, dtype=torch.float64, requires_grad=True)\n",
            "Train Epoch:8loss is :tensor(0.4829, dtype=torch.float64, requires_grad=True)\n",
            "Train Epoch:8loss is :tensor(1.2517, dtype=torch.float64, requires_grad=True)\n",
            "Train Epoch:8loss is :tensor(0.6499, dtype=torch.float64, requires_grad=True)\n",
            "Train Epoch:9loss is :tensor(0.1720, dtype=torch.float64, requires_grad=True)\n",
            "Train Epoch:9loss is :tensor(0.6015, dtype=torch.float64, requires_grad=True)\n",
            "Train Epoch:9loss is :tensor(1.1721, dtype=torch.float64, requires_grad=True)\n",
            "Train Epoch:9loss is :tensor(0.3887, dtype=torch.float64, requires_grad=True)\n",
            "Train Epoch:9loss is :tensor(0.6884, dtype=torch.float64, requires_grad=True)\n",
            "Train Epoch:9loss is :tensor(0.4460, dtype=torch.float64, requires_grad=True)\n",
            "Train Epoch:9loss is :tensor(1.2485, dtype=torch.float64, requires_grad=True)\n",
            "Train Epoch:9loss is :tensor(0.6645, dtype=torch.float64, requires_grad=True)\n"
          ],
          "name": "stdout"
        }
      ]
    },
    {
      "cell_type": "code",
      "metadata": {
        "id": "Z481IFbm3296",
        "colab_type": "code",
        "colab": {
          "base_uri": "https://localhost:8080/",
          "height": 34
        },
        "outputId": "8886d6bd-6aa2-4256-fb6a-1fa54bffbf8a"
      },
      "source": [
        "test(args, model, test_loader)"
      ],
      "execution_count": 21,
      "outputs": [
        {
          "output_type": "stream",
          "text": [
            "For Test Loss:tensor(0.1225, dtype=torch.float64)\n"
          ],
          "name": "stdout"
        }
      ]
    },
    {
      "cell_type": "code",
      "metadata": {
        "id": "dTAttIWV324x",
        "colab_type": "code",
        "colab": {}
      },
      "source": [
        ""
      ],
      "execution_count": null,
      "outputs": []
    },
    {
      "cell_type": "code",
      "metadata": {
        "id": "nKgXlzIh322c",
        "colab_type": "code",
        "colab": {}
      },
      "source": [
        ""
      ],
      "execution_count": null,
      "outputs": []
    },
    {
      "cell_type": "code",
      "metadata": {
        "id": "vNN5WCWP5a8g",
        "colab_type": "code",
        "colab": {}
      },
      "source": [
        ""
      ],
      "execution_count": null,
      "outputs": []
    }
  ]
}
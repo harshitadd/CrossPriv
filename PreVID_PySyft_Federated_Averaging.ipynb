{
  "nbformat": 4,
  "nbformat_minor": 0,
  "metadata": {
    "colab": {
      "name": "PreVID_PySyft_Federated_Averaging.ipynb",
      "provenance": [],
      "collapsed_sections": [],
      "include_colab_link": true
    },
    "kernelspec": {
      "name": "python3",
      "display_name": "Python 3"
    },
    "accelerator": "GPU"
  },
  "cells": [
    {
      "cell_type": "markdown",
      "metadata": {
        "id": "view-in-github",
        "colab_type": "text"
      },
      "source": [
        "<a href=\"https://colab.research.google.com/github/harshitadd/CrossPriv/blob/master/PreVID_PySyft_Federated_Averaging.ipynb\" target=\"_parent\"><img src=\"https://colab.research.google.com/assets/colab-badge.svg\" alt=\"Open In Colab\"/></a>"
      ]
    },
    {
      "cell_type": "code",
      "metadata": {
        "id": "Aoq3s2Yzd15t",
        "colab_type": "code",
        "colab": {}
      },
      "source": [
        "#!pip install syft==0.2.6 --quite \n",
        "#!pip install pydicom --quiet"
      ],
      "execution_count": 2,
      "outputs": []
    },
    {
      "cell_type": "code",
      "metadata": {
        "id": "A6bD7JbBq0D6",
        "colab_type": "code",
        "colab": {
          "base_uri": "https://localhost:8080/",
          "height": 35
        },
        "outputId": "20c7d6df-a731-48df-df42-6e7f1a186462"
      },
      "source": [
        "import os \n",
        "from google.colab import drive\n",
        "drive.mount('/content/drive')\n",
        "import torch\n",
        "import torch.nn as nn\n",
        "import torch.nn.functional as F\n",
        "import torch.optim as optim\n",
        "import syft as sy\n",
        "from torch.utils.data import TensorDataset, DataLoader\n",
        "import time\n",
        "import csv \n",
        "import copy\n",
        "import numpy as np\n",
        "from sklearn.model_selection import train_test_split\n",
        "from torch.utils.data import Dataset\n",
        "from syft.frameworks.torch.fl import utils\n",
        "from syft.workers.websocket_client import WebsocketClientWorker\n",
        "import pydicom \n",
        "import pandas as pd \n",
        "import cv2\n",
        "import matplotlib.pyplot as plt \n",
        "from sklearn.preprocessing import MinMaxScaler \n",
        "import numpy as np"
      ],
      "execution_count": 26,
      "outputs": [
        {
          "output_type": "stream",
          "text": [
            "Drive already mounted at /content/drive; to attempt to forcibly remount, call drive.mount(\"/content/drive\", force_remount=True).\n"
          ],
          "name": "stdout"
        }
      ]
    },
    {
      "cell_type": "code",
      "metadata": {
        "id": "Nwuyc_DerKUv",
        "colab_type": "code",
        "colab": {}
      },
      "source": [
        "def makeNonFedData():\n",
        "  dcm_path=os.listdir('/content/drive/My Drive/Fed_Covid/minibatch/')\n",
        "  dcm_data={}\n",
        "  alpha = 1.5 \n",
        "  beta = 0\n",
        "  labels=[]\n",
        "  pid=[]\n",
        "  dicom=[]\n",
        "  label=[]\n",
        "  for file in dcm_path:\n",
        "    name = '/content/drive/My Drive/Fed_Covid/minibatch/' + file\n",
        "    temp = pydicom.dcmread(name)\n",
        "    image = temp.pixel_array\n",
        "    image = cv2.cvtColor(image, cv2.COLOR_BGR2RGB)\n",
        "    adjusted = cv2.resize(image,(64,64))\n",
        "    dcm_data[file]=adjusted  \n",
        "  with open('/content/drive/My Drive/Fed_Covid/stage_2_train_labels.csv','r') as file:\n",
        "    reader = csv.reader(file)\n",
        "    for row in reader:\n",
        "      labels.append(row)  \n",
        "  scaler = MinMaxScaler()\n",
        "  cid = 0\n",
        "  for PID in labels:\n",
        "    for key in dcm_data:\n",
        "      if(key[:-4]==PID[0]):\n",
        "        l=[]\n",
        "        for val in dcm_data[key]:\n",
        "          l.append(scaler.fit_transform(val))\n",
        "        l = np.reshape(l,(3,64,64))\n",
        "        dicom.append(l)\n",
        "        label.append(int(PID[5]))\n",
        "  \n",
        "  return dicom,label\n",
        "    "
      ],
      "execution_count": 27,
      "outputs": []
    },
    {
      "cell_type": "code",
      "metadata": {
        "id": "BuoufluUrqEK",
        "colab_type": "code",
        "colab": {}
      },
      "source": [
        "dicom, label = makeNonFedData()"
      ],
      "execution_count": 28,
      "outputs": []
    },
    {
      "cell_type": "code",
      "metadata": {
        "id": "yOeS4TuIgogO",
        "colab_type": "code",
        "colab": {}
      },
      "source": [
        "class Arguments():\n",
        "    def __init__(self):\n",
        "        self.batch_size = 8\n",
        "        self.test_batch_size = 4\n",
        "        self.epochs = 1\n",
        "args = Arguments()"
      ],
      "execution_count": 29,
      "outputs": []
    },
    {
      "cell_type": "code",
      "metadata": {
        "id": "td7w-9SHFgaK",
        "colab_type": "code",
        "colab": {}
      },
      "source": [
        "x_train, x_test, y_train, y_test = train_test_split(dicom,label,test_size=0.3)\n",
        "test_df = pd.DataFrame()\n",
        "test_df['features']=x_test\n",
        "test_df['labels']=y_test\n",
        "x_train= np.array(x_train)\n",
        "y_train= np.array(y_train)\n",
        "x_test= np.array(x_test)\n",
        "y_test= np.array(y_test)"
      ],
      "execution_count": 30,
      "outputs": []
    },
    {
      "cell_type": "code",
      "metadata": {
        "id": "x8KCNM1rpsJb",
        "colab_type": "code",
        "colab": {}
      },
      "source": [
        "class data_maker(Dataset):\n",
        "  def __init__(self, images, labels):\n",
        "        self.data = images \n",
        "        self.targets = labels \n",
        "\n",
        "        self.to_torchtensor()\n",
        "        \n",
        "  def __len__(self):\n",
        "      return len(self.data)\n",
        "\n",
        "  def to_torchtensor(self):      \n",
        "      self.data=torch.from_numpy(self.data)\n",
        "      self.labels=torch.from_numpy(self.targets)\n",
        "  \n",
        "  def __getitem__(self, idx):\n",
        "      sample=self.data[idx]\n",
        "      target=self.targets[idx]\n",
        "      return sample,target"
      ],
      "execution_count": 33,
      "outputs": []
    },
    {
      "cell_type": "code",
      "metadata": {
        "id": "_HjuI6IJnOo_",
        "colab_type": "code",
        "colab": {
          "base_uri": "https://localhost:8080/",
          "height": 35
        },
        "outputId": "a11ba80f-53c1-4022-cea5-968f83ef4a6b"
      },
      "source": [
        "hook = sy.TorchHook(torch)\n",
        "hospital = sy.VirtualWorker(hook, id=\"hospital\")  \n",
        "clinic = sy.VirtualWorker(hook, id=\"clinic\")  "
      ],
      "execution_count": 34,
      "outputs": [
        {
          "output_type": "stream",
          "text": [
            "WARNING:root:Torch was already hooked... skipping hooking process\n"
          ],
          "name": "stderr"
        }
      ]
    },
    {
      "cell_type": "code",
      "metadata": {
        "id": "TGOtNPrLcCXO",
        "colab_type": "code",
        "colab": {}
      },
      "source": [
        "federated_train_data = data_maker(x_train,y_train).federate((hospital,clinic))"
      ],
      "execution_count": 35,
      "outputs": []
    },
    {
      "cell_type": "code",
      "metadata": {
        "id": "iVmlJAfUcCUX",
        "colab_type": "code",
        "colab": {}
      },
      "source": [
        "federated_train_loader = sy.FederatedDataLoader(federated_train_data,batch_size=args.batch_size)\n",
        "test_data = data_maker(x_test,y_test)\n",
        "test_loader = torch.utils.data.DataLoader(test_data, batch_size=args.test_batch_size)"
      ],
      "execution_count": 36,
      "outputs": []
    },
    {
      "cell_type": "code",
      "metadata": {
        "id": "KpiILdmui8ar",
        "colab_type": "code",
        "colab": {}
      },
      "source": [
        "class Net(nn.Module):\n",
        "    def __init__(self):\n",
        "        super().__init__()  \n",
        "        self.conv1 = nn.Conv2d(3,32, kernel_size=8, stride = 2)  \n",
        "        self.pool1 = nn.MaxPool2d(kernel_size=4,stride=2,padding=0)  \n",
        "        self.conv2 = nn.Conv2d(32, 64, 8)\n",
        "        self.pool2 = nn.MaxPool2d(4,2,padding=0)\n",
        "        self.fc1 = nn.Linear(256, 64*64)\n",
        "        self.fc2 = nn.Linear(64*64, 64)\n",
        "        self.fc3 = nn.Linear(64, 2)\n",
        "\n",
        "    def forward(self, x):\n",
        "        \n",
        "        x = F.relu(self.conv1(x))\n",
        "        x = self.pool1(x)\n",
        "        x = F.relu(self.conv2(x))\n",
        "        x = self.pool2(x)\n",
        "        x = x.view(-1,256)\n",
        "     \n",
        "        x = F.relu(self.fc1(x))\n",
        "        x = F.relu(self.fc2(x))\n",
        "        x = self.fc3(x)\n",
        "\n",
        "        return F.log_softmax(x,dim=1)"
      ],
      "execution_count": 37,
      "outputs": []
    },
    {
      "cell_type": "code",
      "metadata": {
        "id": "D6NZuEi-lmCN",
        "colab_type": "code",
        "colab": {}
      },
      "source": [
        "hospital_model = Net().double()\n",
        "clinic_model = Net().double()\n",
        "hospital_optimizer = optim.Adam(hospital_model.parameters(), lr=0.0001)\n",
        "clinic_optimizer = optim.Adam(clinic_model.parameters(), lr=0.0001)\n",
        "models = [hospital_model, clinic_model]\n",
        "optimizers = [hospital_optimizer, clinic_optimizer]\n",
        "model = Net().double()"
      ],
      "execution_count": 38,
      "outputs": []
    },
    {
      "cell_type": "code",
      "metadata": {
        "id": "5xTEMi9Alujt",
        "colab_type": "code",
        "colab": {}
      },
      "source": [
        "compute_nodes = [hospital, clinic]"
      ],
      "execution_count": 39,
      "outputs": []
    },
    {
      "cell_type": "code",
      "metadata": {
        "id": "d-DJE7Gfl3md",
        "colab_type": "code",
        "colab": {}
      },
      "source": [
        "def update(data, target, model, optimizer):\n",
        "    loss = nn.CrossEntropyLoss()\n",
        "    model.send(data.location) \n",
        "    optimizer.zero_grad()\n",
        "    output = model(data)\n",
        "    out = loss(output, target)\n",
        "    out.backward()\n",
        "    optimizer.step()\n",
        "    return model"
      ],
      "execution_count": 40,
      "outputs": []
    },
    {
      "cell_type": "code",
      "metadata": {
        "id": "Vnjt9JjcmUS3",
        "colab_type": "code",
        "colab": {}
      },
      "source": [
        "def train():\n",
        "  for batch_idx, (data, target) in enumerate(federated_train_loader):\n",
        "    for index in range(len(compute_nodes)):\n",
        "      models[index] = update(data,target,models[index],optimizers[index]) \n",
        "    for model in models:\n",
        "      model.get()\n",
        "    return utils.federated_avg({\"hospital\": models[0],\"clinic\":models[1]}) #\n"
      ],
      "execution_count": 41,
      "outputs": []
    },
    {
      "cell_type": "code",
      "metadata": {
        "id": "l9jG8P7EntJ3",
        "colab_type": "code",
        "colab": {}
      },
      "source": [
        "def test(federated_model):\n",
        "  federated_model.eval()\n",
        "  test_loss = 0\n",
        "  correct = 0\n",
        "  loss = nn.CrossEntropyLoss()\n",
        "  for data, target in test_loader:\n",
        "        output = model(data)\n",
        "        out = loss(output,target)\n",
        "        test_loss +=out\n",
        "        print('test loss of the iteration',test_loss)\n",
        "        pred = output.argmax(1, keepdim=True)\n",
        "        print('predicted val',pred)\n",
        "        print('target val',target)\n",
        "        correct += pred.eq(target.view_as(pred))\n",
        "\n",
        "  test_loss /= len(test_loader.dataset)\n",
        "\n",
        "  print('For Test Loss:' + str(test_loss))"
      ],
      "execution_count": 44,
      "outputs": []
    },
    {
      "cell_type": "code",
      "metadata": {
        "id": "cg1J-ojznOWg",
        "colab_type": "code",
        "colab": {}
      },
      "source": [
        "for epoch in range(5):\n",
        "  start_time = time.time()\n",
        "  print(f\"Epoch Number {epoch}\")\n",
        "  federated_model = train()\n",
        "  test(federated_model)\n",
        "  total_time = time.time() - start_time \n",
        "  print('Comm time', round(total_time,2),'s\\n')"
      ],
      "execution_count": null,
      "outputs": []
    }
  ]
}
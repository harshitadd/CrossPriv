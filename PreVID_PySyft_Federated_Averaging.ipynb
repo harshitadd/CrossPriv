{
  "nbformat": 4,
  "nbformat_minor": 0,
  "metadata": {
    "colab": {
      "name": "PreVID_PySyft_Federated_Averaging.ipynb",
      "provenance": [],
      "collapsed_sections": [],
      "include_colab_link": true
    },
    "kernelspec": {
      "name": "python3",
      "display_name": "Python 3"
    },
    "accelerator": "TPU"
  },
  "cells": [
    {
      "cell_type": "markdown",
      "metadata": {
        "id": "view-in-github",
        "colab_type": "text"
      },
      "source": [
        "<a href=\"https://colab.research.google.com/github/harshitadd/CrossPriv/blob/master/PreVID_PySyft_Federated_Averaging.ipynb\" target=\"_parent\"><img src=\"https://colab.research.google.com/assets/colab-badge.svg\" alt=\"Open In Colab\"/></a>"
      ]
    },
    {
      "cell_type": "code",
      "metadata": {
        "id": "Aoq3s2Yzd15t",
        "colab_type": "code",
        "colab": {}
      },
      "source": [
        "# !pip install syft==0.2.6 --quiet \n",
        "# !pip install pydicom --quiet"
      ],
      "execution_count": null,
      "outputs": []
    },
    {
      "cell_type": "code",
      "metadata": {
        "id": "A6bD7JbBq0D6",
        "colab_type": "code",
        "colab": {
          "base_uri": "https://localhost:8080/",
          "height": 55
        },
        "outputId": "dc444e9f-e388-40b1-c31d-42290e0e95ca"
      },
      "source": [
        "import os \n",
        "from google.colab import drive\n",
        "drive.mount('/content/drive')\n",
        "import torch\n",
        "import torch.nn as nn\n",
        "import torch.nn.functional as F\n",
        "import torch.optim as optim\n",
        "import syft as sy\n",
        "from torch.utils.data import TensorDataset, DataLoader\n",
        "import time\n",
        "import csv \n",
        "import copy\n",
        "import numpy as np\n",
        "from sklearn.model_selection import train_test_split\n",
        "from torch.utils.data import Dataset\n",
        "from syft.frameworks.torch.fl import utils\n",
        "from syft.workers.websocket_client import WebsocketClientWorker\n",
        "import pydicom \n",
        "import pandas as pd \n",
        "import cv2\n",
        "import matplotlib.pyplot as plt \n",
        "from sklearn.preprocessing import MinMaxScaler \n",
        "import numpy as np"
      ],
      "execution_count": null,
      "outputs": [
        {
          "output_type": "stream",
          "text": [
            "Drive already mounted at /content/drive; to attempt to forcibly remount, call drive.mount(\"/content/drive\", force_remount=True).\n"
          ],
          "name": "stdout"
        }
      ]
    },
    {
      "cell_type": "code",
      "metadata": {
        "id": "Nwuyc_DerKUv",
        "colab_type": "code",
        "colab": {}
      },
      "source": [
        "def makeNonFedData():\n",
        "  dcm_path=os.listdir('/content/drive/My Drive/Fed_Covid/minibatch/')\n",
        "  dcm_data={}\n",
        "  alpha = 1.5 \n",
        "  beta = 0\n",
        "  labels=[]\n",
        "  pid=[]\n",
        "  dicom=[]\n",
        "  label=[]\n",
        "  for file in dcm_path:\n",
        "    name = '/content/drive/My Drive/Fed_Covid/minibatch/' + file\n",
        "    temp = pydicom.dcmread(name)\n",
        "    image = temp.pixel_array\n",
        "    image = cv2.cvtColor(image, cv2.COLOR_BGR2RGB)\n",
        "    adjusted = cv2.resize(image,(128,128))\n",
        "    dcm_data[file]=adjusted  \n",
        "  with open('/content/drive/My Drive/Fed_Covid/stage_2_train_labels.csv','r') as file:\n",
        "    reader = csv.reader(file)\n",
        "    for row in reader:\n",
        "      labels.append(row)  \n",
        "  scaler = MinMaxScaler()\n",
        "  cid = 0\n",
        "  for PID in labels:\n",
        "    for key in dcm_data:\n",
        "      if(key[:-4]==PID[0]):\n",
        "        l=[]\n",
        "        for val in dcm_data[key]:\n",
        "          l.append(scaler.fit_transform(val))\n",
        "        l = np.reshape(l,(3,128,128))\n",
        "        dicom.append(l)\n",
        "        label.append(int(PID[5]))\n",
        "  \n",
        "  return dicom,label\n",
        "    "
      ],
      "execution_count": null,
      "outputs": []
    },
    {
      "cell_type": "code",
      "metadata": {
        "id": "BuoufluUrqEK",
        "colab_type": "code",
        "colab": {}
      },
      "source": [
        "dicom, label = makeNonFedData()"
      ],
      "execution_count": null,
      "outputs": []
    },
    {
      "cell_type": "code",
      "metadata": {
        "id": "yOeS4TuIgogO",
        "colab_type": "code",
        "colab": {}
      },
      "source": [
        "class Arguments():\n",
        "    def __init__(self):\n",
        "        self.batch_size = 8\n",
        "        self.test_batch_size = 4\n",
        "        self.epochs = 1\n",
        "args = Arguments()"
      ],
      "execution_count": null,
      "outputs": []
    },
    {
      "cell_type": "code",
      "metadata": {
        "id": "td7w-9SHFgaK",
        "colab_type": "code",
        "colab": {}
      },
      "source": [
        "x_train, x_test, y_train, y_test = train_test_split(dicom,label,test_size=0.3)\n",
        "test_df = pd.DataFrame()\n",
        "test_df['features']=x_test\n",
        "test_df['labels']=y_test\n",
        "x_train= np.array(x_train)\n",
        "y_train= np.array(y_train)\n",
        "x_test= np.array(x_test)\n",
        "y_test= np.array(y_test)"
      ],
      "execution_count": null,
      "outputs": []
    },
    {
      "cell_type": "code",
      "metadata": {
        "id": "x8KCNM1rpsJb",
        "colab_type": "code",
        "colab": {}
      },
      "source": [
        "class data_maker(Dataset):\n",
        "  def __init__(self, images, labels):\n",
        "        self.data = images \n",
        "        self.targets = labels \n",
        "\n",
        "        self.to_torchtensor()\n",
        "        \n",
        "  def __len__(self):\n",
        "      return len(self.data)\n",
        "\n",
        "  def to_torchtensor(self):      \n",
        "      self.data=torch.from_numpy(self.data)\n",
        "      self.labels=torch.from_numpy(self.targets)\n",
        "  \n",
        "  def __getitem__(self, idx):\n",
        "      sample=self.data[idx]\n",
        "      target=self.targets[idx]\n",
        "      return sample,target"
      ],
      "execution_count": null,
      "outputs": []
    },
    {
      "cell_type": "code",
      "metadata": {
        "id": "_HjuI6IJnOo_",
        "colab_type": "code",
        "colab": {
          "base_uri": "https://localhost:8080/",
          "height": 35
        },
        "outputId": "f66bd8ad-e906-44c1-dcb6-43253a4752ba"
      },
      "source": [
        "hook = sy.TorchHook(torch)\n",
        "hospital = sy.VirtualWorker(hook, id=\"hospital\")  \n",
        "clinic = sy.VirtualWorker(hook, id=\"clinic\")  "
      ],
      "execution_count": null,
      "outputs": [
        {
          "output_type": "stream",
          "text": [
            "WARNING:root:Torch was already hooked... skipping hooking process\n"
          ],
          "name": "stderr"
        }
      ]
    },
    {
      "cell_type": "code",
      "metadata": {
        "id": "TGOtNPrLcCXO",
        "colab_type": "code",
        "colab": {}
      },
      "source": [
        "federated_train_data = data_maker(x_train,y_train).federate((hospital,clinic))"
      ],
      "execution_count": null,
      "outputs": []
    },
    {
      "cell_type": "code",
      "metadata": {
        "id": "iVmlJAfUcCUX",
        "colab_type": "code",
        "colab": {}
      },
      "source": [
        "federated_train_loader = sy.FederatedDataLoader(federated_train_data,batch_size=args.batch_size)\n",
        "test_data = data_maker(x_test,y_test)\n",
        "test_loader = torch.utils.data.DataLoader(test_data, batch_size=args.test_batch_size)"
      ],
      "execution_count": null,
      "outputs": []
    },
    {
      "cell_type": "code",
      "metadata": {
        "id": "KpiILdmui8ar",
        "colab_type": "code",
        "colab": {}
      },
      "source": [
        "class Net(nn.Module):\n",
        "    def __init__(self):\n",
        "        super().__init__()  \n",
        "        self.conv1 = nn.Conv2d(3,32, kernel_size=8, stride = 2)  \n",
        "        self.pool1 = nn.MaxPool2d(kernel_size=4,stride=2,padding=0)  \n",
        "        self.conv2 = nn.Conv2d(32, 64, 8)\n",
        "        self.pool2 = nn.MaxPool2d(8,8,padding=0)\n",
        "\n",
        "        # Linear Layers \n",
        "        \n",
        "        self.fc1 = nn.Linear(64*2*2, 256)\n",
        "        self.fc2 = nn.Linear(256, 64)\n",
        "        self.fc3 = nn.Linear(64, 2)\n",
        "\n",
        "    def forward(self, x):\n",
        "        # print(x.shape)\n",
        "        x = F.relu(self.conv1(x))\n",
        "        # print(x.shape)\n",
        "        x = self.pool1(x)\n",
        "        # print(x.shape)\n",
        "        x = F.relu(self.conv2(x))\n",
        "        # print(x.shape)\n",
        "        x = self.pool2(x)\n",
        "        # print(x.shape)\n",
        "        x = x.view(-1,64*2*2)\n",
        "        x = F.relu(self.fc1(x))\n",
        "        x = F.relu(self.fc2(x))\n",
        "        x = self.fc3(x)\n",
        " \n",
        "        return F.log_softmax(x,dim=1)"
      ],
      "execution_count": null,
      "outputs": []
    },
    {
      "cell_type": "code",
      "metadata": {
        "id": "D6NZuEi-lmCN",
        "colab_type": "code",
        "colab": {}
      },
      "source": [
        "hospital_model = Net().double()\n",
        "clinic_model = Net().double()\n",
        "hospital_optimizer = optim.Adam(hospital_model.parameters(), lr=0.0001)\n",
        "clinic_optimizer = optim.Adam(clinic_model.parameters(), lr=0.0001)\n",
        "models = [hospital_model, clinic_model]\n",
        "optimizers = [hospital_optimizer, clinic_optimizer]\n",
        "model = Net().double()"
      ],
      "execution_count": null,
      "outputs": []
    },
    {
      "cell_type": "code",
      "metadata": {
        "id": "5xTEMi9Alujt",
        "colab_type": "code",
        "colab": {}
      },
      "source": [
        "compute_nodes = [hospital, clinic]"
      ],
      "execution_count": null,
      "outputs": []
    },
    {
      "cell_type": "code",
      "metadata": {
        "id": "d-DJE7Gfl3md",
        "colab_type": "code",
        "colab": {}
      },
      "source": [
        "def update(data, target, model, optimizer):\n",
        "    loss = nn.CrossEntropyLoss()\n",
        "    model.send(data.location) \n",
        "    optimizer.zero_grad()\n",
        "    output = model(data)\n",
        "    out = loss(output, target)\n",
        "    out.backward()\n",
        "    optimizer.step()\n",
        "    return model"
      ],
      "execution_count": null,
      "outputs": []
    },
    {
      "cell_type": "code",
      "metadata": {
        "id": "Vnjt9JjcmUS3",
        "colab_type": "code",
        "colab": {}
      },
      "source": [
        "def train():\n",
        "  for batch_idx, (data, target) in enumerate(federated_train_loader):\n",
        "    for index in range(len(compute_nodes)):\n",
        "      models[index] = update(data,target,models[index],optimizers[index]) \n",
        "    for model in models:\n",
        "      model.get()\n",
        "    return utils.federated_avg({\"hospital\": models[0],\"clinic\":models[1]}) #\n"
      ],
      "execution_count": null,
      "outputs": []
    },
    {
      "cell_type": "code",
      "metadata": {
        "id": "cehV3xzNRUd7",
        "colab_type": "code",
        "colab": {}
      },
      "source": [
        "# for i,val in enumerate(federated_train_loader):\n",
        "#   print(val[0][0][0][0][0])"
      ],
      "execution_count": null,
      "outputs": []
    },
    {
      "cell_type": "code",
      "metadata": {
        "id": "gE7FcMWEQ-rO",
        "colab_type": "code",
        "colab": {}
      },
      "source": [
        "# for i,val in enumerate(test_loader):\n",
        "#   print(val[0][0][0][0][0])"
      ],
      "execution_count": null,
      "outputs": []
    },
    {
      "cell_type": "code",
      "metadata": {
        "id": "l9jG8P7EntJ3",
        "colab_type": "code",
        "colab": {}
      },
      "source": [
        "def test(federated_model):\n",
        "  federated_model.eval()\n",
        "  test_loss = 0\n",
        "  correct = 0\n",
        "  loss = nn.CrossEntropyLoss()\n",
        "  with torch.no_grad():\n",
        "    for data, target in test_loader:\n",
        "          output = model(data)\n",
        "          out = loss(output,target)\n",
        "          test_loss += out\n",
        "          pred = output.argmax(1, keepdim=True)\n",
        "          correct += pred.eq(target.view_as(pred))\n",
        "\n",
        "  test_loss /= len(test_loader.dataset)\n",
        "  print(correct)\n",
        "  print('For Global Model Test loss:' + str(test_loss))"
      ],
      "execution_count": null,
      "outputs": []
    },
    {
      "cell_type": "code",
      "metadata": {
        "id": "Zib321mbOzFG",
        "colab_type": "code",
        "colab": {
          "base_uri": "https://localhost:8080/",
          "height": 492
        },
        "outputId": "6b65f0c6-6eab-404e-c224-d59411a5fa64"
      },
      "source": [
        "for epoch in range(5):\n",
        "  start_time = time.time()\n",
        "  print(f\"Epoch Number {epoch}\")\n",
        "  federated_model = train()\n",
        "  total_time = time.time() - start_time \n",
        "  print('Comm time', round(total_time,2),'s\\n')"
      ],
      "execution_count": null,
      "outputs": [
        {
          "output_type": "stream",
          "text": [
            "Epoch Number 0\n",
            "Loss for local iteration (Wrapper)>[PointerTensor | me:78526597205 -> hospital:68451090450]\n",
            "Loss for local iteration (Wrapper)>[PointerTensor | me:93920035238 -> hospital:94201163823]\n",
            "Comm time 0.72 s\n",
            "\n",
            "Epoch Number 1\n",
            "Loss for local iteration (Wrapper)>[PointerTensor | me:12954878799 -> hospital:4110708716]\n",
            "Loss for local iteration (Wrapper)>[PointerTensor | me:22337327273 -> hospital:33106492512]\n",
            "Comm time 0.7 s\n",
            "\n",
            "Epoch Number 2\n",
            "Loss for local iteration (Wrapper)>[PointerTensor | me:35929974157 -> hospital:91467735734]\n",
            "Loss for local iteration (Wrapper)>[PointerTensor | me:71801368172 -> hospital:4244658442]\n",
            "Comm time 0.71 s\n",
            "\n",
            "Epoch Number 3\n",
            "Loss for local iteration (Wrapper)>[PointerTensor | me:17995056656 -> hospital:31687279716]\n",
            "Loss for local iteration (Wrapper)>[PointerTensor | me:36327091581 -> hospital:37669575752]\n",
            "Comm time 0.71 s\n",
            "\n",
            "Epoch Number 4\n",
            "Loss for local iteration (Wrapper)>[PointerTensor | me:34091768896 -> hospital:2876199771]\n",
            "Loss for local iteration (Wrapper)>[PointerTensor | me:6144860875 -> hospital:66346308830]\n",
            "Comm time 0.71 s\n",
            "\n"
          ],
          "name": "stdout"
        }
      ]
    },
    {
      "cell_type": "code",
      "metadata": {
        "id": "HjWn3qKq-w49",
        "colab_type": "code",
        "colab": {
          "base_uri": "https://localhost:8080/",
          "height": 708
        },
        "outputId": "b0d9db8b-1341-4b44-a14d-fa6be0e7bee0"
      },
      "source": [
        "test(federated_model)"
      ],
      "execution_count": null,
      "outputs": [
        {
          "output_type": "stream",
          "text": [
            "Test loss of the iteration on local model -  tensor(0.6586, dtype=torch.float64)\n",
            "Test loss of the iteration on local model -  tensor(1.3163, dtype=torch.float64)\n",
            "Test loss of the iteration on local model -  tensor(2.0114, dtype=torch.float64)\n",
            "Test loss of the iteration on local model -  tensor(2.7073, dtype=torch.float64)\n",
            "Test loss of the iteration on local model -  tensor(3.3291, dtype=torch.float64)\n",
            "Test loss of the iteration on local model -  tensor(3.9482, dtype=torch.float64)\n",
            "Test loss of the iteration on local model -  tensor(4.6063, dtype=torch.float64)\n",
            "Test loss of the iteration on local model -  tensor(5.2640, dtype=torch.float64)\n",
            "Test loss of the iteration on local model -  tensor(5.9226, dtype=torch.float64)\n",
            "Test loss of the iteration on local model -  tensor(6.6930, dtype=torch.float64)\n",
            "Test loss of the iteration on local model -  tensor(7.3148, dtype=torch.float64)\n",
            "Test loss of the iteration on local model -  tensor(7.9383, dtype=torch.float64)\n",
            "Test loss of the iteration on local model -  tensor(8.6340, dtype=torch.float64)\n",
            "Test loss of the iteration on local model -  tensor(9.2924, dtype=torch.float64)\n",
            "Test loss of the iteration on local model -  tensor(9.9509, dtype=torch.float64)\n",
            "Test loss of the iteration on local model -  tensor(10.5708, dtype=torch.float64)\n",
            "Test loss of the iteration on local model -  tensor(11.1917, dtype=torch.float64)\n",
            "Test loss of the iteration on local model -  tensor(11.8509, dtype=torch.float64)\n",
            "Test loss of the iteration on local model -  tensor(12.4709, dtype=torch.float64)\n",
            "Test loss of the iteration on local model -  tensor(13.1680, dtype=torch.float64)\n",
            "Test loss of the iteration on local model -  tensor(13.7885, dtype=torch.float64)\n",
            "Test loss of the iteration on local model -  tensor(14.4461, dtype=torch.float64)\n",
            "Test loss of the iteration on local model -  tensor(15.0672, dtype=torch.float64)\n",
            "Test loss of the iteration on local model -  tensor(15.7256, dtype=torch.float64)\n",
            "Test loss of the iteration on local model -  tensor(16.3461, dtype=torch.float64)\n",
            "Test loss of the iteration on local model -  tensor(17.0050, dtype=torch.float64)\n",
            "Test loss of the iteration on local model -  tensor(17.6627, dtype=torch.float64)\n",
            "Test loss of the iteration on local model -  tensor(18.3222, dtype=torch.float64)\n",
            "Test loss of the iteration on local model -  tensor(18.9428, dtype=torch.float64)\n",
            "Test loss of the iteration on local model -  tensor(19.6010, dtype=torch.float64)\n",
            "Test loss of the iteration on local model -  tensor(20.2963, dtype=torch.float64)\n",
            "Test loss of the iteration on local model -  tensor(20.9180, dtype=torch.float64)\n",
            "Test loss of the iteration on local model -  tensor(21.5404, dtype=torch.float64)\n",
            "tensor([[27],\n",
            "        [26],\n",
            "        [26],\n",
            "        [25]])\n",
            "For Global Model Test loss:tensor(0.1670, dtype=torch.float64)\n"
          ],
          "name": "stdout"
        }
      ]
    },
    {
      "cell_type": "code",
      "metadata": {
        "id": "UuAxvxdEA2Xu",
        "colab_type": "code",
        "colab": {}
      },
      "source": [
        ""
      ],
      "execution_count": null,
      "outputs": []
    }
  ]
}
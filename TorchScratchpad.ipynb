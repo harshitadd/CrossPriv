{
  "nbformat": 4,
  "nbformat_minor": 0,
  "metadata": {
    "colab": {
      "name": "TorchScratchpad.ipynb",
      "provenance": [],
      "authorship_tag": "ABX9TyM0/sFVTOg9UtlfRf1WFA0S",
      "include_colab_link": true
    },
    "kernelspec": {
      "name": "python3",
      "display_name": "Python 3"
    },
    "widgets": {
      "application/vnd.jupyter.widget-state+json": {
        "c10a5375e36c4b07b6a3fbeccfec4478": {
          "model_module": "@jupyter-widgets/controls",
          "model_name": "HBoxModel",
          "state": {
            "_view_name": "HBoxView",
            "_dom_classes": [],
            "_model_name": "HBoxModel",
            "_view_module": "@jupyter-widgets/controls",
            "_model_module_version": "1.5.0",
            "_view_count": null,
            "_view_module_version": "1.5.0",
            "box_style": "",
            "layout": "IPY_MODEL_83a09994ce2b4b19b3ed08001bc21da9",
            "_model_module": "@jupyter-widgets/controls",
            "children": [
              "IPY_MODEL_6ba9c088fca646d6b63c82b0db7f5a3d",
              "IPY_MODEL_860a501b70eb4361ad214aae2ee51aa6"
            ]
          }
        },
        "83a09994ce2b4b19b3ed08001bc21da9": {
          "model_module": "@jupyter-widgets/base",
          "model_name": "LayoutModel",
          "state": {
            "_view_name": "LayoutView",
            "grid_template_rows": null,
            "right": null,
            "justify_content": null,
            "_view_module": "@jupyter-widgets/base",
            "overflow": null,
            "_model_module_version": "1.2.0",
            "_view_count": null,
            "flex_flow": null,
            "width": null,
            "min_width": null,
            "border": null,
            "align_items": null,
            "bottom": null,
            "_model_module": "@jupyter-widgets/base",
            "top": null,
            "grid_column": null,
            "overflow_y": null,
            "overflow_x": null,
            "grid_auto_flow": null,
            "grid_area": null,
            "grid_template_columns": null,
            "flex": null,
            "_model_name": "LayoutModel",
            "justify_items": null,
            "grid_row": null,
            "max_height": null,
            "align_content": null,
            "visibility": null,
            "align_self": null,
            "height": null,
            "min_height": null,
            "padding": null,
            "grid_auto_rows": null,
            "grid_gap": null,
            "max_width": null,
            "order": null,
            "_view_module_version": "1.2.0",
            "grid_template_areas": null,
            "object_position": null,
            "object_fit": null,
            "grid_auto_columns": null,
            "margin": null,
            "display": null,
            "left": null
          }
        },
        "6ba9c088fca646d6b63c82b0db7f5a3d": {
          "model_module": "@jupyter-widgets/controls",
          "model_name": "FloatProgressModel",
          "state": {
            "_view_name": "ProgressView",
            "style": "IPY_MODEL_6d30d8fa7a454e9683fbfa9a73f21801",
            "_dom_classes": [],
            "description": "",
            "_model_name": "FloatProgressModel",
            "bar_style": "success",
            "max": 1,
            "_view_module": "@jupyter-widgets/controls",
            "_model_module_version": "1.5.0",
            "value": 1,
            "_view_count": null,
            "_view_module_version": "1.5.0",
            "orientation": "horizontal",
            "min": 0,
            "description_tooltip": null,
            "_model_module": "@jupyter-widgets/controls",
            "layout": "IPY_MODEL_19b07e45e9a141249c452efd0253a457"
          }
        },
        "860a501b70eb4361ad214aae2ee51aa6": {
          "model_module": "@jupyter-widgets/controls",
          "model_name": "HTMLModel",
          "state": {
            "_view_name": "HTMLView",
            "style": "IPY_MODEL_4204ec035b4040e9be5c261a774384f1",
            "_dom_classes": [],
            "description": "",
            "_model_name": "HTMLModel",
            "placeholder": "​",
            "_view_module": "@jupyter-widgets/controls",
            "_model_module_version": "1.5.0",
            "value": " 9920512/? [4:29:33&lt;00:00, 613.39it/s]",
            "_view_count": null,
            "_view_module_version": "1.5.0",
            "description_tooltip": null,
            "_model_module": "@jupyter-widgets/controls",
            "layout": "IPY_MODEL_afbe80848dac4748abde13187345e5fe"
          }
        },
        "6d30d8fa7a454e9683fbfa9a73f21801": {
          "model_module": "@jupyter-widgets/controls",
          "model_name": "ProgressStyleModel",
          "state": {
            "_view_name": "StyleView",
            "_model_name": "ProgressStyleModel",
            "description_width": "initial",
            "_view_module": "@jupyter-widgets/base",
            "_model_module_version": "1.5.0",
            "_view_count": null,
            "_view_module_version": "1.2.0",
            "bar_color": null,
            "_model_module": "@jupyter-widgets/controls"
          }
        },
        "19b07e45e9a141249c452efd0253a457": {
          "model_module": "@jupyter-widgets/base",
          "model_name": "LayoutModel",
          "state": {
            "_view_name": "LayoutView",
            "grid_template_rows": null,
            "right": null,
            "justify_content": null,
            "_view_module": "@jupyter-widgets/base",
            "overflow": null,
            "_model_module_version": "1.2.0",
            "_view_count": null,
            "flex_flow": null,
            "width": null,
            "min_width": null,
            "border": null,
            "align_items": null,
            "bottom": null,
            "_model_module": "@jupyter-widgets/base",
            "top": null,
            "grid_column": null,
            "overflow_y": null,
            "overflow_x": null,
            "grid_auto_flow": null,
            "grid_area": null,
            "grid_template_columns": null,
            "flex": null,
            "_model_name": "LayoutModel",
            "justify_items": null,
            "grid_row": null,
            "max_height": null,
            "align_content": null,
            "visibility": null,
            "align_self": null,
            "height": null,
            "min_height": null,
            "padding": null,
            "grid_auto_rows": null,
            "grid_gap": null,
            "max_width": null,
            "order": null,
            "_view_module_version": "1.2.0",
            "grid_template_areas": null,
            "object_position": null,
            "object_fit": null,
            "grid_auto_columns": null,
            "margin": null,
            "display": null,
            "left": null
          }
        },
        "4204ec035b4040e9be5c261a774384f1": {
          "model_module": "@jupyter-widgets/controls",
          "model_name": "DescriptionStyleModel",
          "state": {
            "_view_name": "StyleView",
            "_model_name": "DescriptionStyleModel",
            "description_width": "",
            "_view_module": "@jupyter-widgets/base",
            "_model_module_version": "1.5.0",
            "_view_count": null,
            "_view_module_version": "1.2.0",
            "_model_module": "@jupyter-widgets/controls"
          }
        },
        "afbe80848dac4748abde13187345e5fe": {
          "model_module": "@jupyter-widgets/base",
          "model_name": "LayoutModel",
          "state": {
            "_view_name": "LayoutView",
            "grid_template_rows": null,
            "right": null,
            "justify_content": null,
            "_view_module": "@jupyter-widgets/base",
            "overflow": null,
            "_model_module_version": "1.2.0",
            "_view_count": null,
            "flex_flow": null,
            "width": null,
            "min_width": null,
            "border": null,
            "align_items": null,
            "bottom": null,
            "_model_module": "@jupyter-widgets/base",
            "top": null,
            "grid_column": null,
            "overflow_y": null,
            "overflow_x": null,
            "grid_auto_flow": null,
            "grid_area": null,
            "grid_template_columns": null,
            "flex": null,
            "_model_name": "LayoutModel",
            "justify_items": null,
            "grid_row": null,
            "max_height": null,
            "align_content": null,
            "visibility": null,
            "align_self": null,
            "height": null,
            "min_height": null,
            "padding": null,
            "grid_auto_rows": null,
            "grid_gap": null,
            "max_width": null,
            "order": null,
            "_view_module_version": "1.2.0",
            "grid_template_areas": null,
            "object_position": null,
            "object_fit": null,
            "grid_auto_columns": null,
            "margin": null,
            "display": null,
            "left": null
          }
        },
        "88860b11b430406ab80eaae7a9abe102": {
          "model_module": "@jupyter-widgets/controls",
          "model_name": "HBoxModel",
          "state": {
            "_view_name": "HBoxView",
            "_dom_classes": [],
            "_model_name": "HBoxModel",
            "_view_module": "@jupyter-widgets/controls",
            "_model_module_version": "1.5.0",
            "_view_count": null,
            "_view_module_version": "1.5.0",
            "box_style": "",
            "layout": "IPY_MODEL_844985cd14e948d0898bc7c4e73c0ffc",
            "_model_module": "@jupyter-widgets/controls",
            "children": [
              "IPY_MODEL_30792decf9b34be58abbbd82ee0b5670",
              "IPY_MODEL_394d5a4339b8422fb8c6dee96be82875"
            ]
          }
        },
        "844985cd14e948d0898bc7c4e73c0ffc": {
          "model_module": "@jupyter-widgets/base",
          "model_name": "LayoutModel",
          "state": {
            "_view_name": "LayoutView",
            "grid_template_rows": null,
            "right": null,
            "justify_content": null,
            "_view_module": "@jupyter-widgets/base",
            "overflow": null,
            "_model_module_version": "1.2.0",
            "_view_count": null,
            "flex_flow": null,
            "width": null,
            "min_width": null,
            "border": null,
            "align_items": null,
            "bottom": null,
            "_model_module": "@jupyter-widgets/base",
            "top": null,
            "grid_column": null,
            "overflow_y": null,
            "overflow_x": null,
            "grid_auto_flow": null,
            "grid_area": null,
            "grid_template_columns": null,
            "flex": null,
            "_model_name": "LayoutModel",
            "justify_items": null,
            "grid_row": null,
            "max_height": null,
            "align_content": null,
            "visibility": null,
            "align_self": null,
            "height": null,
            "min_height": null,
            "padding": null,
            "grid_auto_rows": null,
            "grid_gap": null,
            "max_width": null,
            "order": null,
            "_view_module_version": "1.2.0",
            "grid_template_areas": null,
            "object_position": null,
            "object_fit": null,
            "grid_auto_columns": null,
            "margin": null,
            "display": null,
            "left": null
          }
        },
        "30792decf9b34be58abbbd82ee0b5670": {
          "model_module": "@jupyter-widgets/controls",
          "model_name": "FloatProgressModel",
          "state": {
            "_view_name": "ProgressView",
            "style": "IPY_MODEL_0824688be7704abfb2a134f031751b9f",
            "_dom_classes": [],
            "description": "",
            "_model_name": "FloatProgressModel",
            "bar_style": "success",
            "max": 1,
            "_view_module": "@jupyter-widgets/controls",
            "_model_module_version": "1.5.0",
            "value": 1,
            "_view_count": null,
            "_view_module_version": "1.5.0",
            "orientation": "horizontal",
            "min": 0,
            "description_tooltip": null,
            "_model_module": "@jupyter-widgets/controls",
            "layout": "IPY_MODEL_c03e737109cf43379b035ffecc965f4e"
          }
        },
        "394d5a4339b8422fb8c6dee96be82875": {
          "model_module": "@jupyter-widgets/controls",
          "model_name": "HTMLModel",
          "state": {
            "_view_name": "HTMLView",
            "style": "IPY_MODEL_737eaaa6f4e942469950ca7b72f3f0ce",
            "_dom_classes": [],
            "description": "",
            "_model_name": "HTMLModel",
            "placeholder": "​",
            "_view_module": "@jupyter-widgets/controls",
            "_model_module_version": "1.5.0",
            "value": " 32768/? [4:29:32&lt;00:00,  2.03it/s]",
            "_view_count": null,
            "_view_module_version": "1.5.0",
            "description_tooltip": null,
            "_model_module": "@jupyter-widgets/controls",
            "layout": "IPY_MODEL_cab1e6a89cbd402fbfc01e1a7323167a"
          }
        },
        "0824688be7704abfb2a134f031751b9f": {
          "model_module": "@jupyter-widgets/controls",
          "model_name": "ProgressStyleModel",
          "state": {
            "_view_name": "StyleView",
            "_model_name": "ProgressStyleModel",
            "description_width": "initial",
            "_view_module": "@jupyter-widgets/base",
            "_model_module_version": "1.5.0",
            "_view_count": null,
            "_view_module_version": "1.2.0",
            "bar_color": null,
            "_model_module": "@jupyter-widgets/controls"
          }
        },
        "c03e737109cf43379b035ffecc965f4e": {
          "model_module": "@jupyter-widgets/base",
          "model_name": "LayoutModel",
          "state": {
            "_view_name": "LayoutView",
            "grid_template_rows": null,
            "right": null,
            "justify_content": null,
            "_view_module": "@jupyter-widgets/base",
            "overflow": null,
            "_model_module_version": "1.2.0",
            "_view_count": null,
            "flex_flow": null,
            "width": null,
            "min_width": null,
            "border": null,
            "align_items": null,
            "bottom": null,
            "_model_module": "@jupyter-widgets/base",
            "top": null,
            "grid_column": null,
            "overflow_y": null,
            "overflow_x": null,
            "grid_auto_flow": null,
            "grid_area": null,
            "grid_template_columns": null,
            "flex": null,
            "_model_name": "LayoutModel",
            "justify_items": null,
            "grid_row": null,
            "max_height": null,
            "align_content": null,
            "visibility": null,
            "align_self": null,
            "height": null,
            "min_height": null,
            "padding": null,
            "grid_auto_rows": null,
            "grid_gap": null,
            "max_width": null,
            "order": null,
            "_view_module_version": "1.2.0",
            "grid_template_areas": null,
            "object_position": null,
            "object_fit": null,
            "grid_auto_columns": null,
            "margin": null,
            "display": null,
            "left": null
          }
        },
        "737eaaa6f4e942469950ca7b72f3f0ce": {
          "model_module": "@jupyter-widgets/controls",
          "model_name": "DescriptionStyleModel",
          "state": {
            "_view_name": "StyleView",
            "_model_name": "DescriptionStyleModel",
            "description_width": "",
            "_view_module": "@jupyter-widgets/base",
            "_model_module_version": "1.5.0",
            "_view_count": null,
            "_view_module_version": "1.2.0",
            "_model_module": "@jupyter-widgets/controls"
          }
        },
        "cab1e6a89cbd402fbfc01e1a7323167a": {
          "model_module": "@jupyter-widgets/base",
          "model_name": "LayoutModel",
          "state": {
            "_view_name": "LayoutView",
            "grid_template_rows": null,
            "right": null,
            "justify_content": null,
            "_view_module": "@jupyter-widgets/base",
            "overflow": null,
            "_model_module_version": "1.2.0",
            "_view_count": null,
            "flex_flow": null,
            "width": null,
            "min_width": null,
            "border": null,
            "align_items": null,
            "bottom": null,
            "_model_module": "@jupyter-widgets/base",
            "top": null,
            "grid_column": null,
            "overflow_y": null,
            "overflow_x": null,
            "grid_auto_flow": null,
            "grid_area": null,
            "grid_template_columns": null,
            "flex": null,
            "_model_name": "LayoutModel",
            "justify_items": null,
            "grid_row": null,
            "max_height": null,
            "align_content": null,
            "visibility": null,
            "align_self": null,
            "height": null,
            "min_height": null,
            "padding": null,
            "grid_auto_rows": null,
            "grid_gap": null,
            "max_width": null,
            "order": null,
            "_view_module_version": "1.2.0",
            "grid_template_areas": null,
            "object_position": null,
            "object_fit": null,
            "grid_auto_columns": null,
            "margin": null,
            "display": null,
            "left": null
          }
        },
        "e5340ff141694558a8568edb8c2d6a9a": {
          "model_module": "@jupyter-widgets/controls",
          "model_name": "HBoxModel",
          "state": {
            "_view_name": "HBoxView",
            "_dom_classes": [],
            "_model_name": "HBoxModel",
            "_view_module": "@jupyter-widgets/controls",
            "_model_module_version": "1.5.0",
            "_view_count": null,
            "_view_module_version": "1.5.0",
            "box_style": "",
            "layout": "IPY_MODEL_35c482e3ac68447f8da9e209a9024319",
            "_model_module": "@jupyter-widgets/controls",
            "children": [
              "IPY_MODEL_13283094d423454fb700e610cb556a05",
              "IPY_MODEL_471edb7031e54af7a974ccd5f34ebb93"
            ]
          }
        },
        "35c482e3ac68447f8da9e209a9024319": {
          "model_module": "@jupyter-widgets/base",
          "model_name": "LayoutModel",
          "state": {
            "_view_name": "LayoutView",
            "grid_template_rows": null,
            "right": null,
            "justify_content": null,
            "_view_module": "@jupyter-widgets/base",
            "overflow": null,
            "_model_module_version": "1.2.0",
            "_view_count": null,
            "flex_flow": null,
            "width": null,
            "min_width": null,
            "border": null,
            "align_items": null,
            "bottom": null,
            "_model_module": "@jupyter-widgets/base",
            "top": null,
            "grid_column": null,
            "overflow_y": null,
            "overflow_x": null,
            "grid_auto_flow": null,
            "grid_area": null,
            "grid_template_columns": null,
            "flex": null,
            "_model_name": "LayoutModel",
            "justify_items": null,
            "grid_row": null,
            "max_height": null,
            "align_content": null,
            "visibility": null,
            "align_self": null,
            "height": null,
            "min_height": null,
            "padding": null,
            "grid_auto_rows": null,
            "grid_gap": null,
            "max_width": null,
            "order": null,
            "_view_module_version": "1.2.0",
            "grid_template_areas": null,
            "object_position": null,
            "object_fit": null,
            "grid_auto_columns": null,
            "margin": null,
            "display": null,
            "left": null
          }
        },
        "13283094d423454fb700e610cb556a05": {
          "model_module": "@jupyter-widgets/controls",
          "model_name": "FloatProgressModel",
          "state": {
            "_view_name": "ProgressView",
            "style": "IPY_MODEL_2e0f48d40cb14e3eb429ded4bc791f85",
            "_dom_classes": [],
            "description": "",
            "_model_name": "FloatProgressModel",
            "bar_style": "success",
            "max": 1,
            "_view_module": "@jupyter-widgets/controls",
            "_model_module_version": "1.5.0",
            "value": 1,
            "_view_count": null,
            "_view_module_version": "1.5.0",
            "orientation": "horizontal",
            "min": 0,
            "description_tooltip": null,
            "_model_module": "@jupyter-widgets/controls",
            "layout": "IPY_MODEL_06b77dd16fa342a9b66cddafe4623b7b"
          }
        },
        "471edb7031e54af7a974ccd5f34ebb93": {
          "model_module": "@jupyter-widgets/controls",
          "model_name": "HTMLModel",
          "state": {
            "_view_name": "HTMLView",
            "style": "IPY_MODEL_8e6958574cbc4fcb97c89ad6cba796ea",
            "_dom_classes": [],
            "description": "",
            "_model_name": "HTMLModel",
            "placeholder": "​",
            "_view_module": "@jupyter-widgets/controls",
            "_model_module_version": "1.5.0",
            "value": " 1654784/? [00:00&lt;00:00, 2943993.22it/s]",
            "_view_count": null,
            "_view_module_version": "1.5.0",
            "description_tooltip": null,
            "_model_module": "@jupyter-widgets/controls",
            "layout": "IPY_MODEL_81a06fb7d29f49f28e8046b99a695945"
          }
        },
        "2e0f48d40cb14e3eb429ded4bc791f85": {
          "model_module": "@jupyter-widgets/controls",
          "model_name": "ProgressStyleModel",
          "state": {
            "_view_name": "StyleView",
            "_model_name": "ProgressStyleModel",
            "description_width": "initial",
            "_view_module": "@jupyter-widgets/base",
            "_model_module_version": "1.5.0",
            "_view_count": null,
            "_view_module_version": "1.2.0",
            "bar_color": null,
            "_model_module": "@jupyter-widgets/controls"
          }
        },
        "06b77dd16fa342a9b66cddafe4623b7b": {
          "model_module": "@jupyter-widgets/base",
          "model_name": "LayoutModel",
          "state": {
            "_view_name": "LayoutView",
            "grid_template_rows": null,
            "right": null,
            "justify_content": null,
            "_view_module": "@jupyter-widgets/base",
            "overflow": null,
            "_model_module_version": "1.2.0",
            "_view_count": null,
            "flex_flow": null,
            "width": null,
            "min_width": null,
            "border": null,
            "align_items": null,
            "bottom": null,
            "_model_module": "@jupyter-widgets/base",
            "top": null,
            "grid_column": null,
            "overflow_y": null,
            "overflow_x": null,
            "grid_auto_flow": null,
            "grid_area": null,
            "grid_template_columns": null,
            "flex": null,
            "_model_name": "LayoutModel",
            "justify_items": null,
            "grid_row": null,
            "max_height": null,
            "align_content": null,
            "visibility": null,
            "align_self": null,
            "height": null,
            "min_height": null,
            "padding": null,
            "grid_auto_rows": null,
            "grid_gap": null,
            "max_width": null,
            "order": null,
            "_view_module_version": "1.2.0",
            "grid_template_areas": null,
            "object_position": null,
            "object_fit": null,
            "grid_auto_columns": null,
            "margin": null,
            "display": null,
            "left": null
          }
        },
        "8e6958574cbc4fcb97c89ad6cba796ea": {
          "model_module": "@jupyter-widgets/controls",
          "model_name": "DescriptionStyleModel",
          "state": {
            "_view_name": "StyleView",
            "_model_name": "DescriptionStyleModel",
            "description_width": "",
            "_view_module": "@jupyter-widgets/base",
            "_model_module_version": "1.5.0",
            "_view_count": null,
            "_view_module_version": "1.2.0",
            "_model_module": "@jupyter-widgets/controls"
          }
        },
        "81a06fb7d29f49f28e8046b99a695945": {
          "model_module": "@jupyter-widgets/base",
          "model_name": "LayoutModel",
          "state": {
            "_view_name": "LayoutView",
            "grid_template_rows": null,
            "right": null,
            "justify_content": null,
            "_view_module": "@jupyter-widgets/base",
            "overflow": null,
            "_model_module_version": "1.2.0",
            "_view_count": null,
            "flex_flow": null,
            "width": null,
            "min_width": null,
            "border": null,
            "align_items": null,
            "bottom": null,
            "_model_module": "@jupyter-widgets/base",
            "top": null,
            "grid_column": null,
            "overflow_y": null,
            "overflow_x": null,
            "grid_auto_flow": null,
            "grid_area": null,
            "grid_template_columns": null,
            "flex": null,
            "_model_name": "LayoutModel",
            "justify_items": null,
            "grid_row": null,
            "max_height": null,
            "align_content": null,
            "visibility": null,
            "align_self": null,
            "height": null,
            "min_height": null,
            "padding": null,
            "grid_auto_rows": null,
            "grid_gap": null,
            "max_width": null,
            "order": null,
            "_view_module_version": "1.2.0",
            "grid_template_areas": null,
            "object_position": null,
            "object_fit": null,
            "grid_auto_columns": null,
            "margin": null,
            "display": null,
            "left": null
          }
        },
        "5c559ee270a84b7e9e333141c1b6ba16": {
          "model_module": "@jupyter-widgets/controls",
          "model_name": "HBoxModel",
          "state": {
            "_view_name": "HBoxView",
            "_dom_classes": [],
            "_model_name": "HBoxModel",
            "_view_module": "@jupyter-widgets/controls",
            "_model_module_version": "1.5.0",
            "_view_count": null,
            "_view_module_version": "1.5.0",
            "box_style": "",
            "layout": "IPY_MODEL_db5daf5aafe04b6bb127b37584e1efb5",
            "_model_module": "@jupyter-widgets/controls",
            "children": [
              "IPY_MODEL_2fe56a9e8a724414b1c6485b11016626",
              "IPY_MODEL_aa5c3d65b24d45deb0d2170b723e717e"
            ]
          }
        },
        "db5daf5aafe04b6bb127b37584e1efb5": {
          "model_module": "@jupyter-widgets/base",
          "model_name": "LayoutModel",
          "state": {
            "_view_name": "LayoutView",
            "grid_template_rows": null,
            "right": null,
            "justify_content": null,
            "_view_module": "@jupyter-widgets/base",
            "overflow": null,
            "_model_module_version": "1.2.0",
            "_view_count": null,
            "flex_flow": null,
            "width": null,
            "min_width": null,
            "border": null,
            "align_items": null,
            "bottom": null,
            "_model_module": "@jupyter-widgets/base",
            "top": null,
            "grid_column": null,
            "overflow_y": null,
            "overflow_x": null,
            "grid_auto_flow": null,
            "grid_area": null,
            "grid_template_columns": null,
            "flex": null,
            "_model_name": "LayoutModel",
            "justify_items": null,
            "grid_row": null,
            "max_height": null,
            "align_content": null,
            "visibility": null,
            "align_self": null,
            "height": null,
            "min_height": null,
            "padding": null,
            "grid_auto_rows": null,
            "grid_gap": null,
            "max_width": null,
            "order": null,
            "_view_module_version": "1.2.0",
            "grid_template_areas": null,
            "object_position": null,
            "object_fit": null,
            "grid_auto_columns": null,
            "margin": null,
            "display": null,
            "left": null
          }
        },
        "2fe56a9e8a724414b1c6485b11016626": {
          "model_module": "@jupyter-widgets/controls",
          "model_name": "FloatProgressModel",
          "state": {
            "_view_name": "ProgressView",
            "style": "IPY_MODEL_1ce4839d82db4ff7b7c2b3bf117370b8",
            "_dom_classes": [],
            "description": "",
            "_model_name": "FloatProgressModel",
            "bar_style": "success",
            "max": 1,
            "_view_module": "@jupyter-widgets/controls",
            "_model_module_version": "1.5.0",
            "value": 1,
            "_view_count": null,
            "_view_module_version": "1.5.0",
            "orientation": "horizontal",
            "min": 0,
            "description_tooltip": null,
            "_model_module": "@jupyter-widgets/controls",
            "layout": "IPY_MODEL_fe3bd489d24d4c7f874097e04823dd88"
          }
        },
        "aa5c3d65b24d45deb0d2170b723e717e": {
          "model_module": "@jupyter-widgets/controls",
          "model_name": "HTMLModel",
          "state": {
            "_view_name": "HTMLView",
            "style": "IPY_MODEL_c74aadb528b94969b1b7249e8f85724e",
            "_dom_classes": [],
            "description": "",
            "_model_name": "HTMLModel",
            "placeholder": "​",
            "_view_module": "@jupyter-widgets/controls",
            "_model_module_version": "1.5.0",
            "value": " 8192/? [00:00&lt;00:00, 28651.52it/s]",
            "_view_count": null,
            "_view_module_version": "1.5.0",
            "description_tooltip": null,
            "_model_module": "@jupyter-widgets/controls",
            "layout": "IPY_MODEL_5cbe324221d74ee5aebb04279d32624f"
          }
        },
        "1ce4839d82db4ff7b7c2b3bf117370b8": {
          "model_module": "@jupyter-widgets/controls",
          "model_name": "ProgressStyleModel",
          "state": {
            "_view_name": "StyleView",
            "_model_name": "ProgressStyleModel",
            "description_width": "initial",
            "_view_module": "@jupyter-widgets/base",
            "_model_module_version": "1.5.0",
            "_view_count": null,
            "_view_module_version": "1.2.0",
            "bar_color": null,
            "_model_module": "@jupyter-widgets/controls"
          }
        },
        "fe3bd489d24d4c7f874097e04823dd88": {
          "model_module": "@jupyter-widgets/base",
          "model_name": "LayoutModel",
          "state": {
            "_view_name": "LayoutView",
            "grid_template_rows": null,
            "right": null,
            "justify_content": null,
            "_view_module": "@jupyter-widgets/base",
            "overflow": null,
            "_model_module_version": "1.2.0",
            "_view_count": null,
            "flex_flow": null,
            "width": null,
            "min_width": null,
            "border": null,
            "align_items": null,
            "bottom": null,
            "_model_module": "@jupyter-widgets/base",
            "top": null,
            "grid_column": null,
            "overflow_y": null,
            "overflow_x": null,
            "grid_auto_flow": null,
            "grid_area": null,
            "grid_template_columns": null,
            "flex": null,
            "_model_name": "LayoutModel",
            "justify_items": null,
            "grid_row": null,
            "max_height": null,
            "align_content": null,
            "visibility": null,
            "align_self": null,
            "height": null,
            "min_height": null,
            "padding": null,
            "grid_auto_rows": null,
            "grid_gap": null,
            "max_width": null,
            "order": null,
            "_view_module_version": "1.2.0",
            "grid_template_areas": null,
            "object_position": null,
            "object_fit": null,
            "grid_auto_columns": null,
            "margin": null,
            "display": null,
            "left": null
          }
        },
        "c74aadb528b94969b1b7249e8f85724e": {
          "model_module": "@jupyter-widgets/controls",
          "model_name": "DescriptionStyleModel",
          "state": {
            "_view_name": "StyleView",
            "_model_name": "DescriptionStyleModel",
            "description_width": "",
            "_view_module": "@jupyter-widgets/base",
            "_model_module_version": "1.5.0",
            "_view_count": null,
            "_view_module_version": "1.2.0",
            "_model_module": "@jupyter-widgets/controls"
          }
        },
        "5cbe324221d74ee5aebb04279d32624f": {
          "model_module": "@jupyter-widgets/base",
          "model_name": "LayoutModel",
          "state": {
            "_view_name": "LayoutView",
            "grid_template_rows": null,
            "right": null,
            "justify_content": null,
            "_view_module": "@jupyter-widgets/base",
            "overflow": null,
            "_model_module_version": "1.2.0",
            "_view_count": null,
            "flex_flow": null,
            "width": null,
            "min_width": null,
            "border": null,
            "align_items": null,
            "bottom": null,
            "_model_module": "@jupyter-widgets/base",
            "top": null,
            "grid_column": null,
            "overflow_y": null,
            "overflow_x": null,
            "grid_auto_flow": null,
            "grid_area": null,
            "grid_template_columns": null,
            "flex": null,
            "_model_name": "LayoutModel",
            "justify_items": null,
            "grid_row": null,
            "max_height": null,
            "align_content": null,
            "visibility": null,
            "align_self": null,
            "height": null,
            "min_height": null,
            "padding": null,
            "grid_auto_rows": null,
            "grid_gap": null,
            "max_width": null,
            "order": null,
            "_view_module_version": "1.2.0",
            "grid_template_areas": null,
            "object_position": null,
            "object_fit": null,
            "grid_auto_columns": null,
            "margin": null,
            "display": null,
            "left": null
          }
        },
        "82c49486c8c043cfaac62aa2fda63a7a": {
          "model_module": "@jupyter-widgets/controls",
          "model_name": "HBoxModel",
          "state": {
            "_view_name": "HBoxView",
            "_dom_classes": [],
            "_model_name": "HBoxModel",
            "_view_module": "@jupyter-widgets/controls",
            "_model_module_version": "1.5.0",
            "_view_count": null,
            "_view_module_version": "1.5.0",
            "box_style": "",
            "layout": "IPY_MODEL_e90b2c4c297f40c89c2c6e96ca41dcd8",
            "_model_module": "@jupyter-widgets/controls",
            "children": [
              "IPY_MODEL_e5096539b6f24b6dbee6e296ceb12d9f",
              "IPY_MODEL_e4ebbcae78444e15ac0926d81f9dcc15"
            ]
          }
        },
        "e90b2c4c297f40c89c2c6e96ca41dcd8": {
          "model_module": "@jupyter-widgets/base",
          "model_name": "LayoutModel",
          "state": {
            "_view_name": "LayoutView",
            "grid_template_rows": null,
            "right": null,
            "justify_content": null,
            "_view_module": "@jupyter-widgets/base",
            "overflow": null,
            "_model_module_version": "1.2.0",
            "_view_count": null,
            "flex_flow": null,
            "width": null,
            "min_width": null,
            "border": null,
            "align_items": null,
            "bottom": null,
            "_model_module": "@jupyter-widgets/base",
            "top": null,
            "grid_column": null,
            "overflow_y": null,
            "overflow_x": null,
            "grid_auto_flow": null,
            "grid_area": null,
            "grid_template_columns": null,
            "flex": null,
            "_model_name": "LayoutModel",
            "justify_items": null,
            "grid_row": null,
            "max_height": null,
            "align_content": null,
            "visibility": null,
            "align_self": null,
            "height": null,
            "min_height": null,
            "padding": null,
            "grid_auto_rows": null,
            "grid_gap": null,
            "max_width": null,
            "order": null,
            "_view_module_version": "1.2.0",
            "grid_template_areas": null,
            "object_position": null,
            "object_fit": null,
            "grid_auto_columns": null,
            "margin": null,
            "display": null,
            "left": null
          }
        },
        "e5096539b6f24b6dbee6e296ceb12d9f": {
          "model_module": "@jupyter-widgets/controls",
          "model_name": "FloatProgressModel",
          "state": {
            "_view_name": "ProgressView",
            "style": "IPY_MODEL_4483d7bfd5754bbc95fffa1c0ca05849",
            "_dom_classes": [],
            "description": "",
            "_model_name": "FloatProgressModel",
            "bar_style": "success",
            "max": 1,
            "_view_module": "@jupyter-widgets/controls",
            "_model_module_version": "1.5.0",
            "value": 1,
            "_view_count": null,
            "_view_module_version": "1.5.0",
            "orientation": "horizontal",
            "min": 0,
            "description_tooltip": null,
            "_model_module": "@jupyter-widgets/controls",
            "layout": "IPY_MODEL_7f58ba12aeb547b0bd43b45c4f791118"
          }
        },
        "e4ebbcae78444e15ac0926d81f9dcc15": {
          "model_module": "@jupyter-widgets/controls",
          "model_name": "HTMLModel",
          "state": {
            "_view_name": "HTMLView",
            "style": "IPY_MODEL_92412903a32445bd962df97e5c8952b3",
            "_dom_classes": [],
            "description": "",
            "_model_name": "HTMLModel",
            "placeholder": "​",
            "_view_module": "@jupyter-widgets/controls",
            "_model_module_version": "1.5.0",
            "value": " 26427392/? [00:02&lt;00:00, 11223207.48it/s]",
            "_view_count": null,
            "_view_module_version": "1.5.0",
            "description_tooltip": null,
            "_model_module": "@jupyter-widgets/controls",
            "layout": "IPY_MODEL_fda2ec8493dc48ec82810aeddc19cfdb"
          }
        },
        "4483d7bfd5754bbc95fffa1c0ca05849": {
          "model_module": "@jupyter-widgets/controls",
          "model_name": "ProgressStyleModel",
          "state": {
            "_view_name": "StyleView",
            "_model_name": "ProgressStyleModel",
            "description_width": "initial",
            "_view_module": "@jupyter-widgets/base",
            "_model_module_version": "1.5.0",
            "_view_count": null,
            "_view_module_version": "1.2.0",
            "bar_color": null,
            "_model_module": "@jupyter-widgets/controls"
          }
        },
        "7f58ba12aeb547b0bd43b45c4f791118": {
          "model_module": "@jupyter-widgets/base",
          "model_name": "LayoutModel",
          "state": {
            "_view_name": "LayoutView",
            "grid_template_rows": null,
            "right": null,
            "justify_content": null,
            "_view_module": "@jupyter-widgets/base",
            "overflow": null,
            "_model_module_version": "1.2.0",
            "_view_count": null,
            "flex_flow": null,
            "width": null,
            "min_width": null,
            "border": null,
            "align_items": null,
            "bottom": null,
            "_model_module": "@jupyter-widgets/base",
            "top": null,
            "grid_column": null,
            "overflow_y": null,
            "overflow_x": null,
            "grid_auto_flow": null,
            "grid_area": null,
            "grid_template_columns": null,
            "flex": null,
            "_model_name": "LayoutModel",
            "justify_items": null,
            "grid_row": null,
            "max_height": null,
            "align_content": null,
            "visibility": null,
            "align_self": null,
            "height": null,
            "min_height": null,
            "padding": null,
            "grid_auto_rows": null,
            "grid_gap": null,
            "max_width": null,
            "order": null,
            "_view_module_version": "1.2.0",
            "grid_template_areas": null,
            "object_position": null,
            "object_fit": null,
            "grid_auto_columns": null,
            "margin": null,
            "display": null,
            "left": null
          }
        },
        "92412903a32445bd962df97e5c8952b3": {
          "model_module": "@jupyter-widgets/controls",
          "model_name": "DescriptionStyleModel",
          "state": {
            "_view_name": "StyleView",
            "_model_name": "DescriptionStyleModel",
            "description_width": "",
            "_view_module": "@jupyter-widgets/base",
            "_model_module_version": "1.5.0",
            "_view_count": null,
            "_view_module_version": "1.2.0",
            "_model_module": "@jupyter-widgets/controls"
          }
        },
        "fda2ec8493dc48ec82810aeddc19cfdb": {
          "model_module": "@jupyter-widgets/base",
          "model_name": "LayoutModel",
          "state": {
            "_view_name": "LayoutView",
            "grid_template_rows": null,
            "right": null,
            "justify_content": null,
            "_view_module": "@jupyter-widgets/base",
            "overflow": null,
            "_model_module_version": "1.2.0",
            "_view_count": null,
            "flex_flow": null,
            "width": null,
            "min_width": null,
            "border": null,
            "align_items": null,
            "bottom": null,
            "_model_module": "@jupyter-widgets/base",
            "top": null,
            "grid_column": null,
            "overflow_y": null,
            "overflow_x": null,
            "grid_auto_flow": null,
            "grid_area": null,
            "grid_template_columns": null,
            "flex": null,
            "_model_name": "LayoutModel",
            "justify_items": null,
            "grid_row": null,
            "max_height": null,
            "align_content": null,
            "visibility": null,
            "align_self": null,
            "height": null,
            "min_height": null,
            "padding": null,
            "grid_auto_rows": null,
            "grid_gap": null,
            "max_width": null,
            "order": null,
            "_view_module_version": "1.2.0",
            "grid_template_areas": null,
            "object_position": null,
            "object_fit": null,
            "grid_auto_columns": null,
            "margin": null,
            "display": null,
            "left": null
          }
        },
        "20ee02d821e64d5e9b347b929fea56e0": {
          "model_module": "@jupyter-widgets/controls",
          "model_name": "HBoxModel",
          "state": {
            "_view_name": "HBoxView",
            "_dom_classes": [],
            "_model_name": "HBoxModel",
            "_view_module": "@jupyter-widgets/controls",
            "_model_module_version": "1.5.0",
            "_view_count": null,
            "_view_module_version": "1.5.0",
            "box_style": "",
            "layout": "IPY_MODEL_602a7c342eaf46c09b8ef59acba78045",
            "_model_module": "@jupyter-widgets/controls",
            "children": [
              "IPY_MODEL_d8719015bfe04046823051ab01faadf8",
              "IPY_MODEL_842420b8017e481c848851e61da1e98c"
            ]
          }
        },
        "602a7c342eaf46c09b8ef59acba78045": {
          "model_module": "@jupyter-widgets/base",
          "model_name": "LayoutModel",
          "state": {
            "_view_name": "LayoutView",
            "grid_template_rows": null,
            "right": null,
            "justify_content": null,
            "_view_module": "@jupyter-widgets/base",
            "overflow": null,
            "_model_module_version": "1.2.0",
            "_view_count": null,
            "flex_flow": null,
            "width": null,
            "min_width": null,
            "border": null,
            "align_items": null,
            "bottom": null,
            "_model_module": "@jupyter-widgets/base",
            "top": null,
            "grid_column": null,
            "overflow_y": null,
            "overflow_x": null,
            "grid_auto_flow": null,
            "grid_area": null,
            "grid_template_columns": null,
            "flex": null,
            "_model_name": "LayoutModel",
            "justify_items": null,
            "grid_row": null,
            "max_height": null,
            "align_content": null,
            "visibility": null,
            "align_self": null,
            "height": null,
            "min_height": null,
            "padding": null,
            "grid_auto_rows": null,
            "grid_gap": null,
            "max_width": null,
            "order": null,
            "_view_module_version": "1.2.0",
            "grid_template_areas": null,
            "object_position": null,
            "object_fit": null,
            "grid_auto_columns": null,
            "margin": null,
            "display": null,
            "left": null
          }
        },
        "d8719015bfe04046823051ab01faadf8": {
          "model_module": "@jupyter-widgets/controls",
          "model_name": "FloatProgressModel",
          "state": {
            "_view_name": "ProgressView",
            "style": "IPY_MODEL_020959716b204b0c8f87064aad109519",
            "_dom_classes": [],
            "description": "",
            "_model_name": "FloatProgressModel",
            "bar_style": "success",
            "max": 1,
            "_view_module": "@jupyter-widgets/controls",
            "_model_module_version": "1.5.0",
            "value": 1,
            "_view_count": null,
            "_view_module_version": "1.5.0",
            "orientation": "horizontal",
            "min": 0,
            "description_tooltip": null,
            "_model_module": "@jupyter-widgets/controls",
            "layout": "IPY_MODEL_f79e0e015fd84a91bc44bf01e1e86f6c"
          }
        },
        "842420b8017e481c848851e61da1e98c": {
          "model_module": "@jupyter-widgets/controls",
          "model_name": "HTMLModel",
          "state": {
            "_view_name": "HTMLView",
            "style": "IPY_MODEL_9b65f09446ea46f7b16ad257e9395d48",
            "_dom_classes": [],
            "description": "",
            "_model_name": "HTMLModel",
            "placeholder": "​",
            "_view_module": "@jupyter-widgets/controls",
            "_model_module_version": "1.5.0",
            "value": " 32768/? [2:39:04&lt;00:00,  3.43it/s]",
            "_view_count": null,
            "_view_module_version": "1.5.0",
            "description_tooltip": null,
            "_model_module": "@jupyter-widgets/controls",
            "layout": "IPY_MODEL_5a365d98afb74d4588aa81c451551b61"
          }
        },
        "020959716b204b0c8f87064aad109519": {
          "model_module": "@jupyter-widgets/controls",
          "model_name": "ProgressStyleModel",
          "state": {
            "_view_name": "StyleView",
            "_model_name": "ProgressStyleModel",
            "description_width": "initial",
            "_view_module": "@jupyter-widgets/base",
            "_model_module_version": "1.5.0",
            "_view_count": null,
            "_view_module_version": "1.2.0",
            "bar_color": null,
            "_model_module": "@jupyter-widgets/controls"
          }
        },
        "f79e0e015fd84a91bc44bf01e1e86f6c": {
          "model_module": "@jupyter-widgets/base",
          "model_name": "LayoutModel",
          "state": {
            "_view_name": "LayoutView",
            "grid_template_rows": null,
            "right": null,
            "justify_content": null,
            "_view_module": "@jupyter-widgets/base",
            "overflow": null,
            "_model_module_version": "1.2.0",
            "_view_count": null,
            "flex_flow": null,
            "width": null,
            "min_width": null,
            "border": null,
            "align_items": null,
            "bottom": null,
            "_model_module": "@jupyter-widgets/base",
            "top": null,
            "grid_column": null,
            "overflow_y": null,
            "overflow_x": null,
            "grid_auto_flow": null,
            "grid_area": null,
            "grid_template_columns": null,
            "flex": null,
            "_model_name": "LayoutModel",
            "justify_items": null,
            "grid_row": null,
            "max_height": null,
            "align_content": null,
            "visibility": null,
            "align_self": null,
            "height": null,
            "min_height": null,
            "padding": null,
            "grid_auto_rows": null,
            "grid_gap": null,
            "max_width": null,
            "order": null,
            "_view_module_version": "1.2.0",
            "grid_template_areas": null,
            "object_position": null,
            "object_fit": null,
            "grid_auto_columns": null,
            "margin": null,
            "display": null,
            "left": null
          }
        },
        "9b65f09446ea46f7b16ad257e9395d48": {
          "model_module": "@jupyter-widgets/controls",
          "model_name": "DescriptionStyleModel",
          "state": {
            "_view_name": "StyleView",
            "_model_name": "DescriptionStyleModel",
            "description_width": "",
            "_view_module": "@jupyter-widgets/base",
            "_model_module_version": "1.5.0",
            "_view_count": null,
            "_view_module_version": "1.2.0",
            "_model_module": "@jupyter-widgets/controls"
          }
        },
        "5a365d98afb74d4588aa81c451551b61": {
          "model_module": "@jupyter-widgets/base",
          "model_name": "LayoutModel",
          "state": {
            "_view_name": "LayoutView",
            "grid_template_rows": null,
            "right": null,
            "justify_content": null,
            "_view_module": "@jupyter-widgets/base",
            "overflow": null,
            "_model_module_version": "1.2.0",
            "_view_count": null,
            "flex_flow": null,
            "width": null,
            "min_width": null,
            "border": null,
            "align_items": null,
            "bottom": null,
            "_model_module": "@jupyter-widgets/base",
            "top": null,
            "grid_column": null,
            "overflow_y": null,
            "overflow_x": null,
            "grid_auto_flow": null,
            "grid_area": null,
            "grid_template_columns": null,
            "flex": null,
            "_model_name": "LayoutModel",
            "justify_items": null,
            "grid_row": null,
            "max_height": null,
            "align_content": null,
            "visibility": null,
            "align_self": null,
            "height": null,
            "min_height": null,
            "padding": null,
            "grid_auto_rows": null,
            "grid_gap": null,
            "max_width": null,
            "order": null,
            "_view_module_version": "1.2.0",
            "grid_template_areas": null,
            "object_position": null,
            "object_fit": null,
            "grid_auto_columns": null,
            "margin": null,
            "display": null,
            "left": null
          }
        },
        "8f80feadd7184c20a3d1246fc62c1855": {
          "model_module": "@jupyter-widgets/controls",
          "model_name": "HBoxModel",
          "state": {
            "_view_name": "HBoxView",
            "_dom_classes": [],
            "_model_name": "HBoxModel",
            "_view_module": "@jupyter-widgets/controls",
            "_model_module_version": "1.5.0",
            "_view_count": null,
            "_view_module_version": "1.5.0",
            "box_style": "",
            "layout": "IPY_MODEL_eb62b180d65e4b84aed80016bf598190",
            "_model_module": "@jupyter-widgets/controls",
            "children": [
              "IPY_MODEL_4aa637f369224f1cb2b914dd04bfc520",
              "IPY_MODEL_cc15e55384e34300aa8fce0be4fae14e"
            ]
          }
        },
        "eb62b180d65e4b84aed80016bf598190": {
          "model_module": "@jupyter-widgets/base",
          "model_name": "LayoutModel",
          "state": {
            "_view_name": "LayoutView",
            "grid_template_rows": null,
            "right": null,
            "justify_content": null,
            "_view_module": "@jupyter-widgets/base",
            "overflow": null,
            "_model_module_version": "1.2.0",
            "_view_count": null,
            "flex_flow": null,
            "width": null,
            "min_width": null,
            "border": null,
            "align_items": null,
            "bottom": null,
            "_model_module": "@jupyter-widgets/base",
            "top": null,
            "grid_column": null,
            "overflow_y": null,
            "overflow_x": null,
            "grid_auto_flow": null,
            "grid_area": null,
            "grid_template_columns": null,
            "flex": null,
            "_model_name": "LayoutModel",
            "justify_items": null,
            "grid_row": null,
            "max_height": null,
            "align_content": null,
            "visibility": null,
            "align_self": null,
            "height": null,
            "min_height": null,
            "padding": null,
            "grid_auto_rows": null,
            "grid_gap": null,
            "max_width": null,
            "order": null,
            "_view_module_version": "1.2.0",
            "grid_template_areas": null,
            "object_position": null,
            "object_fit": null,
            "grid_auto_columns": null,
            "margin": null,
            "display": null,
            "left": null
          }
        },
        "4aa637f369224f1cb2b914dd04bfc520": {
          "model_module": "@jupyter-widgets/controls",
          "model_name": "FloatProgressModel",
          "state": {
            "_view_name": "ProgressView",
            "style": "IPY_MODEL_007d0ed30543447abe8163b7fe332954",
            "_dom_classes": [],
            "description": "",
            "_model_name": "FloatProgressModel",
            "bar_style": "success",
            "max": 1,
            "_view_module": "@jupyter-widgets/controls",
            "_model_module_version": "1.5.0",
            "value": 1,
            "_view_count": null,
            "_view_module_version": "1.5.0",
            "orientation": "horizontal",
            "min": 0,
            "description_tooltip": null,
            "_model_module": "@jupyter-widgets/controls",
            "layout": "IPY_MODEL_004415da6600499d95cd0d503a593dba"
          }
        },
        "cc15e55384e34300aa8fce0be4fae14e": {
          "model_module": "@jupyter-widgets/controls",
          "model_name": "HTMLModel",
          "state": {
            "_view_name": "HTMLView",
            "style": "IPY_MODEL_1a110eea6a1e4713a3dd23d4612b8b7c",
            "_dom_classes": [],
            "description": "",
            "_model_name": "HTMLModel",
            "placeholder": "​",
            "_view_module": "@jupyter-widgets/controls",
            "_model_module_version": "1.5.0",
            "value": " 4423680/? [2:39:04&lt;00:00, 463.48it/s]",
            "_view_count": null,
            "_view_module_version": "1.5.0",
            "description_tooltip": null,
            "_model_module": "@jupyter-widgets/controls",
            "layout": "IPY_MODEL_27c7118ead5749b4b023fb8777e78aac"
          }
        },
        "007d0ed30543447abe8163b7fe332954": {
          "model_module": "@jupyter-widgets/controls",
          "model_name": "ProgressStyleModel",
          "state": {
            "_view_name": "StyleView",
            "_model_name": "ProgressStyleModel",
            "description_width": "initial",
            "_view_module": "@jupyter-widgets/base",
            "_model_module_version": "1.5.0",
            "_view_count": null,
            "_view_module_version": "1.2.0",
            "bar_color": null,
            "_model_module": "@jupyter-widgets/controls"
          }
        },
        "004415da6600499d95cd0d503a593dba": {
          "model_module": "@jupyter-widgets/base",
          "model_name": "LayoutModel",
          "state": {
            "_view_name": "LayoutView",
            "grid_template_rows": null,
            "right": null,
            "justify_content": null,
            "_view_module": "@jupyter-widgets/base",
            "overflow": null,
            "_model_module_version": "1.2.0",
            "_view_count": null,
            "flex_flow": null,
            "width": null,
            "min_width": null,
            "border": null,
            "align_items": null,
            "bottom": null,
            "_model_module": "@jupyter-widgets/base",
            "top": null,
            "grid_column": null,
            "overflow_y": null,
            "overflow_x": null,
            "grid_auto_flow": null,
            "grid_area": null,
            "grid_template_columns": null,
            "flex": null,
            "_model_name": "LayoutModel",
            "justify_items": null,
            "grid_row": null,
            "max_height": null,
            "align_content": null,
            "visibility": null,
            "align_self": null,
            "height": null,
            "min_height": null,
            "padding": null,
            "grid_auto_rows": null,
            "grid_gap": null,
            "max_width": null,
            "order": null,
            "_view_module_version": "1.2.0",
            "grid_template_areas": null,
            "object_position": null,
            "object_fit": null,
            "grid_auto_columns": null,
            "margin": null,
            "display": null,
            "left": null
          }
        },
        "1a110eea6a1e4713a3dd23d4612b8b7c": {
          "model_module": "@jupyter-widgets/controls",
          "model_name": "DescriptionStyleModel",
          "state": {
            "_view_name": "StyleView",
            "_model_name": "DescriptionStyleModel",
            "description_width": "",
            "_view_module": "@jupyter-widgets/base",
            "_model_module_version": "1.5.0",
            "_view_count": null,
            "_view_module_version": "1.2.0",
            "_model_module": "@jupyter-widgets/controls"
          }
        },
        "27c7118ead5749b4b023fb8777e78aac": {
          "model_module": "@jupyter-widgets/base",
          "model_name": "LayoutModel",
          "state": {
            "_view_name": "LayoutView",
            "grid_template_rows": null,
            "right": null,
            "justify_content": null,
            "_view_module": "@jupyter-widgets/base",
            "overflow": null,
            "_model_module_version": "1.2.0",
            "_view_count": null,
            "flex_flow": null,
            "width": null,
            "min_width": null,
            "border": null,
            "align_items": null,
            "bottom": null,
            "_model_module": "@jupyter-widgets/base",
            "top": null,
            "grid_column": null,
            "overflow_y": null,
            "overflow_x": null,
            "grid_auto_flow": null,
            "grid_area": null,
            "grid_template_columns": null,
            "flex": null,
            "_model_name": "LayoutModel",
            "justify_items": null,
            "grid_row": null,
            "max_height": null,
            "align_content": null,
            "visibility": null,
            "align_self": null,
            "height": null,
            "min_height": null,
            "padding": null,
            "grid_auto_rows": null,
            "grid_gap": null,
            "max_width": null,
            "order": null,
            "_view_module_version": "1.2.0",
            "grid_template_areas": null,
            "object_position": null,
            "object_fit": null,
            "grid_auto_columns": null,
            "margin": null,
            "display": null,
            "left": null
          }
        },
        "7d113939b9a644c383de7d1a23cd15c6": {
          "model_module": "@jupyter-widgets/controls",
          "model_name": "HBoxModel",
          "state": {
            "_view_name": "HBoxView",
            "_dom_classes": [],
            "_model_name": "HBoxModel",
            "_view_module": "@jupyter-widgets/controls",
            "_model_module_version": "1.5.0",
            "_view_count": null,
            "_view_module_version": "1.5.0",
            "box_style": "",
            "layout": "IPY_MODEL_94d2462a549b4765ab6937fe30c3f6a6",
            "_model_module": "@jupyter-widgets/controls",
            "children": [
              "IPY_MODEL_8836d4c067e44dfa8cf5aa82fb00c65e",
              "IPY_MODEL_3541623754814f22b1f50dbff12745df"
            ]
          }
        },
        "94d2462a549b4765ab6937fe30c3f6a6": {
          "model_module": "@jupyter-widgets/base",
          "model_name": "LayoutModel",
          "state": {
            "_view_name": "LayoutView",
            "grid_template_rows": null,
            "right": null,
            "justify_content": null,
            "_view_module": "@jupyter-widgets/base",
            "overflow": null,
            "_model_module_version": "1.2.0",
            "_view_count": null,
            "flex_flow": null,
            "width": null,
            "min_width": null,
            "border": null,
            "align_items": null,
            "bottom": null,
            "_model_module": "@jupyter-widgets/base",
            "top": null,
            "grid_column": null,
            "overflow_y": null,
            "overflow_x": null,
            "grid_auto_flow": null,
            "grid_area": null,
            "grid_template_columns": null,
            "flex": null,
            "_model_name": "LayoutModel",
            "justify_items": null,
            "grid_row": null,
            "max_height": null,
            "align_content": null,
            "visibility": null,
            "align_self": null,
            "height": null,
            "min_height": null,
            "padding": null,
            "grid_auto_rows": null,
            "grid_gap": null,
            "max_width": null,
            "order": null,
            "_view_module_version": "1.2.0",
            "grid_template_areas": null,
            "object_position": null,
            "object_fit": null,
            "grid_auto_columns": null,
            "margin": null,
            "display": null,
            "left": null
          }
        },
        "8836d4c067e44dfa8cf5aa82fb00c65e": {
          "model_module": "@jupyter-widgets/controls",
          "model_name": "FloatProgressModel",
          "state": {
            "_view_name": "ProgressView",
            "style": "IPY_MODEL_67f51befd63d4ddc88837ceede5f257d",
            "_dom_classes": [],
            "description": "",
            "_model_name": "FloatProgressModel",
            "bar_style": "success",
            "max": 1,
            "_view_module": "@jupyter-widgets/controls",
            "_model_module_version": "1.5.0",
            "value": 1,
            "_view_count": null,
            "_view_module_version": "1.5.0",
            "orientation": "horizontal",
            "min": 0,
            "description_tooltip": null,
            "_model_module": "@jupyter-widgets/controls",
            "layout": "IPY_MODEL_55ba91e24f5b4d65ac4adeab5577c4a3"
          }
        },
        "3541623754814f22b1f50dbff12745df": {
          "model_module": "@jupyter-widgets/controls",
          "model_name": "HTMLModel",
          "state": {
            "_view_name": "HTMLView",
            "style": "IPY_MODEL_807ce71ff3d7457fb15553c2298f5240",
            "_dom_classes": [],
            "description": "",
            "_model_name": "HTMLModel",
            "placeholder": "​",
            "_view_module": "@jupyter-widgets/controls",
            "_model_module_version": "1.5.0",
            "value": " 8192/? [2:39:03&lt;00:00,  1.16s/it]",
            "_view_count": null,
            "_view_module_version": "1.5.0",
            "description_tooltip": null,
            "_model_module": "@jupyter-widgets/controls",
            "layout": "IPY_MODEL_57780cb5a16144489cba9243f96fe459"
          }
        },
        "67f51befd63d4ddc88837ceede5f257d": {
          "model_module": "@jupyter-widgets/controls",
          "model_name": "ProgressStyleModel",
          "state": {
            "_view_name": "StyleView",
            "_model_name": "ProgressStyleModel",
            "description_width": "initial",
            "_view_module": "@jupyter-widgets/base",
            "_model_module_version": "1.5.0",
            "_view_count": null,
            "_view_module_version": "1.2.0",
            "bar_color": null,
            "_model_module": "@jupyter-widgets/controls"
          }
        },
        "55ba91e24f5b4d65ac4adeab5577c4a3": {
          "model_module": "@jupyter-widgets/base",
          "model_name": "LayoutModel",
          "state": {
            "_view_name": "LayoutView",
            "grid_template_rows": null,
            "right": null,
            "justify_content": null,
            "_view_module": "@jupyter-widgets/base",
            "overflow": null,
            "_model_module_version": "1.2.0",
            "_view_count": null,
            "flex_flow": null,
            "width": null,
            "min_width": null,
            "border": null,
            "align_items": null,
            "bottom": null,
            "_model_module": "@jupyter-widgets/base",
            "top": null,
            "grid_column": null,
            "overflow_y": null,
            "overflow_x": null,
            "grid_auto_flow": null,
            "grid_area": null,
            "grid_template_columns": null,
            "flex": null,
            "_model_name": "LayoutModel",
            "justify_items": null,
            "grid_row": null,
            "max_height": null,
            "align_content": null,
            "visibility": null,
            "align_self": null,
            "height": null,
            "min_height": null,
            "padding": null,
            "grid_auto_rows": null,
            "grid_gap": null,
            "max_width": null,
            "order": null,
            "_view_module_version": "1.2.0",
            "grid_template_areas": null,
            "object_position": null,
            "object_fit": null,
            "grid_auto_columns": null,
            "margin": null,
            "display": null,
            "left": null
          }
        },
        "807ce71ff3d7457fb15553c2298f5240": {
          "model_module": "@jupyter-widgets/controls",
          "model_name": "DescriptionStyleModel",
          "state": {
            "_view_name": "StyleView",
            "_model_name": "DescriptionStyleModel",
            "description_width": "",
            "_view_module": "@jupyter-widgets/base",
            "_model_module_version": "1.5.0",
            "_view_count": null,
            "_view_module_version": "1.2.0",
            "_model_module": "@jupyter-widgets/controls"
          }
        },
        "57780cb5a16144489cba9243f96fe459": {
          "model_module": "@jupyter-widgets/base",
          "model_name": "LayoutModel",
          "state": {
            "_view_name": "LayoutView",
            "grid_template_rows": null,
            "right": null,
            "justify_content": null,
            "_view_module": "@jupyter-widgets/base",
            "overflow": null,
            "_model_module_version": "1.2.0",
            "_view_count": null,
            "flex_flow": null,
            "width": null,
            "min_width": null,
            "border": null,
            "align_items": null,
            "bottom": null,
            "_model_module": "@jupyter-widgets/base",
            "top": null,
            "grid_column": null,
            "overflow_y": null,
            "overflow_x": null,
            "grid_auto_flow": null,
            "grid_area": null,
            "grid_template_columns": null,
            "flex": null,
            "_model_name": "LayoutModel",
            "justify_items": null,
            "grid_row": null,
            "max_height": null,
            "align_content": null,
            "visibility": null,
            "align_self": null,
            "height": null,
            "min_height": null,
            "padding": null,
            "grid_auto_rows": null,
            "grid_gap": null,
            "max_width": null,
            "order": null,
            "_view_module_version": "1.2.0",
            "grid_template_areas": null,
            "object_position": null,
            "object_fit": null,
            "grid_auto_columns": null,
            "margin": null,
            "display": null,
            "left": null
          }
        }
      }
    }
  },
  "cells": [
    {
      "cell_type": "markdown",
      "metadata": {
        "id": "view-in-github",
        "colab_type": "text"
      },
      "source": [
        "<a href=\"https://colab.research.google.com/github/harshitadd/CrossSiloFLDemo/blob/master/TorchScratchpad.ipynb\" target=\"_parent\"><img src=\"https://colab.research.google.com/assets/colab-badge.svg\" alt=\"Open In Colab\"/></a>"
      ]
    },
    {
      "cell_type": "code",
      "metadata": {
        "id": "6vK0WNdTQRGR",
        "colab_type": "code",
        "colab": {}
      },
      "source": [
        "import torch \n",
        "import numpy as np\n",
        "import matplotlib.pyplot as plt\n",
        "from torch import nn "
      ],
      "execution_count": 0,
      "outputs": []
    },
    {
      "cell_type": "code",
      "metadata": {
        "id": "BIhR6hQcQhjt",
        "colab_type": "code",
        "colab": {}
      },
      "source": [
        "def activation(x):\n",
        "  return 1/(1+torch.exp(-x))"
      ],
      "execution_count": 0,
      "outputs": []
    },
    {
      "cell_type": "markdown",
      "metadata": {
        "id": "HoZxlihCUIES",
        "colab_type": "text"
      },
      "source": [
        "MLP "
      ]
    },
    {
      "cell_type": "code",
      "metadata": {
        "id": "yB0a1VQXQqKW",
        "colab_type": "code",
        "colab": {}
      },
      "source": [
        "torch.manual_seed(7)\n",
        "\n",
        "features = torch.randn((1,5)) #tuple of size - 1 row 5 columns \n",
        "weights = torch.randn_like(features) #array_like \n",
        "bias = torch.randn((1,1))"
      ],
      "execution_count": 0,
      "outputs": []
    },
    {
      "cell_type": "code",
      "metadata": {
        "id": "TFSopDRKRaqG",
        "colab_type": "code",
        "colab": {}
      },
      "source": [
        "res = activation(torch.sum(features*weights)+bias) #without "
      ],
      "execution_count": 0,
      "outputs": []
    },
    {
      "cell_type": "code",
      "metadata": {
        "id": "sQLPoL1lR3Ci",
        "colab_type": "code",
        "outputId": "f26f7acb-e5f5-4a38-b900-142f689b124d",
        "colab": {
          "base_uri": "https://localhost:8080/",
          "height": 34
        }
      },
      "source": [
        "print(res)"
      ],
      "execution_count": 0,
      "outputs": [
        {
          "output_type": "stream",
          "text": [
            "tensor([[0.1595]])\n"
          ],
          "name": "stdout"
        }
      ]
    },
    {
      "cell_type": "code",
      "metadata": {
        "id": "2H8B6D7HSdKE",
        "colab_type": "code",
        "outputId": "2b6b5785-a743-4bdb-982c-de66b8450be1",
        "colab": {
          "base_uri": "https://localhost:8080/",
          "height": 34
        }
      },
      "source": [
        "features.shape\n"
      ],
      "execution_count": 0,
      "outputs": [
        {
          "output_type": "execute_result",
          "data": {
            "text/plain": [
              "torch.Size([1, 5])"
            ]
          },
          "metadata": {
            "tags": []
          },
          "execution_count": 10
        }
      ]
    },
    {
      "cell_type": "code",
      "metadata": {
        "id": "HzMcvmJVSiZ7",
        "colab_type": "code",
        "colab": {}
      },
      "source": [
        "weights = weights.view(5,1)"
      ],
      "execution_count": 0,
      "outputs": []
    },
    {
      "cell_type": "code",
      "metadata": {
        "id": "ikmxxu-mR4p3",
        "colab_type": "code",
        "colab": {}
      },
      "source": [
        "res = activation(torch.mm(features,weights)+bias)"
      ],
      "execution_count": 0,
      "outputs": []
    },
    {
      "cell_type": "code",
      "metadata": {
        "id": "SI6ytMsBTbTh",
        "colab_type": "code",
        "outputId": "ffc67ad9-aab1-44ce-c421-f6840a361d85",
        "colab": {
          "base_uri": "https://localhost:8080/",
          "height": 34
        }
      },
      "source": [
        "print(res)"
      ],
      "execution_count": 0,
      "outputs": [
        {
          "output_type": "stream",
          "text": [
            "tensor([[0.1595]])\n"
          ],
          "name": "stdout"
        }
      ]
    },
    {
      "cell_type": "markdown",
      "metadata": {
        "id": "1--tKF7fUJKs",
        "colab_type": "text"
      },
      "source": [
        "Shallow NN "
      ]
    },
    {
      "cell_type": "code",
      "metadata": {
        "id": "WEYJbiHnTkhL",
        "colab_type": "code",
        "colab": {}
      },
      "source": [
        " features = torch.randn((1,3))\n",
        " n_input = features.shape[1] ## 3 - would be the number of units you need in the input layer \n",
        " n_hidden = 3 \n",
        " n_output = 1 \n",
        "\n",
        " W1 = torch.randn((n_input,n_hidden))\n",
        " W2 = torch.randn((n_hidden,n_output))\n",
        "\n",
        " B1 = torch.randn((1,n_hidden)) # we will start introducing bias from the 1st hidden layer onwards\n",
        " B2 = torch.randn((1,n_output))\n",
        "\n"
      ],
      "execution_count": 0,
      "outputs": []
    },
    {
      "cell_type": "code",
      "metadata": {
        "id": "wugxu-O3VQgm",
        "colab_type": "code",
        "colab": {}
      },
      "source": [
        "hidden_res = activation(torch.mm(features,W1) + B1) "
      ],
      "execution_count": 0,
      "outputs": []
    },
    {
      "cell_type": "code",
      "metadata": {
        "id": "-_oqWvH7XbHf",
        "colab_type": "code",
        "colab": {}
      },
      "source": [
        "final_res = activation(torch.mm(hidden_res,W2)+B2)"
      ],
      "execution_count": 0,
      "outputs": []
    },
    {
      "cell_type": "code",
      "metadata": {
        "id": "fRvM3fWnYzu9",
        "colab_type": "code",
        "outputId": "225d7d3b-c143-462a-8c43-6a256fd93fda",
        "colab": {
          "base_uri": "https://localhost:8080/",
          "height": 34
        }
      },
      "source": [
        "print(final_res)"
      ],
      "execution_count": 0,
      "outputs": [
        {
          "output_type": "stream",
          "text": [
            "tensor([[0.7148]])\n"
          ],
          "name": "stdout"
        }
      ]
    },
    {
      "cell_type": "markdown",
      "metadata": {
        "id": "a2CuRjMVY97y",
        "colab_type": "text"
      },
      "source": [
        "NP TO TORCH\n"
      ]
    },
    {
      "cell_type": "code",
      "metadata": {
        "id": "lWwI0zYtY2NK",
        "colab_type": "code",
        "colab": {}
      },
      "source": [
        "a = np.random.rand(2,5)"
      ],
      "execution_count": 0,
      "outputs": []
    },
    {
      "cell_type": "code",
      "metadata": {
        "id": "Rqc6GG7GZETv",
        "colab_type": "code",
        "colab": {}
      },
      "source": [
        "b = torch.from_numpy(a)"
      ],
      "execution_count": 0,
      "outputs": []
    },
    {
      "cell_type": "code",
      "metadata": {
        "id": "RHzfv16cZI5o",
        "colab_type": "code",
        "outputId": "23c1283f-8fe2-4b3e-8e9e-3e3110b8891d",
        "colab": {
          "base_uri": "https://localhost:8080/",
          "height": 50
        }
      },
      "source": [
        "b \n"
      ],
      "execution_count": 0,
      "outputs": [
        {
          "output_type": "execute_result",
          "data": {
            "text/plain": [
              "tensor([[0.2452, 0.7849, 0.2285, 0.7536, 0.3655],\n",
              "        [0.8318, 0.3084, 0.5065, 0.5925, 0.7638]], dtype=torch.float64)"
            ]
          },
          "metadata": {
            "tags": []
          },
          "execution_count": 47
        }
      ]
    },
    {
      "cell_type": "code",
      "metadata": {
        "id": "EM_R6sxQZsgm",
        "colab_type": "code",
        "outputId": "6474f0af-8fe3-4341-c364-8983f2fb4f75",
        "colab": {
          "base_uri": "https://localhost:8080/",
          "height": 50
        }
      },
      "source": [
        "b.numpy()"
      ],
      "execution_count": 0,
      "outputs": [
        {
          "output_type": "execute_result",
          "data": {
            "text/plain": [
              "array([[0.24517551, 0.78488367, 0.22853393, 0.75355806, 0.36554748],\n",
              "       [0.83175924, 0.30841193, 0.50646455, 0.59253301, 0.76383079]])"
            ]
          },
          "metadata": {
            "tags": []
          },
          "execution_count": 48
        }
      ]
    },
    {
      "cell_type": "code",
      "metadata": {
        "id": "Kk2p5HrmZu0w",
        "colab_type": "code",
        "outputId": "53a290cb-36c6-4eef-cb85-41a1dfb27d55",
        "colab": {
          "base_uri": "https://localhost:8080/",
          "height": 50
        }
      },
      "source": [
        "#INPLACE OPS \n",
        "\n",
        "\n",
        "b.mul_(4)"
      ],
      "execution_count": 0,
      "outputs": [
        {
          "output_type": "execute_result",
          "data": {
            "text/plain": [
              "tensor([[0.9807, 3.1395, 0.9141, 3.0142, 1.4622],\n",
              "        [3.3270, 1.2336, 2.0259, 2.3701, 3.0553]], dtype=torch.float64)"
            ]
          },
          "metadata": {
            "tags": []
          },
          "execution_count": 49
        }
      ]
    },
    {
      "cell_type": "code",
      "metadata": {
        "id": "dQLBXswTZ3On",
        "colab_type": "code",
        "outputId": "1caa7229-e600-4b27-fd27-4e03d29311c7",
        "colab": {
          "base_uri": "https://localhost:8080/",
          "height": 50
        }
      },
      "source": [
        "a"
      ],
      "execution_count": 0,
      "outputs": [
        {
          "output_type": "execute_result",
          "data": {
            "text/plain": [
              "array([[0.98070204, 3.13953467, 0.9141357 , 3.01423224, 1.4621899 ],\n",
              "       [3.32703696, 1.23364772, 2.02585821, 2.37013206, 3.05532315]])"
            ]
          },
          "metadata": {
            "tags": []
          },
          "execution_count": 50
        }
      ]
    },
    {
      "cell_type": "markdown",
      "metadata": {
        "id": "K8C96BudZ_WR",
        "colab_type": "text"
      },
      "source": [
        "NNs with PyTorch \n"
      ]
    },
    {
      "cell_type": "code",
      "metadata": {
        "id": "KbMZbTsbZ4eN",
        "colab_type": "code",
        "outputId": "02feb842-c3b1-4c75-afcf-cd19ba68243a",
        "colab": {
          "base_uri": "https://localhost:8080/",
          "height": 358,
          "referenced_widgets": [
            "c10a5375e36c4b07b6a3fbeccfec4478",
            "83a09994ce2b4b19b3ed08001bc21da9",
            "6ba9c088fca646d6b63c82b0db7f5a3d",
            "860a501b70eb4361ad214aae2ee51aa6",
            "6d30d8fa7a454e9683fbfa9a73f21801",
            "19b07e45e9a141249c452efd0253a457",
            "4204ec035b4040e9be5c261a774384f1",
            "afbe80848dac4748abde13187345e5fe",
            "88860b11b430406ab80eaae7a9abe102",
            "844985cd14e948d0898bc7c4e73c0ffc",
            "30792decf9b34be58abbbd82ee0b5670",
            "394d5a4339b8422fb8c6dee96be82875",
            "0824688be7704abfb2a134f031751b9f",
            "c03e737109cf43379b035ffecc965f4e",
            "737eaaa6f4e942469950ca7b72f3f0ce",
            "cab1e6a89cbd402fbfc01e1a7323167a",
            "e5340ff141694558a8568edb8c2d6a9a",
            "35c482e3ac68447f8da9e209a9024319",
            "13283094d423454fb700e610cb556a05",
            "471edb7031e54af7a974ccd5f34ebb93",
            "2e0f48d40cb14e3eb429ded4bc791f85",
            "06b77dd16fa342a9b66cddafe4623b7b",
            "8e6958574cbc4fcb97c89ad6cba796ea",
            "81a06fb7d29f49f28e8046b99a695945",
            "5c559ee270a84b7e9e333141c1b6ba16",
            "db5daf5aafe04b6bb127b37584e1efb5",
            "2fe56a9e8a724414b1c6485b11016626",
            "aa5c3d65b24d45deb0d2170b723e717e",
            "1ce4839d82db4ff7b7c2b3bf117370b8",
            "fe3bd489d24d4c7f874097e04823dd88",
            "c74aadb528b94969b1b7249e8f85724e",
            "5cbe324221d74ee5aebb04279d32624f"
          ]
        }
      },
      "source": [
        "from torchvision import datasets, transforms \n",
        "\n",
        "#Normalizer \n",
        "transform = transforms.Compose([transforms.ToTensor(),\n",
        "                              transforms.Normalize((0.5,), (0.5,)),\n",
        "                              ])\n",
        "\n",
        "trainset = datasets.MNIST('~/.pytorch/MNIST_data/', download=True, train=True, transform=transform)\n",
        "trainloader = torch.utils.data.DataLoader(trainset, batch_size=64, shuffle=True)\n"
      ],
      "execution_count": 0,
      "outputs": [
        {
          "output_type": "stream",
          "text": [
            "Downloading http://yann.lecun.com/exdb/mnist/train-images-idx3-ubyte.gz to /root/.pytorch/MNIST_data/MNIST/raw/train-images-idx3-ubyte.gz\n"
          ],
          "name": "stdout"
        },
        {
          "output_type": "display_data",
          "data": {
            "application/vnd.jupyter.widget-view+json": {
              "model_id": "c10a5375e36c4b07b6a3fbeccfec4478",
              "version_minor": 0,
              "version_major": 2
            },
            "text/plain": [
              "HBox(children=(FloatProgress(value=1.0, bar_style='info', max=1.0), HTML(value='')))"
            ]
          },
          "metadata": {
            "tags": []
          }
        },
        {
          "output_type": "stream",
          "text": [
            "Extracting /root/.pytorch/MNIST_data/MNIST/raw/train-images-idx3-ubyte.gz to /root/.pytorch/MNIST_data/MNIST/raw\n",
            "Downloading http://yann.lecun.com/exdb/mnist/train-labels-idx1-ubyte.gz to /root/.pytorch/MNIST_data/MNIST/raw/train-labels-idx1-ubyte.gz\n"
          ],
          "name": "stdout"
        },
        {
          "output_type": "display_data",
          "data": {
            "application/vnd.jupyter.widget-view+json": {
              "model_id": "88860b11b430406ab80eaae7a9abe102",
              "version_minor": 0,
              "version_major": 2
            },
            "text/plain": [
              "HBox(children=(FloatProgress(value=1.0, bar_style='info', max=1.0), HTML(value='')))"
            ]
          },
          "metadata": {
            "tags": []
          }
        },
        {
          "output_type": "stream",
          "text": [
            "Extracting /root/.pytorch/MNIST_data/MNIST/raw/train-labels-idx1-ubyte.gz to /root/.pytorch/MNIST_data/MNIST/raw\n",
            "Downloading http://yann.lecun.com/exdb/mnist/t10k-images-idx3-ubyte.gz to /root/.pytorch/MNIST_data/MNIST/raw/t10k-images-idx3-ubyte.gz\n"
          ],
          "name": "stdout"
        },
        {
          "output_type": "display_data",
          "data": {
            "application/vnd.jupyter.widget-view+json": {
              "model_id": "e5340ff141694558a8568edb8c2d6a9a",
              "version_minor": 0,
              "version_major": 2
            },
            "text/plain": [
              "HBox(children=(FloatProgress(value=1.0, bar_style='info', max=1.0), HTML(value='')))"
            ]
          },
          "metadata": {
            "tags": []
          }
        },
        {
          "output_type": "stream",
          "text": [
            "Extracting /root/.pytorch/MNIST_data/MNIST/raw/t10k-images-idx3-ubyte.gz to /root/.pytorch/MNIST_data/MNIST/raw\n",
            "Downloading http://yann.lecun.com/exdb/mnist/t10k-labels-idx1-ubyte.gz to /root/.pytorch/MNIST_data/MNIST/raw/t10k-labels-idx1-ubyte.gz\n"
          ],
          "name": "stdout"
        },
        {
          "output_type": "display_data",
          "data": {
            "application/vnd.jupyter.widget-view+json": {
              "model_id": "5c559ee270a84b7e9e333141c1b6ba16",
              "version_minor": 0,
              "version_major": 2
            },
            "text/plain": [
              "HBox(children=(FloatProgress(value=1.0, bar_style='info', max=1.0), HTML(value='')))"
            ]
          },
          "metadata": {
            "tags": []
          }
        },
        {
          "output_type": "stream",
          "text": [
            "Extracting /root/.pytorch/MNIST_data/MNIST/raw/t10k-labels-idx1-ubyte.gz to /root/.pytorch/MNIST_data/MNIST/raw\n",
            "Processing...\n",
            "Done!\n"
          ],
          "name": "stdout"
        },
        {
          "output_type": "stream",
          "text": [
            "/pytorch/torch/csrc/utils/tensor_numpy.cpp:141: UserWarning: The given NumPy array is not writeable, and PyTorch does not support non-writeable tensors. This means you can write to the underlying (supposedly non-writeable) NumPy array using the tensor. You may want to copy the array to protect its data or make it writeable before converting it to a tensor. This type of warning will be suppressed for the rest of this program.\n"
          ],
          "name": "stderr"
        }
      ]
    },
    {
      "cell_type": "code",
      "metadata": {
        "id": "KjZ_UlBBgssW",
        "colab_type": "code",
        "outputId": "75309d01-1399-4382-a5da-aa8ef21b9cf2",
        "colab": {
          "base_uri": "https://localhost:8080/",
          "height": 105
        }
      },
      "source": [
        "\n",
        "# ITERATOR \n",
        "dataiter = iter(trainloader)\n",
        "images, labels = dataiter.next()\n",
        "\n",
        "\n",
        "print(type(images))\n",
        "print(images.shape) # (bs, channel, dim1, dim2 )\n",
        "print(labels.shape)"
      ],
      "execution_count": 0,
      "outputs": [
        {
          "output_type": "stream",
          "text": [
            "\n",
            "\n",
            "<class 'torch.Tensor'>\n",
            "torch.Size([64, 1, 28, 28])\n",
            "torch.Size([64])\n"
          ],
          "name": "stdout"
        }
      ]
    },
    {
      "cell_type": "code",
      "metadata": {
        "id": "bOzfsnGZgxNu",
        "colab_type": "code",
        "outputId": "f55ec931-247d-49c8-bcb0-178e904673b3",
        "colab": {
          "base_uri": "https://localhost:8080/",
          "height": 265
        }
      },
      "source": [
        "plt.imshow(images[1].numpy().squeeze(), cmap='Greys_r');"
      ],
      "execution_count": 0,
      "outputs": [
        {
          "output_type": "display_data",
          "data": {
            "image/png": "[encoded data removed]",
            "text/plain": [
              "<Figure size 432x288 with 1 Axes>"
            ]
          },
          "metadata": {
            "tags": [],
            "needs_background": "light"
          }
        }
      ]
    },
    {
      "cell_type": "code",
      "metadata": {
        "id": "jwSIqgX0zcW8",
        "colab_type": "code",
        "outputId": "92bea49a-ce80-40da-bb72-611987185e7b",
        "colab": {
          "base_uri": "https://localhost:8080/",
          "height": 34
        }
      },
      "source": [
        "images.shape[0]"
      ],
      "execution_count": 0,
      "outputs": [
        {
          "output_type": "execute_result",
          "data": {
            "text/plain": [
              "64"
            ]
          },
          "metadata": {
            "tags": []
          },
          "execution_count": 23
        }
      ]
    },
    {
      "cell_type": "code",
      "metadata": {
        "id": "YqqudLSzzmJb",
        "colab_type": "code",
        "colab": {}
      },
      "source": [
        "\"\"\" images was of the shape - 64 * 1 * 28 * 28 \n",
        "view was told to reshape it into - 64*(whatever shape it took after collapsing all axis')\n",
        "\"\"\""
      ],
      "execution_count": 0,
      "outputs": []
    },
    {
      "cell_type": "code",
      "metadata": {
        "id": "-U6gvUc2yLUr",
        "colab_type": "code",
        "colab": {}
      },
      "source": [
        "## For flattening the image \n",
        "\n",
        "\"\"\"\n",
        "here the softmax numerator - will be the logits of all the output classes \n",
        "it is divided by the summation for all instances to normalise the value between the range \n",
        "of 0 and 1 \n",
        "\"\"\"\n",
        "inputs = images.view(images.shape[0],-1)\n"
      ],
      "execution_count": 0,
      "outputs": []
    },
    {
      "cell_type": "code",
      "metadata": {
        "id": "gGLdSkx0zGl1",
        "colab_type": "code",
        "outputId": "03af32ec-5687-46b4-bd23-c71f5dcbd371",
        "colab": {
          "base_uri": "https://localhost:8080/",
          "height": 34
        }
      },
      "source": [
        "inputs.shape"
      ],
      "execution_count": 0,
      "outputs": [
        {
          "output_type": "execute_result",
          "data": {
            "text/plain": [
              "torch.Size([64, 784])"
            ]
          },
          "metadata": {
            "tags": []
          },
          "execution_count": 25
        }
      ]
    },
    {
      "cell_type": "code",
      "metadata": {
        "id": "R_YUlKQH0K1e",
        "colab_type": "code",
        "colab": {}
      },
      "source": [
        "def softmax(x):\n",
        "  return torch.exp(x)/torch.sum(torch.exp(x),dim = 1).view(1,-1)\n",
        "\n"
      ],
      "execution_count": 0,
      "outputs": []
    },
    {
      "cell_type": "code",
      "metadata": {
        "id": "4pUunYnRzrwp",
        "colab_type": "code",
        "colab": {}
      },
      "source": [
        "class Network(nn.Module):\n",
        "  def __init__(self):\n",
        "    super().__init__()\n",
        "    ## Define the archicture of your model - layers, loss function , activation function, technically training related parameters are defined \n",
        "\n",
        "    ##Because the input neurons are linear/identity - the input layer is made using Linear \n",
        "    self.hidden = nn.Linear(784,256)  #input_feature_vector dimensions *ouput neurons number in the hidden layers \n",
        "    self.output = nn.Linear(256,10)\n",
        "    self.softmax = nn.Softmax(dim=1)\n",
        "    self.sigmoid = nn.Sigmoid()\n",
        "    self.relu = nn.ReLU()\n",
        "\n",
        "  def forward(self,x):\n",
        "    ## x here is the input tensor - shape of the input tensor matches the input dimensions of the defined architecture \n",
        "    x = self.hidden(x) # the hidden layer transformation is applied to the input tensor and then the output of the layer is reassigned to x i.e the incoming output tensor only \n",
        "    x = self.relu(x)\n",
        "    x = self.output(x)\n",
        "    x = self.softmax(x)\n",
        "\n",
        "    return x \n",
        "\n"
      ],
      "execution_count": 0,
      "outputs": []
    },
    {
      "cell_type": "code",
      "metadata": {
        "id": "YSgObFyF7auK",
        "colab_type": "code",
        "outputId": "0a145b22-f38c-49fc-ab65-09344fc96069",
        "colab": {
          "base_uri": "https://localhost:8080/",
          "height": 140
        }
      },
      "source": [
        "model = Network()\n",
        "model\n"
      ],
      "execution_count": 0,
      "outputs": [
        {
          "output_type": "execute_result",
          "data": {
            "text/plain": [
              "Network(\n",
              "  (hidden): Linear(in_features=784, out_features=256, bias=True)\n",
              "  (output): Linear(in_features=256, out_features=10, bias=True)\n",
              "  (softmax): Softmax(dim=1)\n",
              "  (sigmoid): Sigmoid()\n",
              "  (relu): ReLU()\n",
              ")"
            ]
          },
          "metadata": {
            "tags": []
          },
          "execution_count": 5
        }
      ]
    },
    {
      "cell_type": "code",
      "metadata": {
        "id": "eF9C2ZUjCkYe",
        "colab_type": "code",
        "colab": {}
      },
      "source": [
        "## EXERCISE \n",
        "\n",
        "class MyNet(nn.Module):\n",
        "  def __init__():\n",
        "    super().__init__()\n",
        "\n",
        "    self.hidden1 = nn.Linear(784,128)\n",
        "    self.hidden2 = nn.Linear(128,64)\n",
        "    self.output = nn.Linear(64,10)\n",
        "    self.softmax = nn.Softmax()\n",
        "    self.relu = nn.RELU()\n",
        "\n",
        "  def forward(self,x):\n",
        "\n",
        "    x = self.hidden1(x)\n",
        "    x = self.relu(x)\n",
        "    x = self.hidden2(x)\n",
        "    x = self.relu(x)\n",
        "    x = self.output(x)\n",
        "    x = self.softmax(x)\n",
        "\n",
        "    return x \n",
        "  "
      ],
      "execution_count": 0,
      "outputs": []
    },
    {
      "cell_type": "code",
      "metadata": {
        "id": "u6mblXZ_DO2k",
        "colab_type": "code",
        "outputId": "8cd94cf6-2957-45ae-d9a0-d35bea9683fe",
        "colab": {
          "base_uri": "https://localhost:8080/",
          "height": 34
        }
      },
      "source": [
        "model = nn.Sequential(nn.Linear(784,128),\n",
        "                      nn.ReLU(),\n",
        "                      nn.Linear(128,64),\n",
        "                      nn.ReLU(),\n",
        "                      nn.Linear(64,10))\n",
        "\n",
        "criterion = nn.CrossEntropyLoss()\n",
        "\n",
        "images = images.view(images.shape[0], -1)\n",
        "\n",
        "logits = model(images)\n",
        "\n",
        "loss = criterion(logits, labels)\n",
        "\n",
        "print(loss)"
      ],
      "execution_count": 0,
      "outputs": [
        {
          "output_type": "stream",
          "text": [
            "tensor(2.2947, grad_fn=<NllLossBackward>)\n"
          ],
          "name": "stdout"
        }
      ]
    },
    {
      "cell_type": "code",
      "metadata": {
        "id": "vr7Gh2a1JY20",
        "colab_type": "code",
        "colab": {}
      },
      "source": [
        "## EXERCISE \n",
        "\n",
        "model = nn.Sequential(\n",
        "    nn.Linear(784,128),\n",
        "    nn.ReLU(),\n",
        "    nn.Linear(128,64),\n",
        "    nn.ReLU(),\n",
        "    nn.Linear(64,10),\n",
        "    nn.LogSoftmax(dim=1))  ##check - why LogSoftmax and NLL dependence \n",
        "\n",
        "criterion = nn.NLLLoss()\n",
        "\n",
        "logits = model(images)\n",
        "\n",
        "loss = criterion(logits,labels)"
      ],
      "execution_count": 0,
      "outputs": []
    },
    {
      "cell_type": "code",
      "metadata": {
        "id": "-O8fNeCxKwQ9",
        "colab_type": "code",
        "outputId": "67948ed1-ba4b-4ce2-b32e-4ff1d8568d04",
        "colab": {
          "base_uri": "https://localhost:8080/",
          "height": 34
        }
      },
      "source": [
        "print(loss)"
      ],
      "execution_count": 0,
      "outputs": [
        {
          "output_type": "stream",
          "text": [
            "tensor(2.3130, grad_fn=<NllLossBackward>)\n"
          ],
          "name": "stdout"
        }
      ]
    },
    {
      "cell_type": "code",
      "metadata": {
        "id": "BmzlBa2IKxkV",
        "colab_type": "code",
        "colab": {}
      },
      "source": [
        "##AUTOGRAD\n",
        "loss.backward()"
      ],
      "execution_count": 0,
      "outputs": []
    },
    {
      "cell_type": "code",
      "metadata": {
        "id": "qEpZkMckUuW2",
        "colab_type": "code",
        "colab": {}
      },
      "source": [
        "##OPTIMIZER - so an optimizer step is one set of weight updation \n",
        "\n",
        "from torch import optim\n",
        "optimizer = optim.SGD(model.parameters(),lr=0.01)"
      ],
      "execution_count": 0,
      "outputs": []
    },
    {
      "cell_type": "code",
      "metadata": {
        "id": "B1fyvfAhVkBI",
        "colab_type": "code",
        "outputId": "21c5c6f1-4474-46c3-f447-afe52fef55dc",
        "colab": {
          "base_uri": "https://localhost:8080/",
          "height": 70
        }
      },
      "source": [
        "# having defined model, criterion, and optimizer \n",
        "\n",
        "epochs = 3 \n",
        "for epoch in range(epochs):\n",
        "  training_loss = 0\n",
        "  for images, labels in trainloader:\n",
        "   images = images.view(images.shape[0],-1)\n",
        "   optimizer.zero_grad()\n",
        "   logits = model.forward(images)\n",
        "   instance_loss = criterion(logits,labels)\n",
        "   instance_loss.backward()\n",
        "   optimizer.step()\n",
        "   training_loss+=instance_loss\n",
        "  \n",
        "  print('Training loss -', training_loss/len(trainloader))\n"
      ],
      "execution_count": 0,
      "outputs": [
        {
          "output_type": "stream",
          "text": [
            "Training loss - tensor(1.0112, grad_fn=<DivBackward0>)\n",
            "Training loss - tensor(0.3837, grad_fn=<DivBackward0>)\n",
            "Training loss - tensor(0.3259, grad_fn=<DivBackward0>)\n"
          ],
          "name": "stdout"
        }
      ]
    },
    {
      "cell_type": "code",
      "metadata": {
        "id": "MArHao6HX6wI",
        "colab_type": "code",
        "colab": {}
      },
      "source": [
        "img = images[0].view(1,784)\n",
        "with torch.no_grad():  ##so that it is not tracking changes to the gradient \n",
        "  logits = model.forward(img) ##forward pass gives you the logits "
      ],
      "execution_count": 0,
      "outputs": []
    },
    {
      "cell_type": "code",
      "metadata": {
        "id": "w8cUWg6rYkU2",
        "colab_type": "code",
        "outputId": "b129301c-c314-4a21-985e-c9ca38738942",
        "colab": {
          "base_uri": "https://localhost:8080/",
          "height": 52
        }
      },
      "source": [
        "pred = F.softmax(logits,dim=1)\n",
        "print(pred)"
      ],
      "execution_count": 0,
      "outputs": [
        {
          "output_type": "stream",
          "text": [
            "tensor([[9.9248e-01, 1.0171e-11, 1.5083e-05, 4.8781e-07, 9.0476e-07, 7.4032e-03,\n",
            "         5.6269e-05, 1.3643e-07, 4.4796e-05, 3.2612e-06]])\n"
          ],
          "name": "stdout"
        }
      ]
    },
    {
      "cell_type": "markdown",
      "metadata": {
        "id": "LR2GSkUUdcAB",
        "colab_type": "text"
      },
      "source": [
        "Fashion MNIST "
      ]
    },
    {
      "cell_type": "code",
      "metadata": {
        "id": "kCKeuLhEda9L",
        "colab_type": "code",
        "outputId": "058a45b0-3ffa-4438-fb30-d78e32db43ac",
        "colab": {
          "base_uri": "https://localhost:8080/",
          "height": 358,
          "referenced_widgets": [
            "82c49486c8c043cfaac62aa2fda63a7a",
            "e90b2c4c297f40c89c2c6e96ca41dcd8",
            "e5096539b6f24b6dbee6e296ceb12d9f",
            "e4ebbcae78444e15ac0926d81f9dcc15",
            "4483d7bfd5754bbc95fffa1c0ca05849",
            "7f58ba12aeb547b0bd43b45c4f791118",
            "92412903a32445bd962df97e5c8952b3",
            "fda2ec8493dc48ec82810aeddc19cfdb",
            "20ee02d821e64d5e9b347b929fea56e0",
            "602a7c342eaf46c09b8ef59acba78045",
            "d8719015bfe04046823051ab01faadf8",
            "842420b8017e481c848851e61da1e98c",
            "020959716b204b0c8f87064aad109519",
            "f79e0e015fd84a91bc44bf01e1e86f6c",
            "9b65f09446ea46f7b16ad257e9395d48",
            "5a365d98afb74d4588aa81c451551b61",
            "8f80feadd7184c20a3d1246fc62c1855",
            "eb62b180d65e4b84aed80016bf598190",
            "4aa637f369224f1cb2b914dd04bfc520",
            "cc15e55384e34300aa8fce0be4fae14e",
            "007d0ed30543447abe8163b7fe332954",
            "004415da6600499d95cd0d503a593dba",
            "1a110eea6a1e4713a3dd23d4612b8b7c",
            "27c7118ead5749b4b023fb8777e78aac",
            "7d113939b9a644c383de7d1a23cd15c6",
            "94d2462a549b4765ab6937fe30c3f6a6",
            "8836d4c067e44dfa8cf5aa82fb00c65e",
            "3541623754814f22b1f50dbff12745df",
            "67f51befd63d4ddc88837ceede5f257d",
            "55ba91e24f5b4d65ac4adeab5577c4a3",
            "807ce71ff3d7457fb15553c2298f5240",
            "57780cb5a16144489cba9243f96fe459"
          ]
        }
      },
      "source": [
        "from torchvision import datasets, transforms\n",
        "transform = transforms.Compose([transforms.ToTensor(),\n",
        "                              transforms.Normalize((0.5,), (0.5,)),\n",
        "                              ])\n",
        "root = '/content/FashionMNIST'\n",
        "data = datasets.FashionMNIST(root, train=True, transform=transform, target_transform=None, download=True)\n",
        "data_loader = torch.utils.data.DataLoader(data, batch_size=64, shuffle=True)"
      ],
      "execution_count": 0,
      "outputs": [
        {
          "output_type": "stream",
          "text": [
            "Downloading http://fashion-mnist.s3-website.eu-central-1.amazonaws.com/train-images-idx3-ubyte.gz to /content/FashionMNIST/FashionMNIST/raw/train-images-idx3-ubyte.gz\n"
          ],
          "name": "stdout"
        },
        {
          "output_type": "display_data",
          "data": {
            "application/vnd.jupyter.widget-view+json": {
              "model_id": "82c49486c8c043cfaac62aa2fda63a7a",
              "version_minor": 0,
              "version_major": 2
            },
            "text/plain": [
              "HBox(children=(FloatProgress(value=1.0, bar_style='info', max=1.0), HTML(value='')))"
            ]
          },
          "metadata": {
            "tags": []
          }
        },
        {
          "output_type": "stream",
          "text": [
            "Extracting /content/FashionMNIST/FashionMNIST/raw/train-images-idx3-ubyte.gz to /content/FashionMNIST/FashionMNIST/raw\n",
            "Downloading http://fashion-mnist.s3-website.eu-central-1.amazonaws.com/train-labels-idx1-ubyte.gz to /content/FashionMNIST/FashionMNIST/raw/train-labels-idx1-ubyte.gz\n",
            "\n"
          ],
          "name": "stdout"
        },
        {
          "output_type": "display_data",
          "data": {
            "application/vnd.jupyter.widget-view+json": {
              "model_id": "20ee02d821e64d5e9b347b929fea56e0",
              "version_minor": 0,
              "version_major": 2
            },
            "text/plain": [
              "HBox(children=(FloatProgress(value=1.0, bar_style='info', max=1.0), HTML(value='')))"
            ]
          },
          "metadata": {
            "tags": []
          }
        },
        {
          "output_type": "stream",
          "text": [
            "Extracting /content/FashionMNIST/FashionMNIST/raw/train-labels-idx1-ubyte.gz to /content/FashionMNIST/FashionMNIST/raw\n",
            "Downloading http://fashion-mnist.s3-website.eu-central-1.amazonaws.com/t10k-images-idx3-ubyte.gz to /content/FashionMNIST/FashionMNIST/raw/t10k-images-idx3-ubyte.gz\n"
          ],
          "name": "stdout"
        },
        {
          "output_type": "display_data",
          "data": {
            "application/vnd.jupyter.widget-view+json": {
              "model_id": "8f80feadd7184c20a3d1246fc62c1855",
              "version_minor": 0,
              "version_major": 2
            },
            "text/plain": [
              "HBox(children=(FloatProgress(value=1.0, bar_style='info', max=1.0), HTML(value='')))"
            ]
          },
          "metadata": {
            "tags": []
          }
        },
        {
          "output_type": "stream",
          "text": [
            "Extracting /content/FashionMNIST/FashionMNIST/raw/t10k-images-idx3-ubyte.gz to /content/FashionMNIST/FashionMNIST/raw\n",
            "Downloading http://fashion-mnist.s3-website.eu-central-1.amazonaws.com/t10k-labels-idx1-ubyte.gz to /content/FashionMNIST/FashionMNIST/raw/t10k-labels-idx1-ubyte.gz\n"
          ],
          "name": "stdout"
        },
        {
          "output_type": "display_data",
          "data": {
            "application/vnd.jupyter.widget-view+json": {
              "model_id": "7d113939b9a644c383de7d1a23cd15c6",
              "version_minor": 0,
              "version_major": 2
            },
            "text/plain": [
              "HBox(children=(FloatProgress(value=1.0, bar_style='info', max=1.0), HTML(value='')))"
            ]
          },
          "metadata": {
            "tags": []
          }
        },
        {
          "output_type": "stream",
          "text": [
            "Extracting /content/FashionMNIST/FashionMNIST/raw/t10k-labels-idx1-ubyte.gz to /content/FashionMNIST/FashionMNIST/raw\n",
            "Processing...\n",
            "Done!\n"
          ],
          "name": "stdout"
        }
      ]
    },
    {
      "cell_type": "code",
      "metadata": {
        "id": "FBUA3Oxehxmt",
        "colab_type": "code",
        "colab": {}
      },
      "source": [
        "  dataiter = iter(data_loader)\n",
        "  images, labels = dataiter.next()"
      ],
      "execution_count": 0,
      "outputs": []
    },
    {
      "cell_type": "code",
      "metadata": {
        "id": "NlF5-JkTY_i3",
        "colab_type": "code",
        "colab": {}
      },
      "source": [
        "## FASHION MNIST - 10 classes : 2 steps - define, train \n",
        "import torch.nn.functional as F \n",
        "class fashion_classifier(nn.Module):\n",
        "  def __init__(self):\n",
        "    super().__init__()\n",
        "    self.h1 = nn.Linear(784,256)\n",
        "    self.h2 = nn.Linear(256,128)\n",
        "    self.h3 = nn.Linear(128,64)\n",
        "    self.output = nn.Linear(64,10)\n",
        "\n",
        "\n",
        "  def forward(self,x):\n",
        "    x = x.view(x.shape[0],-1)\n",
        "    x = F.relu(self.h1(x))\n",
        "    x = F.relu(self.h2(x))\n",
        "    x = F.relu(self.h3(x))\n",
        "    x = F.log_softmax(self.output(x), dim = 1)\n",
        "\n",
        "    return x "
      ],
      "execution_count": 0,
      "outputs": []
    },
    {
      "cell_type": "code",
      "metadata": {
        "id": "dETu-Ox9mdw3",
        "colab_type": "code",
        "colab": {}
      },
      "source": [
        "model = fashion_classifier()\n",
        "criterion= nn.NLLLoss()\n",
        "optimizer = optim.Adam(model.parameters(), lr = 0.003)\n"
      ],
      "execution_count": 0,
      "outputs": []
    },
    {
      "cell_type": "code",
      "metadata": {
        "id": "0UX26_McbX7W",
        "colab_type": "code",
        "colab": {}
      },
      "source": [
        "epochs = 10 \n",
        "for epoch in range(epochs): \n",
        "  epoch_loss = 0 \n",
        "  for images, labels in data_loader:\n",
        "    logits = model(images)\n",
        "    loss = criterion(logits, labels)\n",
        "    loss.backward()\n",
        "\n",
        "    optimizer.zero_grad\n",
        "    optimizer.step()\n",
        "    \n",
        "    epoch_loss +=loss\n",
        "\n",
        "  print('Loss for epoch ' + str(epoch) + ' is ' + str(epoch_loss/len(data_loader)))"
      ],
      "execution_count": 0,
      "outputs": []
    },
    {
      "cell_type": "markdown",
      "metadata": {
        "id": "DTdaugop-i8n",
        "colab_type": "text"
      },
      "source": [
        "PySyft "
      ]
    },
    {
      "cell_type": "code",
      "metadata": {
        "id": "tqZBcVjwoqQW",
        "colab_type": "code",
        "colab": {}
      },
      "source": [
        "!pip install syft "
      ],
      "execution_count": 0,
      "outputs": []
    },
    {
      "cell_type": "code",
      "metadata": {
        "id": "0L4jBJkUFPf1",
        "colab_type": "code",
        "colab": {}
      },
      "source": [
        "import torch \n",
        "import syft as sy \n"
      ],
      "execution_count": 0,
      "outputs": []
    },
    {
      "cell_type": "code",
      "metadata": {
        "id": "tPkgjg4yFVGr",
        "colab_type": "code",
        "outputId": "f25765dd-1f87-46df-bc01-bb5eb956bde1",
        "colab": {
          "base_uri": "https://localhost:8080/",
          "height": 34
        }
      },
      "source": [
        "## worker is the new core primitive with PySyft - its a collection of objects \n",
        "hook = sy.TorchHook(torch)\n",
        "bob = sy.VirtualWorker(hook=hook, id='Bob')"
      ],
      "execution_count": 0,
      "outputs": [
        {
          "output_type": "stream",
          "text": [
            "WARNING:root:Torch was already hooked... skipping hooking process\n"
          ],
          "name": "stderr"
        }
      ]
    },
    {
      "cell_type": "code",
      "metadata": {
        "id": "ZwJXwvnMGvHE",
        "colab_type": "code",
        "outputId": "72c82eae-b91f-4ec9-a9b1-c29e58fc5557",
        "colab": {
          "base_uri": "https://localhost:8080/",
          "height": 263
        }
      },
      "source": [
        "bob._objects"
      ],
      "execution_count": 0,
      "outputs": [
        {
          "output_type": "execute_result",
          "data": {
            "text/plain": [
              "{1265860545: <Plan Plan id:1265860545 owner:Bob Tags: #xor_add_1 built>,\n",
              " 7415879006: <Plan Plan id:7415879006 owner:Bob Tags: #fss_comp_plan_1 built>,\n",
              " 8305863234: <Plan Plan id:8305863234 owner:Bob Tags: #fss_comp_plan_1 built>,\n",
              " 8479593739: tensor([[ 0.2987,  0.3206, -0.8567,  0.5756],\n",
              "         [ 0.2420, -1.3591, -0.4000, -1.2127]]),\n",
              " 9732661257: <Plan Plan id:9732661257 owner:Bob Tags: #fss_eq_plan_2 built>,\n",
              " 23163027704: <Plan Plan id:23163027704 owner:Bob Tags: #xor_add_1 built>,\n",
              " 33502879474: <Plan Plan id:33502879474 owner:Bob Tags: #fss_eq_plan_1 built>,\n",
              " 33687088209: <Plan Plan id:33687088209 owner:Bob Tags: #fss_comp_plan_2 built>,\n",
              " 45745126802: <Plan Plan id:45745126802 owner:Bob Tags: #fss_comp_plan_2 built>,\n",
              " 53890421300: <Plan Plan id:53890421300 owner:Bob Tags: #fss_eq_plan_1 built>,\n",
              " 65978349142: <Plan Plan id:65978349142 owner:Bob Tags: #xor_add_2 built>,\n",
              " 89887556087: <Plan Plan id:89887556087 owner:Bob Tags: #fss_eq_plan_2 built>,\n",
              " 90626656647: <Plan Plan id:90626656647 owner:Bob Tags: #xor_add_2 built>}"
            ]
          },
          "metadata": {
            "tags": []
          },
          "execution_count": 43
        }
      ]
    },
    {
      "cell_type": "code",
      "metadata": {
        "id": "qtGwzrZwHgJB",
        "colab_type": "code",
        "colab": {}
      },
      "source": [
        "x = torch.randn((1,3))"
      ],
      "execution_count": 0,
      "outputs": []
    },
    {
      "cell_type": "code",
      "metadata": {
        "id": "cdhzEMjRH6U0",
        "colab_type": "code",
        "colab": {}
      },
      "source": [
        "x = x.send(bob)\n"
      ],
      "execution_count": 0,
      "outputs": []
    },
    {
      "cell_type": "code",
      "metadata": {
        "id": "P6jiDyMpH-8N",
        "colab_type": "code",
        "outputId": "4e694f22-17cf-4394-80c9-6e8cf4390930",
        "colab": {
          "base_uri": "https://localhost:8080/",
          "height": 140
        }
      },
      "source": [
        "x \n",
        "bob._objects"
      ],
      "execution_count": 0,
      "outputs": [
        {
          "output_type": "execute_result",
          "data": {
            "text/plain": [
              "{8305863234: <Plan Plan id:8305863234 owner:Bob Tags: #fss_comp_plan_1 built>,\n",
              " 23163027704: <Plan Plan id:23163027704 owner:Bob Tags: #xor_add_1 built>,\n",
              " 31335918044: tensor([[ 0.5629, -1.8886,  1.2840]]),\n",
              " 33502879474: <Plan Plan id:33502879474 owner:Bob Tags: #fss_eq_plan_1 built>,\n",
              " 45745126802: <Plan Plan id:45745126802 owner:Bob Tags: #fss_comp_plan_2 built>,\n",
              " 89887556087: <Plan Plan id:89887556087 owner:Bob Tags: #fss_eq_plan_2 built>,\n",
              " 90626656647: <Plan Plan id:90626656647 owner:Bob Tags: #xor_add_2 built>}"
            ]
          },
          "metadata": {
            "tags": []
          },
          "execution_count": 17
        }
      ]
    },
    {
      "cell_type": "code",
      "metadata": {
        "id": "mfNfnPX1IFfQ",
        "colab_type": "code",
        "outputId": "a6b9e0b8-d538-4903-f026-6446f6c4d570",
        "colab": {
          "base_uri": "https://localhost:8080/",
          "height": 34
        }
      },
      "source": [
        "x.location"
      ],
      "execution_count": 0,
      "outputs": [
        {
          "output_type": "execute_result",
          "data": {
            "text/plain": [
              "<VirtualWorker id:Bob #objects:7>"
            ]
          },
          "metadata": {
            "tags": []
          },
          "execution_count": 10
        }
      ]
    },
    {
      "cell_type": "code",
      "metadata": {
        "id": "OJHK71cFIPvx",
        "colab_type": "code",
        "outputId": "a241f20c-5492-41b6-a107-b7281b30465d",
        "colab": {
          "base_uri": "https://localhost:8080/",
          "height": 34
        }
      },
      "source": [
        "x.id "
      ],
      "execution_count": 0,
      "outputs": [
        {
          "output_type": "execute_result",
          "data": {
            "text/plain": [
              "87685771421"
            ]
          },
          "metadata": {
            "tags": []
          },
          "execution_count": 11
        }
      ]
    },
    {
      "cell_type": "code",
      "metadata": {
        "id": "e8pFZlPYIU1a",
        "colab_type": "code",
        "outputId": "f67353a3-0a8a-473d-bd3c-d60cddaf4df8",
        "colab": {
          "base_uri": "https://localhost:8080/",
          "height": 34
        }
      },
      "source": [
        "x.owner "
      ],
      "execution_count": 0,
      "outputs": [
        {
          "output_type": "execute_result",
          "data": {
            "text/plain": [
              "<VirtualWorker id:me #objects:0>"
            ]
          },
          "metadata": {
            "tags": []
          },
          "execution_count": 12
        }
      ]
    },
    {
      "cell_type": "code",
      "metadata": {
        "id": "OYqOZ9reIhUm",
        "colab_type": "code",
        "outputId": "3b921a9b-d51d-482a-ec64-8741169a4b1e",
        "colab": {
          "base_uri": "https://localhost:8080/",
          "height": 34
        }
      },
      "source": [
        "## The local worker communicates to the client on the owners behalf \n",
        "hook.local_worker"
      ],
      "execution_count": 0,
      "outputs": [
        {
          "output_type": "execute_result",
          "data": {
            "text/plain": [
              "<VirtualWorker id:me #objects:0>"
            ]
          },
          "metadata": {
            "tags": []
          },
          "execution_count": 13
        }
      ]
    },
    {
      "cell_type": "code",
      "metadata": {
        "id": "E2HRP4HUIkcV",
        "colab_type": "code",
        "colab": {}
      },
      "source": [
        "x = x.get()"
      ],
      "execution_count": 0,
      "outputs": []
    },
    {
      "cell_type": "code",
      "metadata": {
        "id": "mrKLPjbfI0tB",
        "colab_type": "code",
        "outputId": "fe182e10-b730-475c-c5b5-2f82ca64bb5e",
        "colab": {
          "base_uri": "https://localhost:8080/",
          "height": 122
        }
      },
      "source": [
        "bob._objects"
      ],
      "execution_count": 0,
      "outputs": [
        {
          "output_type": "execute_result",
          "data": {
            "text/plain": [
              "{8305863234: <Plan Plan id:8305863234 owner:Bob Tags: #fss_comp_plan_1 built>,\n",
              " 23163027704: <Plan Plan id:23163027704 owner:Bob Tags: #xor_add_1 built>,\n",
              " 33502879474: <Plan Plan id:33502879474 owner:Bob Tags: #fss_eq_plan_1 built>,\n",
              " 45745126802: <Plan Plan id:45745126802 owner:Bob Tags: #fss_comp_plan_2 built>,\n",
              " 89887556087: <Plan Plan id:89887556087 owner:Bob Tags: #fss_eq_plan_2 built>,\n",
              " 90626656647: <Plan Plan id:90626656647 owner:Bob Tags: #xor_add_2 built>}"
            ]
          },
          "metadata": {
            "tags": []
          },
          "execution_count": 20
        }
      ]
    },
    {
      "cell_type": "code",
      "metadata": {
        "id": "mkFaoKk3I5q0",
        "colab_type": "code",
        "colab": {}
      },
      "source": [
        "## 2 workers \n",
        "alice = sy.VirtualWorker(hook, id='alice')"
      ],
      "execution_count": 0,
      "outputs": []
    },
    {
      "cell_type": "code",
      "metadata": {
        "id": "-Hku5o3GK4jY",
        "colab_type": "code",
        "outputId": "a006513e-a5b0-4bc4-8bdd-81ae449afcc4",
        "colab": {
          "base_uri": "https://localhost:8080/",
          "height": 157
        }
      },
      "source": [
        "alice._objects"
      ],
      "execution_count": 0,
      "outputs": [
        {
          "output_type": "execute_result",
          "data": {
            "text/plain": [
              "{8479593739: tensor([[ 0.2987,  0.3206, -0.8567,  0.5756],\n",
              "         [ 0.2420, -1.3591, -0.4000, -1.2127]]),\n",
              " 37318946408: <Plan Plan id:37318946408 owner:alice Tags: #fss_eq_plan_1 built>,\n",
              " 48137181959: <Plan Plan id:48137181959 owner:alice Tags: #fss_eq_plan_2 built>,\n",
              " 61234322472: <Plan Plan id:61234322472 owner:alice Tags: #fss_comp_plan_1 built>,\n",
              " 71980312438: <Plan Plan id:71980312438 owner:alice Tags: #xor_add_2 built>,\n",
              " 75955378659: <Plan Plan id:75955378659 owner:alice Tags: #xor_add_1 built>,\n",
              " 86625142431: <Plan Plan id:86625142431 owner:alice Tags: #fss_comp_plan_2 built>}"
            ]
          },
          "metadata": {
            "tags": []
          },
          "execution_count": 23
        }
      ]
    },
    {
      "cell_type": "code",
      "metadata": {
        "id": "jIpvKzN2LSGi",
        "colab_type": "code",
        "outputId": "1a226057-3f49-40de-8c07-3a4439cc8d38",
        "colab": {
          "base_uri": "https://localhost:8080/",
          "height": 157
        }
      },
      "source": [
        "bob._objects"
      ],
      "execution_count": 0,
      "outputs": [
        {
          "output_type": "execute_result",
          "data": {
            "text/plain": [
              "{8305863234: <Plan Plan id:8305863234 owner:Bob Tags: #fss_comp_plan_1 built>,\n",
              " 8479593739: tensor([[ 0.2987,  0.3206, -0.8567,  0.5756],\n",
              "         [ 0.2420, -1.3591, -0.4000, -1.2127]]),\n",
              " 23163027704: <Plan Plan id:23163027704 owner:Bob Tags: #xor_add_1 built>,\n",
              " 33502879474: <Plan Plan id:33502879474 owner:Bob Tags: #fss_eq_plan_1 built>,\n",
              " 45745126802: <Plan Plan id:45745126802 owner:Bob Tags: #fss_comp_plan_2 built>,\n",
              " 89887556087: <Plan Plan id:89887556087 owner:Bob Tags: #fss_eq_plan_2 built>,\n",
              " 90626656647: <Plan Plan id:90626656647 owner:Bob Tags: #xor_add_2 built>}"
            ]
          },
          "metadata": {
            "tags": []
          },
          "execution_count": 25
        }
      ]
    },
    {
      "cell_type": "code",
      "metadata": {
        "id": "WOJeIrlEKueE",
        "colab_type": "code",
        "colab": {}
      },
      "source": [
        "x = torch.randn((2,4))\n",
        "s = x.send(bob,alice)"
      ],
      "execution_count": 0,
      "outputs": []
    },
    {
      "cell_type": "code",
      "metadata": {
        "id": "1yCld_AmLhWs",
        "colab_type": "code",
        "outputId": "c1731042-3e57-45e3-e855-4c795e6fc8db",
        "colab": {
          "base_uri": "https://localhost:8080/",
          "height": 70
        }
      },
      "source": [
        "##Mutlipointer \n",
        "s"
      ],
      "execution_count": 0,
      "outputs": [
        {
          "output_type": "execute_result",
          "data": {
            "text/plain": [
              "(Wrapper)>[MultiPointerTensor]\n",
              "\t-> [PointerTensor | me:45381700412 -> Bob:7405837329]\n",
              "\t-> [PointerTensor | me:92881851768 -> alice:7405837329]"
            ]
          },
          "metadata": {
            "tags": []
          },
          "execution_count": 38
        }
      ]
    },
    {
      "cell_type": "code",
      "metadata": {
        "id": "NwYMMy6RK1-V",
        "colab_type": "code",
        "outputId": "87c39b9e-7462-4a1c-8942-e3b6ef03e45f",
        "colab": {
          "base_uri": "https://localhost:8080/",
          "height": 34
        }
      },
      "source": [
        "s.owner "
      ],
      "execution_count": 0,
      "outputs": [
        {
          "output_type": "execute_result",
          "data": {
            "text/plain": [
              "<VirtualWorker id:me #objects:0>"
            ]
          },
          "metadata": {
            "tags": []
          },
          "execution_count": 39
        }
      ]
    },
    {
      "cell_type": "code",
      "metadata": {
        "id": "YQtMb2wDLHWE",
        "colab_type": "code",
        "outputId": "b9b16ad5-f375-49dc-b378-fe1d84e2af83",
        "colab": {
          "base_uri": "https://localhost:8080/",
          "height": 52
        }
      },
      "source": [
        "s.get(sum_results=True)"
      ],
      "execution_count": 0,
      "outputs": [
        {
          "output_type": "execute_result",
          "data": {
            "text/plain": [
              "tensor([[ 0.9139,  0.0369,  1.6760,  2.5124],\n",
              "        [ 1.3460,  3.3045,  1.9027, -0.8882]])"
            ]
          },
          "metadata": {
            "tags": []
          },
          "execution_count": 40
        }
      ]
    },
    {
      "cell_type": "code",
      "metadata": {
        "id": "cFo6thR6LbnM",
        "colab_type": "code",
        "outputId": "b2ce253b-caae-403f-888f-b194f9a9425f",
        "colab": {
          "base_uri": "https://localhost:8080/",
          "height": 87
        }
      },
      "source": [
        "x"
      ],
      "execution_count": 0,
      "outputs": [
        {
          "output_type": "execute_result",
          "data": {
            "text/plain": [
              "[tensor([[ 0.0104, -0.7307,  0.8061, -2.4925],\n",
              "         [ 0.9008,  0.9512, -1.4599, -0.1290]]),\n",
              " tensor([[ 0.0104, -0.7307,  0.8061, -2.4925],\n",
              "         [ 0.9008,  0.9512, -1.4599, -0.1290]])]"
            ]
          },
          "metadata": {
            "tags": []
          },
          "execution_count": 31
        }
      ]
    },
    {
      "cell_type": "code",
      "metadata": {
        "id": "nmeqainwLm6M",
        "colab_type": "code",
        "colab": {}
      },
      "source": [
        "x.get(sum_results=True)"
      ],
      "execution_count": 0,
      "outputs": []
    },
    {
      "cell_type": "code",
      "metadata": {
        "id": "GM3W0WneLtVO",
        "colab_type": "code",
        "colab": {}
      },
      "source": [
        "x = torch.tensor([1,2,3,5]).send(bob)\n",
        "y = torch.tensor([1,2,3,5]).send(bob)"
      ],
      "execution_count": 0,
      "outputs": []
    },
    {
      "cell_type": "code",
      "metadata": {
        "id": "qo5RCsO5Taq5",
        "colab_type": "code",
        "outputId": "1cbf27bc-1c64-4c76-b5d3-5f6e6df20f6a",
        "colab": {
          "base_uri": "https://localhost:8080/",
          "height": 34
        }
      },
      "source": [
        "x\n"
      ],
      "execution_count": 0,
      "outputs": [
        {
          "output_type": "execute_result",
          "data": {
            "text/plain": [
              "(Wrapper)>[PointerTensor | me:45088233902 -> Bob:39307882408]"
            ]
          },
          "metadata": {
            "tags": []
          },
          "execution_count": 50
        }
      ]
    },
    {
      "cell_type": "code",
      "metadata": {
        "id": "fdy9BxjMTcQE",
        "colab_type": "code",
        "outputId": "7343e7fb-0e32-4a42-9c2a-7d506dce580d",
        "colab": {
          "base_uri": "https://localhost:8080/",
          "height": 34
        }
      },
      "source": [
        "y\n"
      ],
      "execution_count": 0,
      "outputs": [
        {
          "output_type": "execute_result",
          "data": {
            "text/plain": [
              "(Wrapper)>[PointerTensor | me:33855571631 -> Bob:46957968090]"
            ]
          },
          "metadata": {
            "tags": []
          },
          "execution_count": 51
        }
      ]
    },
    {
      "cell_type": "code",
      "metadata": {
        "id": "u341A4COTgHo",
        "colab_type": "code",
        "colab": {}
      },
      "source": [
        "z = x + y "
      ],
      "execution_count": 0,
      "outputs": []
    },
    {
      "cell_type": "code",
      "metadata": {
        "id": "I8CErZS4TkaD",
        "colab_type": "code",
        "outputId": "0a1853a2-eac7-45ec-d765-c2052e0d1d6d",
        "colab": {
          "base_uri": "https://localhost:8080/",
          "height": 34
        }
      },
      "source": [
        "z.get()"
      ],
      "execution_count": 0,
      "outputs": [
        {
          "output_type": "execute_result",
          "data": {
            "text/plain": [
              "tensor([ 2,  4,  6, 10])"
            ]
          },
          "metadata": {
            "tags": []
          },
          "execution_count": 53
        }
      ]
    },
    {
      "cell_type": "code",
      "metadata": {
        "id": "UOfctzePTlum",
        "colab_type": "code",
        "colab": {}
      },
      "source": [
        "x = torch.tensor([1.,2,3,5],requires_grad=True).send(bob)\n",
        "y = torch.tensor([1.,2,3,5],requires_grad=True).send(bob)\n",
        "z = (x+y).sum()\n"
      ],
      "execution_count": 0,
      "outputs": []
    },
    {
      "cell_type": "code",
      "metadata": {
        "id": "eg2cgqV5T8Ej",
        "colab_type": "code",
        "outputId": "a7347cbf-20fa-4fed-d882-1f6a1c40deee",
        "colab": {
          "base_uri": "https://localhost:8080/",
          "height": 34
        }
      },
      "source": [
        "z"
      ],
      "execution_count": 0,
      "outputs": [
        {
          "output_type": "execute_result",
          "data": {
            "text/plain": [
              "(Wrapper)>[PointerTensor | me:22124838580 -> Bob:48822399865]"
            ]
          },
          "metadata": {
            "tags": []
          },
          "execution_count": 65
        }
      ]
    },
    {
      "cell_type": "code",
      "metadata": {
        "id": "bIcYZwufT-KH",
        "colab_type": "code",
        "outputId": "eb0a2da1-21da-4d3d-b46c-bc4da76726f2",
        "colab": {
          "base_uri": "https://localhost:8080/",
          "height": 34
        }
      },
      "source": [
        "z.backward()"
      ],
      "execution_count": 0,
      "outputs": [
        {
          "output_type": "execute_result",
          "data": {
            "text/plain": [
              "(Wrapper)>[PointerTensor | me:12295054540 -> Bob:77123858019]"
            ]
          },
          "metadata": {
            "tags": []
          },
          "execution_count": 66
        }
      ]
    },
    {
      "cell_type": "code",
      "metadata": {
        "id": "Gr75ZSXNUXaG",
        "colab_type": "code",
        "colab": {}
      },
      "source": [
        "x = x.get()"
      ],
      "execution_count": 0,
      "outputs": []
    },
    {
      "cell_type": "code",
      "metadata": {
        "id": "d-PP2eIgUgVU",
        "colab_type": "code",
        "outputId": "7a4d7fef-eba3-40df-9256-49baeee901f6",
        "colab": {
          "base_uri": "https://localhost:8080/",
          "height": 34
        }
      },
      "source": [
        "x"
      ],
      "execution_count": 0,
      "outputs": [
        {
          "output_type": "execute_result",
          "data": {
            "text/plain": [
              "tensor([1., 2., 3., 5.], requires_grad=True)"
            ]
          },
          "metadata": {
            "tags": []
          },
          "execution_count": 68
        }
      ]
    },
    {
      "cell_type": "markdown",
      "metadata": {
        "id": "OduQGkhXUkI9",
        "colab_type": "text"
      },
      "source": [
        "LINEAR REGRESSOR USING NN "
      ]
    },
    {
      "cell_type": "code",
      "metadata": {
        "id": "U5seyUsPUhXt",
        "colab_type": "code",
        "colab": {}
      },
      "source": [
        "input = torch.randn((6,6), requires_grad=True).send(bob)\n",
        "target = torch.randn((6,1), requires_grad=True).send(bob)\n"
      ],
      "execution_count": 0,
      "outputs": []
    },
    {
      "cell_type": "code",
      "metadata": {
        "id": "vOUDB-C9aRp0",
        "colab_type": "code",
        "colab": {}
      },
      "source": [
        "weights = torch.randn((6,1), requires_grad=True).send(bob)"
      ],
      "execution_count": 0,
      "outputs": []
    },
    {
      "cell_type": "code",
      "metadata": {
        "id": "n_jwjKFZdMZY",
        "colab_type": "code",
        "outputId": "21811681-8e2c-40c7-f9fe-4308a65bb4a7",
        "colab": {
          "base_uri": "https://localhost:8080/",
          "height": 34
        }
      },
      "source": [
        "print(weights)"
      ],
      "execution_count": 0,
      "outputs": [
        {
          "output_type": "stream",
          "text": [
            "(Wrapper)>[PointerTensor | me:67000473206 -> Bob:43922531690]\n"
          ],
          "name": "stdout"
        }
      ]
    },
    {
      "cell_type": "code",
      "metadata": {
        "id": "7R7c-DkUagmv",
        "colab_type": "code",
        "colab": {}
      },
      "source": [
        "pred = input.mm(weights)"
      ],
      "execution_count": 0,
      "outputs": []
    },
    {
      "cell_type": "code",
      "metadata": {
        "id": "7Y2XBUpDalOa",
        "colab_type": "code",
        "colab": {}
      },
      "source": [
        "loss = ((pred - target)**2).sum()"
      ],
      "execution_count": 0,
      "outputs": []
    },
    {
      "cell_type": "code",
      "metadata": {
        "id": "OaHG8A3gbG94",
        "colab_type": "code",
        "outputId": "fe34977e-ee4e-497d-ab70-eb2d74c56a49",
        "colab": {
          "base_uri": "https://localhost:8080/",
          "height": 34
        }
      },
      "source": [
        "loss.backward()"
      ],
      "execution_count": 0,
      "outputs": [
        {
          "output_type": "execute_result",
          "data": {
            "text/plain": [
              "(Wrapper)>[PointerTensor | me:62340466843 -> Bob:66997499546]"
            ]
          },
          "metadata": {
            "tags": []
          },
          "execution_count": 107
        }
      ]
    },
    {
      "cell_type": "code",
      "metadata": {
        "id": "OgxQ7xZLbIj_",
        "colab_type": "code",
        "colab": {}
      },
      "source": [
        "weights.data.sub_(weights.grad*0.1)  #updating gradient \n",
        "weights.grad = 0.0  ## clear_grad \n"
      ],
      "execution_count": 0,
      "outputs": []
    },
    {
      "cell_type": "code",
      "metadata": {
        "id": "z_m1y9MjcQ7I",
        "colab_type": "code",
        "outputId": "133f19ee-6a7a-4142-e360-06dc3d221913",
        "colab": {
          "base_uri": "https://localhost:8080/",
          "height": 34
        }
      },
      "source": [
        "print(loss.get().data)"
      ],
      "execution_count": 0,
      "outputs": [
        {
          "output_type": "stream",
          "text": [
            "tensor(5.5294)\n"
          ],
          "name": "stdout"
        }
      ]
    },
    {
      "cell_type": "markdown",
      "metadata": {
        "id": "_QUbAnJRd0t_",
        "colab_type": "text"
      },
      "source": [
        "COMMON ERRORS "
      ]
    },
    {
      "cell_type": "code",
      "metadata": {
        "id": "H2ymBBi9djqC",
        "colab_type": "code",
        "colab": {}
      },
      "source": [
        "## The pointer that you create to send the data - if deleted will delete the data it is associatde with on the virtual worker "
      ],
      "execution_count": 0,
      "outputs": []
    },
    {
      "cell_type": "code",
      "metadata": {
        "id": "d6-5YLOoe_e9",
        "colab_type": "code",
        "outputId": "9b6ec458-537c-46b5-c2b9-137925a27d72",
        "colab": {
          "base_uri": "https://localhost:8080/",
          "height": 34
        }
      },
      "source": [
        "bob.clear_objects()"
      ],
      "execution_count": 0,
      "outputs": [
        {
          "output_type": "execute_result",
          "data": {
            "text/plain": [
              "<VirtualWorker id:Bob #objects:0>"
            ]
          },
          "metadata": {
            "tags": []
          },
          "execution_count": 114
        }
      ]
    },
    {
      "cell_type": "code",
      "metadata": {
        "id": "CrV4pyg8fBci",
        "colab_type": "code",
        "outputId": "31047553-f763-47e1-b91d-cf7101f163fa",
        "colab": {
          "base_uri": "https://localhost:8080/",
          "height": 34
        }
      },
      "source": [
        "bob._objects"
      ],
      "execution_count": 0,
      "outputs": [
        {
          "output_type": "execute_result",
          "data": {
            "text/plain": [
              "{}"
            ]
          },
          "metadata": {
            "tags": []
          },
          "execution_count": 115
        }
      ]
    },
    {
      "cell_type": "code",
      "metadata": {
        "id": "nGkKnrj2epA6",
        "colab_type": "code",
        "colab": {}
      },
      "source": [
        "x = torch.tensor([1,2,3,5,6]).send(bob)"
      ],
      "execution_count": 0,
      "outputs": []
    },
    {
      "cell_type": "code",
      "metadata": {
        "id": "o0nUV8SefGnb",
        "colab_type": "code",
        "outputId": "ffabf46d-a3b0-475e-b488-7c3de9c857ed",
        "colab": {
          "base_uri": "https://localhost:8080/",
          "height": 34
        }
      },
      "source": [
        "bob._objects"
      ],
      "execution_count": 0,
      "outputs": [
        {
          "output_type": "execute_result",
          "data": {
            "text/plain": [
              "{92340981102: tensor([1, 2, 3, 5, 6])}"
            ]
          },
          "metadata": {
            "tags": []
          },
          "execution_count": 117
        }
      ]
    },
    {
      "cell_type": "code",
      "metadata": {
        "id": "bhWPFYw0e2RE",
        "colab_type": "code",
        "colab": {}
      },
      "source": [
        "del x "
      ],
      "execution_count": 0,
      "outputs": []
    },
    {
      "cell_type": "code",
      "metadata": {
        "id": "Vb2kB91Je3Bi",
        "colab_type": "code",
        "outputId": "9da73b9f-c02f-483d-ba83-797a7a06e3cd",
        "colab": {
          "base_uri": "https://localhost:8080/",
          "height": 34
        }
      },
      "source": [
        "bob._objects"
      ],
      "execution_count": 0,
      "outputs": [
        {
          "output_type": "execute_result",
          "data": {
            "text/plain": [
              "{}"
            ]
          },
          "metadata": {
            "tags": []
          },
          "execution_count": 119
        }
      ]
    },
    {
      "cell_type": "markdown",
      "metadata": {
        "id": "sO7Gi0q-fsOE",
        "colab_type": "text"
      },
      "source": [
        "FEDERATED LEARNING "
      ]
    },
    {
      "cell_type": "code",
      "metadata": {
        "id": "TxdP7Kmxe7Zv",
        "colab_type": "code",
        "colab": {}
      },
      "source": [
        "data = torch.randn((6,4), requires_grad=True)\n",
        "target = torch.randn((6), requires_grad=True)"
      ],
      "execution_count": 0,
      "outputs": []
    },
    {
      "cell_type": "code",
      "metadata": {
        "id": "Byhdf-RLgHX7",
        "colab_type": "code",
        "colab": {}
      },
      "source": [
        "from torch import nn, optim "
      ],
      "execution_count": 0,
      "outputs": []
    },
    {
      "cell_type": "code",
      "metadata": {
        "id": "7JTtUCNogLlO",
        "colab_type": "code",
        "colab": {}
      },
      "source": [
        "model = nn.Linear(4,1)\n",
        "opt = optim.SGD(model.parameters(), lr = 0.1)"
      ],
      "execution_count": 0,
      "outputs": []
    },
    {
      "cell_type": "code",
      "metadata": {
        "id": "vqe2ePcigXTa",
        "colab_type": "code",
        "outputId": "f75724a7-0cdb-4670-88bb-93eed681e3b5",
        "colab": {
          "base_uri": "https://localhost:8080/",
          "height": 193
        }
      },
      "source": [
        "for i in range(10):\n",
        "  opt.zero_grad()\n",
        "  pred = model(data)\n",
        "  loss =((pred - target)**2).sum()\n",
        "  loss.backward()\n",
        "  opt.step()\n",
        "  print(loss.data)"
      ],
      "execution_count": 0,
      "outputs": [
        {
          "output_type": "stream",
          "text": [
            "tensor(8.6286e+24)\n",
            "tensor(2.5810e+27)\n",
            "tensor(7.7202e+29)\n",
            "tensor(2.3093e+32)\n",
            "tensor(6.9074e+34)\n",
            "tensor(2.0661e+37)\n",
            "tensor(inf)\n",
            "tensor(inf)\n",
            "tensor(inf)\n",
            "tensor(inf)\n"
          ],
          "name": "stdout"
        }
      ]
    },
    {
      "cell_type": "code",
      "metadata": {
        "id": "kiuMD8yKgvdC",
        "colab_type": "code",
        "colab": {}
      },
      "source": [
        "data_bob = data[0:2].send(bob)\n",
        "target_bob = target[0:2].send(bob)\n",
        "data_alice = data[2:].send(alice)\n",
        "target_alice = target[2:].send(alice)"
      ],
      "execution_count": 0,
      "outputs": []
    },
    {
      "cell_type": "code",
      "metadata": {
        "id": "ICl_YD15iMAA",
        "colab_type": "code",
        "colab": {}
      },
      "source": [
        "datasets = [(data_bob,target_bob),(data_alice, target_alice)]"
      ],
      "execution_count": 0,
      "outputs": []
    },
    {
      "cell_type": "code",
      "metadata": {
        "id": "NFVEJTLBhRO7",
        "colab_type": "code",
        "colab": {}
      },
      "source": [
        "model = nn.Linear(4,1)\n",
        "opt = optim.SGD(model.parameters(), lr = 0.01)\n"
      ],
      "execution_count": 0,
      "outputs": []
    },
    {
      "cell_type": "code",
      "metadata": {
        "id": "_5R7WPEXhtxy",
        "colab_type": "code",
        "outputId": "77da2fa6-d8bf-4756-82bf-7757c84b9e51",
        "colab": {
          "base_uri": "https://localhost:8080/",
          "height": 34
        }
      },
      "source": [
        "_data, _target = datasets[0]    ##_data and _target are the private variables predifined in the PySyft class for client data ? \n",
        "model=model.send(_data.location)  ##iterates over all of the tensors that is present at this location - send the model wherever the data is located  \n",
        "opt.zero_grad()\n",
        "pred = model(_data)\n",
        "loss =((pred - _target)**2).sum()\n",
        "loss.backward()\n",
        "opt.step()\n",
        "\n",
        "model = model.get()\n",
        "\n",
        "print(loss.get())"
      ],
      "execution_count": 0,
      "outputs": [
        {
          "output_type": "stream",
          "text": [
            "tensor(2.8369, requires_grad=True)\n"
          ],
          "name": "stdout"
        }
      ]
    },
    {
      "cell_type": "code",
      "metadata": {
        "id": "BQ6TeMohmX9f",
        "colab_type": "code",
        "outputId": "39d754b4-df2d-486f-b986-020db5133bea",
        "colab": {
          "base_uri": "https://localhost:8080/",
          "height": 368
        }
      },
      "source": [
        "## for multiple iterations \n",
        "for epoch in range(10):\n",
        "  running_loss = 0\n",
        "  for _data, _target in datasets:\n",
        "\n",
        "    ##send model \n",
        "    model = model.send(_data.location)\n",
        "\n",
        "    ##train our model \n",
        "    opt.zero_grad()\n",
        "    pred = model(_data)\n",
        "    loss =((pred - _target)**2).sum()\n",
        "    loss.backward()\n",
        "    opt.step()\n",
        "\n",
        "    #get model back \n",
        "    model = model.get()\n",
        "    print('Training loss for epoch ' + str(epoch) + str(loss.get()) + str(_data.location))"
      ],
      "execution_count": 0,
      "outputs": [
        {
          "output_type": "stream",
          "text": [
            "Training loss for epoch 0tensor(1.0446, requires_grad=True)<VirtualWorker id:Bob #objects:12>\n",
            "Training loss for epoch 0tensor(7.8593, requires_grad=True)<VirtualWorker id:alice #objects:10>\n",
            "Training loss for epoch 1tensor(1.0348, requires_grad=True)<VirtualWorker id:Bob #objects:12>\n",
            "Training loss for epoch 1tensor(7.8543, requires_grad=True)<VirtualWorker id:alice #objects:10>\n",
            "Training loss for epoch 2tensor(1.0253, requires_grad=True)<VirtualWorker id:Bob #objects:12>\n",
            "Training loss for epoch 2tensor(7.8495, requires_grad=True)<VirtualWorker id:alice #objects:10>\n",
            "Training loss for epoch 3tensor(1.0160, requires_grad=True)<VirtualWorker id:Bob #objects:12>\n",
            "Training loss for epoch 3tensor(7.8449, requires_grad=True)<VirtualWorker id:alice #objects:10>\n",
            "Training loss for epoch 4tensor(1.0069, requires_grad=True)<VirtualWorker id:Bob #objects:12>\n",
            "Training loss for epoch 4tensor(7.8405, requires_grad=True)<VirtualWorker id:alice #objects:10>\n",
            "Training loss for epoch 5tensor(0.9981, requires_grad=True)<VirtualWorker id:Bob #objects:12>\n",
            "Training loss for epoch 5tensor(7.8364, requires_grad=True)<VirtualWorker id:alice #objects:10>\n",
            "Training loss for epoch 6tensor(0.9895, requires_grad=True)<VirtualWorker id:Bob #objects:12>\n",
            "Training loss for epoch 6tensor(7.8325, requires_grad=True)<VirtualWorker id:alice #objects:10>\n",
            "Training loss for epoch 7tensor(0.9811, requires_grad=True)<VirtualWorker id:Bob #objects:12>\n",
            "Training loss for epoch 7tensor(7.8288, requires_grad=True)<VirtualWorker id:alice #objects:10>\n",
            "Training loss for epoch 8tensor(0.9729, requires_grad=True)<VirtualWorker id:Bob #objects:12>\n",
            "Training loss for epoch 8tensor(7.8252, requires_grad=True)<VirtualWorker id:alice #objects:10>\n",
            "Training loss for epoch 9tensor(0.9649, requires_grad=True)<VirtualWorker id:Bob #objects:12>\n",
            "Training loss for epoch 9tensor(7.8219, requires_grad=True)<VirtualWorker id:alice #objects:10>\n"
          ],
          "name": "stdout"
        }
      ]
    },
    {
      "cell_type": "code",
      "metadata": {
        "id": "Na26okhsjPyn",
        "colab_type": "code",
        "outputId": "78ed0cbd-fc8f-46c8-8473-96c34740675e",
        "colab": {
          "base_uri": "https://localhost:8080/",
          "height": 87
        }
      },
      "source": [
        "list(model.parameters())"
      ],
      "execution_count": 0,
      "outputs": [
        {
          "output_type": "execute_result",
          "data": {
            "text/plain": [
              "[Parameter containing:\n",
              " (Wrapper)>[PointerTensor | me:48617623923 -> Bob:81522633900],\n",
              " Parameter containing:\n",
              " (Wrapper)>[PointerTensor | me:34734159621 -> Bob:24889919927]]"
            ]
          },
          "metadata": {
            "tags": []
          },
          "execution_count": 151
        }
      ]
    },
    {
      "cell_type": "markdown",
      "metadata": {
        "id": "mpniz0BdpneV",
        "colab_type": "text"
      },
      "source": [
        "ADVANCED FL "
      ]
    },
    {
      "cell_type": "code",
      "metadata": {
        "id": "HrOJFsbrjyVe",
        "colab_type": "code",
        "colab": {}
      },
      "source": [
        ""
      ],
      "execution_count": 0,
      "outputs": []
    }
  ]
}
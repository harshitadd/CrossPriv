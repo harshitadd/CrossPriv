{
  "nbformat": 4,
  "nbformat_minor": 0,
  "metadata": {
    "colab": {
      "name": "PreVID_Pytorch.ipynb",
      "provenance": [],
      "collapsed_sections": [],
      "include_colab_link": true
    },
    "kernelspec": {
      "name": "python3",
      "display_name": "Python 3"
    },
    "accelerator": "GPU"
  },
  "cells": [
    {
      "cell_type": "markdown",
      "metadata": {
        "id": "view-in-github",
        "colab_type": "text"
      },
      "source": [
        "<a href=\"https://colab.research.google.com/github/harshitadd/CrossSiloFLDemo/blob/master/PreVID_Pytorch.ipynb\" target=\"_parent\"><img src=\"https://colab.research.google.com/assets/colab-badge.svg\" alt=\"Open In Colab\"/></a>"
      ]
    },
    {
      "cell_type": "code",
      "metadata": {
        "id": "Aoq3s2Yzd15t",
        "colab_type": "code",
        "colab": {}
      },
      "source": [
        "!pip install syft"
      ],
      "execution_count": 0,
      "outputs": []
    },
    {
      "cell_type": "code",
      "metadata": {
        "id": "A6bD7JbBq0D6",
        "colab_type": "code",
        "outputId": "056d63d7-67ef-43ce-e309-16cd1134797e",
        "colab": {
          "base_uri": "https://localhost:8080/",
          "height": 128
        }
      },
      "source": [
        "##Importing Mini Batch Data \n",
        "import os \n",
        "from google.colab import drive\n",
        "drive.mount('/content/drive')"
      ],
      "execution_count": 1,
      "outputs": [
        {
          "output_type": "stream",
          "text": [
            "Go to this URL in a browser: https://accounts.google.com/o/oauth2/auth?client_id=947318989803-6bn6qk8qdgf4n4g3pfee6491hc0brc4i.apps.googleusercontent.com&redirect_uri=urn%3aietf%3awg%3aoauth%3a2.0%3aoob&response_type=code&scope=email%20https%3a%2f%2fwww.googleapis.com%2fauth%2fdocs.test%20https%3a%2f%2fwww.googleapis.com%2fauth%2fdrive%20https%3a%2f%2fwww.googleapis.com%2fauth%2fdrive.photos.readonly%20https%3a%2f%2fwww.googleapis.com%2fauth%2fpeopleapi.readonly\n",
            "\n",
            "Enter your authorization code:\n",
            "··········\n",
            "Mounted at /content/drive\n"
          ],
          "name": "stdout"
        }
      ]
    },
    {
      "cell_type": "code",
      "metadata": {
        "id": "PGCc2bqpi5mc",
        "colab_type": "code",
        "outputId": "f6a89dd6-fe42-49c1-c7a5-1a219f9fdf3b",
        "colab": {
          "base_uri": "https://localhost:8080/",
          "height": 128
        }
      },
      "source": [
        "!pip install pydicom \n",
        "import pydicom \n",
        "import cv2\n",
        "import matplotlib.pyplot as plt "
      ],
      "execution_count": 2,
      "outputs": [
        {
          "output_type": "stream",
          "text": [
            "Collecting pydicom\n",
            "\u001b[?25l  Downloading https://files.pythonhosted.org/packages/53/e6/4cae2b4b2fdbea5e2ddd188361139606d8f10f710ba1abecd6600da099c3/pydicom-1.4.2-py2.py3-none-any.whl (35.3MB)\n",
            "\u001b[K     |████████████████████████████████| 35.3MB 92kB/s \n",
            "\u001b[?25hInstalling collected packages: pydicom\n",
            "Successfully installed pydicom-1.4.2\n"
          ],
          "name": "stdout"
        }
      ]
    },
    {
      "cell_type": "code",
      "metadata": {
        "id": "Nwuyc_DerKUv",
        "colab_type": "code",
        "colab": {}
      },
      "source": [
        "dcm_path=os.listdir('/content/drive/My Drive/Fed_Covid/minibatch/')\n",
        "dcm_data={}\n",
        "\n",
        "alpha = 1.5 # Contrast control (1.0-3.0)\n",
        "beta = 0 # Brightness control (0-100)\n",
        "\n",
        "ctr=0\n",
        "for file in dcm_path:\n",
        "  name = '/content/drive/My Drive/Fed_Covid/minibatch/' + file\n",
        "  temp = pydicom.dcmread(name)\n",
        "  image = temp.pixel_array\n",
        "  image = cv2.cvtColor(image, cv2.COLOR_BGR2RGB)\n",
        "  adjusted = cv2.resize(image,(64,64))\n",
        "  dcm_data[file]=adjusted\n",
        "  ctr+=1\n",
        "  print(ctr)"
      ],
      "execution_count": 0,
      "outputs": []
    },
    {
      "cell_type": "code",
      "metadata": {
        "id": "BuoufluUrqEK",
        "colab_type": "code",
        "colab": {}
      },
      "source": [
        "import csv \n",
        "labels=[]\n",
        "with open('/content/drive/My Drive/Fed_Covid/stage_2_train_labels.csv','r') as file:\n",
        "  reader = csv.reader(file)\n",
        "  for row in reader:\n",
        "    labels.append(row)"
      ],
      "execution_count": 0,
      "outputs": []
    },
    {
      "cell_type": "code",
      "metadata": {
        "id": "TsrBQdKQtBON",
        "colab_type": "code",
        "colab": {}
      },
      "source": [
        "from sklearn.preprocessing import MinMaxScaler \n",
        "import numpy as np\n",
        "scaler = MinMaxScaler()\n",
        "pid=[]\n",
        "dicom=[]\n",
        "label=[]\n",
        "cid = 0\n",
        "for PID in labels:\n",
        "  for key in dcm_data:\n",
        "    if(key[:-4]==PID[0]):\n",
        "      l=[]\n",
        "      for val in dcm_data[key]:\n",
        "        l.append(scaler.fit_transform(val))\n",
        "      l = np.reshape(l,(3,64,64))\n",
        "      dicom.append(l)\n",
        "      label.append(int(PID[5]))\n",
        "      "
      ],
      "execution_count": 0,
      "outputs": []
    },
    {
      "cell_type": "code",
      "metadata": {
        "id": "rAao-ysuA935",
        "colab_type": "code",
        "outputId": "bbf41658-ea7f-4104-da3e-8b0a9416b243",
        "colab": {
          "base_uri": "https://localhost:8080/",
          "height": 35
        }
      },
      "source": [
        "import numpy as np\n",
        "print(np.shape(dicom[0]))"
      ],
      "execution_count": 10,
      "outputs": [
        {
          "output_type": "stream",
          "text": [
            "(3, 64, 64)\n"
          ],
          "name": "stdout"
        }
      ]
    },
    {
      "cell_type": "code",
      "metadata": {
        "id": "4VS2_fMt55jL",
        "colab_type": "code",
        "colab": {}
      },
      "source": [
        "import torch\n",
        "import torch.nn as nn\n",
        "import torch.nn.functional as F\n",
        "import torch.optim as optim\n",
        "from torchvision import datasets, transforms"
      ],
      "execution_count": 0,
      "outputs": []
    },
    {
      "cell_type": "code",
      "metadata": {
        "id": "v_RmWwNe3i1k",
        "colab_type": "code",
        "colab": {}
      },
      "source": [
        "from torch.utils.data import DataLoader, Dataset"
      ],
      "execution_count": 0,
      "outputs": []
    },
    {
      "cell_type": "markdown",
      "metadata": {
        "id": "nQ1qdaL-B1_C",
        "colab_type": "text"
      },
      "source": [
        ""
      ]
    },
    {
      "cell_type": "code",
      "metadata": {
        "id": "td7w-9SHFgaK",
        "colab_type": "code",
        "colab": {}
      },
      "source": [
        "from sklearn.model_selection import train_test_split\n",
        "x_train, x_test, y_train, y_test = train_test_split(dicom,label,test_size=0.3)"
      ],
      "execution_count": 0,
      "outputs": []
    },
    {
      "cell_type": "code",
      "metadata": {
        "id": "o3NqRdoZAQJl",
        "colab_type": "code",
        "colab": {}
      },
      "source": [
        "import pandas as pd \n",
        "train_df = pd.DataFrame()\n",
        "train_df['features']=x_train\n",
        "train_df['labels']=y_train"
      ],
      "execution_count": 0,
      "outputs": []
    },
    {
      "cell_type": "code",
      "metadata": {
        "id": "qUNToibvesgo",
        "colab_type": "code",
        "outputId": "9b843224-4d8b-4edf-c2d6-6bf92db86b81",
        "colab": {
          "base_uri": "https://localhost:8080/",
          "height": 407
        }
      },
      "source": [
        "train_df"
      ],
      "execution_count": 15,
      "outputs": [
        {
          "output_type": "execute_result",
          "data": {
            "text/html": [
              "<div>\n",
              "<style scoped>\n",
              "    .dataframe tbody tr th:only-of-type {\n",
              "        vertical-align: middle;\n",
              "    }\n",
              "\n",
              "    .dataframe tbody tr th {\n",
              "        vertical-align: top;\n",
              "    }\n",
              "\n",
              "    .dataframe thead th {\n",
              "        text-align: right;\n",
              "    }\n",
              "</style>\n",
              "<table border=\"1\" class=\"dataframe\">\n",
              "  <thead>\n",
              "    <tr style=\"text-align: right;\">\n",
              "      <th></th>\n",
              "      <th>features</th>\n",
              "      <th>labels</th>\n",
              "    </tr>\n",
              "  </thead>\n",
              "  <tbody>\n",
              "    <tr>\n",
              "      <th>0</th>\n",
              "      <td>[[[0.1098901098901099, 0.1098901098901099, 0.1...</td>\n",
              "      <td>0</td>\n",
              "    </tr>\n",
              "    <tr>\n",
              "      <th>1</th>\n",
              "      <td>[[[0.08536585365853658, 0.08536585365853658, 0...</td>\n",
              "      <td>0</td>\n",
              "    </tr>\n",
              "    <tr>\n",
              "      <th>2</th>\n",
              "      <td>[[[0.053892215568862284, 0.053892215568862284,...</td>\n",
              "      <td>0</td>\n",
              "    </tr>\n",
              "    <tr>\n",
              "      <th>3</th>\n",
              "      <td>[[[0.0, 0.0, 0.0, 0.10638297872340426, 0.10638...</td>\n",
              "      <td>0</td>\n",
              "    </tr>\n",
              "    <tr>\n",
              "      <th>4</th>\n",
              "      <td>[[[0.11464968152866242, 0.11464968152866242, 0...</td>\n",
              "      <td>0</td>\n",
              "    </tr>\n",
              "    <tr>\n",
              "      <th>...</th>\n",
              "      <td>...</td>\n",
              "      <td>...</td>\n",
              "    </tr>\n",
              "    <tr>\n",
              "      <th>295</th>\n",
              "      <td>[[[0.6091370558375635, 0.6091370558375635, 0.6...</td>\n",
              "      <td>0</td>\n",
              "    </tr>\n",
              "    <tr>\n",
              "      <th>296</th>\n",
              "      <td>[[[0.0, 0.0, 0.0, 0.0, 0.0, 0.0, 0.0, 0.0, 0.0...</td>\n",
              "      <td>0</td>\n",
              "    </tr>\n",
              "    <tr>\n",
              "      <th>297</th>\n",
              "      <td>[[[0.012345679012345678, 0.012345679012345678,...</td>\n",
              "      <td>0</td>\n",
              "    </tr>\n",
              "    <tr>\n",
              "      <th>298</th>\n",
              "      <td>[[[1.0, 1.0, 1.0, 0.15254237288135594, 0.15254...</td>\n",
              "      <td>0</td>\n",
              "    </tr>\n",
              "    <tr>\n",
              "      <th>299</th>\n",
              "      <td>[[[0.025157232704402524, 0.025157232704402524,...</td>\n",
              "      <td>1</td>\n",
              "    </tr>\n",
              "  </tbody>\n",
              "</table>\n",
              "<p>300 rows × 2 columns</p>\n",
              "</div>"
            ],
            "text/plain": [
              "                                              features  labels\n",
              "0    [[[0.1098901098901099, 0.1098901098901099, 0.1...       0\n",
              "1    [[[0.08536585365853658, 0.08536585365853658, 0...       0\n",
              "2    [[[0.053892215568862284, 0.053892215568862284,...       0\n",
              "3    [[[0.0, 0.0, 0.0, 0.10638297872340426, 0.10638...       0\n",
              "4    [[[0.11464968152866242, 0.11464968152866242, 0...       0\n",
              "..                                                 ...     ...\n",
              "295  [[[0.6091370558375635, 0.6091370558375635, 0.6...       0\n",
              "296  [[[0.0, 0.0, 0.0, 0.0, 0.0, 0.0, 0.0, 0.0, 0.0...       0\n",
              "297  [[[0.012345679012345678, 0.012345679012345678,...       0\n",
              "298  [[[1.0, 1.0, 1.0, 0.15254237288135594, 0.15254...       0\n",
              "299  [[[0.025157232704402524, 0.025157232704402524,...       1\n",
              "\n",
              "[300 rows x 2 columns]"
            ]
          },
          "metadata": {
            "tags": []
          },
          "execution_count": 15
        }
      ]
    },
    {
      "cell_type": "code",
      "metadata": {
        "id": "s9z6ilRdGAeS",
        "colab_type": "code",
        "colab": {}
      },
      "source": [
        "test_df = pd.DataFrame()\n",
        "test_df['features']=x_test\n",
        "test_df['labels']=y_test"
      ],
      "execution_count": 0,
      "outputs": []
    },
    {
      "cell_type": "code",
      "metadata": {
        "id": "x8KCNM1rpsJb",
        "colab_type": "code",
        "colab": {}
      },
      "source": [
        "class data_maker(Dataset):\n",
        "  def __init__(self, data):\n",
        "        self.data = data\n",
        "        \n",
        "  def __len__(self):\n",
        "      return len(self.data)\n",
        "  \n",
        "  def __getitem__(self, index):\n",
        "      target = np.array(self.data['labels'][index])\n",
        "      data_val = np.array(self.data['features'][index])\n",
        "\n",
        "      return data_val,target\n",
        "      \n",
        "        "
      ],
      "execution_count": 0,
      "outputs": []
    },
    {
      "cell_type": "code",
      "metadata": {
        "id": "jEKcnwRC_jdg",
        "colab_type": "code",
        "colab": {}
      },
      "source": [
        "train_data = data_maker(train_df)\n",
        "test_data = data_maker(test_df)"
      ],
      "execution_count": 0,
      "outputs": []
    },
    {
      "cell_type": "code",
      "metadata": {
        "id": "q5ywRk9iph9Y",
        "colab_type": "code",
        "colab": {}
      },
      "source": [
        "def get_train_data(batch_size):\n",
        "      train_loader = torch.utils.data.DataLoader(train_data, batch_size=batch_size, shuffle=False)\n",
        "      return train_loader"
      ],
      "execution_count": 0,
      "outputs": []
    },
    {
      "cell_type": "code",
      "metadata": {
        "id": "61pmSHloG1Lw",
        "colab_type": "code",
        "colab": {}
      },
      "source": [
        "test_loader = torch.utils.data.DataLoader(test_data, batch_size=4)\n"
      ],
      "execution_count": 0,
      "outputs": []
    },
    {
      "cell_type": "code",
      "metadata": {
        "id": "VnZroxhT92mG",
        "colab_type": "code",
        "outputId": "baef85e9-a770-4224-9b65-28d62f6e4237",
        "colab": {
          "base_uri": "https://localhost:8080/",
          "height": 35
        }
      },
      "source": [
        "train_loader= get_train_data(batch_size=8)\n",
        "n_batches = len(train_loader)\n",
        "for i, data in enumerate(train_loader, 0):\n",
        "       inputs, labels = data\n",
        "       print(np.shape(inputs))\n",
        "       break   "
      ],
      "execution_count": 21,
      "outputs": [
        {
          "output_type": "stream",
          "text": [
            "torch.Size([8, 3, 64, 64])\n"
          ],
          "name": "stdout"
        }
      ]
    },
    {
      "cell_type": "code",
      "metadata": {
        "id": "ZZVk19riCoDj",
        "colab_type": "code",
        "colab": {}
      },
      "source": [
        "class Net(nn.Module):\n",
        "    def __init__(self):\n",
        "        super().__init__()\n",
        "\n",
        "        # Input - (32,1024,1024)\n",
        "  \n",
        "        self.conv1 = nn.Conv2d(3,32, kernel_size=8, stride = 2)  #I/P - 1*32\n",
        "        self.pool1 = nn.MaxPool2d(kernel_size=4,stride=2,padding=0)  \n",
        "        self.conv2 = nn.Conv2d(32, 64, 8)\n",
        "        self.pool2 = nn.MaxPool2d(4,2,padding=0)\n",
        "        self.fc1 = nn.Linear(256, 64*64)\n",
        "        self.fc2 = nn.Linear(64*64, 64)\n",
        "        self.fc3 = nn.Linear(64, 8)\n",
        "\n",
        "    def forward(self, x):\n",
        "        \n",
        "        x = F.relu(self.conv1(x))\n",
        "        # Input of 1*1024*1024 going to 32*1024*1024  - 1*64*64 going to 32*64*64\n",
        "        x = self.pool1(x)\n",
        "        # Input of 32*1024*1024 going to 32*256*256 - 32*64*64 going to 32*16*16\n",
        "        x = F.relu(self.conv2(x))\n",
        "        # Input of 32*256*256 to 64*256*256 - 32*16*16 to 64*16*16\n",
        "        x = self.pool2(x)\n",
        "        # Input of 64*256*256 to 64*64*64 - 64*16*16 going to 64*4*4\n",
        "\n",
        "        x = x.view(-1,64*4)\n",
        "     \n",
        "        x = F.relu(self.fc1(x))\n",
        "        x = F.relu(self.fc2(x))\n",
        "        x = self.fc3(x)\n",
        "        return F.log_softmax(x, dim=1)"
      ],
      "execution_count": 0,
      "outputs": []
    },
    {
      "cell_type": "code",
      "metadata": {
        "id": "XAXTrUmoC7Jy",
        "colab_type": "code",
        "colab": {}
      },
      "source": [
        "def createLossAndOptimizer(net, learning_rate=0.001):\n",
        "    \n",
        "    #Loss function\n",
        "    loss = torch.nn.CrossEntropyLoss()\n",
        "    \n",
        "    #Optimizer\n",
        "    optimizer = optim.Adam(net.parameters(), lr=learning_rate)\n",
        "    \n",
        "    return(loss, optimizer)"
      ],
      "execution_count": 0,
      "outputs": []
    },
    {
      "cell_type": "code",
      "metadata": {
        "id": "Uwmnvfa4CoAe",
        "colab_type": "code",
        "colab": {}
      },
      "source": [
        "import time\n",
        "from torch.autograd import Variable\n",
        "def trainNet(net, batch_size, n_epochs, learning_rate):\n",
        "    \n",
        "    \n",
        "    #Get training data\n",
        "    train_loader = get_train_data(batch_size=8)\n",
        "    n_batches = len(train_loader)\n",
        "    \n",
        "    #Create our loss and optimizer functions\n",
        "    loss, optimizer = createLossAndOptimizer(net, learning_rate)\n",
        "    \n",
        "    #Time for printing\n",
        "    training_start_time = time.time()\n",
        "    \n",
        "    #Loop for n_epochs\n",
        "    for epoch in range(n_epochs):\n",
        "        \n",
        "        running_loss = 0.0\n",
        "        print_every = n_batches // 10\n",
        "        start_time = time.time()\n",
        "        total_train_loss = 0\n",
        "        \n",
        "        for i, data in enumerate(train_loader, 0):\n",
        "            \n",
        "            #Get inputs\n",
        "            inputs, labels = data\n",
        "          \n",
        "            #Wrap them in a Variable object\n",
        "            inputs, labels = Variable(inputs), Variable(labels)\n",
        "            \n",
        "\n",
        "            #Set the parameter gradients to zero\n",
        "            optimizer.zero_grad()\n",
        "            \n",
        "            \n",
        "\n",
        "            #Forward pass, backward pass, optimize\n",
        "            outputs = net(inputs)\n",
        "            loss_size = loss(outputs, labels)\n",
        "            loss_size.backward()\n",
        "            optimizer.step()\n",
        "            \n",
        "            #Print statistics\n",
        "            running_loss += loss_size.data\n",
        "            total_train_loss += loss_size.data\n",
        "            \n",
        "            #Print every 10th batch of an epoch\n",
        "            if (i + 1) % (print_every + 1) == 0:\n",
        "                print(\"Epoch {}, {:d}% \\t train_loss: {:.2f} took: {:.2f}s\".format(\n",
        "                        epoch+1, int(100 * (i+1) / n_batches), running_loss / print_every, time.time() - start_time))\n",
        "                #Reset running loss and time\n",
        "                running_loss = 0.0\n",
        "                start_time = time.time()\n",
        "            \n",
        "        #At the end of the epoch, do a pass on the validation set\n",
        "        total_val_loss = 0\n",
        "        \n",
        "    print(\"Training finished, took {:.2f}s\".format(time.time() - training_start_time))"
      ],
      "execution_count": 0,
      "outputs": []
    },
    {
      "cell_type": "code",
      "metadata": {
        "id": "nqld5wnmCn9z",
        "colab_type": "code",
        "outputId": "e1f1a7c8-963e-4637-9b18-4021094fc96d",
        "colab": {
          "base_uri": "https://localhost:8080/",
          "height": 363
        }
      },
      "source": [
        "CNN = Net()\n",
        "trainNet(CNN.double(), batch_size=8, n_epochs=2\n",
        "         , learning_rate=0.001)"
      ],
      "execution_count": 21,
      "outputs": [
        {
          "output_type": "stream",
          "text": [
            "Epoch 1, 10% \t train_loss: 1.95 took: 0.51s\n",
            "Epoch 1, 21% \t train_loss: 1.39 took: 0.19s\n",
            "Epoch 1, 31% \t train_loss: 0.64 took: 0.19s\n",
            "Epoch 1, 42% \t train_loss: 1.13 took: 0.19s\n",
            "Epoch 1, 52% \t train_loss: 0.77 took: 0.19s\n",
            "Epoch 1, 63% \t train_loss: 0.79 took: 0.20s\n",
            "Epoch 1, 73% \t train_loss: 0.62 took: 0.19s\n",
            "Epoch 1, 84% \t train_loss: 0.57 took: 0.19s\n",
            "Epoch 1, 94% \t train_loss: 0.67 took: 0.19s\n",
            "Epoch 2, 10% \t train_loss: 0.64 took: 0.20s\n",
            "Epoch 2, 21% \t train_loss: 0.82 took: 0.20s\n",
            "Epoch 2, 31% \t train_loss: 0.49 took: 0.19s\n",
            "Epoch 2, 42% \t train_loss: 0.97 took: 0.19s\n",
            "Epoch 2, 52% \t train_loss: 0.74 took: 0.19s\n",
            "Epoch 2, 63% \t train_loss: 0.74 took: 0.21s\n",
            "Epoch 2, 73% \t train_loss: 0.55 took: 0.20s\n",
            "Epoch 2, 84% \t train_loss: 0.54 took: 0.20s\n",
            "Epoch 2, 94% \t train_loss: 0.67 took: 0.19s\n",
            "Training finished, took 4.02s\n"
          ],
          "name": "stdout"
        }
      ]
    },
    {
      "cell_type": "code",
      "metadata": {
        "id": "w-GPl3hRH_I5",
        "colab_type": "code",
        "colab": {
          "base_uri": "https://localhost:8080/",
          "height": 35
        },
        "outputId": "9318d11f-8415-4a52-f8d6-98b8f9d761d7"
      },
      "source": [
        "correct = 0\n",
        "total = 0\n",
        "with torch.no_grad():\n",
        "    for data in test_loader:\n",
        "        images, labels = data\n",
        "        outputs = CNN(images)\n",
        "        _, predicted = torch.max(outputs.data, 1)\n",
        "        total += labels.size(0)\n",
        "        correct += (predicted == labels).sum().item()\n",
        "    \n",
        "print('Accuracy of the network on test images: %d %%' % (100 * correct / total))"
      ],
      "execution_count": 25,
      "outputs": [
        {
          "output_type": "stream",
          "text": [
            "Accuracy of the network on test images: 81 %\n"
          ],
          "name": "stdout"
        }
      ]
    },
    {
      "cell_type": "markdown",
      "metadata": {
        "id": "23BK7JnCyL42",
        "colab_type": "text"
      },
      "source": [
        "https://pytorch.org/tutorials/beginner/blitz/cifar10_tutorial.html - Test Loader"
      ]
    },
    {
      "cell_type": "markdown",
      "metadata": {
        "id": "dp0Y6Q1o53O0",
        "colab_type": "text"
      },
      "source": [
        "PYTORCH IMPLEMENTATION\n"
      ]
    },
    {
      "cell_type": "code",
      "metadata": {
        "id": "kwsjmf7u58ix",
        "colab_type": "code",
        "colab": {}
      },
      "source": [
        "import syft as sy \n",
        "hook = sy.TorchHook(torch)"
      ],
      "execution_count": 0,
      "outputs": []
    },
    {
      "cell_type": "code",
      "metadata": {
        "id": "VxhCrtwXtiO9",
        "colab_type": "code",
        "colab": {}
      },
      "source": [
        "hospital = sy.VirtualWorker(hook, id=\"hospital\")  \n",
        "clinic = sy.VirtualWorker(hook, id=\"clinic\")  "
      ],
      "execution_count": 0,
      "outputs": []
    },
    {
      "cell_type": "code",
      "metadata": {
        "id": "vGOcS6sygqTK",
        "colab_type": "code",
        "colab": {
          "base_uri": "https://localhost:8080/",
          "height": 435
        },
        "outputId": "6a5951f8-cb36-48bc-eeb8-3a8663e98505"
      },
      "source": [
        "print(x_train[0])"
      ],
      "execution_count": 31,
      "outputs": [
        {
          "output_type": "stream",
          "text": [
            "[[[0.10989011 0.10989011 0.10989011 ... 0.34065934 0.34065934 0.37362637]\n",
            "  [0.37362637 0.37362637 0.40659341 ... 0.42307692 0.37912088 0.37912088]\n",
            "  [0.37912088 0.31868132 0.31868132 ... 0.02197802 0.02197802 0.02197802]\n",
            "  ...\n",
            "  [0.13194444 0.13194444 0.19444444 ... 0.09722222 0.02777778 0.02777778]\n",
            "  [0.02777778 0.         0.         ... 0.91666667 0.91666667 0.91666667]\n",
            "  [0.96376812 0.96376812 0.96376812 ... 0.15217391 0.15217391 0.1884058 ]]\n",
            "\n",
            " [[0.1884058  0.1884058  0.37681159 ... 0.02898551 0.08695652 0.08695652]\n",
            "  [0.08695652 0.         0.         ... 0.89130435 0.89130435 0.89130435]\n",
            "  [0.95419847 0.95419847 0.95419847 ... 0.23664122 0.23664122 0.18320611]\n",
            "  ...\n",
            "  [0.76422764 0.71544715 0.71544715 ... 0.71544715 0.71544715 0.71544715]\n",
            "  [0.776      0.776      0.776      ... 0.304      0.304      0.264     ]\n",
            "  [0.264      0.264      0.256      ... 0.76       0.768      0.768     ]]\n",
            "\n",
            " [[0.768      0.696      0.696      ... 0.656      0.656      0.656     ]\n",
            "  [0.74590164 0.74590164 0.74590164 ... 0.12295082 0.12295082 0.09016393]\n",
            "  [0.09016393 0.09016393 0.32786885 ... 0.73770492 0.74590164 0.74590164]\n",
            "  ...\n",
            "  [0.56118143 0.56118143 0.56118143 ... 0.98312236 0.98312236 0.98734177]\n",
            "  [0.98734177 0.98734177 0.98734177 ... 0.98312236 0.97890295 0.97890295]\n",
            "  [0.97890295 0.97468354 0.97468354 ... 0.01265823 0.01265823 0.01265823]]]\n"
          ],
          "name": "stdout"
        }
      ]
    },
    {
      "cell_type": "code",
      "metadata": {
        "id": "7k0WYNgsgi0c",
        "colab_type": "code",
        "colab": {}
      },
      "source": [
        "x_train = np.array(x_train)\n",
        "y_train = np.array(y_train)"
      ],
      "execution_count": 0,
      "outputs": []
    },
    {
      "cell_type": "code",
      "metadata": {
        "id": "bn9bwBKZgGin",
        "colab_type": "code",
        "colab": {}
      },
      "source": [
        "x_train = torch.from_numpy(x_train)\n",
        "y_train = torch.from_numpy(y_train)"
      ],
      "execution_count": 0,
      "outputs": []
    },
    {
      "cell_type": "code",
      "metadata": {
        "id": "gaOUVNVFfCjG",
        "colab_type": "code",
        "colab": {}
      },
      "source": [
        "#define the send_data function \n",
        "data_hospital = x_train[0:80].send(hospital)\n",
        "data_target_hospital = y_train[0:80].send(hospital)\n",
        "data_clinic = x_train[80:].send(clinic)\n",
        "data_target_clinic = y_train[80:].send(clinic)"
      ],
      "execution_count": 0,
      "outputs": []
    },
    {
      "cell_type": "code",
      "metadata": {
        "id": "F4j-TU2qvcV5",
        "colab_type": "code",
        "colab": {}
      },
      "source": [
        "datasets=[(data_hospital,data_target_hospital),(data_clinic,data_target_clinic)]"
      ],
      "execution_count": 0,
      "outputs": []
    },
    {
      "cell_type": "code",
      "metadata": {
        "id": "tEImL3BGlODX",
        "colab_type": "code",
        "colab": {}
      },
      "source": [
        "opt = optim.SGD(params=model.parameters(),lr=0.1)"
      ],
      "execution_count": 0,
      "outputs": []
    },
    {
      "cell_type": "code",
      "metadata": {
        "id": "YUENmoAThxfu",
        "colab_type": "code",
        "colab": {}
      },
      "source": [
        "# def createLossAndOptimizer(net, learning_rate=0.001):\n",
        "    \n",
        "    #Loss function\n",
        "    \n",
        "    \n",
        "#     #Optimizer\n",
        "#     optimizer = optim.Adam(net.parameters(), lr=learning_rate)\n",
        "    \n",
        "#     return(loss, optimizer)"
      ],
      "execution_count": 0,
      "outputs": []
    },
    {
      "cell_type": "markdown",
      "metadata": {
        "id": "jg1G2Jtfl6jm",
        "colab_type": "text"
      },
      "source": [
        "##Stateful issue fix - https://github.com/OpenMined/PySyft/pull/3179/files"
      ]
    },
    {
      "cell_type": "code",
      "metadata": {
        "id": "3L1CS0tXl5DD",
        "colab_type": "code",
        "colab": {}
      },
      "source": [
        "import copy\n",
        "\n",
        "\n",
        "class Optims:\n",
        "    \"\"\"to create a list of optimizer objects\"\"\"\n",
        "\n",
        "    def __init__(self, workers, optim):\n",
        "        \"\"\"\n",
        "        args:\n",
        "            workers: list of worker ids\n",
        "            optim: class of pytorch optimizer\n",
        "        \"\"\"\n",
        "        self.optim = optim\n",
        "        self.workers = workers\n",
        "        self.optimizers = {}\n",
        "        for worker in workers:\n",
        "            self.optimizers[str(worker)] = copy.copy(self.optim)\n",
        "            self.optimizers[str(worker)].load_state_dict((self.optim).state_dict())\n",
        "\n",
        "    def get_optim(self, worker):\n",
        "        \"\"\"returns optimizer for worker\n",
        "        args: \n",
        "            worker: worker id\n",
        "        \"\"\"\n",
        "        return self.optimizers[str(worker)]\n",
        "\n",
        "    def count(self):\n",
        "        \"\"\"returns the number of optimizer objects\"\"\"\n",
        "        return len(self.workers)\n"
      ],
      "execution_count": 0,
      "outputs": []
    },
    {
      "cell_type": "code",
      "metadata": {
        "id": "iVmMRv4zJSAP",
        "colab_type": "code",
        "colab": {}
      },
      "source": [
        "import time\n",
        "from torch.autograd import Variable\n",
        "from syft.federated.floptimizer import Optims\n",
        "workers = ['hospital', 'clinic']\n",
        "\n",
        "def federated_train_net(model):\n",
        "\n",
        "  # loss, optimizer = createLossAndOptimizer(model)\n",
        "  training_start_time = time.time()\n",
        "    \n",
        "\n",
        "  for epoch in range(10):\n",
        "    running_loss = 0.0\n",
        "    print_every = n_batches // 10\n",
        "    start_time = time.time()\n",
        "    total_train_loss = 0\n",
        "    loss = torch.nn.CrossEntropyLoss()\n",
        "    for _data, _target in datasets:\n",
        "\n",
        "      ##send model \n",
        "      model = model.send(_data.location)\n",
        "      \n",
        "      ##Getting stateful optimizer\n",
        "      optims = Optims(workers, optim=optim.Adam(params=model.parameters(),lr=0.001)) \n",
        "      opt = optims.get_optim(_data.location.id)\n",
        "      opt.zero_grad()\n",
        "      \n",
        "\n",
        "      #Forward pass, backward pass, optimize\n",
        "      outputs = model(_data)\n",
        "      loss_size = loss(outputs, _target)\n",
        "      loss_size.backward()\n",
        "      opt.step()\n",
        "\n",
        "      #get the model back\n",
        "      model = model.get()\n",
        "      \n",
        "      #Print statistics\n",
        "      print('Training loss for epoch ' + str(epoch) + str(loss_size.get()) + str(_data.location))\n",
        "      # running_loss =running_loss + loss_size.data.clone().get()\n",
        "      # total_train_loss =total_train_loss+ loss_size.data\n",
        "      \n",
        "      # #Print every 10th batch of an epoch\n",
        "      # if (i + 1) % (print_every + 1) == 0:\n",
        "      #     print(\"Epoch {}, {:d}% \\t train_loss: {:.2f} took: {:.2f}s\".format(\n",
        "      #             epoch+1, int(100 * (i+1) / n_batches), running_loss / print_every, time.time() - start_time))\n",
        "      #     #Reset running loss and time\n",
        "      #     running_loss = 0.0\n",
        "      #     start_time = time.time()\n",
        "\n",
        "\n",
        "      # print('Training loss for epoch ' + str(epoch) + str(loss.get()) + str(_data.location))"
      ],
      "execution_count": 0,
      "outputs": []
    },
    {
      "cell_type": "code",
      "metadata": {
        "id": "E4AK7FSqiVz9",
        "colab_type": "code",
        "colab": {
          "base_uri": "https://localhost:8080/",
          "height": 381
        },
        "outputId": "2237b90d-ad5a-401c-bce4-b9a77f9a5d1c"
      },
      "source": [
        "CNN = Net()\n",
        "federated_train_net(CNN.double())"
      ],
      "execution_count": 72,
      "outputs": [
        {
          "output_type": "stream",
          "text": [
            "Training loss for epoch 0tensor(2.1319, dtype=torch.float64, requires_grad=True)<VirtualWorker id:hospital #objects:100>\n",
            "Training loss for epoch 0tensor(1.4767, dtype=torch.float64, requires_grad=True)<VirtualWorker id:clinic #objects:115>\n",
            "Training loss for epoch 1tensor(0.9511, dtype=torch.float64, requires_grad=True)<VirtualWorker id:hospital #objects:100>\n",
            "Training loss for epoch 1tensor(1.1975, dtype=torch.float64, requires_grad=True)<VirtualWorker id:clinic #objects:115>\n",
            "Training loss for epoch 2tensor(0.8403, dtype=torch.float64, requires_grad=True)<VirtualWorker id:hospital #objects:100>\n",
            "Training loss for epoch 2tensor(1.1105, dtype=torch.float64, requires_grad=True)<VirtualWorker id:clinic #objects:115>\n",
            "Training loss for epoch 3tensor(0.7130, dtype=torch.float64, requires_grad=True)<VirtualWorker id:hospital #objects:100>\n",
            "Training loss for epoch 3tensor(1.0570, dtype=torch.float64, requires_grad=True)<VirtualWorker id:clinic #objects:115>\n",
            "Training loss for epoch 4tensor(0.6755, dtype=torch.float64, requires_grad=True)<VirtualWorker id:hospital #objects:100>\n",
            "Training loss for epoch 4tensor(1.0213, dtype=torch.float64, requires_grad=True)<VirtualWorker id:clinic #objects:115>\n",
            "Training loss for epoch 5tensor(0.6732, dtype=torch.float64, requires_grad=True)<VirtualWorker id:hospital #objects:100>\n",
            "Training loss for epoch 5tensor(1.0047, dtype=torch.float64, requires_grad=True)<VirtualWorker id:clinic #objects:115>\n",
            "Training loss for epoch 6tensor(0.6006, dtype=torch.float64, requires_grad=True)<VirtualWorker id:hospital #objects:100>\n",
            "Training loss for epoch 6tensor(0.9495, dtype=torch.float64, requires_grad=True)<VirtualWorker id:clinic #objects:115>\n",
            "Training loss for epoch 7tensor(0.6449, dtype=torch.float64, requires_grad=True)<VirtualWorker id:hospital #objects:100>\n",
            "Training loss for epoch 7tensor(0.9262, dtype=torch.float64, requires_grad=True)<VirtualWorker id:clinic #objects:115>\n",
            "Training loss for epoch 8tensor(0.6609, dtype=torch.float64, requires_grad=True)<VirtualWorker id:hospital #objects:100>\n",
            "Training loss for epoch 8tensor(0.8939, dtype=torch.float64, requires_grad=True)<VirtualWorker id:clinic #objects:115>\n",
            "Training loss for epoch 9tensor(0.6565, dtype=torch.float64, requires_grad=True)<VirtualWorker id:hospital #objects:100>\n",
            "Training loss for epoch 9tensor(0.8775, dtype=torch.float64, requires_grad=True)<VirtualWorker id:clinic #objects:115>\n"
          ],
          "name": "stdout"
        }
      ]
    },
    {
      "cell_type": "code",
      "metadata": {
        "id": "VhWxZr8NihDn",
        "colab_type": "code",
        "colab": {}
      },
      "source": [
        ""
      ],
      "execution_count": 0,
      "outputs": []
    }
  ]
}
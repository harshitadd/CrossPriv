{
  "nbformat": 4,
  "nbformat_minor": 0,
  "metadata": {
    "colab": {
      "name": "PreVID_Pytorch.ipynb",
      "provenance": [],
      "collapsed_sections": [],
      "include_colab_link": true
    },
    "kernelspec": {
      "name": "python3",
      "display_name": "Python 3"
    },
    "accelerator": "GPU"
  },
  "cells": [
    {
      "cell_type": "markdown",
      "metadata": {
        "id": "view-in-github",
        "colab_type": "text"
      },
      "source": [
        "<a href=\"https://colab.research.google.com/github/harshitadd/CrossSiloFLDemo/blob/master/PreVID_Pytorch.ipynb\" target=\"_parent\"><img src=\"https://colab.research.google.com/assets/colab-badge.svg\" alt=\"Open In Colab\"/></a>"
      ]
    },
    {
      "cell_type": "code",
      "metadata": {
        "id": "Aoq3s2Yzd15t",
        "colab_type": "code",
        "colab": {}
      },
      "source": [
        "#!pip install syft"
      ],
      "execution_count": null,
      "outputs": []
    },
    {
      "cell_type": "code",
      "metadata": {
        "id": "A6bD7JbBq0D6",
        "colab_type": "code",
        "colab": {
          "base_uri": "https://localhost:8080/",
          "height": 124
        },
        "outputId": "581a93e9-908f-408c-dae7-7ddf4f9deca6"
      },
      "source": [
        "##Importing Mini Batch Data \n",
        "import os \n",
        "from google.colab import drive\n",
        "drive.mount('/content/drive')"
      ],
      "execution_count": null,
      "outputs": [
        {
          "output_type": "stream",
          "text": [
            "Go to this URL in a browser: https://accounts.google.com/o/oauth2/auth?client_id=947318989803-6bn6qk8qdgf4n4g3pfee6491hc0brc4i.apps.googleusercontent.com&redirect_uri=urn%3aietf%3awg%3aoauth%3a2.0%3aoob&response_type=code&scope=email%20https%3a%2f%2fwww.googleapis.com%2fauth%2fdocs.test%20https%3a%2f%2fwww.googleapis.com%2fauth%2fdrive%20https%3a%2f%2fwww.googleapis.com%2fauth%2fdrive.photos.readonly%20https%3a%2f%2fwww.googleapis.com%2fauth%2fpeopleapi.readonly\n",
            "\n",
            "Enter your authorization code:\n",
            "··········\n",
            "Mounted at /content/drive\n"
          ],
          "name": "stdout"
        }
      ]
    },
    {
      "cell_type": "code",
      "metadata": {
        "id": "PGCc2bqpi5mc",
        "colab_type": "code",
        "colab": {
          "base_uri": "https://localhost:8080/",
          "height": 124
        },
        "outputId": "2278549e-7428-4396-d51d-d530d90b7f4d"
      },
      "source": [
        "!pip install pydicom \n",
        "import pydicom \n",
        "import cv2\n",
        "import matplotlib.pyplot as plt "
      ],
      "execution_count": null,
      "outputs": [
        {
          "output_type": "stream",
          "text": [
            "Collecting pydicom\n",
            "\u001b[?25l  Downloading https://files.pythonhosted.org/packages/d3/56/342e1f8ce5afe63bf65c23d0b2c1cd5a05600caad1c211c39725d3a4cc56/pydicom-2.0.0-py3-none-any.whl (35.4MB)\n",
            "\u001b[K     |████████████████████████████████| 35.5MB 83kB/s \n",
            "\u001b[?25hInstalling collected packages: pydicom\n",
            "Successfully installed pydicom-2.0.0\n"
          ],
          "name": "stdout"
        }
      ]
    },
    {
      "cell_type": "code",
      "metadata": {
        "id": "Nwuyc_DerKUv",
        "colab_type": "code",
        "colab": {
          "base_uri": "https://localhost:8080/",
          "height": 1000
        },
        "outputId": "007f0f5e-1bf8-420b-f746-a2a4c726c784"
      },
      "source": [
        "dcm_path=os.listdir('/content/drive/My Drive/Fed_Covid/minibatch/')\n",
        "dcm_data={}\n",
        "\n",
        "alpha = 1.5 # Contrast control (1.0-3.0)\n",
        "beta = 0 # Brightness control (0-100)\n",
        "\n",
        "ctr=0\n",
        "for file in dcm_path:\n",
        "  name = '/content/drive/My Drive/Fed_Covid/minibatch/' + file\n",
        "  temp = pydicom.dcmread(name)\n",
        "  image = temp.pixel_array\n",
        "  image = cv2.cvtColor(image, cv2.COLOR_BGR2RGB)\n",
        "  adjusted = cv2.resize(image,(64,64))\n",
        "  dcm_data[file]=adjusted\n",
        "  ctr+=1\n",
        "  print(ctr)"
      ],
      "execution_count": null,
      "outputs": [
        {
          "output_type": "stream",
          "text": [
            "1\n",
            "2\n",
            "3\n",
            "4\n",
            "5\n",
            "6\n",
            "7\n",
            "8\n",
            "9\n",
            "10\n",
            "11\n",
            "12\n",
            "13\n",
            "14\n",
            "15\n",
            "16\n",
            "17\n",
            "18\n",
            "19\n",
            "20\n",
            "21\n",
            "22\n",
            "23\n",
            "24\n",
            "25\n",
            "26\n",
            "27\n",
            "28\n",
            "29\n",
            "30\n",
            "31\n",
            "32\n",
            "33\n",
            "34\n",
            "35\n",
            "36\n",
            "37\n",
            "38\n",
            "39\n",
            "40\n",
            "41\n",
            "42\n",
            "43\n",
            "44\n",
            "45\n",
            "46\n",
            "47\n",
            "48\n",
            "49\n",
            "50\n",
            "51\n",
            "52\n",
            "53\n",
            "54\n",
            "55\n",
            "56\n",
            "57\n",
            "58\n",
            "59\n",
            "60\n",
            "61\n",
            "62\n",
            "63\n",
            "64\n",
            "65\n",
            "66\n",
            "67\n",
            "68\n",
            "69\n",
            "70\n",
            "71\n",
            "72\n",
            "73\n",
            "74\n",
            "75\n",
            "76\n",
            "77\n",
            "78\n",
            "79\n",
            "80\n",
            "81\n",
            "82\n",
            "83\n",
            "84\n",
            "85\n",
            "86\n",
            "87\n",
            "88\n",
            "89\n",
            "90\n",
            "91\n",
            "92\n",
            "93\n",
            "94\n",
            "95\n",
            "96\n",
            "97\n",
            "98\n",
            "99\n",
            "100\n",
            "101\n",
            "102\n",
            "103\n",
            "104\n",
            "105\n",
            "106\n",
            "107\n",
            "108\n",
            "109\n",
            "110\n",
            "111\n",
            "112\n",
            "113\n",
            "114\n",
            "115\n",
            "116\n",
            "117\n",
            "118\n",
            "119\n",
            "120\n",
            "121\n",
            "122\n",
            "123\n",
            "124\n",
            "125\n",
            "126\n",
            "127\n",
            "128\n",
            "129\n",
            "130\n",
            "131\n",
            "132\n",
            "133\n",
            "134\n",
            "135\n",
            "136\n",
            "137\n",
            "138\n",
            "139\n",
            "140\n",
            "141\n",
            "142\n",
            "143\n",
            "144\n",
            "145\n",
            "146\n",
            "147\n",
            "148\n",
            "149\n",
            "150\n",
            "151\n",
            "152\n",
            "153\n",
            "154\n",
            "155\n",
            "156\n",
            "157\n",
            "158\n",
            "159\n",
            "160\n",
            "161\n",
            "162\n",
            "163\n",
            "164\n",
            "165\n",
            "166\n",
            "167\n",
            "168\n",
            "169\n",
            "170\n",
            "171\n",
            "172\n",
            "173\n",
            "174\n",
            "175\n",
            "176\n",
            "177\n",
            "178\n",
            "179\n",
            "180\n",
            "181\n",
            "182\n",
            "183\n",
            "184\n",
            "185\n",
            "186\n",
            "187\n",
            "188\n",
            "189\n",
            "190\n",
            "191\n",
            "192\n",
            "193\n",
            "194\n",
            "195\n",
            "196\n",
            "197\n",
            "198\n",
            "199\n",
            "200\n",
            "201\n",
            "202\n",
            "203\n",
            "204\n",
            "205\n",
            "206\n",
            "207\n",
            "208\n",
            "209\n",
            "210\n",
            "211\n",
            "212\n",
            "213\n",
            "214\n",
            "215\n",
            "216\n",
            "217\n",
            "218\n",
            "219\n",
            "220\n",
            "221\n",
            "222\n",
            "223\n",
            "224\n",
            "225\n",
            "226\n",
            "227\n",
            "228\n",
            "229\n",
            "230\n",
            "231\n",
            "232\n",
            "233\n",
            "234\n",
            "235\n",
            "236\n",
            "237\n",
            "238\n",
            "239\n",
            "240\n",
            "241\n",
            "242\n",
            "243\n",
            "244\n",
            "245\n",
            "246\n",
            "247\n",
            "248\n",
            "249\n",
            "250\n",
            "251\n",
            "252\n",
            "253\n",
            "254\n",
            "255\n",
            "256\n",
            "257\n",
            "258\n",
            "259\n",
            "260\n",
            "261\n",
            "262\n",
            "263\n",
            "264\n",
            "265\n",
            "266\n",
            "267\n",
            "268\n",
            "269\n",
            "270\n",
            "271\n",
            "272\n",
            "273\n",
            "274\n",
            "275\n",
            "276\n",
            "277\n",
            "278\n",
            "279\n",
            "280\n",
            "281\n",
            "282\n",
            "283\n",
            "284\n",
            "285\n",
            "286\n",
            "287\n",
            "288\n",
            "289\n",
            "290\n",
            "291\n",
            "292\n",
            "293\n",
            "294\n",
            "295\n",
            "296\n",
            "297\n",
            "298\n",
            "299\n",
            "300\n",
            "301\n",
            "302\n",
            "303\n",
            "304\n",
            "305\n",
            "306\n",
            "307\n",
            "308\n",
            "309\n",
            "310\n",
            "311\n",
            "312\n",
            "313\n",
            "314\n",
            "315\n",
            "316\n",
            "317\n",
            "318\n",
            "319\n",
            "320\n",
            "321\n",
            "322\n",
            "323\n",
            "324\n",
            "325\n",
            "326\n",
            "327\n",
            "328\n",
            "329\n",
            "330\n",
            "331\n",
            "332\n",
            "333\n",
            "334\n",
            "335\n",
            "336\n",
            "337\n",
            "338\n",
            "339\n",
            "340\n",
            "341\n",
            "342\n",
            "343\n",
            "344\n",
            "345\n",
            "346\n",
            "347\n",
            "348\n",
            "349\n",
            "350\n",
            "351\n",
            "352\n",
            "353\n",
            "354\n",
            "355\n",
            "356\n",
            "357\n",
            "358\n",
            "359\n",
            "360\n",
            "361\n",
            "362\n",
            "363\n",
            "364\n",
            "365\n",
            "366\n",
            "367\n",
            "368\n",
            "369\n",
            "370\n",
            "371\n",
            "372\n",
            "373\n",
            "374\n",
            "375\n",
            "376\n",
            "377\n",
            "378\n",
            "379\n",
            "380\n",
            "381\n",
            "382\n",
            "383\n",
            "384\n",
            "385\n",
            "386\n",
            "387\n",
            "388\n",
            "389\n",
            "390\n",
            "391\n",
            "392\n",
            "393\n",
            "394\n",
            "395\n",
            "396\n",
            "397\n",
            "398\n",
            "399\n",
            "400\n",
            "401\n",
            "402\n",
            "403\n",
            "404\n",
            "405\n",
            "406\n",
            "407\n",
            "408\n",
            "409\n",
            "410\n",
            "411\n",
            "412\n",
            "413\n",
            "414\n",
            "415\n",
            "416\n",
            "417\n",
            "418\n",
            "419\n",
            "420\n",
            "421\n",
            "422\n",
            "423\n",
            "424\n",
            "425\n",
            "426\n",
            "427\n"
          ],
          "name": "stdout"
        }
      ]
    },
    {
      "cell_type": "code",
      "metadata": {
        "id": "BuoufluUrqEK",
        "colab_type": "code",
        "colab": {}
      },
      "source": [
        "import csv \n",
        "labels=[]\n",
        "with open('/content/drive/My Drive/Fed_Covid/stage_2_train_labels.csv','r') as file:\n",
        "  reader = csv.reader(file)\n",
        "  for row in reader:\n",
        "    labels.append(row)"
      ],
      "execution_count": null,
      "outputs": []
    },
    {
      "cell_type": "code",
      "metadata": {
        "id": "TsrBQdKQtBON",
        "colab_type": "code",
        "colab": {}
      },
      "source": [
        "from sklearn.preprocessing import MinMaxScaler \n",
        "import numpy as np\n",
        "scaler = MinMaxScaler()\n",
        "pid=[]\n",
        "dicom=[]\n",
        "label=[]\n",
        "cid = 0\n",
        "for PID in labels:\n",
        "  for key in dcm_data:\n",
        "    if(key[:-4]==PID[0]):\n",
        "      l=[]\n",
        "      for val in dcm_data[key]:\n",
        "        l.append(scaler.fit_transform(val))\n",
        "      l = np.reshape(l,(3,64,64))\n",
        "      dicom.append(l)\n",
        "      label.append(int(PID[5]))\n",
        "      "
      ],
      "execution_count": null,
      "outputs": []
    },
    {
      "cell_type": "code",
      "metadata": {
        "id": "rAao-ysuA935",
        "colab_type": "code",
        "colab": {
          "base_uri": "https://localhost:8080/",
          "height": 35
        },
        "outputId": "9598110e-b845-44bf-df2c-cf71a8396d11"
      },
      "source": [
        "import numpy as np\n",
        "print(np.shape(dicom[0]))"
      ],
      "execution_count": null,
      "outputs": [
        {
          "output_type": "stream",
          "text": [
            "(3, 64, 64)\n"
          ],
          "name": "stdout"
        }
      ]
    },
    {
      "cell_type": "code",
      "metadata": {
        "id": "4VS2_fMt55jL",
        "colab_type": "code",
        "colab": {}
      },
      "source": [
        "import torch\n",
        "import torch.nn as nn\n",
        "import torch.nn.functional as F\n",
        "import torch.optim as optim\n",
        "from torchvision import datasets, transforms"
      ],
      "execution_count": null,
      "outputs": []
    },
    {
      "cell_type": "code",
      "metadata": {
        "id": "v_RmWwNe3i1k",
        "colab_type": "code",
        "colab": {}
      },
      "source": [
        "from torch.utils.data import DataLoader, Dataset"
      ],
      "execution_count": null,
      "outputs": []
    },
    {
      "cell_type": "markdown",
      "metadata": {
        "id": "nQ1qdaL-B1_C",
        "colab_type": "text"
      },
      "source": [
        ""
      ]
    },
    {
      "cell_type": "code",
      "metadata": {
        "id": "td7w-9SHFgaK",
        "colab_type": "code",
        "colab": {}
      },
      "source": [
        "from sklearn.model_selection import train_test_split\n",
        "x_train, x_test, y_train, y_test = train_test_split(dicom,label,test_size=0.3)"
      ],
      "execution_count": null,
      "outputs": []
    },
    {
      "cell_type": "code",
      "metadata": {
        "id": "o3NqRdoZAQJl",
        "colab_type": "code",
        "colab": {}
      },
      "source": [
        "import pandas as pd \n",
        "train_df = pd.DataFrame()\n",
        "train_df['features']=x_train\n",
        "train_df['labels']=y_train"
      ],
      "execution_count": null,
      "outputs": []
    },
    {
      "cell_type": "code",
      "metadata": {
        "id": "qUNToibvesgo",
        "colab_type": "code",
        "colab": {
          "base_uri": "https://localhost:8080/",
          "height": 415
        },
        "outputId": "6ea0165b-f9e8-4abc-92e0-01980eb0f862"
      },
      "source": [
        "train_df"
      ],
      "execution_count": null,
      "outputs": [
        {
          "output_type": "execute_result",
          "data": {
            "text/html": [
              "<div>\n",
              "<style scoped>\n",
              "    .dataframe tbody tr th:only-of-type {\n",
              "        vertical-align: middle;\n",
              "    }\n",
              "\n",
              "    .dataframe tbody tr th {\n",
              "        vertical-align: top;\n",
              "    }\n",
              "\n",
              "    .dataframe thead th {\n",
              "        text-align: right;\n",
              "    }\n",
              "</style>\n",
              "<table border=\"1\" class=\"dataframe\">\n",
              "  <thead>\n",
              "    <tr style=\"text-align: right;\">\n",
              "      <th></th>\n",
              "      <th>features</th>\n",
              "      <th>labels</th>\n",
              "    </tr>\n",
              "  </thead>\n",
              "  <tbody>\n",
              "    <tr>\n",
              "      <th>0</th>\n",
              "      <td>[[[0.0, 0.0, 0.0, 0.152, 0.152, 0.152, 0.04, 0...</td>\n",
              "      <td>0</td>\n",
              "    </tr>\n",
              "    <tr>\n",
              "      <th>1</th>\n",
              "      <td>[[[1.0, 1.0, 1.0, 0.39436619718309857, 0.39436...</td>\n",
              "      <td>1</td>\n",
              "    </tr>\n",
              "    <tr>\n",
              "      <th>2</th>\n",
              "      <td>[[[0.005208333333333333, 0.005208333333333333,...</td>\n",
              "      <td>0</td>\n",
              "    </tr>\n",
              "    <tr>\n",
              "      <th>3</th>\n",
              "      <td>[[[0.010526315789473684, 0.010526315789473684,...</td>\n",
              "      <td>0</td>\n",
              "    </tr>\n",
              "    <tr>\n",
              "      <th>4</th>\n",
              "      <td>[[[0.0, 0.0, 0.0, 0.0, 0.0, 0.0, 0.0, 0.0, 0.0...</td>\n",
              "      <td>0</td>\n",
              "    </tr>\n",
              "    <tr>\n",
              "      <th>...</th>\n",
              "      <td>...</td>\n",
              "      <td>...</td>\n",
              "    </tr>\n",
              "    <tr>\n",
              "      <th>295</th>\n",
              "      <td>[[[0.025316455696202535, 0.025316455696202535,...</td>\n",
              "      <td>0</td>\n",
              "    </tr>\n",
              "    <tr>\n",
              "      <th>296</th>\n",
              "      <td>[[[0.013333333333333332, 0.013333333333333332,...</td>\n",
              "      <td>1</td>\n",
              "    </tr>\n",
              "    <tr>\n",
              "      <th>297</th>\n",
              "      <td>[[[0.011299435028248588, 0.011299435028248588,...</td>\n",
              "      <td>0</td>\n",
              "    </tr>\n",
              "    <tr>\n",
              "      <th>298</th>\n",
              "      <td>[[[0.015151515151515152, 0.015151515151515152,...</td>\n",
              "      <td>0</td>\n",
              "    </tr>\n",
              "    <tr>\n",
              "      <th>299</th>\n",
              "      <td>[[[0.7243243243243243, 0.7243243243243243, 0.7...</td>\n",
              "      <td>0</td>\n",
              "    </tr>\n",
              "  </tbody>\n",
              "</table>\n",
              "<p>300 rows × 2 columns</p>\n",
              "</div>"
            ],
            "text/plain": [
              "                                              features  labels\n",
              "0    [[[0.0, 0.0, 0.0, 0.152, 0.152, 0.152, 0.04, 0...       0\n",
              "1    [[[1.0, 1.0, 1.0, 0.39436619718309857, 0.39436...       1\n",
              "2    [[[0.005208333333333333, 0.005208333333333333,...       0\n",
              "3    [[[0.010526315789473684, 0.010526315789473684,...       0\n",
              "4    [[[0.0, 0.0, 0.0, 0.0, 0.0, 0.0, 0.0, 0.0, 0.0...       0\n",
              "..                                                 ...     ...\n",
              "295  [[[0.025316455696202535, 0.025316455696202535,...       0\n",
              "296  [[[0.013333333333333332, 0.013333333333333332,...       1\n",
              "297  [[[0.011299435028248588, 0.011299435028248588,...       0\n",
              "298  [[[0.015151515151515152, 0.015151515151515152,...       0\n",
              "299  [[[0.7243243243243243, 0.7243243243243243, 0.7...       0\n",
              "\n",
              "[300 rows x 2 columns]"
            ]
          },
          "metadata": {
            "tags": []
          },
          "execution_count": 11
        }
      ]
    },
    {
      "cell_type": "code",
      "metadata": {
        "id": "s9z6ilRdGAeS",
        "colab_type": "code",
        "colab": {}
      },
      "source": [
        "test_df = pd.DataFrame()\n",
        "test_df['features']=x_test\n",
        "test_df['labels']=y_test"
      ],
      "execution_count": null,
      "outputs": []
    },
    {
      "cell_type": "code",
      "metadata": {
        "id": "x8KCNM1rpsJb",
        "colab_type": "code",
        "colab": {}
      },
      "source": [
        "class data_maker(Dataset):\n",
        "  def __init__(self, data):\n",
        "        self.data = data\n",
        "        \n",
        "  def __len__(self):\n",
        "      return len(self.data)\n",
        "  \n",
        "  def __getitem__(self, index):\n",
        "      target = np.array(self.data['labels'][index])\n",
        "      data_val = np.array(self.data['features'][index])\n",
        "\n",
        "      return data_val,target\n",
        "      \n",
        "        "
      ],
      "execution_count": null,
      "outputs": []
    },
    {
      "cell_type": "code",
      "metadata": {
        "id": "jEKcnwRC_jdg",
        "colab_type": "code",
        "colab": {}
      },
      "source": [
        "train_data = data_maker(train_df)\n",
        "test_data = data_maker(test_df)"
      ],
      "execution_count": null,
      "outputs": []
    },
    {
      "cell_type": "code",
      "metadata": {
        "id": "q5ywRk9iph9Y",
        "colab_type": "code",
        "colab": {}
      },
      "source": [
        "def get_train_data(batch_size):\n",
        "      train_loader = torch.utils.data.DataLoader(train_data, batch_size=batch_size, shuffle=False)\n",
        "      return train_loader"
      ],
      "execution_count": null,
      "outputs": []
    },
    {
      "cell_type": "code",
      "metadata": {
        "id": "61pmSHloG1Lw",
        "colab_type": "code",
        "colab": {}
      },
      "source": [
        "test_loader = torch.utils.data.DataLoader(test_data, batch_size=4)\n"
      ],
      "execution_count": null,
      "outputs": []
    },
    {
      "cell_type": "code",
      "metadata": {
        "id": "VnZroxhT92mG",
        "colab_type": "code",
        "colab": {
          "base_uri": "https://localhost:8080/",
          "height": 35
        },
        "outputId": "baef85e9-a770-4224-9b65-28d62f6e4237"
      },
      "source": [
        "train_loader= get_train_data(batch_size=8)\n",
        "n_batches = len(train_loader)\n",
        "for i, data in enumerate(train_loader, 0):\n",
        "       inputs, labels = data\n",
        "       print(np.shape(inputs))\n",
        "       break   "
      ],
      "execution_count": null,
      "outputs": [
        {
          "output_type": "stream",
          "text": [
            "torch.Size([8, 3, 64, 64])\n"
          ],
          "name": "stdout"
        }
      ]
    },
    {
      "cell_type": "code",
      "metadata": {
        "id": "ZZVk19riCoDj",
        "colab_type": "code",
        "colab": {}
      },
      "source": [
        "class Net(nn.Module):\n",
        "    def __init__(self):\n",
        "        super().__init__()\n",
        "\n",
        "        # Input - (32,1024,1024)\n",
        "  \n",
        "        self.conv1 = nn.Conv2d(3,32, kernel_size=8, stride = 2)  #I/P - 1*32\n",
        "        self.pool1 = nn.MaxPool2d(kernel_size=4,stride=2,padding=0)  \n",
        "        self.conv2 = nn.Conv2d(32, 64, 8)\n",
        "        self.pool2 = nn.MaxPool2d(4,2,padding=0)\n",
        "        self.fc1 = nn.Linear(256, 64*64)\n",
        "        self.fc2 = nn.Linear(64*64, 64)\n",
        "        self.fc3 = nn.Linear(64, 8)\n",
        "\n",
        "    def forward(self, x):\n",
        "        \n",
        "        x = F.relu(self.conv1(x))\n",
        "        # Input of 1*1024*1024 going to 32*1024*1024  - 1*64*64 going to 32*64*64\n",
        "        x = self.pool1(x)\n",
        "        # Input of 32*1024*1024 going to 32*256*256 - 32*64*64 going to 32*16*16\n",
        "        x = F.relu(self.conv2(x))\n",
        "        # Input of 32*256*256 to 64*256*256 - 32*16*16 to 64*16*16\n",
        "        x = self.pool2(x)\n",
        "        # Input of 64*256*256 to 64*64*64 - 64*16*16 going to 64*4*4\n",
        "\n",
        "        x = x.view(-1,64*4)\n",
        "     \n",
        "        x = F.relu(self.fc1(x))\n",
        "        x = F.relu(self.fc2(x))\n",
        "        x = self.fc3(x)\n",
        "        return F.log_softmax(x, dim=1)"
      ],
      "execution_count": null,
      "outputs": []
    },
    {
      "cell_type": "code",
      "metadata": {
        "id": "XAXTrUmoC7Jy",
        "colab_type": "code",
        "colab": {}
      },
      "source": [
        "def createLossAndOptimizer(net, learning_rate=0.001):\n",
        "    \n",
        "    #Loss function\n",
        "    loss = torch.nn.CrossEntropyLoss()\n",
        "    \n",
        "    #Optimizer\n",
        "    optimizer = optim.Adam(net.parameters(), lr=learning_rate)\n",
        "    \n",
        "    return(loss, optimizer)"
      ],
      "execution_count": null,
      "outputs": []
    },
    {
      "cell_type": "code",
      "metadata": {
        "id": "Uwmnvfa4CoAe",
        "colab_type": "code",
        "colab": {}
      },
      "source": [
        "import time\n",
        "from torch.autograd import Variable\n",
        "def trainNet(net, batch_size, n_epochs, learning_rate):\n",
        "    \n",
        "    \n",
        "    #Get training data\n",
        "    train_loader = get_train_data(batch_size=8)\n",
        "    n_batches = len(train_loader)\n",
        "    \n",
        "    #Create our loss and optimizer functions\n",
        "    loss, optimizer = createLossAndOptimizer(net, learning_rate)\n",
        "    \n",
        "    #Time for printing\n",
        "    training_start_time = time.time()\n",
        "    \n",
        "    #Loop for n_epochs\n",
        "    for epoch in range(n_epochs):\n",
        "        \n",
        "        running_loss = 0.0\n",
        "        print_every = n_batches // 10\n",
        "        start_time = time.time()\n",
        "        total_train_loss = 0\n",
        "        \n",
        "        for i, data in enumerate(train_loader, 0):\n",
        "            \n",
        "            #Get inputs\n",
        "            inputs, labels = data\n",
        "          \n",
        "            #Wrap them in a Variable object\n",
        "            inputs, labels = Variable(inputs), Variable(labels)\n",
        "            \n",
        "\n",
        "            #Set the parameter gradients to zero\n",
        "            optimizer.zero_grad()\n",
        "            \n",
        "            \n",
        "\n",
        "            #Forward pass, backward pass, optimize\n",
        "            outputs = net(inputs)\n",
        "            loss_size = loss(outputs, labels)\n",
        "            loss_size.backward()\n",
        "            optimizer.step()\n",
        "            \n",
        "            #Print statistics\n",
        "            running_loss += loss_size.data\n",
        "            total_train_loss += loss_size.data\n",
        "            \n",
        "            #Print every 10th batch of an epoch\n",
        "            if (i + 1) % (print_every + 1) == 0:\n",
        "                print(\"Epoch {}, {:d}% \\t train_loss: {:.2f} took: {:.2f}s\".format(\n",
        "                        epoch+1, int(100 * (i+1) / n_batches), running_loss / print_every, time.time() - start_time))\n",
        "                #Reset running loss and time\n",
        "                running_loss = 0.0\n",
        "                start_time = time.time()\n",
        "            \n",
        "        #At the end of the epoch, do a pass on the validation set\n",
        "        total_val_loss = 0\n",
        "        \n",
        "    print(\"Training finished, took {:.2f}s\".format(time.time() - training_start_time))"
      ],
      "execution_count": null,
      "outputs": []
    },
    {
      "cell_type": "code",
      "metadata": {
        "id": "nqld5wnmCn9z",
        "colab_type": "code",
        "colab": {
          "base_uri": "https://localhost:8080/",
          "height": 363
        },
        "outputId": "e1f1a7c8-963e-4637-9b18-4021094fc96d"
      },
      "source": [
        "CNN = Net()\n",
        "trainNet(CNN.double(), batch_size=8, n_epochs=2\n",
        "         , learning_rate=0.001)"
      ],
      "execution_count": null,
      "outputs": [
        {
          "output_type": "stream",
          "text": [
            "Epoch 1, 10% \t train_loss: 1.95 took: 0.51s\n",
            "Epoch 1, 21% \t train_loss: 1.39 took: 0.19s\n",
            "Epoch 1, 31% \t train_loss: 0.64 took: 0.19s\n",
            "Epoch 1, 42% \t train_loss: 1.13 took: 0.19s\n",
            "Epoch 1, 52% \t train_loss: 0.77 took: 0.19s\n",
            "Epoch 1, 63% \t train_loss: 0.79 took: 0.20s\n",
            "Epoch 1, 73% \t train_loss: 0.62 took: 0.19s\n",
            "Epoch 1, 84% \t train_loss: 0.57 took: 0.19s\n",
            "Epoch 1, 94% \t train_loss: 0.67 took: 0.19s\n",
            "Epoch 2, 10% \t train_loss: 0.64 took: 0.20s\n",
            "Epoch 2, 21% \t train_loss: 0.82 took: 0.20s\n",
            "Epoch 2, 31% \t train_loss: 0.49 took: 0.19s\n",
            "Epoch 2, 42% \t train_loss: 0.97 took: 0.19s\n",
            "Epoch 2, 52% \t train_loss: 0.74 took: 0.19s\n",
            "Epoch 2, 63% \t train_loss: 0.74 took: 0.21s\n",
            "Epoch 2, 73% \t train_loss: 0.55 took: 0.20s\n",
            "Epoch 2, 84% \t train_loss: 0.54 took: 0.20s\n",
            "Epoch 2, 94% \t train_loss: 0.67 took: 0.19s\n",
            "Training finished, took 4.02s\n"
          ],
          "name": "stdout"
        }
      ]
    },
    {
      "cell_type": "code",
      "metadata": {
        "id": "w-GPl3hRH_I5",
        "colab_type": "code",
        "colab": {
          "base_uri": "https://localhost:8080/",
          "height": 35
        },
        "outputId": "9318d11f-8415-4a52-f8d6-98b8f9d761d7"
      },
      "source": [
        "correct = 0\n",
        "total = 0\n",
        "with torch.no_grad():\n",
        "    for data in test_loader:\n",
        "        images, labels = data\n",
        "        outputs = CNN(images)\n",
        "        _, predicted = torch.max(outputs.data, 1)\n",
        "        total += labels.size(0)\n",
        "        correct += (predicted == labels).sum().item()\n",
        "    \n",
        "print('Accuracy of the network on test images: %d %%' % (100 * correct / total))"
      ],
      "execution_count": null,
      "outputs": [
        {
          "output_type": "stream",
          "text": [
            "Accuracy of the network on test images: 81 %\n"
          ],
          "name": "stdout"
        }
      ]
    },
    {
      "cell_type": "markdown",
      "metadata": {
        "id": "23BK7JnCyL42",
        "colab_type": "text"
      },
      "source": [
        "https://pytorch.org/tutorials/beginner/blitz/cifar10_tutorial.html - Test Loader"
      ]
    },
    {
      "cell_type": "markdown",
      "metadata": {
        "id": "dp0Y6Q1o53O0",
        "colab_type": "text"
      },
      "source": [
        "PYTORCH IMPLEMENTATION\n"
      ]
    },
    {
      "cell_type": "code",
      "metadata": {
        "id": "kwsjmf7u58ix",
        "colab_type": "code",
        "colab": {}
      },
      "source": [
        "import syft as sy \n",
        "hook = sy.TorchHook(torch)"
      ],
      "execution_count": null,
      "outputs": []
    },
    {
      "cell_type": "code",
      "metadata": {
        "id": "VxhCrtwXtiO9",
        "colab_type": "code",
        "colab": {}
      },
      "source": [
        "hospital = sy.VirtualWorker(hook, id=\"hospital\")  \n",
        "clinic = sy.VirtualWorker(hook, id=\"clinic\")  "
      ],
      "execution_count": null,
      "outputs": []
    },
    {
      "cell_type": "code",
      "metadata": {
        "id": "vGOcS6sygqTK",
        "colab_type": "code",
        "colab": {
          "base_uri": "https://localhost:8080/",
          "height": 435
        },
        "outputId": "6a5951f8-cb36-48bc-eeb8-3a8663e98505"
      },
      "source": [
        "print(x_train[0])"
      ],
      "execution_count": null,
      "outputs": [
        {
          "output_type": "stream",
          "text": [
            "[[[0.10989011 0.10989011 0.10989011 ... 0.34065934 0.34065934 0.37362637]\n",
            "  [0.37362637 0.37362637 0.40659341 ... 0.42307692 0.37912088 0.37912088]\n",
            "  [0.37912088 0.31868132 0.31868132 ... 0.02197802 0.02197802 0.02197802]\n",
            "  ...\n",
            "  [0.13194444 0.13194444 0.19444444 ... 0.09722222 0.02777778 0.02777778]\n",
            "  [0.02777778 0.         0.         ... 0.91666667 0.91666667 0.91666667]\n",
            "  [0.96376812 0.96376812 0.96376812 ... 0.15217391 0.15217391 0.1884058 ]]\n",
            "\n",
            " [[0.1884058  0.1884058  0.37681159 ... 0.02898551 0.08695652 0.08695652]\n",
            "  [0.08695652 0.         0.         ... 0.89130435 0.89130435 0.89130435]\n",
            "  [0.95419847 0.95419847 0.95419847 ... 0.23664122 0.23664122 0.18320611]\n",
            "  ...\n",
            "  [0.76422764 0.71544715 0.71544715 ... 0.71544715 0.71544715 0.71544715]\n",
            "  [0.776      0.776      0.776      ... 0.304      0.304      0.264     ]\n",
            "  [0.264      0.264      0.256      ... 0.76       0.768      0.768     ]]\n",
            "\n",
            " [[0.768      0.696      0.696      ... 0.656      0.656      0.656     ]\n",
            "  [0.74590164 0.74590164 0.74590164 ... 0.12295082 0.12295082 0.09016393]\n",
            "  [0.09016393 0.09016393 0.32786885 ... 0.73770492 0.74590164 0.74590164]\n",
            "  ...\n",
            "  [0.56118143 0.56118143 0.56118143 ... 0.98312236 0.98312236 0.98734177]\n",
            "  [0.98734177 0.98734177 0.98734177 ... 0.98312236 0.97890295 0.97890295]\n",
            "  [0.97890295 0.97468354 0.97468354 ... 0.01265823 0.01265823 0.01265823]]]\n"
          ],
          "name": "stdout"
        }
      ]
    },
    {
      "cell_type": "code",
      "metadata": {
        "id": "7k0WYNgsgi0c",
        "colab_type": "code",
        "colab": {}
      },
      "source": [
        "x_train = np.array(x_train)\n",
        "y_train = np.array(y_train)"
      ],
      "execution_count": null,
      "outputs": []
    },
    {
      "cell_type": "code",
      "metadata": {
        "id": "bn9bwBKZgGin",
        "colab_type": "code",
        "colab": {}
      },
      "source": [
        "x_train = torch.from_numpy(x_train)\n",
        "y_train = torch.from_numpy(y_train)"
      ],
      "execution_count": null,
      "outputs": []
    },
    {
      "cell_type": "code",
      "metadata": {
        "id": "gaOUVNVFfCjG",
        "colab_type": "code",
        "colab": {}
      },
      "source": [
        "#define the send_data function \n",
        "data_hospital = x_train[0:80].send(hospital)\n",
        "data_target_hospital = y_train[0:80].send(hospital)\n",
        "data_clinic = x_train[80:].send(clinic)\n",
        "data_target_clinic = y_train[80:].send(clinic)"
      ],
      "execution_count": null,
      "outputs": []
    },
    {
      "cell_type": "code",
      "metadata": {
        "id": "F4j-TU2qvcV5",
        "colab_type": "code",
        "colab": {}
      },
      "source": [
        "datasets=[(data_hospital,data_target_hospital),(data_clinic,data_target_clinic)]"
      ],
      "execution_count": null,
      "outputs": []
    },
    {
      "cell_type": "code",
      "metadata": {
        "id": "tEImL3BGlODX",
        "colab_type": "code",
        "colab": {}
      },
      "source": [
        "opt = optim.SGD(params=model.parameters(),lr=0.1)"
      ],
      "execution_count": null,
      "outputs": []
    },
    {
      "cell_type": "code",
      "metadata": {
        "id": "YUENmoAThxfu",
        "colab_type": "code",
        "colab": {}
      },
      "source": [
        "# def createLossAndOptimizer(net, learning_rate=0.001):\n",
        "    \n",
        "    #Loss function\n",
        "    \n",
        "    \n",
        "#     #Optimizer\n",
        "#     optimizer = optim.Adam(net.parameters(), lr=learning_rate)\n",
        "    \n",
        "#     return(loss, optimizer)"
      ],
      "execution_count": null,
      "outputs": []
    },
    {
      "cell_type": "markdown",
      "metadata": {
        "id": "jg1G2Jtfl6jm",
        "colab_type": "text"
      },
      "source": [
        "##Stateful issue fix - https://github.com/OpenMined/PySyft/pull/3179/files"
      ]
    },
    {
      "cell_type": "code",
      "metadata": {
        "id": "3L1CS0tXl5DD",
        "colab_type": "code",
        "colab": {}
      },
      "source": [
        "import copy\n",
        "\n",
        "\n",
        "class Optims:\n",
        "    \"\"\"to create a list of optimizer objects\"\"\"\n",
        "\n",
        "    def __init__(self, workers, optim):\n",
        "        \"\"\"\n",
        "        args:\n",
        "            workers: list of worker ids\n",
        "            optim: class of pytorch optimizer\n",
        "        \"\"\"\n",
        "        self.optim = optim\n",
        "        self.workers = workers\n",
        "        self.optimizers = {}\n",
        "        for worker in workers:\n",
        "            self.optimizers[str(worker)] = copy.copy(self.optim)\n",
        "            self.optimizers[str(worker)].load_state_dict((self.optim).state_dict())\n",
        "\n",
        "    def get_optim(self, worker):\n",
        "        \"\"\"returns optimizer for worker\n",
        "        args: \n",
        "            worker: worker id\n",
        "        \"\"\"\n",
        "        return self.optimizers[str(worker)]\n",
        "\n",
        "    def count(self):\n",
        "        \"\"\"returns the number of optimizer objects\"\"\"\n",
        "        return len(self.workers)\n"
      ],
      "execution_count": null,
      "outputs": []
    },
    {
      "cell_type": "code",
      "metadata": {
        "id": "iVmMRv4zJSAP",
        "colab_type": "code",
        "colab": {}
      },
      "source": [
        "import time\n",
        "from torch.autograd import Variable\n",
        "from syft.federated.floptimizer import Optims\n",
        "workers = ['hospital', 'clinic']\n",
        "\n",
        "def federated_train_net(model):\n",
        "\n",
        "  # loss, optimizer = createLossAndOptimizer(model)\n",
        "  training_start_time = time.time()\n",
        "    \n",
        "\n",
        "  for epoch in range(20):\n",
        "    running_loss = 0.0\n",
        "    print_every = n_batches // 10\n",
        "    start_time = time.time()\n",
        "    total_train_loss = 0\n",
        "    loss = torch.nn.CrossEntropyLoss()\n",
        "    for _data, _target in datasets:\n",
        "\n",
        "      ##send model \n",
        "      model = model.send(_data.location)\n",
        "      \n",
        "      ##Getting stateful optimizer\n",
        "      optims = Optims(workers, optim=optim.Adam(params=model.parameters(),lr=0.001)) \n",
        "      opt = optims.get_optim(_data.location.id)\n",
        "      opt.zero_grad()\n",
        "      \n",
        "\n",
        "      #Forward pass, backward pass, optimize\n",
        "      outputs = model(_data)\n",
        "      loss_size = loss(outputs, _target)\n",
        "      loss_size.backward()\n",
        "      opt.step()\n",
        "\n",
        "      #get the model back\n",
        "      model = model.get()\n",
        "      \n",
        "      #Print statistics\n",
        "      print('Training loss for epoch ' + str(epoch) + str(loss_size.get()) + str(_data.location))\n",
        "      # running_loss =running_loss + loss_size.data.clone().get()\n",
        "      # total_train_loss =total_train_loss+ loss_size.data\n",
        "      \n",
        "      # #Print every 10th batch of an epoch\n",
        "      # if (i + 1) % (print_every + 1) == 0:\n",
        "      #     print(\"Epoch {}, {:d}% \\t train_loss: {:.2f} took: {:.2f}s\".format(\n",
        "      #             epoch+1, int(100 * (i+1) / n_batches), running_loss / print_every, time.time() - start_time))\n",
        "      #     #Reset running loss and time\n",
        "      #     running_loss = 0.0\n",
        "      #     start_time = time.time()\n",
        "\n",
        "\n",
        "      # print('Training loss for epoch ' + str(epoch) + str(loss.get()) + str(_data.location))"
      ],
      "execution_count": null,
      "outputs": []
    },
    {
      "cell_type": "code",
      "metadata": {
        "id": "E4AK7FSqiVz9",
        "colab_type": "code",
        "colab": {
          "base_uri": "https://localhost:8080/",
          "height": 745
        },
        "outputId": "6b84db19-f6c3-42a9-db2c-ab7edfcbf817"
      },
      "source": [
        "CNN = Net()\n",
        "federated_train_net(CNN.double())"
      ],
      "execution_count": null,
      "outputs": [
        {
          "output_type": "stream",
          "text": [
            "Training loss for epoch 0tensor(2.1360, dtype=torch.float64, requires_grad=True)<VirtualWorker id:hospital #objects:100>\n",
            "Training loss for epoch 0tensor(1.6760, dtype=torch.float64, requires_grad=True)<VirtualWorker id:clinic #objects:115>\n",
            "Training loss for epoch 1tensor(0.6273, dtype=torch.float64, requires_grad=True)<VirtualWorker id:hospital #objects:100>\n",
            "Training loss for epoch 1tensor(0.5262, dtype=torch.float64, requires_grad=True)<VirtualWorker id:clinic #objects:115>\n",
            "Training loss for epoch 2tensor(1.0784, dtype=torch.float64, requires_grad=True)<VirtualWorker id:hospital #objects:100>\n",
            "Training loss for epoch 2tensor(0.7287, dtype=torch.float64, requires_grad=True)<VirtualWorker id:clinic #objects:115>\n",
            "Training loss for epoch 3tensor(0.8410, dtype=torch.float64, requires_grad=True)<VirtualWorker id:hospital #objects:100>\n",
            "Training loss for epoch 3tensor(0.6805, dtype=torch.float64, requires_grad=True)<VirtualWorker id:clinic #objects:115>\n",
            "Training loss for epoch 4tensor(0.8140, dtype=torch.float64, requires_grad=True)<VirtualWorker id:hospital #objects:100>\n",
            "Training loss for epoch 4tensor(0.6707, dtype=torch.float64, requires_grad=True)<VirtualWorker id:clinic #objects:115>\n",
            "Training loss for epoch 5tensor(0.8052, dtype=torch.float64, requires_grad=True)<VirtualWorker id:hospital #objects:100>\n",
            "Training loss for epoch 5tensor(0.6604, dtype=torch.float64, requires_grad=True)<VirtualWorker id:clinic #objects:115>\n",
            "Training loss for epoch 6tensor(0.8284, dtype=torch.float64, requires_grad=True)<VirtualWorker id:hospital #objects:100>\n",
            "Training loss for epoch 6tensor(0.6496, dtype=torch.float64, requires_grad=True)<VirtualWorker id:clinic #objects:115>\n",
            "Training loss for epoch 7tensor(0.8020, dtype=torch.float64, requires_grad=True)<VirtualWorker id:hospital #objects:100>\n",
            "Training loss for epoch 7tensor(0.6389, dtype=torch.float64, requires_grad=True)<VirtualWorker id:clinic #objects:115>\n",
            "Training loss for epoch 8tensor(0.7947, dtype=torch.float64, requires_grad=True)<VirtualWorker id:hospital #objects:100>\n",
            "Training loss for epoch 8tensor(0.6349, dtype=torch.float64, requires_grad=True)<VirtualWorker id:clinic #objects:115>\n",
            "Training loss for epoch 9tensor(0.7943, dtype=torch.float64, requires_grad=True)<VirtualWorker id:hospital #objects:100>\n",
            "Training loss for epoch 9tensor(0.6323, dtype=torch.float64, requires_grad=True)<VirtualWorker id:clinic #objects:115>\n",
            "Training loss for epoch 10tensor(0.7935, dtype=torch.float64, requires_grad=True)<VirtualWorker id:hospital #objects:100>\n",
            "Training loss for epoch 10tensor(0.6293, dtype=torch.float64, requires_grad=True)<VirtualWorker id:clinic #objects:115>\n",
            "Training loss for epoch 11tensor(0.7928, dtype=torch.float64, requires_grad=True)<VirtualWorker id:hospital #objects:100>\n",
            "Training loss for epoch 11tensor(0.6266, dtype=torch.float64, requires_grad=True)<VirtualWorker id:clinic #objects:115>\n",
            "Training loss for epoch 12tensor(0.7917, dtype=torch.float64, requires_grad=True)<VirtualWorker id:hospital #objects:100>\n",
            "Training loss for epoch 12tensor(0.6241, dtype=torch.float64, requires_grad=True)<VirtualWorker id:clinic #objects:115>\n",
            "Training loss for epoch 13tensor(0.7909, dtype=torch.float64, requires_grad=True)<VirtualWorker id:hospital #objects:100>\n",
            "Training loss for epoch 13tensor(0.6217, dtype=torch.float64, requires_grad=True)<VirtualWorker id:clinic #objects:115>\n",
            "Training loss for epoch 14tensor(0.7902, dtype=torch.float64, requires_grad=True)<VirtualWorker id:hospital #objects:100>\n",
            "Training loss for epoch 14tensor(0.6196, dtype=torch.float64, requires_grad=True)<VirtualWorker id:clinic #objects:115>\n",
            "Training loss for epoch 15tensor(0.7909, dtype=torch.float64, requires_grad=True)<VirtualWorker id:hospital #objects:100>\n",
            "Training loss for epoch 15tensor(0.6173, dtype=torch.float64, requires_grad=True)<VirtualWorker id:clinic #objects:115>\n",
            "Training loss for epoch 16tensor(0.7904, dtype=torch.float64, requires_grad=True)<VirtualWorker id:hospital #objects:100>\n",
            "Training loss for epoch 16tensor(0.6155, dtype=torch.float64, requires_grad=True)<VirtualWorker id:clinic #objects:115>\n",
            "Training loss for epoch 17tensor(0.7897, dtype=torch.float64, requires_grad=True)<VirtualWorker id:hospital #objects:100>\n",
            "Training loss for epoch 17tensor(0.6140, dtype=torch.float64, requires_grad=True)<VirtualWorker id:clinic #objects:115>\n",
            "Training loss for epoch 18tensor(0.7884, dtype=torch.float64, requires_grad=True)<VirtualWorker id:hospital #objects:100>\n",
            "Training loss for epoch 18tensor(0.6126, dtype=torch.float64, requires_grad=True)<VirtualWorker id:clinic #objects:115>\n",
            "Training loss for epoch 19tensor(0.7874, dtype=torch.float64, requires_grad=True)<VirtualWorker id:hospital #objects:100>\n",
            "Training loss for epoch 19tensor(0.6114, dtype=torch.float64, requires_grad=True)<VirtualWorker id:clinic #objects:115>\n"
          ],
          "name": "stdout"
        }
      ]
    },
    {
      "cell_type": "code",
      "metadata": {
        "id": "VhWxZr8NihDn",
        "colab_type": "code",
        "colab": {
          "base_uri": "https://localhost:8080/",
          "height": 35
        },
        "outputId": "b9a2ea22-c8f5-4020-9123-0d35046cf514"
      },
      "source": [
        "correct = 0\n",
        "total = 0\n",
        "with torch.no_grad():\n",
        "    for data in test_loader:\n",
        "        images, labels = data\n",
        "        outputs = CNN(images)\n",
        "        _, predicted = torch.max(outputs.data, 1)\n",
        "        total += labels.size(0)\n",
        "        correct += (predicted == labels).sum().item()\n",
        "    \n",
        "print('Accuracy of the network on test images: %d %%' % (100 * correct / total))"
      ],
      "execution_count": null,
      "outputs": [
        {
          "output_type": "stream",
          "text": [
            "Accuracy of the network on test images: 78 %\n"
          ],
          "name": "stdout"
        }
      ]
    },
    {
      "cell_type": "code",
      "metadata": {
        "id": "pPNvUR_2pp-c",
        "colab_type": "code",
        "colab": {}
      },
      "source": [
        ""
      ],
      "execution_count": null,
      "outputs": []
    }
  ]
}
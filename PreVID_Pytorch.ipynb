{
  "nbformat": 4,
  "nbformat_minor": 0,
  "metadata": {
    "colab": {
      "name": "PreVID_Pytorch.ipynb",
      "provenance": [],
      "collapsed_sections": [],
      "include_colab_link": true
    },
    "kernelspec": {
      "name": "python3",
      "display_name": "Python 3"
    },
    "accelerator": "GPU"
  },
  "cells": [
    {
      "cell_type": "markdown",
      "metadata": {
        "id": "view-in-github",
        "colab_type": "text"
      },
      "source": [
        "<a href=\"https://colab.research.google.com/github/harshitadd/CrossSiloFLDemo/blob/master/PreVID_Pytorch.ipynb\" target=\"_parent\"><img src=\"https://colab.research.google.com/assets/colab-badge.svg\" alt=\"Open In Colab\"/></a>"
      ]
    },
    {
      "cell_type": "code",
      "metadata": {
        "id": "A6bD7JbBq0D6",
        "colab_type": "code",
        "outputId": "74694b8a-ce2b-4428-8e9c-19749b821efc",
        "colab": {
          "base_uri": "https://localhost:8080/",
          "height": 121
        }
      },
      "source": [
        "##Importing Mini Batch Data \n",
        "import os \n",
        "from google.colab import drive\n",
        "drive.mount('/content/drive')"
      ],
      "execution_count": 1,
      "outputs": [
        {
          "output_type": "stream",
          "text": [
            "Go to this URL in a browser: https://accounts.google.com/o/oauth2/auth?client_id=947318989803-6bn6qk8qdgf4n4g3pfee6491hc0brc4i.apps.googleusercontent.com&redirect_uri=urn%3aietf%3awg%3aoauth%3a2.0%3aoob&response_type=code&scope=email%20https%3a%2f%2fwww.googleapis.com%2fauth%2fdocs.test%20https%3a%2f%2fwww.googleapis.com%2fauth%2fdrive%20https%3a%2f%2fwww.googleapis.com%2fauth%2fdrive.photos.readonly%20https%3a%2f%2fwww.googleapis.com%2fauth%2fpeopleapi.readonly\n",
            "\n",
            "Enter your authorization code:\n",
            "··········\n",
            "Mounted at /content/drive\n"
          ],
          "name": "stdout"
        }
      ]
    },
    {
      "cell_type": "code",
      "metadata": {
        "id": "PGCc2bqpi5mc",
        "colab_type": "code",
        "outputId": "dda53765-73ba-43d2-c5f8-645b0e353d90",
        "colab": {
          "base_uri": "https://localhost:8080/",
          "height": 121
        }
      },
      "source": [
        "!pip install pydicom \n",
        "import pydicom \n",
        "import cv2\n",
        "import matplotlib.pyplot as plt "
      ],
      "execution_count": 2,
      "outputs": [
        {
          "output_type": "stream",
          "text": [
            "Collecting pydicom\n",
            "\u001b[?25l  Downloading https://files.pythonhosted.org/packages/53/e6/4cae2b4b2fdbea5e2ddd188361139606d8f10f710ba1abecd6600da099c3/pydicom-1.4.2-py2.py3-none-any.whl (35.3MB)\n",
            "\u001b[K     |████████████████████████████████| 35.3MB 94kB/s \n",
            "\u001b[?25hInstalling collected packages: pydicom\n",
            "Successfully installed pydicom-1.4.2\n"
          ],
          "name": "stdout"
        }
      ]
    },
    {
      "cell_type": "code",
      "metadata": {
        "id": "Nwuyc_DerKUv",
        "colab_type": "code",
        "colab": {}
      },
      "source": [
        "dcm_path=os.listdir('/content/drive/My Drive/Fed_Covid/minibatch/')\n",
        "dcm_data={}\n",
        "\n",
        "alpha = 1.5 # Contrast control (1.0-3.0)\n",
        "beta = 0 # Brightness control (0-100)\n",
        "\n",
        "ctr=0\n",
        "for file in dcm_path:\n",
        "  name = '/content/drive/My Drive/Fed_Covid/minibatch/' + file\n",
        "  temp = pydicom.dcmread(name)\n",
        "  image = temp.pixel_array\n",
        "  image = cv2.cvtColor(image, cv2.COLOR_BGR2RGB)\n",
        "  adjusted = cv2.resize(image,(64,64))\n",
        "  dcm_data[file]=adjusted\n",
        "  ctr+=1\n",
        "  print(ctr)"
      ],
      "execution_count": 0,
      "outputs": []
    },
    {
      "cell_type": "code",
      "metadata": {
        "id": "BuoufluUrqEK",
        "colab_type": "code",
        "colab": {}
      },
      "source": [
        "import csv \n",
        "labels=[]\n",
        "with open('/content/drive/My Drive/Fed_Covid/stage_2_train_labels.csv','r') as file:\n",
        "  reader = csv.reader(file)\n",
        "  for row in reader:\n",
        "    labels.append(row)"
      ],
      "execution_count": 0,
      "outputs": []
    },
    {
      "cell_type": "code",
      "metadata": {
        "id": "TsrBQdKQtBON",
        "colab_type": "code",
        "colab": {}
      },
      "source": [
        "from sklearn.preprocessing import MinMaxScaler \n",
        "import numpy as np\n",
        "scaler = MinMaxScaler()\n",
        "pid=[]\n",
        "dicom=[]\n",
        "label=[]\n",
        "cid = 0\n",
        "for PID in labels:\n",
        "  for key in dcm_data:\n",
        "    if(key[:-4]==PID[0]):\n",
        "      l=[]\n",
        "      for val in dcm_data[key]:\n",
        "        l.append(scaler.fit_transform(val))\n",
        "      l = np.reshape(l,(3,64,64))\n",
        "      dicom.append(l)\n",
        "      label.append(int(PID[5]))\n",
        "      "
      ],
      "execution_count": 0,
      "outputs": []
    },
    {
      "cell_type": "code",
      "metadata": {
        "id": "rAao-ysuA935",
        "colab_type": "code",
        "outputId": "227acb9b-a42c-474a-abff-c5ce560bb89f",
        "colab": {
          "base_uri": "https://localhost:8080/",
          "height": 34
        }
      },
      "source": [
        "import numpy as np\n",
        "print(np.shape(dicom[0]))"
      ],
      "execution_count": 13,
      "outputs": [
        {
          "output_type": "stream",
          "text": [
            "(64, 64, 3)\n"
          ],
          "name": "stdout"
        }
      ]
    },
    {
      "cell_type": "code",
      "metadata": {
        "id": "4VS2_fMt55jL",
        "colab_type": "code",
        "colab": {}
      },
      "source": [
        "import torch\n",
        "import torch.nn as nn\n",
        "import torch.nn.functional as F\n",
        "import torch.optim as optim\n",
        "from torchvision import datasets, transforms"
      ],
      "execution_count": 0,
      "outputs": []
    },
    {
      "cell_type": "code",
      "metadata": {
        "id": "v_RmWwNe3i1k",
        "colab_type": "code",
        "colab": {}
      },
      "source": [
        "from torch.utils.data import DataLoader, Dataset"
      ],
      "execution_count": 0,
      "outputs": []
    },
    {
      "cell_type": "markdown",
      "metadata": {
        "id": "nQ1qdaL-B1_C",
        "colab_type": "text"
      },
      "source": [
        ""
      ]
    },
    {
      "cell_type": "code",
      "metadata": {
        "id": "o3NqRdoZAQJl",
        "colab_type": "code",
        "colab": {}
      },
      "source": [
        "import pandas as pd \n",
        "df = pd.DataFrame()\n",
        "df['features']=dicom\n",
        "df['labels']=label"
      ],
      "execution_count": 0,
      "outputs": []
    },
    {
      "cell_type": "code",
      "metadata": {
        "id": "qUNToibvesgo",
        "colab_type": "code",
        "colab": {
          "base_uri": "https://localhost:8080/",
          "height": 402
        },
        "outputId": "75524c4a-b0d8-46e9-f123-a87c4ad9a4a6"
      },
      "source": [
        "df"
      ],
      "execution_count": 19,
      "outputs": [
        {
          "output_type": "execute_result",
          "data": {
            "text/html": [
              "<div>\n",
              "<style scoped>\n",
              "    .dataframe tbody tr th:only-of-type {\n",
              "        vertical-align: middle;\n",
              "    }\n",
              "\n",
              "    .dataframe tbody tr th {\n",
              "        vertical-align: top;\n",
              "    }\n",
              "\n",
              "    .dataframe thead th {\n",
              "        text-align: right;\n",
              "    }\n",
              "</style>\n",
              "<table border=\"1\" class=\"dataframe\">\n",
              "  <thead>\n",
              "    <tr style=\"text-align: right;\">\n",
              "      <th></th>\n",
              "      <th>features</th>\n",
              "      <th>labels</th>\n",
              "    </tr>\n",
              "  </thead>\n",
              "  <tbody>\n",
              "    <tr>\n",
              "      <th>0</th>\n",
              "      <td>[[[0.0, 0.0, 0.0, 0.005405405405405406, 0.0054...</td>\n",
              "      <td>0</td>\n",
              "    </tr>\n",
              "    <tr>\n",
              "      <th>1</th>\n",
              "      <td>[[[1.0, 1.0, 1.0, 0.37305699481865284, 0.37305...</td>\n",
              "      <td>0</td>\n",
              "    </tr>\n",
              "    <tr>\n",
              "      <th>2</th>\n",
              "      <td>[[[0.0, 0.0, 0.0, 0.0, 0.0, 0.0, 0.0, 0.0, 0.0...</td>\n",
              "      <td>0</td>\n",
              "    </tr>\n",
              "    <tr>\n",
              "      <th>3</th>\n",
              "      <td>[[[0.005208333333333333, 0.005208333333333333,...</td>\n",
              "      <td>0</td>\n",
              "    </tr>\n",
              "    <tr>\n",
              "      <th>4</th>\n",
              "      <td>[[[0.0, 0.0, 0.0, 0.0, 0.0, 0.0, 0.0, 0.0, 0.0...</td>\n",
              "      <td>0</td>\n",
              "    </tr>\n",
              "    <tr>\n",
              "      <th>...</th>\n",
              "      <td>...</td>\n",
              "      <td>...</td>\n",
              "    </tr>\n",
              "    <tr>\n",
              "      <th>424</th>\n",
              "      <td>[[[0.013333333333333332, 0.013333333333333332,...</td>\n",
              "      <td>1</td>\n",
              "    </tr>\n",
              "    <tr>\n",
              "      <th>425</th>\n",
              "      <td>[[[0.018404907975460124, 0.018404907975460124,...</td>\n",
              "      <td>0</td>\n",
              "    </tr>\n",
              "    <tr>\n",
              "      <th>426</th>\n",
              "      <td>[[[0.0, 0.0, 0.0, 0.2066115702479339, 0.206611...</td>\n",
              "      <td>0</td>\n",
              "    </tr>\n",
              "    <tr>\n",
              "      <th>427</th>\n",
              "      <td>[[[0.0, 0.0, 0.0, 0.0, 0.0, 0.0, 0.0, 0.0, 0.0...</td>\n",
              "      <td>0</td>\n",
              "    </tr>\n",
              "    <tr>\n",
              "      <th>428</th>\n",
              "      <td>[[[0.022624434389140267, 0.022624434389140267,...</td>\n",
              "      <td>0</td>\n",
              "    </tr>\n",
              "  </tbody>\n",
              "</table>\n",
              "<p>429 rows × 2 columns</p>\n",
              "</div>"
            ],
            "text/plain": [
              "                                              features  labels\n",
              "0    [[[0.0, 0.0, 0.0, 0.005405405405405406, 0.0054...       0\n",
              "1    [[[1.0, 1.0, 1.0, 0.37305699481865284, 0.37305...       0\n",
              "2    [[[0.0, 0.0, 0.0, 0.0, 0.0, 0.0, 0.0, 0.0, 0.0...       0\n",
              "3    [[[0.005208333333333333, 0.005208333333333333,...       0\n",
              "4    [[[0.0, 0.0, 0.0, 0.0, 0.0, 0.0, 0.0, 0.0, 0.0...       0\n",
              "..                                                 ...     ...\n",
              "424  [[[0.013333333333333332, 0.013333333333333332,...       1\n",
              "425  [[[0.018404907975460124, 0.018404907975460124,...       0\n",
              "426  [[[0.0, 0.0, 0.0, 0.2066115702479339, 0.206611...       0\n",
              "427  [[[0.0, 0.0, 0.0, 0.0, 0.0, 0.0, 0.0, 0.0, 0.0...       0\n",
              "428  [[[0.022624434389140267, 0.022624434389140267,...       0\n",
              "\n",
              "[429 rows x 2 columns]"
            ]
          },
          "metadata": {
            "tags": []
          },
          "execution_count": 19
        }
      ]
    },
    {
      "cell_type": "code",
      "metadata": {
        "id": "x8KCNM1rpsJb",
        "colab_type": "code",
        "colab": {}
      },
      "source": [
        "class data_maker(Dataset):\n",
        "  def __init__(self, data):\n",
        "        self.data = data\n",
        "        \n",
        "  def __len__(self):\n",
        "      return len(self.data)\n",
        "  \n",
        "  def __getitem__(self, index):\n",
        "      target = np.array(self.data['labels'][index])\n",
        "      data_val = np.array(self.data['features'][index])\n",
        "\n",
        "      return data_val,target\n",
        "      \n",
        "        "
      ],
      "execution_count": 0,
      "outputs": []
    },
    {
      "cell_type": "code",
      "metadata": {
        "id": "jEKcnwRC_jdg",
        "colab_type": "code",
        "colab": {}
      },
      "source": [
        "train_data = data_maker(df)"
      ],
      "execution_count": 0,
      "outputs": []
    },
    {
      "cell_type": "code",
      "metadata": {
        "id": "q5ywRk9iph9Y",
        "colab_type": "code",
        "colab": {}
      },
      "source": [
        "def get_train_data(batch_size):\n",
        "      train_loader = torch.utils.data.DataLoader(train_data, batch_size=batch_size, shuffle=False)\n",
        "      return train_loader"
      ],
      "execution_count": 0,
      "outputs": []
    },
    {
      "cell_type": "code",
      "metadata": {
        "id": "VnZroxhT92mG",
        "colab_type": "code",
        "colab": {
          "base_uri": "https://localhost:8080/",
          "height": 34
        },
        "outputId": "bada5e78-b38d-46c0-b0cd-a2ce562982a9"
      },
      "source": [
        "train_loader= get_train_data(batch_size=8)\n",
        "n_batches = len(train_loader)\n",
        "for i, data in enumerate(train_loader, 0):\n",
        "       inputs, labels = data\n",
        "       print(np.shape(inputs))\n",
        "       break   "
      ],
      "execution_count": 26,
      "outputs": [
        {
          "output_type": "stream",
          "text": [
            "torch.Size([8, 3, 64, 64])\n"
          ],
          "name": "stdout"
        }
      ]
    },
    {
      "cell_type": "code",
      "metadata": {
        "id": "ZZVk19riCoDj",
        "colab_type": "code",
        "colab": {}
      },
      "source": [
        "class Net(nn.Module):\n",
        "    def __init__(self):\n",
        "        super().__init__()\n",
        "\n",
        "        # Input - (32,1024,1024)\n",
        "  \n",
        "        self.conv1 = nn.Conv2d(3,32, kernel_size=8, stride = 2)  #I/P - 1*32\n",
        "        self.pool1 = nn.MaxPool2d(kernel_size=4,stride=2,padding=0)  \n",
        "        self.conv2 = nn.Conv2d(32, 64, 8)\n",
        "        self.pool2 = nn.MaxPool2d(4,2,padding=0)\n",
        "        self.fc1 = nn.Linear(256, 64*64)\n",
        "        self.fc2 = nn.Linear(64*64, 64)\n",
        "        self.fc3 = nn.Linear(64, 8)\n",
        "\n",
        "    def forward(self, x):\n",
        "        \n",
        "        x = F.relu(self.conv1(x))\n",
        "        # Input of 1*1024*1024 going to 32*1024*1024  - 1*64*64 going to 32*64*64\n",
        "        x = self.pool1(x)\n",
        "        # Input of 32*1024*1024 going to 32*256*256 - 32*64*64 going to 32*16*16\n",
        "        x = F.relu(self.conv2(x))\n",
        "        # Input of 32*256*256 to 64*256*256 - 32*16*16 to 64*16*16\n",
        "        x = self.pool2(x)\n",
        "        # Input of 64*256*256 to 64*64*64 - 64*16*16 going to 64*4*4\n",
        "\n",
        "        x = x.view(-1,64*4)\n",
        "     \n",
        "        x = F.relu(self.fc1(x))\n",
        "        x = F.relu(self.fc2(x))\n",
        "        x = self.fc3(x)\n",
        "        return F.log_softmax(x, dim=1)"
      ],
      "execution_count": 0,
      "outputs": []
    },
    {
      "cell_type": "code",
      "metadata": {
        "id": "XAXTrUmoC7Jy",
        "colab_type": "code",
        "colab": {}
      },
      "source": [
        "def createLossAndOptimizer(net, learning_rate=0.001):\n",
        "    \n",
        "    #Loss function\n",
        "    loss = torch.nn.CrossEntropyLoss()\n",
        "    \n",
        "    #Optimizer\n",
        "    optimizer = optim.Adam(net.parameters(), lr=learning_rate)\n",
        "    \n",
        "    return(loss, optimizer)"
      ],
      "execution_count": 0,
      "outputs": []
    },
    {
      "cell_type": "code",
      "metadata": {
        "id": "Uwmnvfa4CoAe",
        "colab_type": "code",
        "colab": {}
      },
      "source": [
        "import time\n",
        "from torch.autograd import Variable\n",
        "def trainNet(net, batch_size, n_epochs, learning_rate):\n",
        "    \n",
        "    \n",
        "    #Get training data\n",
        "    train_loader = get_train_data(batch_size=8)\n",
        "    n_batches = len(train_loader)\n",
        "    \n",
        "    #Create our loss and optimizer functions\n",
        "    loss, optimizer = createLossAndOptimizer(net, learning_rate)\n",
        "    \n",
        "    #Time for printing\n",
        "    training_start_time = time.time()\n",
        "    \n",
        "    #Loop for n_epochs\n",
        "    for epoch in range(n_epochs):\n",
        "        \n",
        "        running_loss = 0.0\n",
        "        print_every = n_batches // 10\n",
        "        start_time = time.time()\n",
        "        total_train_loss = 0\n",
        "        \n",
        "        for i, data in enumerate(train_loader, 0):\n",
        "            \n",
        "            #Get inputs\n",
        "            inputs, labels = data\n",
        "      \n",
        "            #Wrap them in a Variable object\n",
        "            inputs, labels = Variable(inputs), Variable(labels)\n",
        "            \n",
        "            #Set the parameter gradients to zero\n",
        "            optimizer.zero_grad()\n",
        "            \n",
        "            #Forward pass, backward pass, optimize\n",
        "            outputs = net(inputs)\n",
        "            loss_size = loss(outputs, labels)\n",
        "            loss_size.backward()\n",
        "            optimizer.step()\n",
        "            \n",
        "            #Print statistics\n",
        "            running_loss += loss_size.data\n",
        "            total_train_loss += loss_size.data\n",
        "            \n",
        "            #Print every 10th batch of an epoch\n",
        "            if (i + 1) % (print_every + 1) == 0:\n",
        "                print(\"Epoch {}, {:d}% \\t train_loss: {:.2f} took: {:.2f}s\".format(\n",
        "                        epoch+1, int(100 * (i+1) / n_batches), running_loss / print_every, time.time() - start_time))\n",
        "                #Reset running loss and time\n",
        "                running_loss = 0.0\n",
        "                start_time = time.time()\n",
        "            \n",
        "        #At the end of the epoch, do a pass on the validation set\n",
        "        total_val_loss = 0\n",
        "        \n",
        "    print(\"Training finished, took {:.2f}s\".format(time.time() - training_start_time))"
      ],
      "execution_count": 0,
      "outputs": []
    },
    {
      "cell_type": "code",
      "metadata": {
        "id": "nqld5wnmCn9z",
        "colab_type": "code",
        "colab": {
          "base_uri": "https://localhost:8080/",
          "height": 336
        },
        "outputId": "6a16cc85-ee72-4689-baef-6c7ec0fca420"
      },
      "source": [
        "CNN = Net()\n",
        "trainNet(CNN.double(), batch_size=8, n_epochs=2\n",
        "         , learning_rate=0.001)"
      ],
      "execution_count": 56,
      "outputs": [
        {
          "output_type": "stream",
          "text": [
            "Epoch 1, 11% \t train_loss: 1.43 took: 0.45s\n",
            "Epoch 1, 22% \t train_loss: 0.77 took: 0.45s\n",
            "Epoch 1, 33% \t train_loss: 0.55 took: 0.45s\n",
            "Epoch 1, 44% \t train_loss: 1.09 took: 0.45s\n",
            "Epoch 1, 55% \t train_loss: 0.92 took: 0.46s\n",
            "Epoch 1, 66% \t train_loss: 0.50 took: 0.47s\n",
            "Epoch 1, 77% \t train_loss: 0.64 took: 0.44s\n",
            "Epoch 1, 88% \t train_loss: 0.38 took: 0.45s\n",
            "Epoch 1, 100% \t train_loss: 0.70 took: 0.43s\n",
            "Epoch 2, 11% \t train_loss: 0.67 took: 0.46s\n",
            "Epoch 2, 22% \t train_loss: 0.71 took: 0.46s\n",
            "Epoch 2, 33% \t train_loss: 0.46 took: 0.46s\n",
            "Epoch 2, 44% \t train_loss: 0.92 took: 0.45s\n",
            "Epoch 2, 55% \t train_loss: 0.82 took: 0.45s\n",
            "Epoch 2, 66% \t train_loss: 0.48 took: 0.45s\n",
            "Epoch 2, 77% \t train_loss: 0.74 took: 0.44s\n",
            "Epoch 2, 88% \t train_loss: 0.38 took: 0.45s\n",
            "Epoch 2, 100% \t train_loss: 0.55 took: 0.44s\n",
            "Training finished, took 8.11s\n"
          ],
          "name": "stdout"
        }
      ]
    },
    {
      "cell_type": "markdown",
      "metadata": {
        "id": "23BK7JnCyL42",
        "colab_type": "text"
      },
      "source": [
        "https://pytorch.org/tutorials/beginner/blitz/cifar10_tutorial.html - Test Loader"
      ]
    },
    {
      "cell_type": "markdown",
      "metadata": {
        "id": "dp0Y6Q1o53O0",
        "colab_type": "text"
      },
      "source": [
        "PYTORCH IMPLEMENTATION\n"
      ]
    },
    {
      "cell_type": "code",
      "metadata": {
        "id": "XhFi69Mxs34D",
        "colab_type": "code",
        "colab": {}
      },
      "source": [
        "!pip install syft"
      ],
      "execution_count": 0,
      "outputs": []
    },
    {
      "cell_type": "code",
      "metadata": {
        "id": "kwsjmf7u58ix",
        "colab_type": "code",
        "colab": {}
      },
      "source": [
        "import syft as sy \n",
        "\n",
        "hook = sy.TorchHook(torch)"
      ],
      "execution_count": 0,
      "outputs": []
    },
    {
      "cell_type": "code",
      "metadata": {
        "id": "VxhCrtwXtiO9",
        "colab_type": "code",
        "colab": {}
      },
      "source": [
        "hospital = sy.VirtualWorker(hook, id=\"hospital\")  \n",
        "clinic = sy.VirtualWorker(hook, id=\"clinic\")  "
      ],
      "execution_count": 0,
      "outputs": []
    },
    {
      "cell_type": "code",
      "metadata": {
        "id": "F4j-TU2qvcV5",
        "colab_type": "code",
        "colab": {}
      },
      "source": [
        "client_datasets=[(data_hospital,data_hospital_target),(data_clinic, data_clinic_target)]"
      ],
      "execution_count": 0,
      "outputs": []
    }
  ]
}
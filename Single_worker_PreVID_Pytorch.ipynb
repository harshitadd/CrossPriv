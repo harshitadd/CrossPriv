{
  "nbformat": 4,
  "nbformat_minor": 0,
  "metadata": {
    "colab": {
      "name": "Single worker PreVID_Pytorch.ipynb",
      "provenance": [],
      "collapsed_sections": [],
      "toc_visible": true,
      "include_colab_link": true
    },
    "kernelspec": {
      "name": "python3",
      "display_name": "Python 3"
    }
  },
  "cells": [
    {
      "cell_type": "markdown",
      "metadata": {
        "id": "view-in-github",
        "colab_type": "text"
      },
      "source": [
        "<a href=\"https://colab.research.google.com/github/harshitadd/CrossSiloFLDemo/blob/master/Single_worker_PreVID_Pytorch.ipynb\" target=\"_parent\"><img src=\"https://colab.research.google.com/assets/colab-badge.svg\" alt=\"Open In Colab\"/></a>"
      ]
    },
    {
      "cell_type": "code",
      "metadata": {
        "id": "umvNUrPZ2SUm",
        "colab_type": "code",
        "colab": {
          "base_uri": "https://localhost:8080/",
          "height": 34
        },
        "outputId": "05d9806d-fc47-483e-de88-10a775659bc3"
      },
      "source": [
        "print(\"Hellllo\")"
      ],
      "execution_count": 1,
      "outputs": [
        {
          "output_type": "stream",
          "text": [
            "Hellllo\n"
          ],
          "name": "stdout"
        }
      ]
    },
    {
      "cell_type": "code",
      "metadata": {
        "id": "Aoq3s2Yzd15t",
        "colab_type": "code",
        "colab": {
          "base_uri": "https://localhost:8080/",
          "height": 343
        },
        "outputId": "5191f4b3-feeb-48dd-e89f-0aeb246ec63d"
      },
      "source": [
        "!pip install --quiet syft pydicom tqdm"
      ],
      "execution_count": 2,
      "outputs": [
        {
          "output_type": "stream",
          "text": [
            "\u001b[K     |████████████████████████████████| 378kB 2.9MB/s \n",
            "\u001b[K     |████████████████████████████████| 35.3MB 1.3MB/s \n",
            "\u001b[K     |████████████████████████████████| 2.1MB 49.7MB/s \n",
            "\u001b[K     |████████████████████████████████| 51kB 6.9MB/s \n",
            "\u001b[K     |████████████████████████████████| 753.4MB 20kB/s \n",
            "\u001b[K     |████████████████████████████████| 81kB 10.4MB/s \n",
            "\u001b[K     |████████████████████████████████| 204kB 51.4MB/s \n",
            "\u001b[K     |████████████████████████████████| 4.0MB 53.4MB/s \n",
            "\u001b[K     |████████████████████████████████| 61kB 8.7MB/s \n",
            "\u001b[K     |████████████████████████████████| 1.8MB 45.2MB/s \n",
            "\u001b[K     |████████████████████████████████| 1.3MB 51.2MB/s \n",
            "\u001b[K     |████████████████████████████████| 61kB 8.6MB/s \n",
            "\u001b[K     |████████████████████████████████| 61kB 8.7MB/s \n",
            "\u001b[K     |████████████████████████████████| 51kB 7.0MB/s \n",
            "\u001b[?25h  Building wheel for phe (setup.py) ... \u001b[?25l\u001b[?25hdone\n",
            "\u001b[31mERROR: google-colab 1.0.0 has requirement requests~=2.23.0, but you'll have requests 2.22.0 which is incompatible.\u001b[0m\n",
            "\u001b[31mERROR: datascience 0.10.6 has requirement folium==0.2.1, but you'll have folium 0.8.3 which is incompatible.\u001b[0m\n",
            "\u001b[31mERROR: albumentations 0.1.12 has requirement imgaug<0.2.7,>=0.2.5, but you'll have imgaug 0.2.9 which is incompatible.\u001b[0m\n"
          ],
          "name": "stdout"
        }
      ]
    },
    {
      "cell_type": "code",
      "metadata": {
        "id": "A6bD7JbBq0D6",
        "colab_type": "code",
        "colab": {
          "base_uri": "https://localhost:8080/",
          "height": 54
        },
        "outputId": "e6e27cfe-0ff5-4406-bbd9-1765f4233630"
      },
      "source": [
        "##Importing Mini Batch Data \n",
        "import os \n",
        "from google.colab import drive\n",
        "drive.mount('/content/drive')"
      ],
      "execution_count": 3,
      "outputs": [
        {
          "output_type": "stream",
          "text": [
            "Drive already mounted at /content/drive; to attempt to forcibly remount, call drive.mount(\"/content/drive\", force_remount=True).\n"
          ],
          "name": "stdout"
        }
      ]
    },
    {
      "cell_type": "code",
      "metadata": {
        "id": "PGCc2bqpi5mc",
        "colab_type": "code",
        "colab": {}
      },
      "source": [
        "import pydicom \n",
        "import cv2\n",
        "import matplotlib.pyplot as plt "
      ],
      "execution_count": 0,
      "outputs": []
    },
    {
      "cell_type": "code",
      "metadata": {
        "id": "mL_62CgmMCpB",
        "colab_type": "code",
        "colab": {}
      },
      "source": [
        "!pip install tqdm"
      ],
      "execution_count": 0,
      "outputs": []
    },
    {
      "cell_type": "code",
      "metadata": {
        "id": "Nwuyc_DerKUv",
        "colab_type": "code",
        "colab": {
          "base_uri": "https://localhost:8080/",
          "height": 34
        },
        "outputId": "f0d7b5a3-a6c9-4778-b3fb-bbb3974630be"
      },
      "source": [
        "from tqdm import tqdm\n",
        "\n",
        "dcm_path=os.listdir('/content/drive/My Drive/Fed_Covid/minibatch_large/')\n",
        "dcm_data={}\n",
        "\n",
        "alpha = 1.5 # Contrast control (1.0-3.0)\n",
        "beta = 0 # Brightness control (0-100)\n",
        "\n",
        "for file in tqdm(dcm_path):\n",
        "  name = '/content/drive/My Drive/Fed_Covid/minibatch_large/' + file\n",
        "  temp = pydicom.dcmread(name)\n",
        "  image = temp.pixel_array\n",
        "  image = cv2.cvtColor(image, cv2.COLOR_BGR2RGB)\n",
        "  adjusted = cv2.resize(image,(64,64))\n",
        "  dcm_data[file]=adjusted"
      ],
      "execution_count": 4,
      "outputs": [
        {
          "output_type": "stream",
          "text": [
            "100%|██████████| 4006/4006 [10:55<00:00,  6.11it/s]\n"
          ],
          "name": "stderr"
        }
      ]
    },
    {
      "cell_type": "code",
      "metadata": {
        "id": "BuoufluUrqEK",
        "colab_type": "code",
        "colab": {
          "base_uri": "https://localhost:8080/",
          "height": 34
        },
        "outputId": "8e884d03-c851-4856-ec57-9964ae0b2576"
      },
      "source": [
        "import csv \n",
        "labels=[]\n",
        "with open('/content/drive/My Drive/Fed_Covid/stage_2_train_labels.csv','r') as file:\n",
        "  reader = csv.reader(file)\n",
        "  for row in tqdm(reader):\n",
        "    labels.append(row)"
      ],
      "execution_count": 5,
      "outputs": [
        {
          "output_type": "stream",
          "text": [
            "30228it [00:00, 60254.91it/s]\n"
          ],
          "name": "stderr"
        }
      ]
    },
    {
      "cell_type": "code",
      "metadata": {
        "id": "34h5oCC_SMH6",
        "colab_type": "code",
        "colab": {}
      },
      "source": [
        "from sklearn.preprocessing import MinMaxScaler \n",
        "import numpy as np\n",
        "scaler = MinMaxScaler()\n",
        "pid=[]\n",
        "dicom=[]\n",
        "label=[]\n",
        "cid = 0\n",
        "for PID in labels:\n",
        "  for key in dcm_data:\n",
        "    if(key[:-4]==PID[0]):\n",
        "      l=[]\n",
        "      for val in dcm_data[key]:\n",
        "        l.append(scaler.fit_transform(val))\n",
        "      l = np.reshape(l,(3,64,64))\n",
        "      dicom.append(l)\n",
        "      label.append(int(PID[5]))\n",
        "      "
      ],
      "execution_count": 0,
      "outputs": []
    },
    {
      "cell_type": "code",
      "metadata": {
        "id": "rAao-ysuA935",
        "colab_type": "code",
        "outputId": "7f4bd174-f430-48ea-c576-2d5d926b63ee",
        "colab": {
          "base_uri": "https://localhost:8080/",
          "height": 34
        }
      },
      "source": [
        "import numpy as np\n",
        "print(np.shape(dicom[0]))"
      ],
      "execution_count": 7,
      "outputs": [
        {
          "output_type": "stream",
          "text": [
            "(3, 64, 64)\n"
          ],
          "name": "stdout"
        }
      ]
    },
    {
      "cell_type": "code",
      "metadata": {
        "id": "4VS2_fMt55jL",
        "colab_type": "code",
        "colab": {}
      },
      "source": [
        "import torch\n",
        "import torch.nn as nn\n",
        "import torch.nn.functional as F\n",
        "import torch.optim as optim\n",
        "from torchvision import datasets, transforms"
      ],
      "execution_count": 0,
      "outputs": []
    },
    {
      "cell_type": "code",
      "metadata": {
        "id": "v_RmWwNe3i1k",
        "colab_type": "code",
        "colab": {}
      },
      "source": [
        "from torch.utils.data import DataLoader, Dataset"
      ],
      "execution_count": 0,
      "outputs": []
    },
    {
      "cell_type": "markdown",
      "metadata": {
        "id": "nQ1qdaL-B1_C",
        "colab_type": "text"
      },
      "source": [
        ""
      ]
    },
    {
      "cell_type": "code",
      "metadata": {
        "id": "td7w-9SHFgaK",
        "colab_type": "code",
        "colab": {}
      },
      "source": [
        "from sklearn.model_selection import train_test_split\n",
        "x_train, x_test, y_train, y_test = train_test_split(dicom,label,test_size=0.3)"
      ],
      "execution_count": 0,
      "outputs": []
    },
    {
      "cell_type": "code",
      "metadata": {
        "id": "o3NqRdoZAQJl",
        "colab_type": "code",
        "colab": {}
      },
      "source": [
        "import pandas as pd \n",
        "train_df = pd.DataFrame()\n",
        "train_df['features']=x_train\n",
        "train_df['labels']=y_train"
      ],
      "execution_count": 0,
      "outputs": []
    },
    {
      "cell_type": "code",
      "metadata": {
        "id": "qUNToibvesgo",
        "colab_type": "code",
        "outputId": "5e1e7c0c-e8a0-463c-a4ce-b31cef3a68ec",
        "colab": {
          "base_uri": "https://localhost:8080/",
          "height": 419
        }
      },
      "source": [
        "train_df"
      ],
      "execution_count": 12,
      "outputs": [
        {
          "output_type": "execute_result",
          "data": {
            "text/html": [
              "<div>\n",
              "<style scoped>\n",
              "    .dataframe tbody tr th:only-of-type {\n",
              "        vertical-align: middle;\n",
              "    }\n",
              "\n",
              "    .dataframe tbody tr th {\n",
              "        vertical-align: top;\n",
              "    }\n",
              "\n",
              "    .dataframe thead th {\n",
              "        text-align: right;\n",
              "    }\n",
              "</style>\n",
              "<table border=\"1\" class=\"dataframe\">\n",
              "  <thead>\n",
              "    <tr style=\"text-align: right;\">\n",
              "      <th></th>\n",
              "      <th>features</th>\n",
              "      <th>labels</th>\n",
              "    </tr>\n",
              "  </thead>\n",
              "  <tbody>\n",
              "    <tr>\n",
              "      <th>0</th>\n",
              "      <td>[[[0.5824175824175826, 0.5824175824175826, 0.5...</td>\n",
              "      <td>0</td>\n",
              "    </tr>\n",
              "    <tr>\n",
              "      <th>1</th>\n",
              "      <td>[[[0.22307692307692306, 0.22307692307692306, 0...</td>\n",
              "      <td>0</td>\n",
              "    </tr>\n",
              "    <tr>\n",
              "      <th>2</th>\n",
              "      <td>[[[0.0, 0.0, 0.0, 0.0, 0.0, 0.0, 0.0, 0.0, 0.0...</td>\n",
              "      <td>0</td>\n",
              "    </tr>\n",
              "    <tr>\n",
              "      <th>3</th>\n",
              "      <td>[[[0.26754385964912275, 0.26754385964912275, 0...</td>\n",
              "      <td>0</td>\n",
              "    </tr>\n",
              "    <tr>\n",
              "      <th>4</th>\n",
              "      <td>[[[0.007936507936507936, 0.007936507936507936,...</td>\n",
              "      <td>1</td>\n",
              "    </tr>\n",
              "    <tr>\n",
              "      <th>...</th>\n",
              "      <td>...</td>\n",
              "      <td>...</td>\n",
              "    </tr>\n",
              "    <tr>\n",
              "      <th>2984</th>\n",
              "      <td>[[[0.4678111587982833, 0.4678111587982833, 0.4...</td>\n",
              "      <td>0</td>\n",
              "    </tr>\n",
              "    <tr>\n",
              "      <th>2985</th>\n",
              "      <td>[[[0.0, 0.0, 0.0, 0.0, 0.0, 0.0, 0.0, 0.0, 0.0...</td>\n",
              "      <td>0</td>\n",
              "    </tr>\n",
              "    <tr>\n",
              "      <th>2986</th>\n",
              "      <td>[[[0.0, 0.0, 0.0, 0.0, 0.0, 0.0, 0.0, 0.0, 0.0...</td>\n",
              "      <td>1</td>\n",
              "    </tr>\n",
              "    <tr>\n",
              "      <th>2987</th>\n",
              "      <td>[[[0.5576923076923079, 0.5576923076923079, 0.5...</td>\n",
              "      <td>0</td>\n",
              "    </tr>\n",
              "    <tr>\n",
              "      <th>2988</th>\n",
              "      <td>[[[0.0, 0.0, 0.0, 0.16666666666666669, 0.16666...</td>\n",
              "      <td>0</td>\n",
              "    </tr>\n",
              "  </tbody>\n",
              "</table>\n",
              "<p>2989 rows × 2 columns</p>\n",
              "</div>"
            ],
            "text/plain": [
              "                                               features  labels\n",
              "0     [[[0.5824175824175826, 0.5824175824175826, 0.5...       0\n",
              "1     [[[0.22307692307692306, 0.22307692307692306, 0...       0\n",
              "2     [[[0.0, 0.0, 0.0, 0.0, 0.0, 0.0, 0.0, 0.0, 0.0...       0\n",
              "3     [[[0.26754385964912275, 0.26754385964912275, 0...       0\n",
              "4     [[[0.007936507936507936, 0.007936507936507936,...       1\n",
              "...                                                 ...     ...\n",
              "2984  [[[0.4678111587982833, 0.4678111587982833, 0.4...       0\n",
              "2985  [[[0.0, 0.0, 0.0, 0.0, 0.0, 0.0, 0.0, 0.0, 0.0...       0\n",
              "2986  [[[0.0, 0.0, 0.0, 0.0, 0.0, 0.0, 0.0, 0.0, 0.0...       1\n",
              "2987  [[[0.5576923076923079, 0.5576923076923079, 0.5...       0\n",
              "2988  [[[0.0, 0.0, 0.0, 0.16666666666666669, 0.16666...       0\n",
              "\n",
              "[2989 rows x 2 columns]"
            ]
          },
          "metadata": {
            "tags": []
          },
          "execution_count": 12
        }
      ]
    },
    {
      "cell_type": "code",
      "metadata": {
        "id": "s9z6ilRdGAeS",
        "colab_type": "code",
        "colab": {}
      },
      "source": [
        "test_df = pd.DataFrame()\n",
        "test_df['features']=x_test\n",
        "test_df['labels']=y_test"
      ],
      "execution_count": 0,
      "outputs": []
    },
    {
      "cell_type": "code",
      "metadata": {
        "id": "j2ECSet58e4L",
        "colab_type": "code",
        "colab": {
          "base_uri": "https://localhost:8080/",
          "height": 419
        },
        "outputId": "1123b906-2ef0-46f2-b111-b0310ee830d6"
      },
      "source": [
        "test_df"
      ],
      "execution_count": 14,
      "outputs": [
        {
          "output_type": "execute_result",
          "data": {
            "text/html": [
              "<div>\n",
              "<style scoped>\n",
              "    .dataframe tbody tr th:only-of-type {\n",
              "        vertical-align: middle;\n",
              "    }\n",
              "\n",
              "    .dataframe tbody tr th {\n",
              "        vertical-align: top;\n",
              "    }\n",
              "\n",
              "    .dataframe thead th {\n",
              "        text-align: right;\n",
              "    }\n",
              "</style>\n",
              "<table border=\"1\" class=\"dataframe\">\n",
              "  <thead>\n",
              "    <tr style=\"text-align: right;\">\n",
              "      <th></th>\n",
              "      <th>features</th>\n",
              "      <th>labels</th>\n",
              "    </tr>\n",
              "  </thead>\n",
              "  <tbody>\n",
              "    <tr>\n",
              "      <th>0</th>\n",
              "      <td>[[[0.0, 0.0, 0.0, 0.0, 0.0, 0.0, 0.0, 0.0, 0.0...</td>\n",
              "      <td>0</td>\n",
              "    </tr>\n",
              "    <tr>\n",
              "      <th>1</th>\n",
              "      <td>[[[0.009433962264150945, 0.009433962264150945,...</td>\n",
              "      <td>0</td>\n",
              "    </tr>\n",
              "    <tr>\n",
              "      <th>2</th>\n",
              "      <td>[[[0.0, 0.0, 0.0, 0.0, 0.0, 0.0, 0.0, 0.0, 0.0...</td>\n",
              "      <td>0</td>\n",
              "    </tr>\n",
              "    <tr>\n",
              "      <th>3</th>\n",
              "      <td>[[[0.5232558139534882, 0.5232558139534882, 0.5...</td>\n",
              "      <td>0</td>\n",
              "    </tr>\n",
              "    <tr>\n",
              "      <th>4</th>\n",
              "      <td>[[[0.9095238095238096, 0.9095238095238096, 0.9...</td>\n",
              "      <td>0</td>\n",
              "    </tr>\n",
              "    <tr>\n",
              "      <th>...</th>\n",
              "      <td>...</td>\n",
              "      <td>...</td>\n",
              "    </tr>\n",
              "    <tr>\n",
              "      <th>1276</th>\n",
              "      <td>[[[0.0, 0.0, 0.0, 0.0, 0.0, 0.0, 0.0, 0.0, 0.0...</td>\n",
              "      <td>0</td>\n",
              "    </tr>\n",
              "    <tr>\n",
              "      <th>1277</th>\n",
              "      <td>[[[0.5857142857142857, 0.5857142857142857, 0.5...</td>\n",
              "      <td>0</td>\n",
              "    </tr>\n",
              "    <tr>\n",
              "      <th>1278</th>\n",
              "      <td>[[[1.0, 1.0, 1.0, 0.023668639053254437, 0.0236...</td>\n",
              "      <td>1</td>\n",
              "    </tr>\n",
              "    <tr>\n",
              "      <th>1279</th>\n",
              "      <td>[[[0.046511627906976744, 0.046511627906976744,...</td>\n",
              "      <td>0</td>\n",
              "    </tr>\n",
              "    <tr>\n",
              "      <th>1280</th>\n",
              "      <td>[[[0.0065359477124183, 0.0065359477124183, 0.0...</td>\n",
              "      <td>0</td>\n",
              "    </tr>\n",
              "  </tbody>\n",
              "</table>\n",
              "<p>1281 rows × 2 columns</p>\n",
              "</div>"
            ],
            "text/plain": [
              "                                               features  labels\n",
              "0     [[[0.0, 0.0, 0.0, 0.0, 0.0, 0.0, 0.0, 0.0, 0.0...       0\n",
              "1     [[[0.009433962264150945, 0.009433962264150945,...       0\n",
              "2     [[[0.0, 0.0, 0.0, 0.0, 0.0, 0.0, 0.0, 0.0, 0.0...       0\n",
              "3     [[[0.5232558139534882, 0.5232558139534882, 0.5...       0\n",
              "4     [[[0.9095238095238096, 0.9095238095238096, 0.9...       0\n",
              "...                                                 ...     ...\n",
              "1276  [[[0.0, 0.0, 0.0, 0.0, 0.0, 0.0, 0.0, 0.0, 0.0...       0\n",
              "1277  [[[0.5857142857142857, 0.5857142857142857, 0.5...       0\n",
              "1278  [[[1.0, 1.0, 1.0, 0.023668639053254437, 0.0236...       1\n",
              "1279  [[[0.046511627906976744, 0.046511627906976744,...       0\n",
              "1280  [[[0.0065359477124183, 0.0065359477124183, 0.0...       0\n",
              "\n",
              "[1281 rows x 2 columns]"
            ]
          },
          "metadata": {
            "tags": []
          },
          "execution_count": 14
        }
      ]
    },
    {
      "cell_type": "code",
      "metadata": {
        "id": "x8KCNM1rpsJb",
        "colab_type": "code",
        "colab": {}
      },
      "source": [
        "class data_maker(Dataset):\n",
        "  def __init__(self, data):\n",
        "        self.data = data\n",
        "        \n",
        "  def __len__(self):\n",
        "      return len(self.data)\n",
        "  \n",
        "  def __getitem__(self, index):\n",
        "      target = np.array(self.data['labels'][index])\n",
        "      data_val = np.array(self.data['features'][index])\n",
        "\n",
        "      return data_val,target\n",
        "      \n",
        "        "
      ],
      "execution_count": 0,
      "outputs": []
    },
    {
      "cell_type": "code",
      "metadata": {
        "id": "jEKcnwRC_jdg",
        "colab_type": "code",
        "colab": {}
      },
      "source": [
        "train_data = data_maker(train_df)\n",
        "test_data = data_maker(test_df)"
      ],
      "execution_count": 0,
      "outputs": []
    },
    {
      "cell_type": "code",
      "metadata": {
        "id": "q5ywRk9iph9Y",
        "colab_type": "code",
        "colab": {}
      },
      "source": [
        "def get_train_data(batch_size):\n",
        "      train_loader = torch.utils.data.DataLoader(train_data, batch_size=batch_size, shuffle=False)\n",
        "      return train_loader"
      ],
      "execution_count": 0,
      "outputs": []
    },
    {
      "cell_type": "code",
      "metadata": {
        "id": "61pmSHloG1Lw",
        "colab_type": "code",
        "colab": {}
      },
      "source": [
        "test_loader = torch.utils.data.DataLoader(test_data, batch_size=4)\n"
      ],
      "execution_count": 0,
      "outputs": []
    },
    {
      "cell_type": "code",
      "metadata": {
        "id": "VnZroxhT92mG",
        "colab_type": "code",
        "outputId": "dd8efd42-d7cb-4193-ddf5-ed50faeb18b5",
        "colab": {
          "base_uri": "https://localhost:8080/",
          "height": 34
        }
      },
      "source": [
        "train_loader= get_train_data(batch_size=4)\n",
        "n_batches = len(train_loader)\n",
        "for i, data in enumerate(train_loader, 0):\n",
        "       inputs, labels = data\n",
        "       print(np.shape(inputs))\n",
        "       break   "
      ],
      "execution_count": 19,
      "outputs": [
        {
          "output_type": "stream",
          "text": [
            "torch.Size([4, 3, 64, 64])\n"
          ],
          "name": "stdout"
        }
      ]
    },
    {
      "cell_type": "code",
      "metadata": {
        "id": "ZZVk19riCoDj",
        "colab_type": "code",
        "colab": {}
      },
      "source": [
        "class Net(nn.Module):\n",
        "    def __init__(self):\n",
        "        super().__init__()\n",
        "\n",
        "        # Input - (32,1024,1024)\n",
        "  \n",
        "        self.conv1 = nn.Conv2d(3,32, kernel_size=8, stride = 2)  #I/P - 1*32\n",
        "        self.pool1 = nn.MaxPool2d(kernel_size=4,stride=2,padding=0)  \n",
        "        self.conv2 = nn.Conv2d(32, 64, 8)\n",
        "        self.pool2 = nn.MaxPool2d(4,2,padding=0)\n",
        "        self.fc1 = nn.Linear(256, 64*64)\n",
        "        self.fc2 = nn.Linear(64*64, 64)\n",
        "        self.fc3 = nn.Linear(64, 8)\n",
        "\n",
        "    def forward(self, x):\n",
        "        \n",
        "        x = F.relu(self.conv1(x))\n",
        "        # Input of 1*1024*1024 going to 32*1024*1024  - 1*64*64 going to 32*64*64\n",
        "        x = self.pool1(x)\n",
        "        # Input of 32*1024*1024 going to 32*256*256 - 32*64*64 going to 32*16*16\n",
        "        x = F.relu(self.conv2(x))\n",
        "        # Input of 32*256*256 to 64*256*256 - 32*16*16 to 64*16*16\n",
        "        x = self.pool2(x)\n",
        "        # Input of 64*256*256 to 64*64*64 - 64*16*16 going to 64*4*4\n",
        "\n",
        "        x = x.view(-1,64*4)\n",
        "     \n",
        "        x = F.relu(self.fc1(x))\n",
        "        x = F.relu(self.fc2(x))\n",
        "        x = self.fc3(x)\n",
        "        return F.log_softmax(x, dim=1)"
      ],
      "execution_count": 0,
      "outputs": []
    },
    {
      "cell_type": "code",
      "metadata": {
        "id": "XAXTrUmoC7Jy",
        "colab_type": "code",
        "colab": {}
      },
      "source": [
        "def createLossAndOptimizer(net, learning_rate=0.001):\n",
        "    \n",
        "    #Loss function\n",
        "    loss = torch.nn.CrossEntropyLoss()\n",
        "    \n",
        "    #Optimizer\n",
        "    optimizer = optim.Adam(net.parameters(), lr=learning_rate)\n",
        "    \n",
        "    return(loss, optimizer)"
      ],
      "execution_count": 0,
      "outputs": []
    },
    {
      "cell_type": "code",
      "metadata": {
        "id": "Uwmnvfa4CoAe",
        "colab_type": "code",
        "colab": {}
      },
      "source": [
        "import time\n",
        "from torch.autograd import Variable\n",
        "def trainNet(net, batch_size, n_epochs, learning_rate):\n",
        "    \n",
        "    \n",
        "    #Get training data\n",
        "    train_loader = get_train_data(batch_size=8)\n",
        "    n_batches = len(train_loader)\n",
        "    \n",
        "    #Create our loss and optimizer functions\n",
        "    loss, optimizer = createLossAndOptimizer(net, learning_rate)\n",
        "    \n",
        "    #Time for printing\n",
        "    training_start_time = time.time()\n",
        "    \n",
        "    #Loop for n_epochs\n",
        "    for epoch in range(n_epochs):\n",
        "        \n",
        "        running_loss = 0.0\n",
        "        print_every = n_batches // 10\n",
        "        start_time = time.time()\n",
        "        total_train_loss = 0\n",
        "        \n",
        "        for i, data in enumerate(train_loader, 0):\n",
        "            \n",
        "            #Get inputs\n",
        "            inputs, labels = data\n",
        "          \n",
        "            #Wrap them in a Variable object\n",
        "            inputs, labels = Variable(inputs), Variable(labels)\n",
        "            \n",
        "\n",
        "            #Set the parameter gradients to zero\n",
        "            optimizer.zero_grad()\n",
        "            \n",
        "            \n",
        "\n",
        "            #Forward pass, backward pass, optimize\n",
        "            outputs = net(inputs)\n",
        "            loss_size = loss(outputs, labels)\n",
        "            loss_size.backward()\n",
        "            optimizer.step()\n",
        "            \n",
        "            #Print statistics\n",
        "            running_loss += loss_size.data\n",
        "            total_train_loss += loss_size.data\n",
        "            \n",
        "            #Print every 10th batch of an epoch\n",
        "            if (i + 1) % (print_every + 1) == 0:\n",
        "                print(\"Epoch {}, {:d}% \\t train_loss: {:.2f} took: {:.2f}s\".format(\n",
        "                        epoch+1, int(100 * (i+1) / n_batches), running_loss / print_every, time.time() - start_time))\n",
        "                #Reset running loss and time\n",
        "                running_loss = 0.0\n",
        "                start_time = time.time()\n",
        "            \n",
        "        #At the end of the epoch, do a pass on the validation set\n",
        "        total_val_loss = 0\n",
        "        \n",
        "    print(\"Training finished, took {:.2f}s\".format(time.time() - training_start_time))"
      ],
      "execution_count": 0,
      "outputs": []
    },
    {
      "cell_type": "code",
      "metadata": {
        "id": "nqld5wnmCn9z",
        "colab_type": "code",
        "outputId": "f2884f02-aaf2-45bd-e354-532547251ea6",
        "colab": {
          "base_uri": "https://localhost:8080/",
          "height": 1000
        }
      },
      "source": [
        "CNN = Net()\n",
        "trainNet(CNN.double(), batch_size=8, n_epochs=10\n",
        "         , learning_rate=0.001)"
      ],
      "execution_count": 24,
      "outputs": [
        {
          "output_type": "stream",
          "text": [
            "Epoch 1, 10% \t train_loss: 0.70 took: 2.66s\n",
            "Epoch 1, 20% \t train_loss: 0.51 took: 2.51s\n",
            "Epoch 1, 30% \t train_loss: 0.47 took: 2.50s\n",
            "Epoch 1, 40% \t train_loss: 0.49 took: 2.48s\n",
            "Epoch 1, 50% \t train_loss: 0.53 took: 2.50s\n",
            "Epoch 1, 60% \t train_loss: 0.51 took: 2.48s\n",
            "Epoch 1, 71% \t train_loss: 0.45 took: 2.46s\n",
            "Epoch 1, 81% \t train_loss: 0.55 took: 2.45s\n",
            "Epoch 1, 91% \t train_loss: 0.46 took: 2.50s\n",
            "Epoch 2, 10% \t train_loss: 0.41 took: 2.48s\n",
            "Epoch 2, 20% \t train_loss: 0.42 took: 2.50s\n",
            "Epoch 2, 30% \t train_loss: 0.40 took: 2.49s\n",
            "Epoch 2, 40% \t train_loss: 0.44 took: 2.52s\n",
            "Epoch 2, 50% \t train_loss: 0.50 took: 2.48s\n",
            "Epoch 2, 60% \t train_loss: 0.49 took: 2.44s\n",
            "Epoch 2, 71% \t train_loss: 0.40 took: 2.45s\n",
            "Epoch 2, 81% \t train_loss: 0.50 took: 2.43s\n",
            "Epoch 2, 91% \t train_loss: 0.43 took: 2.44s\n",
            "Epoch 3, 10% \t train_loss: 0.42 took: 2.40s\n",
            "Epoch 3, 20% \t train_loss: 0.44 took: 2.41s\n",
            "Epoch 3, 30% \t train_loss: 0.39 took: 2.42s\n",
            "Epoch 3, 40% \t train_loss: 0.45 took: 2.64s\n",
            "Epoch 3, 50% \t train_loss: 0.46 took: 3.26s\n",
            "Epoch 3, 60% \t train_loss: 0.45 took: 2.66s\n",
            "Epoch 3, 71% \t train_loss: 0.38 took: 2.43s\n",
            "Epoch 3, 81% \t train_loss: 0.48 took: 2.42s\n",
            "Epoch 3, 91% \t train_loss: 0.44 took: 2.43s\n",
            "Epoch 4, 10% \t train_loss: 0.43 took: 2.41s\n",
            "Epoch 4, 20% \t train_loss: 0.43 took: 2.43s\n",
            "Epoch 4, 30% \t train_loss: 0.39 took: 2.43s\n",
            "Epoch 4, 40% \t train_loss: 0.45 took: 2.45s\n",
            "Epoch 4, 50% \t train_loss: 0.45 took: 2.41s\n",
            "Epoch 4, 60% \t train_loss: 0.42 took: 2.40s\n",
            "Epoch 4, 71% \t train_loss: 0.37 took: 2.41s\n",
            "Epoch 4, 81% \t train_loss: 0.47 took: 2.39s\n",
            "Epoch 4, 91% \t train_loss: 0.44 took: 2.41s\n",
            "Epoch 5, 10% \t train_loss: 0.43 took: 2.39s\n",
            "Epoch 5, 20% \t train_loss: 0.41 took: 2.39s\n",
            "Epoch 5, 30% \t train_loss: 0.38 took: 2.39s\n",
            "Epoch 5, 40% \t train_loss: 0.43 took: 2.40s\n",
            "Epoch 5, 50% \t train_loss: 0.44 took: 2.41s\n",
            "Epoch 5, 60% \t train_loss: 0.42 took: 2.39s\n",
            "Epoch 5, 71% \t train_loss: 0.36 took: 2.39s\n",
            "Epoch 5, 81% \t train_loss: 0.46 took: 2.41s\n",
            "Epoch 5, 91% \t train_loss: 0.43 took: 2.42s\n",
            "Epoch 6, 10% \t train_loss: 0.42 took: 2.37s\n",
            "Epoch 6, 20% \t train_loss: 0.40 took: 2.40s\n",
            "Epoch 6, 30% \t train_loss: 0.38 took: 2.42s\n",
            "Epoch 6, 40% \t train_loss: 0.44 took: 2.44s\n",
            "Epoch 6, 50% \t train_loss: 0.43 took: 2.44s\n",
            "Epoch 6, 60% \t train_loss: 0.42 took: 2.42s\n",
            "Epoch 6, 71% \t train_loss: 0.36 took: 2.42s\n",
            "Epoch 6, 81% \t train_loss: 0.45 took: 2.41s\n",
            "Epoch 6, 91% \t train_loss: 0.42 took: 2.44s\n",
            "Epoch 7, 10% \t train_loss: 0.41 took: 2.40s\n",
            "Epoch 7, 20% \t train_loss: 0.39 took: 2.41s\n",
            "Epoch 7, 30% \t train_loss: 0.37 took: 2.41s\n",
            "Epoch 7, 40% \t train_loss: 0.44 took: 2.41s\n",
            "Epoch 7, 50% \t train_loss: 0.43 took: 2.40s\n",
            "Epoch 7, 60% \t train_loss: 0.41 took: 2.39s\n",
            "Epoch 7, 71% \t train_loss: 0.36 took: 2.41s\n",
            "Epoch 7, 81% \t train_loss: 0.46 took: 2.40s\n",
            "Epoch 7, 91% \t train_loss: 0.42 took: 2.42s\n",
            "Epoch 8, 10% \t train_loss: 0.41 took: 2.38s\n",
            "Epoch 8, 20% \t train_loss: 0.40 took: 2.38s\n",
            "Epoch 8, 30% \t train_loss: 0.37 took: 2.39s\n",
            "Epoch 8, 40% \t train_loss: 0.42 took: 2.39s\n",
            "Epoch 8, 50% \t train_loss: 0.43 took: 2.39s\n",
            "Epoch 8, 60% \t train_loss: 0.39 took: 2.39s\n",
            "Epoch 8, 71% \t train_loss: 0.34 took: 2.42s\n",
            "Epoch 8, 81% \t train_loss: 0.45 took: 2.40s\n",
            "Epoch 8, 91% \t train_loss: 0.42 took: 2.40s\n",
            "Epoch 9, 10% \t train_loss: 0.40 took: 2.38s\n",
            "Epoch 9, 20% \t train_loss: 0.40 took: 2.36s\n",
            "Epoch 9, 30% \t train_loss: 0.36 took: 2.39s\n",
            "Epoch 9, 40% \t train_loss: 0.41 took: 2.40s\n",
            "Epoch 9, 50% \t train_loss: 0.43 took: 2.41s\n",
            "Epoch 9, 60% \t train_loss: 0.39 took: 2.40s\n",
            "Epoch 9, 71% \t train_loss: 0.34 took: 2.40s\n",
            "Epoch 9, 81% \t train_loss: 0.45 took: 2.39s\n",
            "Epoch 9, 91% \t train_loss: 0.41 took: 2.39s\n",
            "Epoch 10, 10% \t train_loss: 0.40 took: 2.40s\n",
            "Epoch 10, 20% \t train_loss: 0.40 took: 2.40s\n",
            "Epoch 10, 30% \t train_loss: 0.36 took: 2.40s\n",
            "Epoch 10, 40% \t train_loss: 0.41 took: 2.39s\n",
            "Epoch 10, 50% \t train_loss: 0.43 took: 2.41s\n",
            "Epoch 10, 60% \t train_loss: 0.37 took: 2.44s\n",
            "Epoch 10, 71% \t train_loss: 0.32 took: 2.44s\n",
            "Epoch 10, 81% \t train_loss: 0.45 took: 2.47s\n",
            "Epoch 10, 91% \t train_loss: 0.41 took: 2.49s\n",
            "Training finished, took 239.78s\n"
          ],
          "name": "stdout"
        }
      ]
    },
    {
      "cell_type": "code",
      "metadata": {
        "id": "w-GPl3hRH_I5",
        "colab_type": "code",
        "outputId": "0e5d3e8b-c61d-46a7-da4b-dffbfa1fa4f9",
        "colab": {
          "base_uri": "https://localhost:8080/",
          "height": 34
        }
      },
      "source": [
        "correct = 0\n",
        "total = 0\n",
        "with torch.no_grad():\n",
        "    for data in test_loader:\n",
        "        images, labels = data\n",
        "        outputs = CNN(images)\n",
        "        _, predicted = torch.max(outputs.data, 1)\n",
        "        total += labels.size(0)\n",
        "        correct += (predicted == labels).sum().item()\n",
        "    \n",
        "print('Accuracy of the network on test images: %d %%' % (100 * correct / total))"
      ],
      "execution_count": 25,
      "outputs": [
        {
          "output_type": "stream",
          "text": [
            "Accuracy of the network on test images: 81 %\n"
          ],
          "name": "stdout"
        }
      ]
    },
    {
      "cell_type": "markdown",
      "metadata": {
        "id": "23BK7JnCyL42",
        "colab_type": "text"
      },
      "source": [
        "https://pytorch.org/tutorials/beginner/blitz/cifar10_tutorial.html - Test Loader"
      ]
    },
    {
      "cell_type": "markdown",
      "metadata": {
        "id": "dp0Y6Q1o53O0",
        "colab_type": "text"
      },
      "source": [
        "PYTORCH IMPLEMENTATION\n"
      ]
    },
    {
      "cell_type": "code",
      "metadata": {
        "id": "AFVjfDzGUdpK",
        "colab_type": "code",
        "colab": {}
      },
      "source": [
        "!pip install --quiet syft"
      ],
      "execution_count": 0,
      "outputs": []
    },
    {
      "cell_type": "code",
      "metadata": {
        "id": "kwsjmf7u58ix",
        "colab_type": "code",
        "colab": {}
      },
      "source": [
        "import syft as sy \n",
        "hook = sy.TorchHook(torch)"
      ],
      "execution_count": 0,
      "outputs": []
    },
    {
      "cell_type": "code",
      "metadata": {
        "id": "VxhCrtwXtiO9",
        "colab_type": "code",
        "colab": {}
      },
      "source": [
        "hospital = sy.VirtualWorker(hook, id=\"hospital\")  \n",
        "#clinic = sy.VirtualWorker(hook, id=\"clinic\")  "
      ],
      "execution_count": 0,
      "outputs": []
    },
    {
      "cell_type": "code",
      "metadata": {
        "id": "vGOcS6sygqTK",
        "colab_type": "code",
        "outputId": "2ff21f4f-9f1a-4ec5-fee4-9848d6949e2d",
        "colab": {
          "base_uri": "https://localhost:8080/",
          "height": 408
        }
      },
      "source": [
        "print(x_train[0])"
      ],
      "execution_count": 28,
      "outputs": [
        {
          "output_type": "stream",
          "text": [
            "[[[0.58241758 0.58241758 0.58241758 ... 0.46153846 0.46153846 0.71428571]\n",
            "  [0.71428571 0.71428571 0.84615385 ... 0.71428571 0.52747253 0.52747253]\n",
            "  [0.52747253 0.0989011  0.0989011  ... 0.42857143 0.42857143 0.42857143]\n",
            "  ...\n",
            "  [0.09770115 0.09770115 0.05172414 ... 0.11494253 0.04022989 0.04022989]\n",
            "  [0.04022989 0.04597701 0.04597701 ... 0.51149425 0.51149425 0.51149425]\n",
            "  [1.         1.         1.         ... 0.06077348 0.06077348 0.        ]]\n",
            "\n",
            " [[0.         0.         0.01104972 ... 0.04972376 0.0441989  0.0441989 ]\n",
            "  [0.0441989  0.02762431 0.02762431 ... 0.57458564 0.57458564 0.57458564]\n",
            "  [1.         1.         1.         ... 0.04945055 0.04945055 0.00549451]\n",
            "  ...\n",
            "  [0.68656716 0.62189055 0.62189055 ... 0.01492537 0.01492537 0.01492537]\n",
            "  [0.08780488 0.08780488 0.08780488 ... 0.26341463 0.26341463 0.27317073]\n",
            "  [0.27317073 0.27317073 0.30243902 ... 0.74146341 0.64878049 0.64878049]]\n",
            "\n",
            " [[0.64878049 0.5902439  0.5902439  ... 0.03414634 0.03414634 0.03414634]\n",
            "  [0.08374384 0.08374384 0.08374384 ... 0.21674877 0.21674877 0.31527094]\n",
            "  [0.31527094 0.31527094 0.24137931 ... 0.74384236 0.62561576 0.62561576]\n",
            "  ...\n",
            "  [0.05803571 0.05803571 0.05803571 ... 0.99107143 0.99107143 0.98214286]\n",
            "  [0.98214286 0.98214286 0.95535714 ... 0.98660714 0.98214286 0.98214286]\n",
            "  [0.98214286 0.98214286 0.98214286 ... 0.02232143 0.02232143 0.02232143]]]\n"
          ],
          "name": "stdout"
        }
      ]
    },
    {
      "cell_type": "code",
      "metadata": {
        "id": "7k0WYNgsgi0c",
        "colab_type": "code",
        "colab": {}
      },
      "source": [
        "x_train = np.array(x_train)\n",
        "y_train = np.array(y_train)"
      ],
      "execution_count": 0,
      "outputs": []
    },
    {
      "cell_type": "code",
      "metadata": {
        "id": "bn9bwBKZgGin",
        "colab_type": "code",
        "colab": {}
      },
      "source": [
        "x_train = torch.from_numpy(x_train)\n",
        "y_train = torch.from_numpy(y_train)"
      ],
      "execution_count": 0,
      "outputs": []
    },
    {
      "cell_type": "code",
      "metadata": {
        "id": "gaOUVNVFfCjG",
        "colab_type": "code",
        "colab": {}
      },
      "source": [
        "#define the send_data function \n",
        "data_hospital = x_train[0:80].send(hospital)\n",
        "data_target_hospital = y_train[0:80].send(hospital)\n",
        "#data_clinic = x_train[80:].send(clinic)\n",
        "#data_target_clinic = y_train[80:].send(clinic)"
      ],
      "execution_count": 0,
      "outputs": []
    },
    {
      "cell_type": "code",
      "metadata": {
        "id": "F4j-TU2qvcV5",
        "colab_type": "code",
        "colab": {}
      },
      "source": [
        "#datasets=[(data_hospital,data_target_hospital),(data_clinic,data_target_clinic)]\n",
        "datasets=[(data_hospital,data_target_hospital)]"
      ],
      "execution_count": 0,
      "outputs": []
    },
    {
      "cell_type": "code",
      "metadata": {
        "id": "tEImL3BGlODX",
        "colab_type": "code",
        "outputId": "e08fe537-fc61-477c-ee14-2d5d7c724f2b",
        "colab": {
          "base_uri": "https://localhost:8080/",
          "height": 163
        }
      },
      "source": [
        "opt = optim.SGD(params=model.parameters(),lr=0.1)"
      ],
      "execution_count": 0,
      "outputs": [
        {
          "output_type": "error",
          "ename": "NameError",
          "evalue": "ignored",
          "traceback": [
            "\u001b[0;31m---------------------------------------------------------------------------\u001b[0m",
            "\u001b[0;31mNameError\u001b[0m                                 Traceback (most recent call last)",
            "\u001b[0;32m<ipython-input-39-199f591aad49>\u001b[0m in \u001b[0;36m<module>\u001b[0;34m()\u001b[0m\n\u001b[0;32m----> 1\u001b[0;31m \u001b[0mopt\u001b[0m \u001b[0;34m=\u001b[0m \u001b[0moptim\u001b[0m\u001b[0;34m.\u001b[0m\u001b[0mSGD\u001b[0m\u001b[0;34m(\u001b[0m\u001b[0mparams\u001b[0m\u001b[0;34m=\u001b[0m\u001b[0mmodel\u001b[0m\u001b[0;34m.\u001b[0m\u001b[0mparameters\u001b[0m\u001b[0;34m(\u001b[0m\u001b[0;34m)\u001b[0m\u001b[0;34m,\u001b[0m\u001b[0mlr\u001b[0m\u001b[0;34m=\u001b[0m\u001b[0;36m0.1\u001b[0m\u001b[0;34m)\u001b[0m\u001b[0;34m\u001b[0m\u001b[0;34m\u001b[0m\u001b[0m\n\u001b[0m",
            "\u001b[0;31mNameError\u001b[0m: name 'model' is not defined"
          ]
        }
      ]
    },
    {
      "cell_type": "code",
      "metadata": {
        "id": "YUENmoAThxfu",
        "colab_type": "code",
        "colab": {}
      },
      "source": [
        "# def createLossAndOptimizer(net, learning_rate=0.001):\n",
        "    \n",
        "    #Loss function\n",
        "    \n",
        "    \n",
        "#     #Optimizer\n",
        "#     optimizer = optim.Adam(net.parameters(), lr=learning_rate)\n",
        "    \n",
        "#     return(loss, optimizer)"
      ],
      "execution_count": 0,
      "outputs": []
    },
    {
      "cell_type": "markdown",
      "metadata": {
        "id": "jg1G2Jtfl6jm",
        "colab_type": "text"
      },
      "source": [
        "##Stateful issue fix - https://github.com/OpenMined/PySyft/pull/3179/files"
      ]
    },
    {
      "cell_type": "code",
      "metadata": {
        "id": "3L1CS0tXl5DD",
        "colab_type": "code",
        "colab": {}
      },
      "source": [
        "import copy\n",
        "\n",
        "\n",
        "class Optims:\n",
        "    \"\"\"to create a list of optimizer objects\"\"\"\n",
        "\n",
        "    def __init__(self, workers, optim):\n",
        "        \"\"\"\n",
        "        args:\n",
        "            workers: list of worker ids\n",
        "            optim: class of pytorch optimizer\n",
        "        \"\"\"\n",
        "        self.optim = optim\n",
        "        self.workers = workers\n",
        "        self.optimizers = {}\n",
        "        for worker in workers:\n",
        "            self.optimizers[str(worker)] = copy.copy(self.optim)\n",
        "            self.optimizers[str(worker)].load_state_dict((self.optim).state_dict())\n",
        "\n",
        "    def get_optim(self, worker):\n",
        "        \"\"\"returns optimizer for worker\n",
        "        args: \n",
        "            worker: worker id\n",
        "        \"\"\"\n",
        "        return self.optimizers[str(worker)]\n",
        "\n",
        "    def count(self):\n",
        "        \"\"\"returns the number of optimizer objects\"\"\"\n",
        "        return len(self.workers)\n"
      ],
      "execution_count": 0,
      "outputs": []
    },
    {
      "cell_type": "code",
      "metadata": {
        "id": "iVmMRv4zJSAP",
        "colab_type": "code",
        "colab": {}
      },
      "source": [
        "import time\n",
        "from torch.autograd import Variable\n",
        "from syft.federated.floptimizer import Optims\n",
        "#workers = ['hospital', 'clinic']\n",
        "workers = ['hospital']\n",
        "def federated_train_net(model):\n",
        "\n",
        "  # loss, optimizer = createLossAndOptimizer(model)\n",
        "  training_start_time = time.time()\n",
        "    \n",
        "\n",
        "  for epoch in range(10):\n",
        "    running_loss = 0.0\n",
        "    print_every = n_batches // 10\n",
        "    start_time = time.time()\n",
        "    total_train_loss = 0\n",
        "    loss = torch.nn.CrossEntropyLoss()\n",
        "    for _data, _target in datasets:\n",
        "\n",
        "      ##send model \n",
        "      model = model.send(_data.location)\n",
        "      \n",
        "      ##Getting stateful optimizer\n",
        "      optims = Optims(workers, optim=optim.Adam(params=model.parameters(),lr=0.001)) \n",
        "      opt = optims.get_optim(_data.location.id)\n",
        "      opt.zero_grad()\n",
        "      \n",
        "\n",
        "      #Forward pass, backward pass, optimize\n",
        "      outputs = model(_data)\n",
        "      loss_size = loss(outputs, _target)\n",
        "      loss_size.backward()\n",
        "      opt.step()\n",
        "\n",
        "      #get the model back\n",
        "      model = model.get()\n",
        "      \n",
        "      \n",
        "\n",
        "      #Print statistics\n",
        "      print('Training loss for epoch ' + str(epoch) + str(loss_size.get()) + str(_data.location))\n",
        "      # running_loss =running_loss + loss_size.data.clone().get()\n",
        "      # total_train_loss =total_train_loss+ loss_size.data\n",
        "      \n",
        "      # #Print every 10th batch of an epoch\n",
        "      # if (i + 1) % (print_every + 1) == 0:\n",
        "      #     print(\"Epoch {}, {:d}% \\t train_loss: {:.2f} took: {:.2f}s\".format(\n",
        "      #             epoch+1, int(100 * (i+1) / n_batches), running_loss / print_every, time.time() - start_time))\n",
        "      #     #Reset running loss and time\n",
        "      #     running_loss = 0.0\n",
        "      #     start_time = time.time()\n",
        "\n",
        "\n",
        "      # print('Training loss for epoch ' + str(epoch) + str(loss.get()) + str(_data.location))"
      ],
      "execution_count": 0,
      "outputs": []
    },
    {
      "cell_type": "code",
      "metadata": {
        "id": "E4AK7FSqiVz9",
        "colab_type": "code",
        "outputId": "9c366354-f29d-4422-babf-d5245833aa13",
        "colab": {
          "base_uri": "https://localhost:8080/",
          "height": 207
        }
      },
      "source": [
        "CNN = Net()\n",
        "federated_train_net(CNN.double())"
      ],
      "execution_count": 35,
      "outputs": [
        {
          "output_type": "stream",
          "text": [
            "Training loss for epoch 0tensor(2.1397, dtype=torch.float64, requires_grad=True)<VirtualWorker id:hospital #objects:29>\n",
            "Training loss for epoch 1tensor(1.7749, dtype=torch.float64, requires_grad=True)<VirtualWorker id:hospital #objects:29>\n",
            "Training loss for epoch 2tensor(0.8092, dtype=torch.float64, requires_grad=True)<VirtualWorker id:hospital #objects:29>\n",
            "Training loss for epoch 3tensor(0.8071, dtype=torch.float64, requires_grad=True)<VirtualWorker id:hospital #objects:29>\n",
            "Training loss for epoch 4tensor(0.8481, dtype=torch.float64, requires_grad=True)<VirtualWorker id:hospital #objects:29>\n",
            "Training loss for epoch 5tensor(0.6916, dtype=torch.float64, requires_grad=True)<VirtualWorker id:hospital #objects:29>\n",
            "Training loss for epoch 6tensor(0.7837, dtype=torch.float64, requires_grad=True)<VirtualWorker id:hospital #objects:29>\n",
            "Training loss for epoch 7tensor(0.7045, dtype=torch.float64, requires_grad=True)<VirtualWorker id:hospital #objects:29>\n",
            "Training loss for epoch 8tensor(0.7411, dtype=torch.float64, requires_grad=True)<VirtualWorker id:hospital #objects:29>\n",
            "Training loss for epoch 9tensor(0.6716, dtype=torch.float64, requires_grad=True)<VirtualWorker id:hospital #objects:29>\n"
          ],
          "name": "stdout"
        }
      ]
    },
    {
      "cell_type": "code",
      "metadata": {
        "id": "VhWxZr8NihDn",
        "colab_type": "code",
        "colab": {
          "base_uri": "https://localhost:8080/",
          "height": 34
        },
        "outputId": "9f46463a-b2a0-4abf-b382-a6cbf5492ecc"
      },
      "source": [
        "correct = 0\n",
        "total = 0\n",
        "with torch.no_grad():\n",
        "    for data in test_loader:\n",
        "        images, labels = data\n",
        "        outputs = CNN(images)\n",
        "        _, predicted = torch.max(outputs.data, 1)\n",
        "        total += labels.size(0)\n",
        "        correct += (predicted == labels).sum().item()\n",
        "\n",
        "print('Accuracy of the network on the test images: %d %%' % (\n",
        "    100 * correct / total))\n"
      ],
      "execution_count": 39,
      "outputs": [
        {
          "output_type": "stream",
          "text": [
            "Accuracy of the network on the test images: 80 %\n"
          ],
          "name": "stdout"
        }
      ]
    },
    {
      "cell_type": "code",
      "metadata": {
        "id": "euL36Uyh-8W8",
        "colab_type": "code",
        "colab": {}
      },
      "source": [
        ""
      ],
      "execution_count": 0,
      "outputs": []
    }
  ]
}